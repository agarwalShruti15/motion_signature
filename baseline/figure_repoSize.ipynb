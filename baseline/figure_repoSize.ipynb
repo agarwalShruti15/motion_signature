{
 "cells": [
  {
   "cell_type": "code",
   "execution_count": 1,
   "metadata": {},
   "outputs": [],
   "source": [
    "%load_ext autoreload\n",
    "%autoreload 2\n",
    "\n",
    "from repo2 import *\n",
    "import numpy as np\n",
    "import seaborn as sns\n",
    "from sklearn.metrics import roc_curve, auc\n",
    "import utils as u\n",
    "import result_gen_utils as ru"
   ]
  },
  {
   "cell_type": "code",
   "execution_count": 13,
   "metadata": {},
   "outputs": [
    {
     "name": "stdout",
     "output_type": "stream",
     "text": [
      "before 4105\n",
      "after 3739\n"
     ]
    }
   ],
   "source": [
    "\n",
    "# get the file names\n",
    "train_files, test_files = u.train_test_half_vids('/data/home/shruti/voxceleb/vgg/leaders/')\n"
   ]
  },
  {
   "cell_type": "code",
   "execution_count": 48,
   "metadata": {},
   "outputs": [],
   "source": [
    "\n",
    "def get_repo_size_dist(in_id, in_size_rng):\n",
    "    \n",
    "    out_result = np.zeros((len(in_size_rng), 2))\n",
    "    \n",
    "    fab_repo = Repo2('/data/home/shruti/voxceleb/fabnet_metric/', 1, 1, np.mean, -1)\n",
    "    fab_repo.add_ids({in_id: train_files[in_id]}, 0, 1)\n",
    "    fab_repo.build_repo_noKDD()\n",
    "    actual_emb = fab_repo.emb.copy()\n",
    "    actual_label = fab_repo.label.copy()\n",
    "    \n",
    "    idx = np.arange(len(actual_emb), dtype=np.int32)\n",
    "    np.random.seed(0)\n",
    "    \n",
    "    for i in range(len(in_size_rng)):\n",
    "        \n",
    "        # sample the points from the emb to be used\n",
    "        cur_id = idx[:in_size_rng[i]]#np.random.choice(idx, in_size_rng[i])\n",
    "        fab_repo.emb = actual_emb[cur_id, :].copy()\n",
    "        fab_repo.label = actual_label[cur_id].copy()\n",
    "        \n",
    "        fab_result = fab_repo.dist_using_dict({in_id: test_files['real'][in_id]}, 0, 1, parallel=True, dist='cosine')        \n",
    "        fab_sim = np.nanmax(np.array(list(fab_result['sim'])), axis=1)\n",
    "        \n",
    "        out_result[i, 0] = in_size_rng[i]\n",
    "        out_result[i, 1] = np.mean(fab_sim)\n",
    "        #print(out_result[i, :])\n",
    "        \n",
    "    out_df = pd.DataFrame(data=out_result, columns=['size', 'mean_dist'])\n",
    "    out_df['Name'] = in_id\n",
    "    return out_df\n"
   ]
  },
  {
   "cell_type": "code",
   "execution_count": 49,
   "metadata": {
    "scrolled": true
   },
   "outputs": [
    {
     "name": "stdout",
     "output_type": "stream",
     "text": [
      "Number of labels 1\n",
      "Build repo time: 2.435 Size: (193817, 512)\n"
     ]
    },
    {
     "name": "stderr",
     "output_type": "stream",
     "text": [
      "[Parallel(n_jobs=16)]: Using backend LokyBackend with 16 concurrent workers.\n",
      "[Parallel(n_jobs=16)]: Done  18 tasks      | elapsed:   12.5s\n",
      "[Parallel(n_jobs=16)]: Done 168 tasks      | elapsed:   17.3s\n",
      "[Parallel(n_jobs=16)]: Done 217 out of 217 | elapsed:   18.8s finished\n",
      "[Parallel(n_jobs=16)]: Using backend LokyBackend with 16 concurrent workers.\n",
      "[Parallel(n_jobs=16)]: Done 217 out of 217 | elapsed:    1.7s finished\n",
      "[Parallel(n_jobs=16)]: Using backend LokyBackend with 16 concurrent workers.\n",
      "[Parallel(n_jobs=16)]: Done  18 tasks      | elapsed:    0.4s\n",
      "[Parallel(n_jobs=16)]: Done 217 out of 217 | elapsed:    2.0s finished\n",
      "[Parallel(n_jobs=16)]: Using backend LokyBackend with 16 concurrent workers.\n",
      "[Parallel(n_jobs=16)]: Done  18 tasks      | elapsed:    0.3s\n",
      "[Parallel(n_jobs=16)]: Done 217 out of 217 | elapsed:    2.1s finished\n",
      "[Parallel(n_jobs=16)]: Using backend LokyBackend with 16 concurrent workers.\n",
      "[Parallel(n_jobs=16)]: Done 217 out of 217 | elapsed:    1.9s finished\n",
      "[Parallel(n_jobs=16)]: Using backend LokyBackend with 16 concurrent workers.\n",
      "[Parallel(n_jobs=16)]: Done  18 tasks      | elapsed:    0.3s\n",
      "[Parallel(n_jobs=16)]: Done 217 out of 217 | elapsed:    2.0s finished\n",
      "[Parallel(n_jobs=16)]: Using backend LokyBackend with 16 concurrent workers.\n",
      "[Parallel(n_jobs=16)]: Done  18 tasks      | elapsed:    0.3s\n",
      "[Parallel(n_jobs=16)]: Done 217 out of 217 | elapsed:    2.3s finished\n",
      "[Parallel(n_jobs=16)]: Using backend LokyBackend with 16 concurrent workers.\n",
      "[Parallel(n_jobs=16)]: Done  18 tasks      | elapsed:    0.3s\n",
      "[Parallel(n_jobs=16)]: Done 217 out of 217 | elapsed:    2.1s finished\n",
      "[Parallel(n_jobs=16)]: Using backend LokyBackend with 16 concurrent workers.\n",
      "[Parallel(n_jobs=16)]: Done 217 out of 217 | elapsed:    1.9s finished\n",
      "[Parallel(n_jobs=16)]: Using backend LokyBackend with 16 concurrent workers.\n",
      "[Parallel(n_jobs=16)]: Done  18 tasks      | elapsed:    0.3s\n",
      "[Parallel(n_jobs=16)]: Done 217 out of 217 | elapsed:    2.1s finished\n",
      "[Parallel(n_jobs=16)]: Using backend LokyBackend with 16 concurrent workers.\n",
      "[Parallel(n_jobs=16)]: Done  18 tasks      | elapsed:    0.3s\n",
      "[Parallel(n_jobs=16)]: Done 217 out of 217 | elapsed:    2.1s finished\n",
      "[Parallel(n_jobs=16)]: Using backend LokyBackend with 16 concurrent workers.\n",
      "[Parallel(n_jobs=16)]: Done 217 out of 217 | elapsed:    1.7s finished\n",
      "[Parallel(n_jobs=16)]: Using backend LokyBackend with 16 concurrent workers.\n",
      "[Parallel(n_jobs=16)]: Done 217 out of 217 | elapsed:    2.0s finished\n",
      "[Parallel(n_jobs=16)]: Using backend LokyBackend with 16 concurrent workers.\n",
      "[Parallel(n_jobs=16)]: Done  18 tasks      | elapsed:    0.3s\n",
      "[Parallel(n_jobs=16)]: Done 217 out of 217 | elapsed:    2.1s finished\n",
      "[Parallel(n_jobs=16)]: Using backend LokyBackend with 16 concurrent workers.\n",
      "[Parallel(n_jobs=16)]: Done 217 out of 217 | elapsed:    1.9s finished\n",
      "[Parallel(n_jobs=16)]: Using backend LokyBackend with 16 concurrent workers.\n",
      "[Parallel(n_jobs=16)]: Done  18 tasks      | elapsed:    0.4s\n",
      "[Parallel(n_jobs=16)]: Done 217 out of 217 | elapsed:    2.1s finished\n",
      "[Parallel(n_jobs=16)]: Using backend LokyBackend with 16 concurrent workers.\n",
      "[Parallel(n_jobs=16)]: Done 217 out of 217 | elapsed:    1.9s finished\n",
      "[Parallel(n_jobs=16)]: Using backend LokyBackend with 16 concurrent workers.\n",
      "[Parallel(n_jobs=16)]: Done 217 out of 217 | elapsed:    1.9s finished\n",
      "[Parallel(n_jobs=16)]: Using backend LokyBackend with 16 concurrent workers.\n",
      "[Parallel(n_jobs=16)]: Done  18 tasks      | elapsed:    0.3s\n",
      "[Parallel(n_jobs=16)]: Done 217 out of 217 | elapsed:    2.2s finished\n",
      "[Parallel(n_jobs=16)]: Using backend LokyBackend with 16 concurrent workers.\n",
      "[Parallel(n_jobs=16)]: Done 217 out of 217 | elapsed:    2.0s finished\n",
      "[Parallel(n_jobs=16)]: Using backend LokyBackend with 16 concurrent workers.\n",
      "[Parallel(n_jobs=16)]: Done  18 tasks      | elapsed:    0.3s\n",
      "[Parallel(n_jobs=16)]: Done 217 out of 217 | elapsed:    2.2s finished\n",
      "[Parallel(n_jobs=16)]: Using backend LokyBackend with 16 concurrent workers.\n",
      "[Parallel(n_jobs=16)]: Done  18 tasks      | elapsed:    0.3s\n",
      "[Parallel(n_jobs=16)]: Done 217 out of 217 | elapsed:    2.1s finished\n",
      "[Parallel(n_jobs=16)]: Using backend LokyBackend with 16 concurrent workers.\n",
      "[Parallel(n_jobs=16)]: Done 217 out of 217 | elapsed:    1.9s finished\n",
      "[Parallel(n_jobs=16)]: Using backend LokyBackend with 16 concurrent workers.\n",
      "[Parallel(n_jobs=16)]: Done  18 tasks      | elapsed:    0.3s\n",
      "[Parallel(n_jobs=16)]: Done 217 out of 217 | elapsed:    2.2s finished\n",
      "[Parallel(n_jobs=16)]: Using backend LokyBackend with 16 concurrent workers.\n",
      "[Parallel(n_jobs=16)]: Done 217 out of 217 | elapsed:    1.9s finished\n",
      "[Parallel(n_jobs=16)]: Using backend LokyBackend with 16 concurrent workers.\n",
      "[Parallel(n_jobs=16)]: Done 217 out of 217 | elapsed:    2.0s finished\n",
      "[Parallel(n_jobs=16)]: Using backend LokyBackend with 16 concurrent workers.\n",
      "[Parallel(n_jobs=16)]: Done 217 out of 217 | elapsed:    2.1s finished\n",
      "[Parallel(n_jobs=16)]: Using backend LokyBackend with 16 concurrent workers.\n",
      "[Parallel(n_jobs=16)]: Done 217 out of 217 | elapsed:    1.8s finished\n",
      "[Parallel(n_jobs=16)]: Using backend LokyBackend with 16 concurrent workers.\n",
      "[Parallel(n_jobs=16)]: Done 217 out of 217 | elapsed:    1.8s finished\n",
      "[Parallel(n_jobs=16)]: Using backend LokyBackend with 16 concurrent workers.\n",
      "[Parallel(n_jobs=16)]: Done 217 out of 217 | elapsed:    2.0s finished\n",
      "[Parallel(n_jobs=16)]: Using backend LokyBackend with 16 concurrent workers.\n",
      "[Parallel(n_jobs=16)]: Done 217 out of 217 | elapsed:    2.1s finished\n",
      "[Parallel(n_jobs=16)]: Using backend LokyBackend with 16 concurrent workers.\n",
      "[Parallel(n_jobs=16)]: Done  18 tasks      | elapsed:    0.4s\n",
      "[Parallel(n_jobs=16)]: Done 217 out of 217 | elapsed:    2.2s finished\n",
      "[Parallel(n_jobs=16)]: Using backend LokyBackend with 16 concurrent workers.\n",
      "[Parallel(n_jobs=16)]: Done  18 tasks      | elapsed:    0.5s\n",
      "[Parallel(n_jobs=16)]: Done 217 out of 217 | elapsed:    4.2s finished\n",
      "[Parallel(n_jobs=16)]: Using backend LokyBackend with 16 concurrent workers.\n",
      "[Parallel(n_jobs=16)]: Done  18 tasks      | elapsed:    0.5s\n",
      "[Parallel(n_jobs=16)]: Done 217 out of 217 | elapsed:    4.1s finished\n",
      "[Parallel(n_jobs=16)]: Using backend LokyBackend with 16 concurrent workers.\n",
      "[Parallel(n_jobs=16)]: Done  18 tasks      | elapsed:    0.5s\n",
      "[Parallel(n_jobs=16)]: Done 186 out of 217 | elapsed:    4.7s remaining:    0.8s\n",
      "[Parallel(n_jobs=16)]: Done 217 out of 217 | elapsed:    5.4s finished\n",
      "[Parallel(n_jobs=16)]: Using backend LokyBackend with 16 concurrent workers.\n",
      "[Parallel(n_jobs=16)]: Done  18 tasks      | elapsed:    0.6s\n",
      "[Parallel(n_jobs=16)]: Done 217 out of 217 | elapsed:    4.6s finished\n",
      "[Parallel(n_jobs=16)]: Using backend LokyBackend with 16 concurrent workers.\n",
      "[Parallel(n_jobs=16)]: Done  18 tasks      | elapsed:    0.5s\n",
      "[Parallel(n_jobs=16)]: Done 217 out of 217 | elapsed:    4.5s finished\n",
      "[Parallel(n_jobs=16)]: Using backend LokyBackend with 16 concurrent workers.\n",
      "[Parallel(n_jobs=16)]: Done 217 out of 217 | elapsed:    3.9s finished\n",
      "[Parallel(n_jobs=16)]: Using backend LokyBackend with 16 concurrent workers.\n",
      "[Parallel(n_jobs=16)]: Done  18 tasks      | elapsed:    0.8s\n",
      "[Parallel(n_jobs=16)]: Done 217 out of 217 | elapsed:    4.2s finished\n",
      "[Parallel(n_jobs=16)]: Using backend LokyBackend with 16 concurrent workers.\n",
      "[Parallel(n_jobs=16)]: Done  18 tasks      | elapsed:    0.6s\n",
      "[Parallel(n_jobs=16)]: Done 217 out of 217 | elapsed:    4.3s finished\n",
      "[Parallel(n_jobs=16)]: Using backend LokyBackend with 16 concurrent workers.\n",
      "[Parallel(n_jobs=16)]: Done  18 tasks      | elapsed:    0.5s\n",
      "[Parallel(n_jobs=16)]: Done 217 out of 217 | elapsed:    4.5s finished\n",
      "[Parallel(n_jobs=16)]: Using backend LokyBackend with 16 concurrent workers.\n",
      "[Parallel(n_jobs=16)]: Done  18 tasks      | elapsed:    0.6s\n",
      "[Parallel(n_jobs=16)]: Done 186 out of 217 | elapsed:    5.0s remaining:    0.8s\n",
      "[Parallel(n_jobs=16)]: Done 217 out of 217 | elapsed:    5.6s finished\n",
      "[Parallel(n_jobs=16)]: Using backend LokyBackend with 16 concurrent workers.\n",
      "[Parallel(n_jobs=16)]: Done  18 tasks      | elapsed:    0.7s\n",
      "[Parallel(n_jobs=16)]: Done 217 out of 217 | elapsed:    4.9s finished\n",
      "[Parallel(n_jobs=16)]: Using backend LokyBackend with 16 concurrent workers.\n"
     ]
    },
    {
     "name": "stderr",
     "output_type": "stream",
     "text": [
      "[Parallel(n_jobs=16)]: Done  18 tasks      | elapsed:    0.7s\n",
      "[Parallel(n_jobs=16)]: Done 186 out of 217 | elapsed:    5.2s remaining:    0.9s\n",
      "[Parallel(n_jobs=16)]: Done 217 out of 217 | elapsed:    5.9s finished\n",
      "[Parallel(n_jobs=16)]: Using backend LokyBackend with 16 concurrent workers.\n",
      "[Parallel(n_jobs=16)]: Done  18 tasks      | elapsed:    0.6s\n",
      "[Parallel(n_jobs=16)]: Done 217 out of 217 | elapsed:    4.8s finished\n",
      "[Parallel(n_jobs=16)]: Using backend LokyBackend with 16 concurrent workers.\n",
      "[Parallel(n_jobs=16)]: Done  18 tasks      | elapsed:    0.6s\n",
      "[Parallel(n_jobs=16)]: Done 217 out of 217 | elapsed:    5.5s finished\n",
      "[Parallel(n_jobs=16)]: Using backend LokyBackend with 16 concurrent workers.\n",
      "[Parallel(n_jobs=16)]: Done  18 tasks      | elapsed:    0.6s\n",
      "[Parallel(n_jobs=16)]: Done 186 out of 217 | elapsed:    5.3s remaining:    0.9s\n",
      "[Parallel(n_jobs=16)]: Done 217 out of 217 | elapsed:    5.3s finished\n",
      "[Parallel(n_jobs=16)]: Using backend LokyBackend with 16 concurrent workers.\n",
      "[Parallel(n_jobs=16)]: Done  18 tasks      | elapsed:    0.6s\n",
      "[Parallel(n_jobs=16)]: Done 217 out of 217 | elapsed:    5.3s finished\n",
      "[Parallel(n_jobs=16)]: Using backend LokyBackend with 16 concurrent workers.\n",
      "[Parallel(n_jobs=16)]: Done  18 tasks      | elapsed:    0.6s\n",
      "[Parallel(n_jobs=16)]: Done 186 out of 217 | elapsed:    5.1s remaining:    0.9s\n",
      "[Parallel(n_jobs=16)]: Done 217 out of 217 | elapsed:    5.5s finished\n",
      "[Parallel(n_jobs=16)]: Using backend LokyBackend with 16 concurrent workers.\n",
      "[Parallel(n_jobs=16)]: Done  18 tasks      | elapsed:    0.6s\n",
      "[Parallel(n_jobs=16)]: Done 217 out of 217 | elapsed:    5.5s finished\n",
      "[Parallel(n_jobs=16)]: Using backend LokyBackend with 16 concurrent workers.\n",
      "[Parallel(n_jobs=16)]: Done  18 tasks      | elapsed:    0.7s\n",
      "[Parallel(n_jobs=16)]: Done 217 out of 217 | elapsed:    5.1s finished\n",
      "[Parallel(n_jobs=16)]: Using backend LokyBackend with 16 concurrent workers.\n",
      "[Parallel(n_jobs=16)]: Done  18 tasks      | elapsed:    0.7s\n",
      "[Parallel(n_jobs=16)]: Done 217 out of 217 | elapsed:    5.1s finished\n",
      "[Parallel(n_jobs=16)]: Using backend LokyBackend with 16 concurrent workers.\n",
      "[Parallel(n_jobs=16)]: Done  18 tasks      | elapsed:    0.7s\n",
      "[Parallel(n_jobs=16)]: Done 217 out of 217 | elapsed:    5.3s finished\n",
      "[Parallel(n_jobs=16)]: Using backend LokyBackend with 16 concurrent workers.\n",
      "[Parallel(n_jobs=16)]: Done  18 tasks      | elapsed:    0.7s\n",
      "[Parallel(n_jobs=16)]: Done 186 out of 217 | elapsed:    5.8s remaining:    1.0s\n",
      "[Parallel(n_jobs=16)]: Done 217 out of 217 | elapsed:    6.6s finished\n",
      "[Parallel(n_jobs=16)]: Using backend LokyBackend with 16 concurrent workers.\n",
      "[Parallel(n_jobs=16)]: Done  18 tasks      | elapsed:    0.7s\n",
      "[Parallel(n_jobs=16)]: Done 186 out of 217 | elapsed:    5.4s remaining:    0.9s\n",
      "[Parallel(n_jobs=16)]: Done 217 out of 217 | elapsed:    6.0s finished\n",
      "[Parallel(n_jobs=16)]: Using backend LokyBackend with 16 concurrent workers.\n",
      "[Parallel(n_jobs=16)]: Done  18 tasks      | elapsed:    0.8s\n",
      "[Parallel(n_jobs=16)]: Done 217 out of 217 | elapsed:    7.6s finished\n",
      "[Parallel(n_jobs=16)]: Using backend LokyBackend with 16 concurrent workers.\n",
      "[Parallel(n_jobs=16)]: Done  18 tasks      | elapsed:    0.7s\n",
      "[Parallel(n_jobs=16)]: Done 217 out of 217 | elapsed:    7.4s finished\n",
      "[Parallel(n_jobs=16)]: Using backend LokyBackend with 16 concurrent workers.\n",
      "[Parallel(n_jobs=16)]: Done  18 tasks      | elapsed:    0.6s\n",
      "[Parallel(n_jobs=16)]: Done 217 out of 217 | elapsed:    7.6s finished\n",
      "[Parallel(n_jobs=16)]: Using backend LokyBackend with 16 concurrent workers.\n",
      "[Parallel(n_jobs=16)]: Done  18 tasks      | elapsed:    0.7s\n",
      "[Parallel(n_jobs=16)]: Done 186 out of 217 | elapsed:    6.2s remaining:    1.0s\n",
      "[Parallel(n_jobs=16)]: Done 217 out of 217 | elapsed:    6.9s finished\n",
      "[Parallel(n_jobs=16)]: Using backend LokyBackend with 16 concurrent workers.\n",
      "[Parallel(n_jobs=16)]: Done  18 tasks      | elapsed:    0.9s\n",
      "[Parallel(n_jobs=16)]: Done 217 out of 217 | elapsed:    8.4s finished\n",
      "[Parallel(n_jobs=16)]: Using backend LokyBackend with 16 concurrent workers.\n",
      "[Parallel(n_jobs=16)]: Done  18 tasks      | elapsed:    0.7s\n",
      "[Parallel(n_jobs=16)]: Done 217 out of 217 | elapsed:    8.2s finished\n"
     ]
    },
    {
     "name": "stdout",
     "output_type": "stream",
     "text": [
      "Number of labels 1\n",
      "Build repo time: 0.395 Size: (31712, 512)\n"
     ]
    },
    {
     "name": "stderr",
     "output_type": "stream",
     "text": [
      "[Parallel(n_jobs=16)]: Using backend LokyBackend with 16 concurrent workers.\n",
      "[Parallel(n_jobs=16)]: Done  16 out of  47 | elapsed:    0.6s remaining:    1.1s\n",
      "[Parallel(n_jobs=16)]: Done  47 out of  47 | elapsed:    1.3s finished\n",
      "[Parallel(n_jobs=16)]: Using backend LokyBackend with 16 concurrent workers.\n",
      "[Parallel(n_jobs=16)]: Done  16 out of  47 | elapsed:    0.2s remaining:    0.4s\n",
      "[Parallel(n_jobs=16)]: Done  47 out of  47 | elapsed:    0.6s finished\n",
      "[Parallel(n_jobs=16)]: Using backend LokyBackend with 16 concurrent workers.\n",
      "[Parallel(n_jobs=16)]: Done  16 out of  47 | elapsed:    0.2s remaining:    0.5s\n",
      "[Parallel(n_jobs=16)]: Done  47 out of  47 | elapsed:    0.7s finished\n",
      "[Parallel(n_jobs=16)]: Using backend LokyBackend with 16 concurrent workers.\n",
      "[Parallel(n_jobs=16)]: Done  16 out of  47 | elapsed:    0.2s remaining:    0.4s\n",
      "[Parallel(n_jobs=16)]: Done  47 out of  47 | elapsed:    0.7s finished\n",
      "[Parallel(n_jobs=16)]: Using backend LokyBackend with 16 concurrent workers.\n",
      "[Parallel(n_jobs=16)]: Done  16 out of  47 | elapsed:    0.2s remaining:    0.4s\n",
      "[Parallel(n_jobs=16)]: Done  47 out of  47 | elapsed:    0.7s finished\n",
      "[Parallel(n_jobs=16)]: Using backend LokyBackend with 16 concurrent workers.\n",
      "[Parallel(n_jobs=16)]: Done  16 out of  47 | elapsed:    0.2s remaining:    0.5s\n",
      "[Parallel(n_jobs=16)]: Done  47 out of  47 | elapsed:    0.7s finished\n",
      "[Parallel(n_jobs=16)]: Using backend LokyBackend with 16 concurrent workers.\n",
      "[Parallel(n_jobs=16)]: Done  16 out of  47 | elapsed:    0.3s remaining:    0.5s\n",
      "[Parallel(n_jobs=16)]: Done  47 out of  47 | elapsed:    0.8s finished\n",
      "[Parallel(n_jobs=16)]: Using backend LokyBackend with 16 concurrent workers.\n",
      "[Parallel(n_jobs=16)]: Done  16 out of  47 | elapsed:    0.2s remaining:    0.4s\n",
      "[Parallel(n_jobs=16)]: Done  47 out of  47 | elapsed:    0.7s finished\n",
      "[Parallel(n_jobs=16)]: Using backend LokyBackend with 16 concurrent workers.\n",
      "[Parallel(n_jobs=16)]: Done  16 out of  47 | elapsed:    0.3s remaining:    0.5s\n",
      "[Parallel(n_jobs=16)]: Done  47 out of  47 | elapsed:    0.7s finished\n",
      "[Parallel(n_jobs=16)]: Using backend LokyBackend with 16 concurrent workers.\n",
      "[Parallel(n_jobs=16)]: Done  16 out of  47 | elapsed:    0.2s remaining:    0.4s\n",
      "[Parallel(n_jobs=16)]: Done  47 out of  47 | elapsed:    0.6s finished\n",
      "[Parallel(n_jobs=16)]: Using backend LokyBackend with 16 concurrent workers.\n",
      "[Parallel(n_jobs=16)]: Done  16 out of  47 | elapsed:    0.2s remaining:    0.5s\n",
      "[Parallel(n_jobs=16)]: Done  47 out of  47 | elapsed:    0.7s finished\n",
      "[Parallel(n_jobs=16)]: Using backend LokyBackend with 16 concurrent workers.\n",
      "[Parallel(n_jobs=16)]: Done  16 out of  47 | elapsed:    0.3s remaining:    0.5s\n",
      "[Parallel(n_jobs=16)]: Done  47 out of  47 | elapsed:    0.7s finished\n",
      "[Parallel(n_jobs=16)]: Using backend LokyBackend with 16 concurrent workers.\n",
      "[Parallel(n_jobs=16)]: Done  16 out of  47 | elapsed:    0.3s remaining:    0.5s\n",
      "[Parallel(n_jobs=16)]: Done  47 out of  47 | elapsed:    0.7s finished\n",
      "[Parallel(n_jobs=16)]: Using backend LokyBackend with 16 concurrent workers.\n",
      "[Parallel(n_jobs=16)]: Done  16 out of  47 | elapsed:    0.2s remaining:    0.5s\n",
      "[Parallel(n_jobs=16)]: Done  47 out of  47 | elapsed:    0.7s finished\n",
      "[Parallel(n_jobs=16)]: Using backend LokyBackend with 16 concurrent workers.\n",
      "[Parallel(n_jobs=16)]: Done  16 out of  47 | elapsed:    0.2s remaining:    0.5s\n",
      "[Parallel(n_jobs=16)]: Done  47 out of  47 | elapsed:    0.7s finished\n",
      "[Parallel(n_jobs=16)]: Using backend LokyBackend with 16 concurrent workers.\n",
      "[Parallel(n_jobs=16)]: Done  16 out of  47 | elapsed:    0.2s remaining:    0.4s\n",
      "[Parallel(n_jobs=16)]: Done  47 out of  47 | elapsed:    0.7s finished\n",
      "[Parallel(n_jobs=16)]: Using backend LokyBackend with 16 concurrent workers.\n",
      "[Parallel(n_jobs=16)]: Done  16 out of  47 | elapsed:    0.2s remaining:    0.4s\n",
      "[Parallel(n_jobs=16)]: Done  47 out of  47 | elapsed:    0.7s finished\n",
      "[Parallel(n_jobs=16)]: Using backend LokyBackend with 16 concurrent workers.\n",
      "[Parallel(n_jobs=16)]: Done  16 out of  47 | elapsed:    0.2s remaining:    0.5s\n",
      "[Parallel(n_jobs=16)]: Done  47 out of  47 | elapsed:    0.8s finished\n",
      "[Parallel(n_jobs=16)]: Using backend LokyBackend with 16 concurrent workers.\n",
      "[Parallel(n_jobs=16)]: Done  16 out of  47 | elapsed:    0.2s remaining:    0.4s\n",
      "[Parallel(n_jobs=16)]: Done  47 out of  47 | elapsed:    0.7s finished\n",
      "[Parallel(n_jobs=16)]: Using backend LokyBackend with 16 concurrent workers.\n",
      "[Parallel(n_jobs=16)]: Done  16 out of  47 | elapsed:    0.2s remaining:    0.5s\n",
      "[Parallel(n_jobs=16)]: Done  47 out of  47 | elapsed:    0.8s finished\n",
      "[Parallel(n_jobs=16)]: Using backend LokyBackend with 16 concurrent workers.\n",
      "[Parallel(n_jobs=16)]: Done  16 out of  47 | elapsed:    0.3s remaining:    0.5s\n",
      "[Parallel(n_jobs=16)]: Done  47 out of  47 | elapsed:    0.7s finished\n",
      "[Parallel(n_jobs=16)]: Using backend LokyBackend with 16 concurrent workers.\n",
      "[Parallel(n_jobs=16)]: Done  16 out of  47 | elapsed:    0.3s remaining:    0.6s\n",
      "[Parallel(n_jobs=16)]: Done  47 out of  47 | elapsed:    0.8s finished\n",
      "[Parallel(n_jobs=16)]: Using backend LokyBackend with 16 concurrent workers.\n",
      "[Parallel(n_jobs=16)]: Done  16 out of  47 | elapsed:    0.3s remaining:    0.5s\n",
      "[Parallel(n_jobs=16)]: Done  47 out of  47 | elapsed:    0.7s finished\n",
      "[Parallel(n_jobs=16)]: Using backend LokyBackend with 16 concurrent workers.\n",
      "[Parallel(n_jobs=16)]: Done  16 out of  47 | elapsed:    0.2s remaining:    0.5s\n",
      "[Parallel(n_jobs=16)]: Done  47 out of  47 | elapsed:    0.8s finished\n",
      "[Parallel(n_jobs=16)]: Using backend LokyBackend with 16 concurrent workers.\n",
      "[Parallel(n_jobs=16)]: Done  16 out of  47 | elapsed:    0.2s remaining:    0.5s\n",
      "[Parallel(n_jobs=16)]: Done  47 out of  47 | elapsed:    0.8s finished\n",
      "[Parallel(n_jobs=16)]: Using backend LokyBackend with 16 concurrent workers.\n",
      "[Parallel(n_jobs=16)]: Done  16 out of  47 | elapsed:    0.4s remaining:    0.7s\n",
      "[Parallel(n_jobs=16)]: Done  47 out of  47 | elapsed:    1.0s finished\n",
      "[Parallel(n_jobs=16)]: Using backend LokyBackend with 16 concurrent workers.\n",
      "[Parallel(n_jobs=16)]: Done  16 out of  47 | elapsed:    0.3s remaining:    0.6s\n",
      "[Parallel(n_jobs=16)]: Done  47 out of  47 | elapsed:    0.8s finished\n",
      "[Parallel(n_jobs=16)]: Using backend LokyBackend with 16 concurrent workers.\n",
      "[Parallel(n_jobs=16)]: Done  16 out of  47 | elapsed:    0.4s remaining:    0.7s\n",
      "[Parallel(n_jobs=16)]: Done  47 out of  47 | elapsed:    1.0s finished\n",
      "[Parallel(n_jobs=16)]: Using backend LokyBackend with 16 concurrent workers.\n",
      "[Parallel(n_jobs=16)]: Done  16 out of  47 | elapsed:    0.3s remaining:    0.6s\n",
      "[Parallel(n_jobs=16)]: Done  47 out of  47 | elapsed:    0.8s finished\n",
      "[Parallel(n_jobs=16)]: Using backend LokyBackend with 16 concurrent workers.\n",
      "[Parallel(n_jobs=16)]: Done  16 out of  47 | elapsed:    0.5s remaining:    0.9s\n",
      "[Parallel(n_jobs=16)]: Done  47 out of  47 | elapsed:    1.0s finished\n",
      "[Parallel(n_jobs=16)]: Using backend LokyBackend with 16 concurrent workers.\n",
      "[Parallel(n_jobs=16)]: Done  47 out of  47 | elapsed:    0.5s finished\n",
      "[Parallel(n_jobs=16)]: Using backend LokyBackend with 16 concurrent workers.\n",
      "[Parallel(n_jobs=16)]: Done  16 out of  47 | elapsed:    0.4s remaining:    0.7s\n",
      "[Parallel(n_jobs=16)]: Done  47 out of  47 | elapsed:    1.0s finished\n",
      "[Parallel(n_jobs=16)]: Using backend LokyBackend with 16 concurrent workers.\n",
      "[Parallel(n_jobs=16)]: Done  16 out of  47 | elapsed:    0.5s remaining:    1.0s\n",
      "[Parallel(n_jobs=16)]: Done  47 out of  47 | elapsed:    1.3s finished\n",
      "[Parallel(n_jobs=16)]: Using backend LokyBackend with 16 concurrent workers.\n",
      "[Parallel(n_jobs=16)]: Done  16 out of  47 | elapsed:    0.4s remaining:    0.8s\n",
      "[Parallel(n_jobs=16)]: Done  47 out of  47 | elapsed:    1.1s finished\n",
      "[Parallel(n_jobs=16)]: Using backend LokyBackend with 16 concurrent workers.\n",
      "[Parallel(n_jobs=16)]: Done  16 out of  47 | elapsed:    0.4s remaining:    0.8s\n",
      "[Parallel(n_jobs=16)]: Done  47 out of  47 | elapsed:    1.2s finished\n",
      "[Parallel(n_jobs=16)]: Using backend LokyBackend with 16 concurrent workers.\n",
      "[Parallel(n_jobs=16)]: Done  16 out of  47 | elapsed:    0.5s remaining:    0.9s\n",
      "[Parallel(n_jobs=16)]: Done  47 out of  47 | elapsed:    1.2s finished\n",
      "[Parallel(n_jobs=16)]: Using backend LokyBackend with 16 concurrent workers.\n"
     ]
    },
    {
     "name": "stderr",
     "output_type": "stream",
     "text": [
      "[Parallel(n_jobs=16)]: Done  16 out of  47 | elapsed:    0.5s remaining:    1.0s\n",
      "[Parallel(n_jobs=16)]: Done  47 out of  47 | elapsed:    1.4s finished\n",
      "[Parallel(n_jobs=16)]: Using backend LokyBackend with 16 concurrent workers.\n",
      "[Parallel(n_jobs=16)]: Done  16 out of  47 | elapsed:    0.5s remaining:    1.0s\n",
      "[Parallel(n_jobs=16)]: Done  47 out of  47 | elapsed:    1.4s finished\n",
      "[Parallel(n_jobs=16)]: Using backend LokyBackend with 16 concurrent workers.\n",
      "[Parallel(n_jobs=16)]: Done  16 out of  47 | elapsed:    0.6s remaining:    1.1s\n",
      "[Parallel(n_jobs=16)]: Done  47 out of  47 | elapsed:    1.4s finished\n",
      "[Parallel(n_jobs=16)]: Using backend LokyBackend with 16 concurrent workers.\n",
      "[Parallel(n_jobs=16)]: Done  16 out of  47 | elapsed:    0.6s remaining:    1.1s\n",
      "[Parallel(n_jobs=16)]: Done  47 out of  47 | elapsed:    1.3s finished\n",
      "[Parallel(n_jobs=16)]: Using backend LokyBackend with 16 concurrent workers.\n",
      "[Parallel(n_jobs=16)]: Done  16 out of  47 | elapsed:    0.5s remaining:    1.0s\n",
      "[Parallel(n_jobs=16)]: Done  47 out of  47 | elapsed:    1.4s finished\n",
      "[Parallel(n_jobs=16)]: Using backend LokyBackend with 16 concurrent workers.\n",
      "[Parallel(n_jobs=16)]: Done  16 out of  47 | elapsed:    0.4s remaining:    0.8s\n",
      "[Parallel(n_jobs=16)]: Done  47 out of  47 | elapsed:    0.9s finished\n",
      "[Parallel(n_jobs=16)]: Using backend LokyBackend with 16 concurrent workers.\n",
      "[Parallel(n_jobs=16)]: Done  16 out of  47 | elapsed:    0.5s remaining:    1.0s\n",
      "[Parallel(n_jobs=16)]: Done  47 out of  47 | elapsed:    1.3s finished\n",
      "[Parallel(n_jobs=16)]: Using backend LokyBackend with 16 concurrent workers.\n",
      "[Parallel(n_jobs=16)]: Done  16 out of  47 | elapsed:    0.5s remaining:    1.0s\n",
      "[Parallel(n_jobs=16)]: Done  47 out of  47 | elapsed:    1.4s finished\n",
      "[Parallel(n_jobs=16)]: Using backend LokyBackend with 16 concurrent workers.\n",
      "[Parallel(n_jobs=16)]: Done  16 out of  47 | elapsed:    0.5s remaining:    1.0s\n",
      "[Parallel(n_jobs=16)]: Done  47 out of  47 | elapsed:    1.4s finished\n",
      "[Parallel(n_jobs=16)]: Using backend LokyBackend with 16 concurrent workers.\n",
      "[Parallel(n_jobs=16)]: Done  16 out of  47 | elapsed:    0.5s remaining:    1.0s\n",
      "[Parallel(n_jobs=16)]: Done  47 out of  47 | elapsed:    1.3s finished\n",
      "[Parallel(n_jobs=16)]: Using backend LokyBackend with 16 concurrent workers.\n",
      "[Parallel(n_jobs=16)]: Done  47 out of  47 | elapsed:    0.9s finished\n",
      "[Parallel(n_jobs=16)]: Using backend LokyBackend with 16 concurrent workers.\n",
      "[Parallel(n_jobs=16)]: Done  16 out of  47 | elapsed:    0.5s remaining:    1.0s\n",
      "[Parallel(n_jobs=16)]: Done  47 out of  47 | elapsed:    1.3s finished\n",
      "[Parallel(n_jobs=16)]: Using backend LokyBackend with 16 concurrent workers.\n",
      "[Parallel(n_jobs=16)]: Done  16 out of  47 | elapsed:    0.5s remaining:    1.0s\n",
      "[Parallel(n_jobs=16)]: Done  47 out of  47 | elapsed:    1.4s finished\n",
      "[Parallel(n_jobs=16)]: Using backend LokyBackend with 16 concurrent workers.\n",
      "[Parallel(n_jobs=16)]: Done  16 out of  47 | elapsed:    0.6s remaining:    1.2s\n",
      "[Parallel(n_jobs=16)]: Done  47 out of  47 | elapsed:    1.4s finished\n",
      "[Parallel(n_jobs=16)]: Using backend LokyBackend with 16 concurrent workers.\n",
      "[Parallel(n_jobs=16)]: Done  16 out of  47 | elapsed:    0.5s remaining:    1.1s\n",
      "[Parallel(n_jobs=16)]: Done  47 out of  47 | elapsed:    1.5s finished\n",
      "[Parallel(n_jobs=16)]: Using backend LokyBackend with 16 concurrent workers.\n",
      "[Parallel(n_jobs=16)]: Done  16 out of  47 | elapsed:    0.6s remaining:    1.2s\n",
      "[Parallel(n_jobs=16)]: Done  47 out of  47 | elapsed:    1.6s finished\n",
      "[Parallel(n_jobs=16)]: Using backend LokyBackend with 16 concurrent workers.\n",
      "[Parallel(n_jobs=16)]: Done  16 out of  47 | elapsed:    0.6s remaining:    1.1s\n",
      "[Parallel(n_jobs=16)]: Done  47 out of  47 | elapsed:    1.6s finished\n",
      "[Parallel(n_jobs=16)]: Using backend LokyBackend with 16 concurrent workers.\n",
      "[Parallel(n_jobs=16)]: Done  16 out of  47 | elapsed:    0.6s remaining:    1.1s\n",
      "[Parallel(n_jobs=16)]: Done  47 out of  47 | elapsed:    1.6s finished\n",
      "[Parallel(n_jobs=16)]: Using backend LokyBackend with 16 concurrent workers.\n",
      "[Parallel(n_jobs=16)]: Done  16 out of  47 | elapsed:    0.5s remaining:    1.0s\n",
      "[Parallel(n_jobs=16)]: Done  47 out of  47 | elapsed:    1.5s finished\n",
      "[Parallel(n_jobs=16)]: Using backend LokyBackend with 16 concurrent workers.\n",
      "[Parallel(n_jobs=16)]: Done  16 out of  47 | elapsed:    0.6s remaining:    1.1s\n",
      "[Parallel(n_jobs=16)]: Done  47 out of  47 | elapsed:    1.5s finished\n",
      "[Parallel(n_jobs=16)]: Using backend LokyBackend with 16 concurrent workers.\n",
      "[Parallel(n_jobs=16)]: Done  16 out of  47 | elapsed:    0.6s remaining:    1.2s\n",
      "[Parallel(n_jobs=16)]: Done  47 out of  47 | elapsed:    1.6s finished\n",
      "[Parallel(n_jobs=16)]: Using backend LokyBackend with 16 concurrent workers.\n",
      "[Parallel(n_jobs=16)]: Done  16 out of  47 | elapsed:    0.7s remaining:    1.4s\n",
      "[Parallel(n_jobs=16)]: Done  47 out of  47 | elapsed:    1.7s finished\n",
      "[Parallel(n_jobs=16)]: Using backend LokyBackend with 16 concurrent workers.\n",
      "[Parallel(n_jobs=16)]: Done  16 out of  47 | elapsed:    0.7s remaining:    1.4s\n",
      "[Parallel(n_jobs=16)]: Done  47 out of  47 | elapsed:    1.8s finished\n",
      "[Parallel(n_jobs=16)]: Using backend LokyBackend with 16 concurrent workers.\n",
      "[Parallel(n_jobs=16)]: Done  16 out of  47 | elapsed:    0.7s remaining:    1.4s\n",
      "[Parallel(n_jobs=16)]: Done  47 out of  47 | elapsed:    1.8s finished\n",
      "[Parallel(n_jobs=16)]: Using backend LokyBackend with 16 concurrent workers.\n",
      "[Parallel(n_jobs=16)]: Done  16 out of  47 | elapsed:    0.7s remaining:    1.3s\n",
      "[Parallel(n_jobs=16)]: Done  47 out of  47 | elapsed:    1.9s finished\n"
     ]
    },
    {
     "name": "stdout",
     "output_type": "stream",
     "text": [
      "Number of labels 1\n",
      "Build repo time: 0.841 Size: (66091, 512)\n"
     ]
    },
    {
     "name": "stderr",
     "output_type": "stream",
     "text": [
      "[Parallel(n_jobs=16)]: Using backend LokyBackend with 16 concurrent workers.\n",
      "[Parallel(n_jobs=16)]: Done  64 out of  95 | elapsed:    1.5s remaining:    0.7s\n",
      "[Parallel(n_jobs=16)]: Done  95 out of  95 | elapsed:    1.6s finished\n",
      "[Parallel(n_jobs=16)]: Using backend LokyBackend with 16 concurrent workers.\n",
      "[Parallel(n_jobs=16)]: Done  95 out of  95 | elapsed:    0.4s finished\n",
      "[Parallel(n_jobs=16)]: Using backend LokyBackend with 16 concurrent workers.\n",
      "[Parallel(n_jobs=16)]: Done  95 out of  95 | elapsed:    0.5s finished\n",
      "[Parallel(n_jobs=16)]: Using backend LokyBackend with 16 concurrent workers.\n",
      "[Parallel(n_jobs=16)]: Done  95 out of  95 | elapsed:    0.7s finished\n",
      "[Parallel(n_jobs=16)]: Using backend LokyBackend with 16 concurrent workers.\n",
      "[Parallel(n_jobs=16)]: Done  95 out of  95 | elapsed:    0.6s finished\n",
      "[Parallel(n_jobs=16)]: Using backend LokyBackend with 16 concurrent workers.\n",
      "[Parallel(n_jobs=16)]: Done  95 out of  95 | elapsed:    0.7s finished\n",
      "[Parallel(n_jobs=16)]: Using backend LokyBackend with 16 concurrent workers.\n",
      "[Parallel(n_jobs=16)]: Done  64 out of  95 | elapsed:    0.6s remaining:    0.3s\n",
      "[Parallel(n_jobs=16)]: Done  95 out of  95 | elapsed:    0.6s finished\n",
      "[Parallel(n_jobs=16)]: Using backend LokyBackend with 16 concurrent workers.\n",
      "[Parallel(n_jobs=16)]: Done  95 out of  95 | elapsed:    0.7s finished\n",
      "[Parallel(n_jobs=16)]: Using backend LokyBackend with 16 concurrent workers.\n",
      "[Parallel(n_jobs=16)]: Done  95 out of  95 | elapsed:    0.6s finished\n",
      "[Parallel(n_jobs=16)]: Using backend LokyBackend with 16 concurrent workers.\n",
      "[Parallel(n_jobs=16)]: Done  95 out of  95 | elapsed:    0.7s finished\n",
      "[Parallel(n_jobs=16)]: Using backend LokyBackend with 16 concurrent workers.\n",
      "[Parallel(n_jobs=16)]: Done  95 out of  95 | elapsed:    0.6s finished\n",
      "[Parallel(n_jobs=16)]: Using backend LokyBackend with 16 concurrent workers.\n",
      "[Parallel(n_jobs=16)]: Done  95 out of  95 | elapsed:    0.6s finished\n",
      "[Parallel(n_jobs=16)]: Using backend LokyBackend with 16 concurrent workers.\n",
      "[Parallel(n_jobs=16)]: Done  95 out of  95 | elapsed:    0.7s finished\n",
      "[Parallel(n_jobs=16)]: Using backend LokyBackend with 16 concurrent workers.\n",
      "[Parallel(n_jobs=16)]: Done  95 out of  95 | elapsed:    0.6s finished\n",
      "[Parallel(n_jobs=16)]: Using backend LokyBackend with 16 concurrent workers.\n",
      "[Parallel(n_jobs=16)]: Done  95 out of  95 | elapsed:    0.8s finished\n",
      "[Parallel(n_jobs=16)]: Using backend LokyBackend with 16 concurrent workers.\n",
      "[Parallel(n_jobs=16)]: Done  95 out of  95 | elapsed:    0.7s finished\n",
      "[Parallel(n_jobs=16)]: Using backend LokyBackend with 16 concurrent workers.\n",
      "[Parallel(n_jobs=16)]: Done  95 out of  95 | elapsed:    0.7s finished\n",
      "[Parallel(n_jobs=16)]: Using backend LokyBackend with 16 concurrent workers.\n",
      "[Parallel(n_jobs=16)]: Done  95 out of  95 | elapsed:    0.7s finished\n",
      "[Parallel(n_jobs=16)]: Using backend LokyBackend with 16 concurrent workers.\n",
      "[Parallel(n_jobs=16)]: Done  95 out of  95 | elapsed:    0.8s finished\n",
      "[Parallel(n_jobs=16)]: Using backend LokyBackend with 16 concurrent workers.\n",
      "[Parallel(n_jobs=16)]: Done  95 out of  95 | elapsed:    0.7s finished\n",
      "[Parallel(n_jobs=16)]: Using backend LokyBackend with 16 concurrent workers.\n",
      "[Parallel(n_jobs=16)]: Done  95 out of  95 | elapsed:    0.8s finished\n",
      "[Parallel(n_jobs=16)]: Using backend LokyBackend with 16 concurrent workers.\n",
      "[Parallel(n_jobs=16)]: Done  95 out of  95 | elapsed:    0.8s finished\n",
      "[Parallel(n_jobs=16)]: Using backend LokyBackend with 16 concurrent workers.\n",
      "[Parallel(n_jobs=16)]: Done  95 out of  95 | elapsed:    0.7s finished\n",
      "[Parallel(n_jobs=16)]: Using backend LokyBackend with 16 concurrent workers.\n",
      "[Parallel(n_jobs=16)]: Done  95 out of  95 | elapsed:    0.7s finished\n",
      "[Parallel(n_jobs=16)]: Using backend LokyBackend with 16 concurrent workers.\n",
      "[Parallel(n_jobs=16)]: Done  95 out of  95 | elapsed:    0.8s finished\n",
      "[Parallel(n_jobs=16)]: Using backend LokyBackend with 16 concurrent workers.\n",
      "[Parallel(n_jobs=16)]: Done  64 out of  95 | elapsed:    1.0s remaining:    0.5s\n",
      "[Parallel(n_jobs=16)]: Done  95 out of  95 | elapsed:    1.0s finished\n",
      "[Parallel(n_jobs=16)]: Using backend LokyBackend with 16 concurrent workers.\n",
      "[Parallel(n_jobs=16)]: Done  95 out of  95 | elapsed:    1.1s finished\n",
      "[Parallel(n_jobs=16)]: Using backend LokyBackend with 16 concurrent workers.\n",
      "[Parallel(n_jobs=16)]: Done  95 out of  95 | elapsed:    1.1s finished\n",
      "[Parallel(n_jobs=16)]: Using backend LokyBackend with 16 concurrent workers.\n",
      "[Parallel(n_jobs=16)]: Done  95 out of  95 | elapsed:    1.1s finished\n",
      "[Parallel(n_jobs=16)]: Using backend LokyBackend with 16 concurrent workers.\n",
      "[Parallel(n_jobs=16)]: Done  95 out of  95 | elapsed:    1.2s finished\n",
      "[Parallel(n_jobs=16)]: Using backend LokyBackend with 16 concurrent workers.\n",
      "[Parallel(n_jobs=16)]: Done  95 out of  95 | elapsed:    1.1s finished\n",
      "[Parallel(n_jobs=16)]: Using backend LokyBackend with 16 concurrent workers.\n",
      "[Parallel(n_jobs=16)]: Done  95 out of  95 | elapsed:    1.2s finished\n",
      "[Parallel(n_jobs=16)]: Using backend LokyBackend with 16 concurrent workers.\n",
      "[Parallel(n_jobs=16)]: Done  64 out of  95 | elapsed:    1.2s remaining:    0.6s\n",
      "[Parallel(n_jobs=16)]: Done  95 out of  95 | elapsed:    1.5s finished\n",
      "[Parallel(n_jobs=16)]: Using backend LokyBackend with 16 concurrent workers.\n",
      "[Parallel(n_jobs=16)]: Done  95 out of  95 | elapsed:    1.4s finished\n",
      "[Parallel(n_jobs=16)]: Using backend LokyBackend with 16 concurrent workers.\n",
      "[Parallel(n_jobs=16)]: Done  64 out of  95 | elapsed:    1.3s remaining:    0.6s\n",
      "[Parallel(n_jobs=16)]: Done  95 out of  95 | elapsed:    1.4s finished\n",
      "[Parallel(n_jobs=16)]: Using backend LokyBackend with 16 concurrent workers.\n",
      "[Parallel(n_jobs=16)]: Done  64 out of  95 | elapsed:    1.3s remaining:    0.6s\n",
      "[Parallel(n_jobs=16)]: Done  95 out of  95 | elapsed:    1.4s finished\n",
      "[Parallel(n_jobs=16)]: Using backend LokyBackend with 16 concurrent workers.\n",
      "[Parallel(n_jobs=16)]: Done  64 out of  95 | elapsed:    1.6s remaining:    0.8s\n",
      "[Parallel(n_jobs=16)]: Done  95 out of  95 | elapsed:    1.9s finished\n",
      "[Parallel(n_jobs=16)]: Using backend LokyBackend with 16 concurrent workers.\n",
      "[Parallel(n_jobs=16)]: Done  95 out of  95 | elapsed:    1.8s finished\n",
      "[Parallel(n_jobs=16)]: Using backend LokyBackend with 16 concurrent workers.\n",
      "[Parallel(n_jobs=16)]: Done  18 tasks      | elapsed:    0.5s\n",
      "[Parallel(n_jobs=16)]: Done  64 out of  95 | elapsed:    1.7s remaining:    0.8s\n",
      "[Parallel(n_jobs=16)]: Done  95 out of  95 | elapsed:    2.3s finished\n",
      "[Parallel(n_jobs=16)]: Using backend LokyBackend with 16 concurrent workers.\n",
      "[Parallel(n_jobs=16)]: Done  95 out of  95 | elapsed:    1.8s finished\n",
      "[Parallel(n_jobs=16)]: Using backend LokyBackend with 16 concurrent workers.\n",
      "[Parallel(n_jobs=16)]: Done  64 out of  95 | elapsed:    1.7s remaining:    0.8s\n",
      "[Parallel(n_jobs=16)]: Done  95 out of  95 | elapsed:    2.0s finished\n",
      "[Parallel(n_jobs=16)]: Using backend LokyBackend with 16 concurrent workers.\n",
      "[Parallel(n_jobs=16)]: Done  95 out of  95 | elapsed:    1.9s finished\n",
      "[Parallel(n_jobs=16)]: Using backend LokyBackend with 16 concurrent workers.\n",
      "[Parallel(n_jobs=16)]: Done  95 out of  95 | elapsed:    1.9s finished\n",
      "[Parallel(n_jobs=16)]: Using backend LokyBackend with 16 concurrent workers.\n",
      "[Parallel(n_jobs=16)]: Done  64 out of  95 | elapsed:    1.7s remaining:    0.8s\n",
      "[Parallel(n_jobs=16)]: Done  95 out of  95 | elapsed:    1.8s finished\n",
      "[Parallel(n_jobs=16)]: Using backend LokyBackend with 16 concurrent workers.\n",
      "[Parallel(n_jobs=16)]: Done  64 out of  95 | elapsed:    1.8s remaining:    0.9s\n",
      "[Parallel(n_jobs=16)]: Done  95 out of  95 | elapsed:    1.9s finished\n",
      "[Parallel(n_jobs=16)]: Using backend LokyBackend with 16 concurrent workers.\n",
      "[Parallel(n_jobs=16)]: Done  95 out of  95 | elapsed:    2.0s finished\n",
      "[Parallel(n_jobs=16)]: Using backend LokyBackend with 16 concurrent workers.\n",
      "[Parallel(n_jobs=16)]: Done  95 out of  95 | elapsed:    1.9s finished\n",
      "[Parallel(n_jobs=16)]: Using backend LokyBackend with 16 concurrent workers.\n",
      "[Parallel(n_jobs=16)]: Done  95 out of  95 | elapsed:    2.0s finished\n",
      "[Parallel(n_jobs=16)]: Using backend LokyBackend with 16 concurrent workers.\n",
      "[Parallel(n_jobs=16)]: Done  64 out of  95 | elapsed:    1.8s remaining:    0.8s\n"
     ]
    },
    {
     "name": "stderr",
     "output_type": "stream",
     "text": [
      "[Parallel(n_jobs=16)]: Done  95 out of  95 | elapsed:    2.1s finished\n",
      "[Parallel(n_jobs=16)]: Using backend LokyBackend with 16 concurrent workers.\n",
      "[Parallel(n_jobs=16)]: Done  64 out of  95 | elapsed:    1.8s remaining:    0.9s\n",
      "[Parallel(n_jobs=16)]: Done  95 out of  95 | elapsed:    2.1s finished\n",
      "[Parallel(n_jobs=16)]: Using backend LokyBackend with 16 concurrent workers.\n",
      "[Parallel(n_jobs=16)]: Done  18 tasks      | elapsed:    0.6s\n",
      "[Parallel(n_jobs=16)]: Done  64 out of  95 | elapsed:    1.7s remaining:    0.8s\n",
      "[Parallel(n_jobs=16)]: Done  95 out of  95 | elapsed:    2.3s finished\n",
      "[Parallel(n_jobs=16)]: Using backend LokyBackend with 16 concurrent workers.\n",
      "[Parallel(n_jobs=16)]: Done  95 out of  95 | elapsed:    2.1s finished\n",
      "[Parallel(n_jobs=16)]: Using backend LokyBackend with 16 concurrent workers.\n",
      "[Parallel(n_jobs=16)]: Done  64 out of  95 | elapsed:    2.0s remaining:    1.0s\n",
      "[Parallel(n_jobs=16)]: Done  95 out of  95 | elapsed:    2.3s finished\n",
      "[Parallel(n_jobs=16)]: Using backend LokyBackend with 16 concurrent workers.\n",
      "[Parallel(n_jobs=16)]: Done  64 out of  95 | elapsed:    2.0s remaining:    1.0s\n",
      "[Parallel(n_jobs=16)]: Done  95 out of  95 | elapsed:    2.3s finished\n",
      "[Parallel(n_jobs=16)]: Using backend LokyBackend with 16 concurrent workers.\n",
      "[Parallel(n_jobs=16)]: Done  64 out of  95 | elapsed:    2.1s remaining:    1.0s\n",
      "[Parallel(n_jobs=16)]: Done  95 out of  95 | elapsed:    2.3s finished\n",
      "[Parallel(n_jobs=16)]: Using backend LokyBackend with 16 concurrent workers.\n",
      "[Parallel(n_jobs=16)]: Done  64 out of  95 | elapsed:    2.1s remaining:    1.0s\n",
      "[Parallel(n_jobs=16)]: Done  95 out of  95 | elapsed:    2.4s finished\n",
      "[Parallel(n_jobs=16)]: Using backend LokyBackend with 16 concurrent workers.\n",
      "[Parallel(n_jobs=16)]: Done  18 tasks      | elapsed:    0.6s\n",
      "[Parallel(n_jobs=16)]: Done  64 out of  95 | elapsed:    1.9s remaining:    0.9s\n",
      "[Parallel(n_jobs=16)]: Done  95 out of  95 | elapsed:    2.6s finished\n",
      "[Parallel(n_jobs=16)]: Using backend LokyBackend with 16 concurrent workers.\n",
      "[Parallel(n_jobs=16)]: Done  64 out of  95 | elapsed:    2.5s remaining:    1.2s\n",
      "[Parallel(n_jobs=16)]: Done  95 out of  95 | elapsed:    2.6s finished\n",
      "[Parallel(n_jobs=16)]: Using backend LokyBackend with 16 concurrent workers.\n",
      "[Parallel(n_jobs=16)]: Done  64 out of  95 | elapsed:    2.6s remaining:    1.3s\n",
      "[Parallel(n_jobs=16)]: Done  95 out of  95 | elapsed:    2.7s finished\n",
      "[Parallel(n_jobs=16)]: Using backend LokyBackend with 16 concurrent workers.\n",
      "[Parallel(n_jobs=16)]: Done  64 out of  95 | elapsed:    2.4s remaining:    1.2s\n",
      "[Parallel(n_jobs=16)]: Done  95 out of  95 | elapsed:    2.8s finished\n",
      "[Parallel(n_jobs=16)]: Using backend LokyBackend with 16 concurrent workers.\n",
      "[Parallel(n_jobs=16)]: Done  18 tasks      | elapsed:    0.6s\n",
      "[Parallel(n_jobs=16)]: Done  95 out of  95 | elapsed:    3.7s finished\n"
     ]
    },
    {
     "name": "stdout",
     "output_type": "stream",
     "text": [
      "Number of labels 1\n",
      "Build repo time: 0.582 Size: (46672, 512)\n"
     ]
    },
    {
     "name": "stderr",
     "output_type": "stream",
     "text": [
      "[Parallel(n_jobs=16)]: Using backend LokyBackend with 16 concurrent workers.\n",
      "[Parallel(n_jobs=16)]: Done  74 out of  74 | elapsed:    1.2s finished\n",
      "[Parallel(n_jobs=16)]: Using backend LokyBackend with 16 concurrent workers.\n",
      "[Parallel(n_jobs=16)]: Done  74 out of  74 | elapsed:    0.4s finished\n",
      "[Parallel(n_jobs=16)]: Using backend LokyBackend with 16 concurrent workers.\n",
      "[Parallel(n_jobs=16)]: Done  74 out of  74 | elapsed:    0.5s finished\n",
      "[Parallel(n_jobs=16)]: Using backend LokyBackend with 16 concurrent workers.\n",
      "[Parallel(n_jobs=16)]: Done  74 out of  74 | elapsed:    0.6s finished\n",
      "[Parallel(n_jobs=16)]: Using backend LokyBackend with 16 concurrent workers.\n",
      "[Parallel(n_jobs=16)]: Done  74 out of  74 | elapsed:    0.5s finished\n",
      "[Parallel(n_jobs=16)]: Using backend LokyBackend with 16 concurrent workers.\n",
      "[Parallel(n_jobs=16)]: Done  74 out of  74 | elapsed:    0.6s finished\n",
      "[Parallel(n_jobs=16)]: Using backend LokyBackend with 16 concurrent workers.\n",
      "[Parallel(n_jobs=16)]: Done  74 out of  74 | elapsed:    0.6s finished\n",
      "[Parallel(n_jobs=16)]: Using backend LokyBackend with 16 concurrent workers.\n",
      "[Parallel(n_jobs=16)]: Done  74 out of  74 | elapsed:    0.5s finished\n",
      "[Parallel(n_jobs=16)]: Using backend LokyBackend with 16 concurrent workers.\n",
      "[Parallel(n_jobs=16)]: Done  74 out of  74 | elapsed:    0.6s finished\n",
      "[Parallel(n_jobs=16)]: Using backend LokyBackend with 16 concurrent workers.\n",
      "[Parallel(n_jobs=16)]: Done  74 out of  74 | elapsed:    0.5s finished\n",
      "[Parallel(n_jobs=16)]: Using backend LokyBackend with 16 concurrent workers.\n",
      "[Parallel(n_jobs=16)]: Done  74 out of  74 | elapsed:    0.7s finished\n",
      "[Parallel(n_jobs=16)]: Using backend LokyBackend with 16 concurrent workers.\n",
      "[Parallel(n_jobs=16)]: Done  74 out of  74 | elapsed:    0.6s finished\n",
      "[Parallel(n_jobs=16)]: Using backend LokyBackend with 16 concurrent workers.\n",
      "[Parallel(n_jobs=16)]: Done  74 out of  74 | elapsed:    0.6s finished\n",
      "[Parallel(n_jobs=16)]: Using backend LokyBackend with 16 concurrent workers.\n",
      "[Parallel(n_jobs=16)]: Done  74 out of  74 | elapsed:    0.6s finished\n",
      "[Parallel(n_jobs=16)]: Using backend LokyBackend with 16 concurrent workers.\n",
      "[Parallel(n_jobs=16)]: Done  74 out of  74 | elapsed:    0.7s finished\n",
      "[Parallel(n_jobs=16)]: Using backend LokyBackend with 16 concurrent workers.\n",
      "[Parallel(n_jobs=16)]: Done  74 out of  74 | elapsed:    0.6s finished\n",
      "[Parallel(n_jobs=16)]: Using backend LokyBackend with 16 concurrent workers.\n",
      "[Parallel(n_jobs=16)]: Done  74 out of  74 | elapsed:    0.6s finished\n",
      "[Parallel(n_jobs=16)]: Using backend LokyBackend with 16 concurrent workers.\n",
      "[Parallel(n_jobs=16)]: Done  74 out of  74 | elapsed:    0.7s finished\n",
      "[Parallel(n_jobs=16)]: Using backend LokyBackend with 16 concurrent workers.\n",
      "[Parallel(n_jobs=16)]: Done  74 out of  74 | elapsed:    0.7s finished\n",
      "[Parallel(n_jobs=16)]: Using backend LokyBackend with 16 concurrent workers.\n",
      "[Parallel(n_jobs=16)]: Done  74 out of  74 | elapsed:    0.7s finished\n",
      "[Parallel(n_jobs=16)]: Using backend LokyBackend with 16 concurrent workers.\n",
      "[Parallel(n_jobs=16)]: Done  74 out of  74 | elapsed:    0.7s finished\n",
      "[Parallel(n_jobs=16)]: Using backend LokyBackend with 16 concurrent workers.\n",
      "[Parallel(n_jobs=16)]: Done  74 out of  74 | elapsed:    0.7s finished\n",
      "[Parallel(n_jobs=16)]: Using backend LokyBackend with 16 concurrent workers.\n",
      "[Parallel(n_jobs=16)]: Done  74 out of  74 | elapsed:    0.7s finished\n",
      "[Parallel(n_jobs=16)]: Using backend LokyBackend with 16 concurrent workers.\n",
      "[Parallel(n_jobs=16)]: Done  74 out of  74 | elapsed:    0.7s finished\n",
      "[Parallel(n_jobs=16)]: Using backend LokyBackend with 16 concurrent workers.\n",
      "[Parallel(n_jobs=16)]: Done  74 out of  74 | elapsed:    0.7s finished\n",
      "[Parallel(n_jobs=16)]: Using backend LokyBackend with 16 concurrent workers.\n",
      "[Parallel(n_jobs=16)]: Done  18 tasks      | elapsed:    0.4s\n",
      "[Parallel(n_jobs=16)]: Done  74 out of  74 | elapsed:    1.2s finished\n",
      "[Parallel(n_jobs=16)]: Using backend LokyBackend with 16 concurrent workers.\n",
      "[Parallel(n_jobs=16)]: Done  74 out of  74 | elapsed:    0.9s finished\n",
      "[Parallel(n_jobs=16)]: Using backend LokyBackend with 16 concurrent workers.\n",
      "[Parallel(n_jobs=16)]: Done  74 out of  74 | elapsed:    0.9s finished\n",
      "[Parallel(n_jobs=16)]: Using backend LokyBackend with 16 concurrent workers.\n",
      "[Parallel(n_jobs=16)]: Done  74 out of  74 | elapsed:    0.9s finished\n",
      "[Parallel(n_jobs=16)]: Using backend LokyBackend with 16 concurrent workers.\n",
      "[Parallel(n_jobs=16)]: Done  74 out of  74 | elapsed:    1.1s finished\n",
      "[Parallel(n_jobs=16)]: Using backend LokyBackend with 16 concurrent workers.\n",
      "[Parallel(n_jobs=16)]: Done  74 out of  74 | elapsed:    1.1s finished\n",
      "[Parallel(n_jobs=16)]: Using backend LokyBackend with 16 concurrent workers.\n",
      "[Parallel(n_jobs=16)]: Done  74 out of  74 | elapsed:    1.1s finished\n",
      "[Parallel(n_jobs=16)]: Using backend LokyBackend with 16 concurrent workers.\n",
      "[Parallel(n_jobs=16)]: Done  74 out of  74 | elapsed:    1.4s finished\n",
      "[Parallel(n_jobs=16)]: Using backend LokyBackend with 16 concurrent workers.\n",
      "[Parallel(n_jobs=16)]: Done  74 out of  74 | elapsed:    1.2s finished\n",
      "[Parallel(n_jobs=16)]: Using backend LokyBackend with 16 concurrent workers.\n",
      "[Parallel(n_jobs=16)]: Done  74 out of  74 | elapsed:    1.3s finished\n",
      "[Parallel(n_jobs=16)]: Using backend LokyBackend with 16 concurrent workers.\n",
      "[Parallel(n_jobs=16)]: Done  74 out of  74 | elapsed:    1.3s finished\n",
      "[Parallel(n_jobs=16)]: Using backend LokyBackend with 16 concurrent workers.\n",
      "[Parallel(n_jobs=16)]: Done  74 out of  74 | elapsed:    1.5s finished\n",
      "[Parallel(n_jobs=16)]: Using backend LokyBackend with 16 concurrent workers.\n",
      "[Parallel(n_jobs=16)]: Done  74 out of  74 | elapsed:    1.6s finished\n",
      "[Parallel(n_jobs=16)]: Using backend LokyBackend with 16 concurrent workers.\n",
      "[Parallel(n_jobs=16)]: Done  74 out of  74 | elapsed:    1.5s finished\n",
      "[Parallel(n_jobs=16)]: Using backend LokyBackend with 16 concurrent workers.\n",
      "[Parallel(n_jobs=16)]: Done  74 out of  74 | elapsed:    1.5s finished\n",
      "[Parallel(n_jobs=16)]: Using backend LokyBackend with 16 concurrent workers.\n",
      "[Parallel(n_jobs=16)]: Done  74 out of  74 | elapsed:    1.6s finished\n",
      "[Parallel(n_jobs=16)]: Using backend LokyBackend with 16 concurrent workers.\n",
      "[Parallel(n_jobs=16)]: Done  74 out of  74 | elapsed:    1.5s finished\n",
      "[Parallel(n_jobs=16)]: Using backend LokyBackend with 16 concurrent workers.\n",
      "[Parallel(n_jobs=16)]: Done  74 out of  74 | elapsed:    1.5s finished\n",
      "[Parallel(n_jobs=16)]: Using backend LokyBackend with 16 concurrent workers.\n",
      "[Parallel(n_jobs=16)]: Done  74 out of  74 | elapsed:    1.6s finished\n",
      "[Parallel(n_jobs=16)]: Using backend LokyBackend with 16 concurrent workers.\n",
      "[Parallel(n_jobs=16)]: Done  74 out of  74 | elapsed:    1.7s finished\n",
      "[Parallel(n_jobs=16)]: Using backend LokyBackend with 16 concurrent workers.\n",
      "[Parallel(n_jobs=16)]: Done  74 out of  74 | elapsed:    1.7s finished\n",
      "[Parallel(n_jobs=16)]: Using backend LokyBackend with 16 concurrent workers.\n",
      "[Parallel(n_jobs=16)]: Done  74 out of  74 | elapsed:    1.8s finished\n",
      "[Parallel(n_jobs=16)]: Using backend LokyBackend with 16 concurrent workers.\n",
      "[Parallel(n_jobs=16)]: Done  74 out of  74 | elapsed:    1.7s finished\n",
      "[Parallel(n_jobs=16)]: Using backend LokyBackend with 16 concurrent workers.\n",
      "[Parallel(n_jobs=16)]: Done  74 out of  74 | elapsed:    1.7s finished\n",
      "[Parallel(n_jobs=16)]: Using backend LokyBackend with 16 concurrent workers.\n",
      "[Parallel(n_jobs=16)]: Done  74 out of  74 | elapsed:    1.8s finished\n",
      "[Parallel(n_jobs=16)]: Using backend LokyBackend with 16 concurrent workers.\n",
      "[Parallel(n_jobs=16)]: Done  74 out of  74 | elapsed:    1.8s finished\n",
      "[Parallel(n_jobs=16)]: Using backend LokyBackend with 16 concurrent workers.\n",
      "[Parallel(n_jobs=16)]: Done  74 out of  74 | elapsed:    1.8s finished\n",
      "[Parallel(n_jobs=16)]: Using backend LokyBackend with 16 concurrent workers.\n",
      "[Parallel(n_jobs=16)]: Done  74 out of  74 | elapsed:    1.9s finished\n",
      "[Parallel(n_jobs=16)]: Using backend LokyBackend with 16 concurrent workers.\n",
      "[Parallel(n_jobs=16)]: Done  74 out of  74 | elapsed:    2.0s finished\n",
      "[Parallel(n_jobs=16)]: Using backend LokyBackend with 16 concurrent workers.\n",
      "[Parallel(n_jobs=16)]: Done  18 tasks      | elapsed:    0.6s\n"
     ]
    },
    {
     "name": "stderr",
     "output_type": "stream",
     "text": [
      "[Parallel(n_jobs=16)]: Done  74 out of  74 | elapsed:    2.1s finished\n",
      "[Parallel(n_jobs=16)]: Using backend LokyBackend with 16 concurrent workers.\n",
      "[Parallel(n_jobs=16)]: Done  74 out of  74 | elapsed:    2.0s finished\n",
      "[Parallel(n_jobs=16)]: Using backend LokyBackend with 16 concurrent workers.\n",
      "[Parallel(n_jobs=16)]: Done  74 out of  74 | elapsed:    2.0s finished\n",
      "[Parallel(n_jobs=16)]: Using backend LokyBackend with 16 concurrent workers.\n",
      "[Parallel(n_jobs=16)]: Done  18 tasks      | elapsed:    0.6s\n",
      "[Parallel(n_jobs=16)]: Done  74 out of  74 | elapsed:    2.3s finished\n",
      "[Parallel(n_jobs=16)]: Using backend LokyBackend with 16 concurrent workers.\n",
      "[Parallel(n_jobs=16)]: Done  74 out of  74 | elapsed:    2.2s finished\n",
      "[Parallel(n_jobs=16)]: Using backend LokyBackend with 16 concurrent workers.\n",
      "[Parallel(n_jobs=16)]: Done  74 out of  74 | elapsed:    2.4s finished\n",
      "[Parallel(n_jobs=16)]: Using backend LokyBackend with 16 concurrent workers.\n",
      "[Parallel(n_jobs=16)]: Done  74 out of  74 | elapsed:    2.5s finished\n"
     ]
    },
    {
     "name": "stdout",
     "output_type": "stream",
     "text": [
      "Number of labels 1\n",
      "Build repo time: 0.428 Size: (34249, 512)\n"
     ]
    },
    {
     "name": "stderr",
     "output_type": "stream",
     "text": [
      "[Parallel(n_jobs=16)]: Using backend LokyBackend with 16 concurrent workers.\n",
      "[Parallel(n_jobs=16)]: Done  29 out of  60 | elapsed:    0.9s remaining:    1.0s\n",
      "[Parallel(n_jobs=16)]: Done  60 out of  60 | elapsed:    1.3s finished\n",
      "[Parallel(n_jobs=16)]: Using backend LokyBackend with 16 concurrent workers.\n",
      "[Parallel(n_jobs=16)]: Done  60 out of  60 | elapsed:    0.3s finished\n",
      "[Parallel(n_jobs=16)]: Using backend LokyBackend with 16 concurrent workers.\n",
      "[Parallel(n_jobs=16)]: Done  29 out of  60 | elapsed:    0.3s remaining:    0.3s\n",
      "[Parallel(n_jobs=16)]: Done  60 out of  60 | elapsed:    0.5s finished\n",
      "[Parallel(n_jobs=16)]: Using backend LokyBackend with 16 concurrent workers.\n",
      "[Parallel(n_jobs=16)]: Done  29 out of  60 | elapsed:    0.3s remaining:    0.3s\n",
      "[Parallel(n_jobs=16)]: Done  60 out of  60 | elapsed:    0.4s finished\n",
      "[Parallel(n_jobs=16)]: Using backend LokyBackend with 16 concurrent workers.\n",
      "[Parallel(n_jobs=16)]: Done  29 out of  60 | elapsed:    0.3s remaining:    0.3s\n",
      "[Parallel(n_jobs=16)]: Done  60 out of  60 | elapsed:    0.5s finished\n",
      "[Parallel(n_jobs=16)]: Using backend LokyBackend with 16 concurrent workers.\n",
      "[Parallel(n_jobs=16)]: Done  29 out of  60 | elapsed:    0.3s remaining:    0.3s\n",
      "[Parallel(n_jobs=16)]: Done  60 out of  60 | elapsed:    0.5s finished\n",
      "[Parallel(n_jobs=16)]: Using backend LokyBackend with 16 concurrent workers.\n",
      "[Parallel(n_jobs=16)]: Done  29 out of  60 | elapsed:    0.3s remaining:    0.3s\n",
      "[Parallel(n_jobs=16)]: Done  60 out of  60 | elapsed:    0.5s finished\n",
      "[Parallel(n_jobs=16)]: Using backend LokyBackend with 16 concurrent workers.\n",
      "[Parallel(n_jobs=16)]: Done  29 out of  60 | elapsed:    0.4s remaining:    0.4s\n",
      "[Parallel(n_jobs=16)]: Done  60 out of  60 | elapsed:    0.5s finished\n",
      "[Parallel(n_jobs=16)]: Using backend LokyBackend with 16 concurrent workers.\n",
      "[Parallel(n_jobs=16)]: Done  29 out of  60 | elapsed:    0.3s remaining:    0.3s\n",
      "[Parallel(n_jobs=16)]: Done  60 out of  60 | elapsed:    0.5s finished\n",
      "[Parallel(n_jobs=16)]: Using backend LokyBackend with 16 concurrent workers.\n",
      "[Parallel(n_jobs=16)]: Done  29 out of  60 | elapsed:    0.4s remaining:    0.4s\n",
      "[Parallel(n_jobs=16)]: Done  60 out of  60 | elapsed:    0.6s finished\n",
      "[Parallel(n_jobs=16)]: Using backend LokyBackend with 16 concurrent workers.\n",
      "[Parallel(n_jobs=16)]: Done  29 out of  60 | elapsed:    0.4s remaining:    0.4s\n",
      "[Parallel(n_jobs=16)]: Done  60 out of  60 | elapsed:    0.5s finished\n",
      "[Parallel(n_jobs=16)]: Using backend LokyBackend with 16 concurrent workers.\n",
      "[Parallel(n_jobs=16)]: Done  29 out of  60 | elapsed:    0.4s remaining:    0.4s\n",
      "[Parallel(n_jobs=16)]: Done  60 out of  60 | elapsed:    0.5s finished\n",
      "[Parallel(n_jobs=16)]: Using backend LokyBackend with 16 concurrent workers.\n",
      "[Parallel(n_jobs=16)]: Done  29 out of  60 | elapsed:    0.3s remaining:    0.4s\n",
      "[Parallel(n_jobs=16)]: Done  60 out of  60 | elapsed:    0.5s finished\n",
      "[Parallel(n_jobs=16)]: Using backend LokyBackend with 16 concurrent workers.\n",
      "[Parallel(n_jobs=16)]: Done  29 out of  60 | elapsed:    0.4s remaining:    0.4s\n",
      "[Parallel(n_jobs=16)]: Done  60 out of  60 | elapsed:    0.6s finished\n",
      "[Parallel(n_jobs=16)]: Using backend LokyBackend with 16 concurrent workers.\n",
      "[Parallel(n_jobs=16)]: Done  29 out of  60 | elapsed:    0.3s remaining:    0.3s\n",
      "[Parallel(n_jobs=16)]: Done  60 out of  60 | elapsed:    0.5s finished\n",
      "[Parallel(n_jobs=16)]: Using backend LokyBackend with 16 concurrent workers.\n",
      "[Parallel(n_jobs=16)]: Done  29 out of  60 | elapsed:    0.4s remaining:    0.4s\n",
      "[Parallel(n_jobs=16)]: Done  60 out of  60 | elapsed:    0.6s finished\n",
      "[Parallel(n_jobs=16)]: Using backend LokyBackend with 16 concurrent workers.\n",
      "[Parallel(n_jobs=16)]: Done  29 out of  60 | elapsed:    0.4s remaining:    0.4s\n",
      "[Parallel(n_jobs=16)]: Done  60 out of  60 | elapsed:    0.5s finished\n",
      "[Parallel(n_jobs=16)]: Using backend LokyBackend with 16 concurrent workers.\n",
      "[Parallel(n_jobs=16)]: Done  29 out of  60 | elapsed:    0.4s remaining:    0.4s\n",
      "[Parallel(n_jobs=16)]: Done  60 out of  60 | elapsed:    0.6s finished\n",
      "[Parallel(n_jobs=16)]: Using backend LokyBackend with 16 concurrent workers.\n",
      "[Parallel(n_jobs=16)]: Done  29 out of  60 | elapsed:    0.4s remaining:    0.5s\n",
      "[Parallel(n_jobs=16)]: Done  60 out of  60 | elapsed:    0.6s finished\n",
      "[Parallel(n_jobs=16)]: Using backend LokyBackend with 16 concurrent workers.\n",
      "[Parallel(n_jobs=16)]: Done  29 out of  60 | elapsed:    0.5s remaining:    0.5s\n",
      "[Parallel(n_jobs=16)]: Done  60 out of  60 | elapsed:    0.6s finished\n",
      "[Parallel(n_jobs=16)]: Using backend LokyBackend with 16 concurrent workers.\n",
      "[Parallel(n_jobs=16)]: Done  29 out of  60 | elapsed:    0.5s remaining:    0.5s\n",
      "[Parallel(n_jobs=16)]: Done  60 out of  60 | elapsed:    0.7s finished\n",
      "[Parallel(n_jobs=16)]: Using backend LokyBackend with 16 concurrent workers.\n",
      "[Parallel(n_jobs=16)]: Done  29 out of  60 | elapsed:    0.5s remaining:    0.5s\n",
      "[Parallel(n_jobs=16)]: Done  60 out of  60 | elapsed:    0.7s finished\n",
      "[Parallel(n_jobs=16)]: Using backend LokyBackend with 16 concurrent workers.\n",
      "[Parallel(n_jobs=16)]: Done  29 out of  60 | elapsed:    0.4s remaining:    0.5s\n",
      "[Parallel(n_jobs=16)]: Done  60 out of  60 | elapsed:    0.6s finished\n",
      "[Parallel(n_jobs=16)]: Using backend LokyBackend with 16 concurrent workers.\n",
      "[Parallel(n_jobs=16)]: Done  29 out of  60 | elapsed:    0.4s remaining:    0.4s\n",
      "[Parallel(n_jobs=16)]: Done  60 out of  60 | elapsed:    0.6s finished\n",
      "[Parallel(n_jobs=16)]: Using backend LokyBackend with 16 concurrent workers.\n",
      "[Parallel(n_jobs=16)]: Done  29 out of  60 | elapsed:    0.5s remaining:    0.5s\n",
      "[Parallel(n_jobs=16)]: Done  60 out of  60 | elapsed:    0.7s finished\n",
      "[Parallel(n_jobs=16)]: Using backend LokyBackend with 16 concurrent workers.\n",
      "[Parallel(n_jobs=16)]: Done  29 out of  60 | elapsed:    0.5s remaining:    0.6s\n",
      "[Parallel(n_jobs=16)]: Done  60 out of  60 | elapsed:    0.7s finished\n",
      "[Parallel(n_jobs=16)]: Using backend LokyBackend with 16 concurrent workers.\n",
      "[Parallel(n_jobs=16)]: Done  29 out of  60 | elapsed:    0.6s remaining:    0.6s\n",
      "[Parallel(n_jobs=16)]: Done  60 out of  60 | elapsed:    0.8s finished\n",
      "[Parallel(n_jobs=16)]: Using backend LokyBackend with 16 concurrent workers.\n",
      "[Parallel(n_jobs=16)]: Done  29 out of  60 | elapsed:    0.5s remaining:    0.6s\n",
      "[Parallel(n_jobs=16)]: Done  60 out of  60 | elapsed:    0.8s finished\n",
      "[Parallel(n_jobs=16)]: Using backend LokyBackend with 16 concurrent workers.\n",
      "[Parallel(n_jobs=16)]: Done  29 out of  60 | elapsed:    0.6s remaining:    0.7s\n",
      "[Parallel(n_jobs=16)]: Done  60 out of  60 | elapsed:    0.9s finished\n",
      "[Parallel(n_jobs=16)]: Using backend LokyBackend with 16 concurrent workers.\n",
      "[Parallel(n_jobs=16)]: Done  29 out of  60 | elapsed:    0.6s remaining:    0.7s\n",
      "[Parallel(n_jobs=16)]: Done  60 out of  60 | elapsed:    0.9s finished\n",
      "[Parallel(n_jobs=16)]: Using backend LokyBackend with 16 concurrent workers.\n",
      "[Parallel(n_jobs=16)]: Done  29 out of  60 | elapsed:    0.6s remaining:    0.7s\n",
      "[Parallel(n_jobs=16)]: Done  60 out of  60 | elapsed:    1.0s finished\n",
      "[Parallel(n_jobs=16)]: Using backend LokyBackend with 16 concurrent workers.\n",
      "[Parallel(n_jobs=16)]: Done  29 out of  60 | elapsed:    0.7s remaining:    0.7s\n",
      "[Parallel(n_jobs=16)]: Done  60 out of  60 | elapsed:    0.9s finished\n",
      "[Parallel(n_jobs=16)]: Using backend LokyBackend with 16 concurrent workers.\n",
      "[Parallel(n_jobs=16)]: Done  29 out of  60 | elapsed:    0.8s remaining:    0.9s\n",
      "[Parallel(n_jobs=16)]: Done  60 out of  60 | elapsed:    1.2s finished\n",
      "[Parallel(n_jobs=16)]: Using backend LokyBackend with 16 concurrent workers.\n",
      "[Parallel(n_jobs=16)]: Done  29 out of  60 | elapsed:    0.8s remaining:    0.9s\n",
      "[Parallel(n_jobs=16)]: Done  60 out of  60 | elapsed:    1.1s finished\n",
      "[Parallel(n_jobs=16)]: Using backend LokyBackend with 16 concurrent workers.\n",
      "[Parallel(n_jobs=16)]: Done  29 out of  60 | elapsed:    0.8s remaining:    0.8s\n",
      "[Parallel(n_jobs=16)]: Done  60 out of  60 | elapsed:    1.2s finished\n",
      "[Parallel(n_jobs=16)]: Using backend LokyBackend with 16 concurrent workers.\n",
      "[Parallel(n_jobs=16)]: Done  29 out of  60 | elapsed:    0.8s remaining:    0.9s\n",
      "[Parallel(n_jobs=16)]: Done  60 out of  60 | elapsed:    1.2s finished\n",
      "[Parallel(n_jobs=16)]: Using backend LokyBackend with 16 concurrent workers.\n"
     ]
    },
    {
     "name": "stderr",
     "output_type": "stream",
     "text": [
      "[Parallel(n_jobs=16)]: Done  29 out of  60 | elapsed:    0.9s remaining:    0.9s\n",
      "[Parallel(n_jobs=16)]: Done  60 out of  60 | elapsed:    1.3s finished\n",
      "[Parallel(n_jobs=16)]: Using backend LokyBackend with 16 concurrent workers.\n",
      "[Parallel(n_jobs=16)]: Done  29 out of  60 | elapsed:    1.0s remaining:    1.1s\n",
      "[Parallel(n_jobs=16)]: Done  60 out of  60 | elapsed:    1.6s finished\n",
      "[Parallel(n_jobs=16)]: Using backend LokyBackend with 16 concurrent workers.\n",
      "[Parallel(n_jobs=16)]: Done  29 out of  60 | elapsed:    1.0s remaining:    1.0s\n",
      "[Parallel(n_jobs=16)]: Done  60 out of  60 | elapsed:    1.4s finished\n",
      "[Parallel(n_jobs=16)]: Using backend LokyBackend with 16 concurrent workers.\n",
      "[Parallel(n_jobs=16)]: Done  29 out of  60 | elapsed:    1.0s remaining:    1.1s\n",
      "[Parallel(n_jobs=16)]: Done  60 out of  60 | elapsed:    1.4s finished\n",
      "[Parallel(n_jobs=16)]: Using backend LokyBackend with 16 concurrent workers.\n",
      "[Parallel(n_jobs=16)]: Done  29 out of  60 | elapsed:    0.9s remaining:    1.0s\n",
      "[Parallel(n_jobs=16)]: Done  60 out of  60 | elapsed:    1.4s finished\n",
      "[Parallel(n_jobs=16)]: Using backend LokyBackend with 16 concurrent workers.\n",
      "[Parallel(n_jobs=16)]: Done  29 out of  60 | elapsed:    1.1s remaining:    1.1s\n",
      "[Parallel(n_jobs=16)]: Done  60 out of  60 | elapsed:    1.5s finished\n",
      "[Parallel(n_jobs=16)]: Using backend LokyBackend with 16 concurrent workers.\n",
      "[Parallel(n_jobs=16)]: Done  29 out of  60 | elapsed:    1.0s remaining:    1.1s\n",
      "[Parallel(n_jobs=16)]: Done  60 out of  60 | elapsed:    1.5s finished\n",
      "[Parallel(n_jobs=16)]: Using backend LokyBackend with 16 concurrent workers.\n",
      "[Parallel(n_jobs=16)]: Done  29 out of  60 | elapsed:    1.0s remaining:    1.1s\n",
      "[Parallel(n_jobs=16)]: Done  60 out of  60 | elapsed:    1.4s finished\n",
      "[Parallel(n_jobs=16)]: Using backend LokyBackend with 16 concurrent workers.\n",
      "[Parallel(n_jobs=16)]: Done  29 out of  60 | elapsed:    0.9s remaining:    1.0s\n",
      "[Parallel(n_jobs=16)]: Done  60 out of  60 | elapsed:    1.4s finished\n",
      "[Parallel(n_jobs=16)]: Using backend LokyBackend with 16 concurrent workers.\n",
      "[Parallel(n_jobs=16)]: Done  29 out of  60 | elapsed:    0.9s remaining:    0.9s\n",
      "[Parallel(n_jobs=16)]: Done  60 out of  60 | elapsed:    1.4s finished\n",
      "[Parallel(n_jobs=16)]: Using backend LokyBackend with 16 concurrent workers.\n",
      "[Parallel(n_jobs=16)]: Done  29 out of  60 | elapsed:    0.9s remaining:    0.9s\n",
      "[Parallel(n_jobs=16)]: Done  60 out of  60 | elapsed:    1.4s finished\n",
      "[Parallel(n_jobs=16)]: Using backend LokyBackend with 16 concurrent workers.\n",
      "[Parallel(n_jobs=16)]: Done  29 out of  60 | elapsed:    1.1s remaining:    1.1s\n",
      "[Parallel(n_jobs=16)]: Done  60 out of  60 | elapsed:    1.5s finished\n",
      "[Parallel(n_jobs=16)]: Using backend LokyBackend with 16 concurrent workers.\n",
      "[Parallel(n_jobs=16)]: Done  29 out of  60 | elapsed:    1.0s remaining:    1.0s\n",
      "[Parallel(n_jobs=16)]: Done  60 out of  60 | elapsed:    1.5s finished\n",
      "[Parallel(n_jobs=16)]: Using backend LokyBackend with 16 concurrent workers.\n",
      "[Parallel(n_jobs=16)]: Done  29 out of  60 | elapsed:    1.0s remaining:    1.1s\n",
      "[Parallel(n_jobs=16)]: Done  60 out of  60 | elapsed:    1.7s finished\n",
      "[Parallel(n_jobs=16)]: Using backend LokyBackend with 16 concurrent workers.\n",
      "[Parallel(n_jobs=16)]: Done  29 out of  60 | elapsed:    0.9s remaining:    1.0s\n",
      "[Parallel(n_jobs=16)]: Done  60 out of  60 | elapsed:    1.5s finished\n",
      "[Parallel(n_jobs=16)]: Using backend LokyBackend with 16 concurrent workers.\n",
      "[Parallel(n_jobs=16)]: Done  29 out of  60 | elapsed:    1.0s remaining:    1.0s\n",
      "[Parallel(n_jobs=16)]: Done  60 out of  60 | elapsed:    1.6s finished\n",
      "[Parallel(n_jobs=16)]: Using backend LokyBackend with 16 concurrent workers.\n",
      "[Parallel(n_jobs=16)]: Done  29 out of  60 | elapsed:    1.0s remaining:    1.1s\n",
      "[Parallel(n_jobs=16)]: Done  60 out of  60 | elapsed:    1.5s finished\n",
      "[Parallel(n_jobs=16)]: Using backend LokyBackend with 16 concurrent workers.\n",
      "[Parallel(n_jobs=16)]: Done  29 out of  60 | elapsed:    1.1s remaining:    1.2s\n",
      "[Parallel(n_jobs=16)]: Done  60 out of  60 | elapsed:    1.6s finished\n",
      "[Parallel(n_jobs=16)]: Using backend LokyBackend with 16 concurrent workers.\n",
      "[Parallel(n_jobs=16)]: Done  29 out of  60 | elapsed:    1.0s remaining:    1.1s\n",
      "[Parallel(n_jobs=16)]: Done  60 out of  60 | elapsed:    1.6s finished\n",
      "[Parallel(n_jobs=16)]: Using backend LokyBackend with 16 concurrent workers.\n",
      "[Parallel(n_jobs=16)]: Done  29 out of  60 | elapsed:    1.0s remaining:    1.1s\n",
      "[Parallel(n_jobs=16)]: Done  60 out of  60 | elapsed:    1.7s finished\n",
      "[Parallel(n_jobs=16)]: Using backend LokyBackend with 16 concurrent workers.\n",
      "[Parallel(n_jobs=16)]: Done  29 out of  60 | elapsed:    1.0s remaining:    1.1s\n",
      "[Parallel(n_jobs=16)]: Done  60 out of  60 | elapsed:    1.7s finished\n",
      "[Parallel(n_jobs=16)]: Using backend LokyBackend with 16 concurrent workers.\n",
      "[Parallel(n_jobs=16)]: Done  29 out of  60 | elapsed:    1.0s remaining:    1.1s\n",
      "[Parallel(n_jobs=16)]: Done  60 out of  60 | elapsed:    1.8s finished\n",
      "[Parallel(n_jobs=16)]: Using backend LokyBackend with 16 concurrent workers.\n",
      "[Parallel(n_jobs=16)]: Done  18 tasks      | elapsed:    0.6s\n",
      "[Parallel(n_jobs=16)]: Done  60 out of  60 | elapsed:    2.2s finished\n",
      "[Parallel(n_jobs=16)]: Using backend LokyBackend with 16 concurrent workers.\n",
      "[Parallel(n_jobs=16)]: Done  29 out of  60 | elapsed:    1.1s remaining:    1.2s\n",
      "[Parallel(n_jobs=16)]: Done  60 out of  60 | elapsed:    1.9s finished\n",
      "[Parallel(n_jobs=16)]: Using backend LokyBackend with 16 concurrent workers.\n",
      "[Parallel(n_jobs=16)]: Done  29 out of  60 | elapsed:    1.1s remaining:    1.2s\n",
      "[Parallel(n_jobs=16)]: Done  60 out of  60 | elapsed:    1.9s finished\n"
     ]
    },
    {
     "name": "stdout",
     "output_type": "stream",
     "text": [
      "Number of labels 1\n",
      "Build repo time: 0.463 Size: (36570, 512)\n"
     ]
    },
    {
     "name": "stderr",
     "output_type": "stream",
     "text": [
      "[Parallel(n_jobs=16)]: Using backend LokyBackend with 16 concurrent workers.\n",
      "[Parallel(n_jobs=16)]: Done  32 out of  32 | elapsed:    1.0s finished\n",
      "[Parallel(n_jobs=16)]: Using backend LokyBackend with 16 concurrent workers.\n",
      "[Parallel(n_jobs=16)]: Done  32 out of  32 | elapsed:    0.4s finished\n",
      "[Parallel(n_jobs=16)]: Using backend LokyBackend with 16 concurrent workers.\n",
      "[Parallel(n_jobs=16)]: Done  32 out of  32 | elapsed:    0.5s finished\n",
      "[Parallel(n_jobs=16)]: Using backend LokyBackend with 16 concurrent workers.\n",
      "[Parallel(n_jobs=16)]: Done  32 out of  32 | elapsed:    0.4s finished\n",
      "[Parallel(n_jobs=16)]: Using backend LokyBackend with 16 concurrent workers.\n",
      "[Parallel(n_jobs=16)]: Done  32 out of  32 | elapsed:    0.4s finished\n",
      "[Parallel(n_jobs=16)]: Using backend LokyBackend with 16 concurrent workers.\n",
      "[Parallel(n_jobs=16)]: Done  32 out of  32 | elapsed:    0.3s finished\n",
      "[Parallel(n_jobs=16)]: Using backend LokyBackend with 16 concurrent workers.\n",
      "[Parallel(n_jobs=16)]: Done  32 out of  32 | elapsed:    0.5s finished\n",
      "[Parallel(n_jobs=16)]: Using backend LokyBackend with 16 concurrent workers.\n",
      "[Parallel(n_jobs=16)]: Done  32 out of  32 | elapsed:    0.5s finished\n",
      "[Parallel(n_jobs=16)]: Using backend LokyBackend with 16 concurrent workers.\n",
      "[Parallel(n_jobs=16)]: Done  32 out of  32 | elapsed:    0.3s finished\n",
      "[Parallel(n_jobs=16)]: Using backend LokyBackend with 16 concurrent workers.\n",
      "[Parallel(n_jobs=16)]: Done  32 out of  32 | elapsed:    0.5s finished\n",
      "[Parallel(n_jobs=16)]: Using backend LokyBackend with 16 concurrent workers.\n",
      "[Parallel(n_jobs=16)]: Done  32 out of  32 | elapsed:    0.5s finished\n",
      "[Parallel(n_jobs=16)]: Using backend LokyBackend with 16 concurrent workers.\n",
      "[Parallel(n_jobs=16)]: Done  32 out of  32 | elapsed:    0.6s finished\n",
      "[Parallel(n_jobs=16)]: Using backend LokyBackend with 16 concurrent workers.\n",
      "[Parallel(n_jobs=16)]: Done  32 out of  32 | elapsed:    0.6s finished\n",
      "[Parallel(n_jobs=16)]: Using backend LokyBackend with 16 concurrent workers.\n",
      "[Parallel(n_jobs=16)]: Done  32 out of  32 | elapsed:    0.5s finished\n",
      "[Parallel(n_jobs=16)]: Using backend LokyBackend with 16 concurrent workers.\n",
      "[Parallel(n_jobs=16)]: Done  32 out of  32 | elapsed:    0.5s finished\n",
      "[Parallel(n_jobs=16)]: Using backend LokyBackend with 16 concurrent workers.\n",
      "[Parallel(n_jobs=16)]: Done  32 out of  32 | elapsed:    0.5s finished\n",
      "[Parallel(n_jobs=16)]: Using backend LokyBackend with 16 concurrent workers.\n",
      "[Parallel(n_jobs=16)]: Done  32 out of  32 | elapsed:    0.5s finished\n",
      "[Parallel(n_jobs=16)]: Using backend LokyBackend with 16 concurrent workers.\n",
      "[Parallel(n_jobs=16)]: Done  32 out of  32 | elapsed:    0.5s finished\n",
      "[Parallel(n_jobs=16)]: Using backend LokyBackend with 16 concurrent workers.\n",
      "[Parallel(n_jobs=16)]: Done  32 out of  32 | elapsed:    0.5s finished\n",
      "[Parallel(n_jobs=16)]: Using backend LokyBackend with 16 concurrent workers.\n",
      "[Parallel(n_jobs=16)]: Done  32 out of  32 | elapsed:    0.6s finished\n",
      "[Parallel(n_jobs=16)]: Using backend LokyBackend with 16 concurrent workers.\n",
      "[Parallel(n_jobs=16)]: Done  32 out of  32 | elapsed:    0.5s finished\n",
      "[Parallel(n_jobs=16)]: Using backend LokyBackend with 16 concurrent workers.\n",
      "[Parallel(n_jobs=16)]: Done  32 out of  32 | elapsed:    0.6s finished\n",
      "[Parallel(n_jobs=16)]: Using backend LokyBackend with 16 concurrent workers.\n",
      "[Parallel(n_jobs=16)]: Done  32 out of  32 | elapsed:    0.5s finished\n",
      "[Parallel(n_jobs=16)]: Using backend LokyBackend with 16 concurrent workers.\n",
      "[Parallel(n_jobs=16)]: Done  32 out of  32 | elapsed:    0.6s finished\n",
      "[Parallel(n_jobs=16)]: Using backend LokyBackend with 16 concurrent workers.\n",
      "[Parallel(n_jobs=16)]: Done  32 out of  32 | elapsed:    0.6s finished\n",
      "[Parallel(n_jobs=16)]: Using backend LokyBackend with 16 concurrent workers.\n",
      "[Parallel(n_jobs=16)]: Done  32 out of  32 | elapsed:    0.4s finished\n",
      "[Parallel(n_jobs=16)]: Using backend LokyBackend with 16 concurrent workers.\n",
      "[Parallel(n_jobs=16)]: Done  32 out of  32 | elapsed:    0.7s finished\n",
      "[Parallel(n_jobs=16)]: Using backend LokyBackend with 16 concurrent workers.\n",
      "[Parallel(n_jobs=16)]: Done  32 out of  32 | elapsed:    0.7s finished\n",
      "[Parallel(n_jobs=16)]: Using backend LokyBackend with 16 concurrent workers.\n",
      "[Parallel(n_jobs=16)]: Done  32 out of  32 | elapsed:    0.7s finished\n",
      "[Parallel(n_jobs=16)]: Using backend LokyBackend with 16 concurrent workers.\n",
      "[Parallel(n_jobs=16)]: Done  32 out of  32 | elapsed:    0.7s finished\n",
      "[Parallel(n_jobs=16)]: Using backend LokyBackend with 16 concurrent workers.\n",
      "[Parallel(n_jobs=16)]: Done  32 out of  32 | elapsed:    0.7s finished\n",
      "[Parallel(n_jobs=16)]: Using backend LokyBackend with 16 concurrent workers.\n",
      "[Parallel(n_jobs=16)]: Done  32 out of  32 | elapsed:    0.8s finished\n",
      "[Parallel(n_jobs=16)]: Using backend LokyBackend with 16 concurrent workers.\n",
      "[Parallel(n_jobs=16)]: Done  32 out of  32 | elapsed:    1.0s finished\n",
      "[Parallel(n_jobs=16)]: Using backend LokyBackend with 16 concurrent workers.\n",
      "[Parallel(n_jobs=16)]: Done  32 out of  32 | elapsed:    0.9s finished\n",
      "[Parallel(n_jobs=16)]: Using backend LokyBackend with 16 concurrent workers.\n",
      "[Parallel(n_jobs=16)]: Done  32 out of  32 | elapsed:    0.9s finished\n",
      "[Parallel(n_jobs=16)]: Using backend LokyBackend with 16 concurrent workers.\n",
      "[Parallel(n_jobs=16)]: Done  32 out of  32 | elapsed:    1.1s finished\n",
      "[Parallel(n_jobs=16)]: Using backend LokyBackend with 16 concurrent workers.\n",
      "[Parallel(n_jobs=16)]: Done  32 out of  32 | elapsed:    1.1s finished\n",
      "[Parallel(n_jobs=16)]: Using backend LokyBackend with 16 concurrent workers.\n",
      "[Parallel(n_jobs=16)]: Done  32 out of  32 | elapsed:    1.1s finished\n",
      "[Parallel(n_jobs=16)]: Using backend LokyBackend with 16 concurrent workers.\n",
      "[Parallel(n_jobs=16)]: Done  32 out of  32 | elapsed:    1.1s finished\n",
      "[Parallel(n_jobs=16)]: Using backend LokyBackend with 16 concurrent workers.\n",
      "[Parallel(n_jobs=16)]: Done  32 out of  32 | elapsed:    1.1s finished\n",
      "[Parallel(n_jobs=16)]: Using backend LokyBackend with 16 concurrent workers.\n",
      "[Parallel(n_jobs=16)]: Done  32 out of  32 | elapsed:    0.6s finished\n",
      "[Parallel(n_jobs=16)]: Using backend LokyBackend with 16 concurrent workers.\n",
      "[Parallel(n_jobs=16)]: Done  32 out of  32 | elapsed:    1.2s finished\n",
      "[Parallel(n_jobs=16)]: Using backend LokyBackend with 16 concurrent workers.\n",
      "[Parallel(n_jobs=16)]: Done  32 out of  32 | elapsed:    0.5s finished\n",
      "[Parallel(n_jobs=16)]: Using backend LokyBackend with 16 concurrent workers.\n",
      "[Parallel(n_jobs=16)]: Done  32 out of  32 | elapsed:    1.1s finished\n",
      "[Parallel(n_jobs=16)]: Using backend LokyBackend with 16 concurrent workers.\n",
      "[Parallel(n_jobs=16)]: Done  32 out of  32 | elapsed:    1.0s finished\n",
      "[Parallel(n_jobs=16)]: Using backend LokyBackend with 16 concurrent workers.\n",
      "[Parallel(n_jobs=16)]: Done  32 out of  32 | elapsed:    1.1s finished\n",
      "[Parallel(n_jobs=16)]: Using backend LokyBackend with 16 concurrent workers.\n",
      "[Parallel(n_jobs=16)]: Done  32 out of  32 | elapsed:    1.0s finished\n",
      "[Parallel(n_jobs=16)]: Using backend LokyBackend with 16 concurrent workers.\n",
      "[Parallel(n_jobs=16)]: Done  32 out of  32 | elapsed:    1.1s finished\n",
      "[Parallel(n_jobs=16)]: Using backend LokyBackend with 16 concurrent workers.\n",
      "[Parallel(n_jobs=16)]: Done  32 out of  32 | elapsed:    1.1s finished\n",
      "[Parallel(n_jobs=16)]: Using backend LokyBackend with 16 concurrent workers.\n",
      "[Parallel(n_jobs=16)]: Done  32 out of  32 | elapsed:    0.6s finished\n",
      "[Parallel(n_jobs=16)]: Using backend LokyBackend with 16 concurrent workers.\n",
      "[Parallel(n_jobs=16)]: Done  32 out of  32 | elapsed:    1.2s finished\n",
      "[Parallel(n_jobs=16)]: Using backend LokyBackend with 16 concurrent workers.\n",
      "[Parallel(n_jobs=16)]: Done  32 out of  32 | elapsed:    1.2s finished\n",
      "[Parallel(n_jobs=16)]: Using backend LokyBackend with 16 concurrent workers.\n",
      "[Parallel(n_jobs=16)]: Done  32 out of  32 | elapsed:    1.1s finished\n",
      "[Parallel(n_jobs=16)]: Using backend LokyBackend with 16 concurrent workers.\n",
      "[Parallel(n_jobs=16)]: Done  32 out of  32 | elapsed:    1.1s finished\n",
      "[Parallel(n_jobs=16)]: Using backend LokyBackend with 16 concurrent workers.\n",
      "[Parallel(n_jobs=16)]: Done  32 out of  32 | elapsed:    1.2s finished\n",
      "[Parallel(n_jobs=16)]: Using backend LokyBackend with 16 concurrent workers.\n"
     ]
    },
    {
     "name": "stderr",
     "output_type": "stream",
     "text": [
      "[Parallel(n_jobs=16)]: Done  32 out of  32 | elapsed:    1.2s finished\n",
      "[Parallel(n_jobs=16)]: Using backend LokyBackend with 16 concurrent workers.\n",
      "[Parallel(n_jobs=16)]: Done  32 out of  32 | elapsed:    1.3s finished\n",
      "[Parallel(n_jobs=16)]: Using backend LokyBackend with 16 concurrent workers.\n",
      "[Parallel(n_jobs=16)]: Done  32 out of  32 | elapsed:    1.2s finished\n",
      "[Parallel(n_jobs=16)]: Using backend LokyBackend with 16 concurrent workers.\n",
      "[Parallel(n_jobs=16)]: Done  32 out of  32 | elapsed:    1.3s finished\n",
      "[Parallel(n_jobs=16)]: Using backend LokyBackend with 16 concurrent workers.\n",
      "[Parallel(n_jobs=16)]: Done  32 out of  32 | elapsed:    1.2s finished\n",
      "[Parallel(n_jobs=16)]: Using backend LokyBackend with 16 concurrent workers.\n",
      "[Parallel(n_jobs=16)]: Done  32 out of  32 | elapsed:    1.3s finished\n"
     ]
    },
    {
     "name": "stdout",
     "output_type": "stream",
     "text": [
      "Number of labels 1\n",
      "Build repo time: 0.345 Size: (27665, 512)\n"
     ]
    },
    {
     "name": "stderr",
     "output_type": "stream",
     "text": [
      "[Parallel(n_jobs=16)]: Using backend LokyBackend with 16 concurrent workers.\n",
      "[Parallel(n_jobs=16)]: Done   6 out of  37 | elapsed:    0.1s remaining:    0.8s\n",
      "[Parallel(n_jobs=16)]: Done  37 out of  37 | elapsed:    1.0s finished\n",
      "[Parallel(n_jobs=16)]: Using backend LokyBackend with 16 concurrent workers.\n",
      "[Parallel(n_jobs=16)]: Done   6 out of  37 | elapsed:    0.1s remaining:    0.4s\n",
      "[Parallel(n_jobs=16)]: Done  37 out of  37 | elapsed:    0.3s finished\n",
      "[Parallel(n_jobs=16)]: Using backend LokyBackend with 16 concurrent workers.\n",
      "[Parallel(n_jobs=16)]: Done   6 out of  37 | elapsed:    0.1s remaining:    0.4s\n",
      "[Parallel(n_jobs=16)]: Done  37 out of  37 | elapsed:    0.3s finished\n",
      "[Parallel(n_jobs=16)]: Using backend LokyBackend with 16 concurrent workers.\n",
      "[Parallel(n_jobs=16)]: Done   6 out of  37 | elapsed:    0.1s remaining:    0.5s\n",
      "[Parallel(n_jobs=16)]: Done  37 out of  37 | elapsed:    0.4s finished\n",
      "[Parallel(n_jobs=16)]: Using backend LokyBackend with 16 concurrent workers.\n",
      "[Parallel(n_jobs=16)]: Done   6 out of  37 | elapsed:    0.0s remaining:    0.2s\n",
      "[Parallel(n_jobs=16)]: Done  37 out of  37 | elapsed:    0.4s finished\n",
      "[Parallel(n_jobs=16)]: Using backend LokyBackend with 16 concurrent workers.\n",
      "[Parallel(n_jobs=16)]: Done   6 out of  37 | elapsed:    0.1s remaining:    0.3s\n",
      "[Parallel(n_jobs=16)]: Done  37 out of  37 | elapsed:    0.4s finished\n",
      "[Parallel(n_jobs=16)]: Using backend LokyBackend with 16 concurrent workers.\n",
      "[Parallel(n_jobs=16)]: Done   6 out of  37 | elapsed:    0.1s remaining:    0.3s\n",
      "[Parallel(n_jobs=16)]: Done  37 out of  37 | elapsed:    0.5s finished\n",
      "[Parallel(n_jobs=16)]: Using backend LokyBackend with 16 concurrent workers.\n",
      "[Parallel(n_jobs=16)]: Done   6 out of  37 | elapsed:    0.1s remaining:    0.3s\n",
      "[Parallel(n_jobs=16)]: Done  37 out of  37 | elapsed:    0.5s finished\n",
      "[Parallel(n_jobs=16)]: Using backend LokyBackend with 16 concurrent workers.\n",
      "[Parallel(n_jobs=16)]: Done   6 out of  37 | elapsed:    0.1s remaining:    0.3s\n",
      "[Parallel(n_jobs=16)]: Done  37 out of  37 | elapsed:    0.4s finished\n",
      "[Parallel(n_jobs=16)]: Using backend LokyBackend with 16 concurrent workers.\n",
      "[Parallel(n_jobs=16)]: Done   6 out of  37 | elapsed:    0.1s remaining:    0.3s\n",
      "[Parallel(n_jobs=16)]: Done  37 out of  37 | elapsed:    0.4s finished\n",
      "[Parallel(n_jobs=16)]: Using backend LokyBackend with 16 concurrent workers.\n",
      "[Parallel(n_jobs=16)]: Done   6 out of  37 | elapsed:    0.0s remaining:    0.2s\n",
      "[Parallel(n_jobs=16)]: Done  37 out of  37 | elapsed:    0.5s finished\n",
      "[Parallel(n_jobs=16)]: Using backend LokyBackend with 16 concurrent workers.\n",
      "[Parallel(n_jobs=16)]: Done   6 out of  37 | elapsed:    0.1s remaining:    0.3s\n",
      "[Parallel(n_jobs=16)]: Done  37 out of  37 | elapsed:    0.5s finished\n",
      "[Parallel(n_jobs=16)]: Using backend LokyBackend with 16 concurrent workers.\n",
      "[Parallel(n_jobs=16)]: Done   6 out of  37 | elapsed:    0.1s remaining:    0.3s\n",
      "[Parallel(n_jobs=16)]: Done  37 out of  37 | elapsed:    0.5s finished\n",
      "[Parallel(n_jobs=16)]: Using backend LokyBackend with 16 concurrent workers.\n",
      "[Parallel(n_jobs=16)]: Done   6 out of  37 | elapsed:    0.1s remaining:    0.3s\n",
      "[Parallel(n_jobs=16)]: Done  37 out of  37 | elapsed:    0.5s finished\n",
      "[Parallel(n_jobs=16)]: Using backend LokyBackend with 16 concurrent workers.\n",
      "[Parallel(n_jobs=16)]: Done   6 out of  37 | elapsed:    0.1s remaining:    0.4s\n",
      "[Parallel(n_jobs=16)]: Done  37 out of  37 | elapsed:    0.5s finished\n",
      "[Parallel(n_jobs=16)]: Using backend LokyBackend with 16 concurrent workers.\n",
      "[Parallel(n_jobs=16)]: Done   6 out of  37 | elapsed:    0.1s remaining:    0.3s\n",
      "[Parallel(n_jobs=16)]: Done  37 out of  37 | elapsed:    0.6s finished\n",
      "[Parallel(n_jobs=16)]: Using backend LokyBackend with 16 concurrent workers.\n",
      "[Parallel(n_jobs=16)]: Done   6 out of  37 | elapsed:    0.1s remaining:    0.3s\n",
      "[Parallel(n_jobs=16)]: Done  37 out of  37 | elapsed:    0.5s finished\n",
      "[Parallel(n_jobs=16)]: Using backend LokyBackend with 16 concurrent workers.\n",
      "[Parallel(n_jobs=16)]: Done   6 out of  37 | elapsed:    0.1s remaining:    0.3s\n",
      "[Parallel(n_jobs=16)]: Done  37 out of  37 | elapsed:    0.5s finished\n",
      "[Parallel(n_jobs=16)]: Using backend LokyBackend with 16 concurrent workers.\n",
      "[Parallel(n_jobs=16)]: Done   6 out of  37 | elapsed:    0.1s remaining:    0.4s\n",
      "[Parallel(n_jobs=16)]: Done  37 out of  37 | elapsed:    0.5s finished\n",
      "[Parallel(n_jobs=16)]: Using backend LokyBackend with 16 concurrent workers.\n",
      "[Parallel(n_jobs=16)]: Done   6 out of  37 | elapsed:    0.1s remaining:    0.4s\n",
      "[Parallel(n_jobs=16)]: Done  37 out of  37 | elapsed:    0.5s finished\n",
      "[Parallel(n_jobs=16)]: Using backend LokyBackend with 16 concurrent workers.\n",
      "[Parallel(n_jobs=16)]: Done   6 out of  37 | elapsed:    0.1s remaining:    0.3s\n",
      "[Parallel(n_jobs=16)]: Done  37 out of  37 | elapsed:    0.5s finished\n",
      "[Parallel(n_jobs=16)]: Using backend LokyBackend with 16 concurrent workers.\n",
      "[Parallel(n_jobs=16)]: Done   6 out of  37 | elapsed:    0.1s remaining:    0.3s\n",
      "[Parallel(n_jobs=16)]: Done  37 out of  37 | elapsed:    0.5s finished\n",
      "[Parallel(n_jobs=16)]: Using backend LokyBackend with 16 concurrent workers.\n",
      "[Parallel(n_jobs=16)]: Done   6 out of  37 | elapsed:    0.1s remaining:    0.3s\n",
      "[Parallel(n_jobs=16)]: Done  37 out of  37 | elapsed:    0.6s finished\n",
      "[Parallel(n_jobs=16)]: Using backend LokyBackend with 16 concurrent workers.\n",
      "[Parallel(n_jobs=16)]: Done   6 out of  37 | elapsed:    0.1s remaining:    0.3s\n",
      "[Parallel(n_jobs=16)]: Done  37 out of  37 | elapsed:    0.5s finished\n",
      "[Parallel(n_jobs=16)]: Using backend LokyBackend with 16 concurrent workers.\n",
      "[Parallel(n_jobs=16)]: Done   6 out of  37 | elapsed:    0.1s remaining:    0.4s\n",
      "[Parallel(n_jobs=16)]: Done  37 out of  37 | elapsed:    0.5s finished\n",
      "[Parallel(n_jobs=16)]: Using backend LokyBackend with 16 concurrent workers.\n",
      "[Parallel(n_jobs=16)]: Done   6 out of  37 | elapsed:    0.2s remaining:    1.1s\n",
      "[Parallel(n_jobs=16)]: Done  37 out of  37 | elapsed:    0.8s finished\n",
      "[Parallel(n_jobs=16)]: Using backend LokyBackend with 16 concurrent workers.\n",
      "[Parallel(n_jobs=16)]: Done   6 out of  37 | elapsed:    0.1s remaining:    0.7s\n",
      "[Parallel(n_jobs=16)]: Done  37 out of  37 | elapsed:    0.7s finished\n",
      "[Parallel(n_jobs=16)]: Using backend LokyBackend with 16 concurrent workers.\n",
      "[Parallel(n_jobs=16)]: Done   6 out of  37 | elapsed:    0.1s remaining:    0.5s\n",
      "[Parallel(n_jobs=16)]: Done  37 out of  37 | elapsed:    0.8s finished\n",
      "[Parallel(n_jobs=16)]: Using backend LokyBackend with 16 concurrent workers.\n",
      "[Parallel(n_jobs=16)]: Done   6 out of  37 | elapsed:    0.1s remaining:    0.7s\n",
      "[Parallel(n_jobs=16)]: Done  37 out of  37 | elapsed:    0.8s finished\n",
      "[Parallel(n_jobs=16)]: Using backend LokyBackend with 16 concurrent workers.\n",
      "[Parallel(n_jobs=16)]: Done   6 out of  37 | elapsed:    0.1s remaining:    0.6s\n",
      "[Parallel(n_jobs=16)]: Done  37 out of  37 | elapsed:    0.9s finished\n",
      "[Parallel(n_jobs=16)]: Using backend LokyBackend with 16 concurrent workers.\n",
      "[Parallel(n_jobs=16)]: Done   6 out of  37 | elapsed:    0.1s remaining:    0.4s\n",
      "[Parallel(n_jobs=16)]: Done  37 out of  37 | elapsed:    0.8s finished\n",
      "[Parallel(n_jobs=16)]: Using backend LokyBackend with 16 concurrent workers.\n",
      "[Parallel(n_jobs=16)]: Done   6 out of  37 | elapsed:    0.1s remaining:    0.6s\n",
      "[Parallel(n_jobs=16)]: Done  37 out of  37 | elapsed:    0.7s finished\n",
      "[Parallel(n_jobs=16)]: Using backend LokyBackend with 16 concurrent workers.\n",
      "[Parallel(n_jobs=16)]: Done   6 out of  37 | elapsed:    0.1s remaining:    0.7s\n",
      "[Parallel(n_jobs=16)]: Done  37 out of  37 | elapsed:    1.0s finished\n",
      "[Parallel(n_jobs=16)]: Using backend LokyBackend with 16 concurrent workers.\n",
      "[Parallel(n_jobs=16)]: Done   6 out of  37 | elapsed:    0.1s remaining:    0.7s\n",
      "[Parallel(n_jobs=16)]: Done  37 out of  37 | elapsed:    1.0s finished\n",
      "[Parallel(n_jobs=16)]: Using backend LokyBackend with 16 concurrent workers.\n",
      "[Parallel(n_jobs=16)]: Done   6 out of  37 | elapsed:    0.1s remaining:    0.7s\n",
      "[Parallel(n_jobs=16)]: Done  37 out of  37 | elapsed:    1.1s finished\n",
      "[Parallel(n_jobs=16)]: Using backend LokyBackend with 16 concurrent workers.\n",
      "[Parallel(n_jobs=16)]: Done   6 out of  37 | elapsed:    0.1s remaining:    0.6s\n",
      "[Parallel(n_jobs=16)]: Done  37 out of  37 | elapsed:    1.0s finished\n",
      "[Parallel(n_jobs=16)]: Using backend LokyBackend with 16 concurrent workers.\n"
     ]
    },
    {
     "name": "stderr",
     "output_type": "stream",
     "text": [
      "[Parallel(n_jobs=16)]: Done   6 out of  37 | elapsed:    0.2s remaining:    0.9s\n",
      "[Parallel(n_jobs=16)]: Done  37 out of  37 | elapsed:    1.2s finished\n",
      "[Parallel(n_jobs=16)]: Using backend LokyBackend with 16 concurrent workers.\n",
      "[Parallel(n_jobs=16)]: Done   6 out of  37 | elapsed:    0.2s remaining:    1.1s\n",
      "[Parallel(n_jobs=16)]: Done  37 out of  37 | elapsed:    0.8s finished\n",
      "[Parallel(n_jobs=16)]: Using backend LokyBackend with 16 concurrent workers.\n",
      "[Parallel(n_jobs=16)]: Done   6 out of  37 | elapsed:    0.2s remaining:    0.8s\n",
      "[Parallel(n_jobs=16)]: Done  37 out of  37 | elapsed:    1.2s finished\n",
      "[Parallel(n_jobs=16)]: Using backend LokyBackend with 16 concurrent workers.\n",
      "[Parallel(n_jobs=16)]: Done   6 out of  37 | elapsed:    0.2s remaining:    0.9s\n",
      "[Parallel(n_jobs=16)]: Done  37 out of  37 | elapsed:    1.3s finished\n",
      "[Parallel(n_jobs=16)]: Using backend LokyBackend with 16 concurrent workers.\n",
      "[Parallel(n_jobs=16)]: Done   6 out of  37 | elapsed:    0.2s remaining:    1.0s\n",
      "[Parallel(n_jobs=16)]: Done  37 out of  37 | elapsed:    1.2s finished\n",
      "[Parallel(n_jobs=16)]: Using backend LokyBackend with 16 concurrent workers.\n",
      "[Parallel(n_jobs=16)]: Done   6 out of  37 | elapsed:    0.2s remaining:    1.0s\n",
      "[Parallel(n_jobs=16)]: Done  37 out of  37 | elapsed:    0.6s finished\n",
      "[Parallel(n_jobs=16)]: Using backend LokyBackend with 16 concurrent workers.\n",
      "[Parallel(n_jobs=16)]: Done   6 out of  37 | elapsed:    0.2s remaining:    0.8s\n",
      "[Parallel(n_jobs=16)]: Done  37 out of  37 | elapsed:    1.3s finished\n",
      "[Parallel(n_jobs=16)]: Using backend LokyBackend with 16 concurrent workers.\n",
      "[Parallel(n_jobs=16)]: Done   6 out of  37 | elapsed:    0.2s remaining:    1.2s\n",
      "[Parallel(n_jobs=16)]: Done  37 out of  37 | elapsed:    1.2s finished\n",
      "[Parallel(n_jobs=16)]: Using backend LokyBackend with 16 concurrent workers.\n",
      "[Parallel(n_jobs=16)]: Done   6 out of  37 | elapsed:    0.2s remaining:    1.0s\n",
      "[Parallel(n_jobs=16)]: Done  37 out of  37 | elapsed:    1.2s finished\n",
      "[Parallel(n_jobs=16)]: Using backend LokyBackend with 16 concurrent workers.\n",
      "[Parallel(n_jobs=16)]: Done   6 out of  37 | elapsed:    0.3s remaining:    1.3s\n",
      "[Parallel(n_jobs=16)]: Done  37 out of  37 | elapsed:    1.3s finished\n",
      "[Parallel(n_jobs=16)]: Using backend LokyBackend with 16 concurrent workers.\n",
      "[Parallel(n_jobs=16)]: Done   6 out of  37 | elapsed:    0.1s remaining:    0.8s\n",
      "[Parallel(n_jobs=16)]: Done  37 out of  37 | elapsed:    1.2s finished\n",
      "[Parallel(n_jobs=16)]: Using backend LokyBackend with 16 concurrent workers.\n",
      "[Parallel(n_jobs=16)]: Done   6 out of  37 | elapsed:    0.2s remaining:    1.1s\n",
      "[Parallel(n_jobs=16)]: Done  37 out of  37 | elapsed:    1.3s finished\n",
      "[Parallel(n_jobs=16)]: Using backend LokyBackend with 16 concurrent workers.\n",
      "[Parallel(n_jobs=16)]: Done   6 out of  37 | elapsed:    0.2s remaining:    0.9s\n",
      "[Parallel(n_jobs=16)]: Done  37 out of  37 | elapsed:    1.3s finished\n",
      "[Parallel(n_jobs=16)]: Using backend LokyBackend with 16 concurrent workers.\n",
      "[Parallel(n_jobs=16)]: Done   6 out of  37 | elapsed:    0.2s remaining:    1.2s\n",
      "[Parallel(n_jobs=16)]: Done  37 out of  37 | elapsed:    1.2s finished\n",
      "[Parallel(n_jobs=16)]: Using backend LokyBackend with 16 concurrent workers.\n",
      "[Parallel(n_jobs=16)]: Done   6 out of  37 | elapsed:    0.2s remaining:    1.0s\n",
      "[Parallel(n_jobs=16)]: Done  37 out of  37 | elapsed:    1.3s finished\n",
      "[Parallel(n_jobs=16)]: Using backend LokyBackend with 16 concurrent workers.\n",
      "[Parallel(n_jobs=16)]: Done   6 out of  37 | elapsed:    0.2s remaining:    0.8s\n",
      "[Parallel(n_jobs=16)]: Done  37 out of  37 | elapsed:    1.2s finished\n",
      "[Parallel(n_jobs=16)]: Using backend LokyBackend with 16 concurrent workers.\n",
      "[Parallel(n_jobs=16)]: Done   6 out of  37 | elapsed:    0.2s remaining:    1.0s\n",
      "[Parallel(n_jobs=16)]: Done  37 out of  37 | elapsed:    1.3s finished\n",
      "[Parallel(n_jobs=16)]: Using backend LokyBackend with 16 concurrent workers.\n",
      "[Parallel(n_jobs=16)]: Done   6 out of  37 | elapsed:    0.2s remaining:    1.1s\n",
      "[Parallel(n_jobs=16)]: Done  37 out of  37 | elapsed:    1.4s finished\n",
      "[Parallel(n_jobs=16)]: Using backend LokyBackend with 16 concurrent workers.\n",
      "[Parallel(n_jobs=16)]: Done   6 out of  37 | elapsed:    0.2s remaining:    0.9s\n",
      "[Parallel(n_jobs=16)]: Done  37 out of  37 | elapsed:    1.4s finished\n",
      "[Parallel(n_jobs=16)]: Using backend LokyBackend with 16 concurrent workers.\n",
      "[Parallel(n_jobs=16)]: Done   6 out of  37 | elapsed:    0.2s remaining:    1.0s\n",
      "[Parallel(n_jobs=16)]: Done  37 out of  37 | elapsed:    1.3s finished\n",
      "[Parallel(n_jobs=16)]: Using backend LokyBackend with 16 concurrent workers.\n",
      "[Parallel(n_jobs=16)]: Done   6 out of  37 | elapsed:    0.2s remaining:    1.2s\n",
      "[Parallel(n_jobs=16)]: Done  37 out of  37 | elapsed:    1.3s finished\n",
      "[Parallel(n_jobs=16)]: Using backend LokyBackend with 16 concurrent workers.\n",
      "[Parallel(n_jobs=16)]: Done   6 out of  37 | elapsed:    0.2s remaining:    1.3s\n",
      "[Parallel(n_jobs=16)]: Done  37 out of  37 | elapsed:    1.4s finished\n",
      "[Parallel(n_jobs=16)]: Using backend LokyBackend with 16 concurrent workers.\n",
      "[Parallel(n_jobs=16)]: Done   6 out of  37 | elapsed:    0.2s remaining:    1.3s\n",
      "[Parallel(n_jobs=16)]: Done  37 out of  37 | elapsed:    1.4s finished\n",
      "[Parallel(n_jobs=16)]: Using backend LokyBackend with 16 concurrent workers.\n",
      "[Parallel(n_jobs=16)]: Done   6 out of  37 | elapsed:    0.3s remaining:    1.6s\n",
      "[Parallel(n_jobs=16)]: Done  37 out of  37 | elapsed:    1.5s finished\n",
      "[Parallel(n_jobs=16)]: Using backend LokyBackend with 16 concurrent workers.\n",
      "[Parallel(n_jobs=16)]: Done   6 out of  37 | elapsed:    0.2s remaining:    1.2s\n",
      "[Parallel(n_jobs=16)]: Done  37 out of  37 | elapsed:    1.4s finished\n"
     ]
    },
    {
     "name": "stdout",
     "output_type": "stream",
     "text": [
      "Number of labels 1\n",
      "Build repo time: 0.380 Size: (30391, 512)\n"
     ]
    },
    {
     "name": "stderr",
     "output_type": "stream",
     "text": [
      "[Parallel(n_jobs=16)]: Using backend LokyBackend with 16 concurrent workers.\n",
      "[Parallel(n_jobs=16)]: Done  15 out of  46 | elapsed:    0.4s remaining:    0.8s\n",
      "[Parallel(n_jobs=16)]: Done  46 out of  46 | elapsed:    1.1s finished\n",
      "[Parallel(n_jobs=16)]: Using backend LokyBackend with 16 concurrent workers.\n",
      "[Parallel(n_jobs=16)]: Done  46 out of  46 | elapsed:    0.3s finished\n",
      "[Parallel(n_jobs=16)]: Using backend LokyBackend with 16 concurrent workers.\n",
      "[Parallel(n_jobs=16)]: Done  15 out of  46 | elapsed:    0.1s remaining:    0.2s\n",
      "[Parallel(n_jobs=16)]: Done  46 out of  46 | elapsed:    0.4s finished\n",
      "[Parallel(n_jobs=16)]: Using backend LokyBackend with 16 concurrent workers.\n",
      "[Parallel(n_jobs=16)]: Done  15 out of  46 | elapsed:    0.1s remaining:    0.2s\n",
      "[Parallel(n_jobs=16)]: Done  46 out of  46 | elapsed:    0.5s finished\n",
      "[Parallel(n_jobs=16)]: Using backend LokyBackend with 16 concurrent workers.\n",
      "[Parallel(n_jobs=16)]: Done  15 out of  46 | elapsed:    0.1s remaining:    0.2s\n",
      "[Parallel(n_jobs=16)]: Done  46 out of  46 | elapsed:    0.4s finished\n",
      "[Parallel(n_jobs=16)]: Using backend LokyBackend with 16 concurrent workers.\n",
      "[Parallel(n_jobs=16)]: Done  15 out of  46 | elapsed:    0.1s remaining:    0.2s\n",
      "[Parallel(n_jobs=16)]: Done  46 out of  46 | elapsed:    0.5s finished\n",
      "[Parallel(n_jobs=16)]: Using backend LokyBackend with 16 concurrent workers.\n",
      "[Parallel(n_jobs=16)]: Done  15 out of  46 | elapsed:    0.1s remaining:    0.2s\n",
      "[Parallel(n_jobs=16)]: Done  46 out of  46 | elapsed:    0.4s finished\n",
      "[Parallel(n_jobs=16)]: Using backend LokyBackend with 16 concurrent workers.\n",
      "[Parallel(n_jobs=16)]: Done  15 out of  46 | elapsed:    0.1s remaining:    0.2s\n",
      "[Parallel(n_jobs=16)]: Done  46 out of  46 | elapsed:    0.5s finished\n",
      "[Parallel(n_jobs=16)]: Using backend LokyBackend with 16 concurrent workers.\n",
      "[Parallel(n_jobs=16)]: Done  15 out of  46 | elapsed:    0.1s remaining:    0.3s\n",
      "[Parallel(n_jobs=16)]: Done  46 out of  46 | elapsed:    0.5s finished\n",
      "[Parallel(n_jobs=16)]: Using backend LokyBackend with 16 concurrent workers.\n",
      "[Parallel(n_jobs=16)]: Done  15 out of  46 | elapsed:    0.2s remaining:    0.3s\n",
      "[Parallel(n_jobs=16)]: Done  46 out of  46 | elapsed:    0.5s finished\n",
      "[Parallel(n_jobs=16)]: Using backend LokyBackend with 16 concurrent workers.\n",
      "[Parallel(n_jobs=16)]: Done  15 out of  46 | elapsed:    0.1s remaining:    0.2s\n",
      "[Parallel(n_jobs=16)]: Done  46 out of  46 | elapsed:    0.5s finished\n",
      "[Parallel(n_jobs=16)]: Using backend LokyBackend with 16 concurrent workers.\n",
      "[Parallel(n_jobs=16)]: Done  15 out of  46 | elapsed:    0.1s remaining:    0.3s\n",
      "[Parallel(n_jobs=16)]: Done  46 out of  46 | elapsed:    0.5s finished\n",
      "[Parallel(n_jobs=16)]: Using backend LokyBackend with 16 concurrent workers.\n",
      "[Parallel(n_jobs=16)]: Done  15 out of  46 | elapsed:    0.1s remaining:    0.3s\n",
      "[Parallel(n_jobs=16)]: Done  46 out of  46 | elapsed:    0.5s finished\n",
      "[Parallel(n_jobs=16)]: Using backend LokyBackend with 16 concurrent workers.\n",
      "[Parallel(n_jobs=16)]: Done  15 out of  46 | elapsed:    0.1s remaining:    0.3s\n",
      "[Parallel(n_jobs=16)]: Done  46 out of  46 | elapsed:    0.6s finished\n",
      "[Parallel(n_jobs=16)]: Using backend LokyBackend with 16 concurrent workers.\n",
      "[Parallel(n_jobs=16)]: Done  15 out of  46 | elapsed:    0.2s remaining:    0.4s\n",
      "[Parallel(n_jobs=16)]: Done  46 out of  46 | elapsed:    0.5s finished\n",
      "[Parallel(n_jobs=16)]: Using backend LokyBackend with 16 concurrent workers.\n",
      "[Parallel(n_jobs=16)]: Done  15 out of  46 | elapsed:    0.2s remaining:    0.4s\n",
      "[Parallel(n_jobs=16)]: Done  46 out of  46 | elapsed:    0.5s finished\n",
      "[Parallel(n_jobs=16)]: Using backend LokyBackend with 16 concurrent workers.\n",
      "[Parallel(n_jobs=16)]: Done  15 out of  46 | elapsed:    0.1s remaining:    0.3s\n",
      "[Parallel(n_jobs=16)]: Done  46 out of  46 | elapsed:    0.5s finished\n",
      "[Parallel(n_jobs=16)]: Using backend LokyBackend with 16 concurrent workers.\n",
      "[Parallel(n_jobs=16)]: Done  15 out of  46 | elapsed:    0.1s remaining:    0.3s\n",
      "[Parallel(n_jobs=16)]: Done  46 out of  46 | elapsed:    0.5s finished\n",
      "[Parallel(n_jobs=16)]: Using backend LokyBackend with 16 concurrent workers.\n",
      "[Parallel(n_jobs=16)]: Done  15 out of  46 | elapsed:    0.2s remaining:    0.4s\n",
      "[Parallel(n_jobs=16)]: Done  46 out of  46 | elapsed:    0.6s finished\n",
      "[Parallel(n_jobs=16)]: Using backend LokyBackend with 16 concurrent workers.\n",
      "[Parallel(n_jobs=16)]: Done  15 out of  46 | elapsed:    0.2s remaining:    0.4s\n",
      "[Parallel(n_jobs=16)]: Done  46 out of  46 | elapsed:    0.6s finished\n",
      "[Parallel(n_jobs=16)]: Using backend LokyBackend with 16 concurrent workers.\n",
      "[Parallel(n_jobs=16)]: Done  15 out of  46 | elapsed:    0.2s remaining:    0.5s\n",
      "[Parallel(n_jobs=16)]: Done  46 out of  46 | elapsed:    0.6s finished\n",
      "[Parallel(n_jobs=16)]: Using backend LokyBackend with 16 concurrent workers.\n",
      "[Parallel(n_jobs=16)]: Done  15 out of  46 | elapsed:    0.2s remaining:    0.4s\n",
      "[Parallel(n_jobs=16)]: Done  46 out of  46 | elapsed:    0.6s finished\n",
      "[Parallel(n_jobs=16)]: Using backend LokyBackend with 16 concurrent workers.\n",
      "[Parallel(n_jobs=16)]: Done  15 out of  46 | elapsed:    0.2s remaining:    0.4s\n",
      "[Parallel(n_jobs=16)]: Done  46 out of  46 | elapsed:    0.6s finished\n",
      "[Parallel(n_jobs=16)]: Using backend LokyBackend with 16 concurrent workers.\n",
      "[Parallel(n_jobs=16)]: Done  15 out of  46 | elapsed:    0.2s remaining:    0.4s\n",
      "[Parallel(n_jobs=16)]: Done  46 out of  46 | elapsed:    0.6s finished\n",
      "[Parallel(n_jobs=16)]: Using backend LokyBackend with 16 concurrent workers.\n",
      "[Parallel(n_jobs=16)]: Done  15 out of  46 | elapsed:    0.2s remaining:    0.4s\n",
      "[Parallel(n_jobs=16)]: Done  46 out of  46 | elapsed:    0.6s finished\n",
      "[Parallel(n_jobs=16)]: Using backend LokyBackend with 16 concurrent workers.\n",
      "[Parallel(n_jobs=16)]: Done  15 out of  46 | elapsed:    0.3s remaining:    0.6s\n",
      "[Parallel(n_jobs=16)]: Done  46 out of  46 | elapsed:    0.9s finished\n",
      "[Parallel(n_jobs=16)]: Using backend LokyBackend with 16 concurrent workers.\n",
      "[Parallel(n_jobs=16)]: Done  15 out of  46 | elapsed:    0.3s remaining:    0.5s\n",
      "[Parallel(n_jobs=16)]: Done  46 out of  46 | elapsed:    0.7s finished\n",
      "[Parallel(n_jobs=16)]: Using backend LokyBackend with 16 concurrent workers.\n",
      "[Parallel(n_jobs=16)]: Done  15 out of  46 | elapsed:    0.3s remaining:    0.7s\n",
      "[Parallel(n_jobs=16)]: Done  46 out of  46 | elapsed:    0.9s finished\n",
      "[Parallel(n_jobs=16)]: Using backend LokyBackend with 16 concurrent workers.\n",
      "[Parallel(n_jobs=16)]: Done  15 out of  46 | elapsed:    0.3s remaining:    0.6s\n",
      "[Parallel(n_jobs=16)]: Done  46 out of  46 | elapsed:    0.9s finished\n",
      "[Parallel(n_jobs=16)]: Using backend LokyBackend with 16 concurrent workers.\n",
      "[Parallel(n_jobs=16)]: Done  15 out of  46 | elapsed:    0.3s remaining:    0.7s\n",
      "[Parallel(n_jobs=16)]: Done  46 out of  46 | elapsed:    0.9s finished\n",
      "[Parallel(n_jobs=16)]: Using backend LokyBackend with 16 concurrent workers.\n",
      "[Parallel(n_jobs=16)]: Done  15 out of  46 | elapsed:    0.3s remaining:    0.7s\n",
      "[Parallel(n_jobs=16)]: Done  46 out of  46 | elapsed:    0.9s finished\n",
      "[Parallel(n_jobs=16)]: Using backend LokyBackend with 16 concurrent workers.\n",
      "[Parallel(n_jobs=16)]: Done  15 out of  46 | elapsed:    0.4s remaining:    0.8s\n",
      "[Parallel(n_jobs=16)]: Done  46 out of  46 | elapsed:    0.9s finished\n",
      "[Parallel(n_jobs=16)]: Using backend LokyBackend with 16 concurrent workers.\n",
      "[Parallel(n_jobs=16)]: Done  15 out of  46 | elapsed:    0.4s remaining:    0.9s\n",
      "[Parallel(n_jobs=16)]: Done  46 out of  46 | elapsed:    1.1s finished\n",
      "[Parallel(n_jobs=16)]: Using backend LokyBackend with 16 concurrent workers.\n",
      "[Parallel(n_jobs=16)]: Done  15 out of  46 | elapsed:    0.4s remaining:    0.7s\n",
      "[Parallel(n_jobs=16)]: Done  46 out of  46 | elapsed:    1.1s finished\n",
      "[Parallel(n_jobs=16)]: Using backend LokyBackend with 16 concurrent workers.\n",
      "[Parallel(n_jobs=16)]: Done  15 out of  46 | elapsed:    0.4s remaining:    0.8s\n",
      "[Parallel(n_jobs=16)]: Done  46 out of  46 | elapsed:    1.1s finished\n",
      "[Parallel(n_jobs=16)]: Using backend LokyBackend with 16 concurrent workers.\n",
      "[Parallel(n_jobs=16)]: Done  15 out of  46 | elapsed:    0.4s remaining:    0.7s\n",
      "[Parallel(n_jobs=16)]: Done  46 out of  46 | elapsed:    1.0s finished\n",
      "[Parallel(n_jobs=16)]: Using backend LokyBackend with 16 concurrent workers.\n"
     ]
    },
    {
     "name": "stderr",
     "output_type": "stream",
     "text": [
      "[Parallel(n_jobs=16)]: Done  15 out of  46 | elapsed:    0.5s remaining:    1.0s\n",
      "[Parallel(n_jobs=16)]: Done  46 out of  46 | elapsed:    1.3s finished\n",
      "[Parallel(n_jobs=16)]: Using backend LokyBackend with 16 concurrent workers.\n",
      "[Parallel(n_jobs=16)]: Done  15 out of  46 | elapsed:    0.5s remaining:    1.1s\n",
      "[Parallel(n_jobs=16)]: Done  46 out of  46 | elapsed:    1.4s finished\n",
      "[Parallel(n_jobs=16)]: Using backend LokyBackend with 16 concurrent workers.\n",
      "[Parallel(n_jobs=16)]: Done  15 out of  46 | elapsed:    0.4s remaining:    0.9s\n",
      "[Parallel(n_jobs=16)]: Done  46 out of  46 | elapsed:    1.2s finished\n",
      "[Parallel(n_jobs=16)]: Using backend LokyBackend with 16 concurrent workers.\n",
      "[Parallel(n_jobs=16)]: Done  15 out of  46 | elapsed:    0.5s remaining:    1.1s\n",
      "[Parallel(n_jobs=16)]: Done  46 out of  46 | elapsed:    1.2s finished\n",
      "[Parallel(n_jobs=16)]: Using backend LokyBackend with 16 concurrent workers.\n",
      "[Parallel(n_jobs=16)]: Done  15 out of  46 | elapsed:    0.5s remaining:    1.1s\n",
      "[Parallel(n_jobs=16)]: Done  46 out of  46 | elapsed:    1.3s finished\n",
      "[Parallel(n_jobs=16)]: Using backend LokyBackend with 16 concurrent workers.\n",
      "[Parallel(n_jobs=16)]: Done  15 out of  46 | elapsed:    0.5s remaining:    1.0s\n",
      "[Parallel(n_jobs=16)]: Done  46 out of  46 | elapsed:    1.2s finished\n",
      "[Parallel(n_jobs=16)]: Using backend LokyBackend with 16 concurrent workers.\n",
      "[Parallel(n_jobs=16)]: Done  15 out of  46 | elapsed:    0.5s remaining:    1.1s\n",
      "[Parallel(n_jobs=16)]: Done  46 out of  46 | elapsed:    1.4s finished\n",
      "[Parallel(n_jobs=16)]: Using backend LokyBackend with 16 concurrent workers.\n",
      "[Parallel(n_jobs=16)]: Done  15 out of  46 | elapsed:    0.5s remaining:    1.0s\n",
      "[Parallel(n_jobs=16)]: Done  46 out of  46 | elapsed:    1.3s finished\n",
      "[Parallel(n_jobs=16)]: Using backend LokyBackend with 16 concurrent workers.\n",
      "[Parallel(n_jobs=16)]: Done  15 out of  46 | elapsed:    0.5s remaining:    1.1s\n",
      "[Parallel(n_jobs=16)]: Done  46 out of  46 | elapsed:    1.4s finished\n",
      "[Parallel(n_jobs=16)]: Using backend LokyBackend with 16 concurrent workers.\n",
      "[Parallel(n_jobs=16)]: Done  15 out of  46 | elapsed:    0.5s remaining:    0.9s\n",
      "[Parallel(n_jobs=16)]: Done  46 out of  46 | elapsed:    1.4s finished\n",
      "[Parallel(n_jobs=16)]: Using backend LokyBackend with 16 concurrent workers.\n",
      "[Parallel(n_jobs=16)]: Done  15 out of  46 | elapsed:    0.5s remaining:    1.0s\n",
      "[Parallel(n_jobs=16)]: Done  46 out of  46 | elapsed:    1.3s finished\n",
      "[Parallel(n_jobs=16)]: Using backend LokyBackend with 16 concurrent workers.\n",
      "[Parallel(n_jobs=16)]: Done  15 out of  46 | elapsed:    0.5s remaining:    1.0s\n",
      "[Parallel(n_jobs=16)]: Done  46 out of  46 | elapsed:    1.3s finished\n",
      "[Parallel(n_jobs=16)]: Using backend LokyBackend with 16 concurrent workers.\n",
      "[Parallel(n_jobs=16)]: Done  15 out of  46 | elapsed:    0.5s remaining:    1.1s\n",
      "[Parallel(n_jobs=16)]: Done  46 out of  46 | elapsed:    1.5s finished\n",
      "[Parallel(n_jobs=16)]: Using backend LokyBackend with 16 concurrent workers.\n",
      "[Parallel(n_jobs=16)]: Done  15 out of  46 | elapsed:    0.5s remaining:    1.0s\n",
      "[Parallel(n_jobs=16)]: Done  46 out of  46 | elapsed:    1.3s finished\n",
      "[Parallel(n_jobs=16)]: Using backend LokyBackend with 16 concurrent workers.\n",
      "[Parallel(n_jobs=16)]: Done  15 out of  46 | elapsed:    0.5s remaining:    1.0s\n",
      "[Parallel(n_jobs=16)]: Done  46 out of  46 | elapsed:    1.3s finished\n",
      "[Parallel(n_jobs=16)]: Using backend LokyBackend with 16 concurrent workers.\n",
      "[Parallel(n_jobs=16)]: Done  15 out of  46 | elapsed:    0.5s remaining:    1.1s\n",
      "[Parallel(n_jobs=16)]: Done  46 out of  46 | elapsed:    1.3s finished\n",
      "[Parallel(n_jobs=16)]: Using backend LokyBackend with 16 concurrent workers.\n",
      "[Parallel(n_jobs=16)]: Done  15 out of  46 | elapsed:    0.5s remaining:    1.1s\n",
      "[Parallel(n_jobs=16)]: Done  46 out of  46 | elapsed:    1.4s finished\n",
      "[Parallel(n_jobs=16)]: Using backend LokyBackend with 16 concurrent workers.\n",
      "[Parallel(n_jobs=16)]: Done  15 out of  46 | elapsed:    0.5s remaining:    1.1s\n",
      "[Parallel(n_jobs=16)]: Done  46 out of  46 | elapsed:    1.4s finished\n",
      "[Parallel(n_jobs=16)]: Using backend LokyBackend with 16 concurrent workers.\n",
      "[Parallel(n_jobs=16)]: Done  15 out of  46 | elapsed:    0.5s remaining:    1.0s\n",
      "[Parallel(n_jobs=16)]: Done  46 out of  46 | elapsed:    1.4s finished\n",
      "[Parallel(n_jobs=16)]: Using backend LokyBackend with 16 concurrent workers.\n",
      "[Parallel(n_jobs=16)]: Done  15 out of  46 | elapsed:    0.6s remaining:    1.2s\n",
      "[Parallel(n_jobs=16)]: Done  46 out of  46 | elapsed:    1.5s finished\n",
      "[Parallel(n_jobs=16)]: Using backend LokyBackend with 16 concurrent workers.\n",
      "[Parallel(n_jobs=16)]: Done  15 out of  46 | elapsed:    0.6s remaining:    1.2s\n",
      "[Parallel(n_jobs=16)]: Done  46 out of  46 | elapsed:    1.5s finished\n",
      "[Parallel(n_jobs=16)]: Using backend LokyBackend with 16 concurrent workers.\n",
      "[Parallel(n_jobs=16)]: Done  15 out of  46 | elapsed:    0.6s remaining:    1.2s\n",
      "[Parallel(n_jobs=16)]: Done  46 out of  46 | elapsed:    1.5s finished\n",
      "[Parallel(n_jobs=16)]: Using backend LokyBackend with 16 concurrent workers.\n",
      "[Parallel(n_jobs=16)]: Done  15 out of  46 | elapsed:    0.6s remaining:    1.3s\n",
      "[Parallel(n_jobs=16)]: Done  46 out of  46 | elapsed:    1.6s finished\n",
      "[Parallel(n_jobs=16)]: Using backend LokyBackend with 16 concurrent workers.\n",
      "[Parallel(n_jobs=16)]: Done  15 out of  46 | elapsed:    0.6s remaining:    1.2s\n",
      "[Parallel(n_jobs=16)]: Done  46 out of  46 | elapsed:    1.7s finished\n",
      "[Parallel(n_jobs=16)]: Using backend LokyBackend with 16 concurrent workers.\n",
      "[Parallel(n_jobs=16)]: Done  15 out of  46 | elapsed:    0.6s remaining:    1.2s\n",
      "[Parallel(n_jobs=16)]: Done  46 out of  46 | elapsed:    1.7s finished\n"
     ]
    },
    {
     "name": "stdout",
     "output_type": "stream",
     "text": [
      "Number of labels 1\n",
      "Build repo time: 0.414 Size: (33185, 512)\n"
     ]
    },
    {
     "name": "stderr",
     "output_type": "stream",
     "text": [
      "[Parallel(n_jobs=16)]: Using backend LokyBackend with 16 concurrent workers.\n",
      "[Parallel(n_jobs=16)]: Done  12 out of  43 | elapsed:    0.4s remaining:    0.9s\n",
      "[Parallel(n_jobs=16)]: Done  43 out of  43 | elapsed:    1.2s finished\n",
      "[Parallel(n_jobs=16)]: Using backend LokyBackend with 16 concurrent workers.\n",
      "[Parallel(n_jobs=16)]: Done  43 out of  43 | elapsed:    0.3s finished\n",
      "[Parallel(n_jobs=16)]: Using backend LokyBackend with 16 concurrent workers.\n",
      "[Parallel(n_jobs=16)]: Done  12 out of  43 | elapsed:    0.2s remaining:    0.4s\n",
      "[Parallel(n_jobs=16)]: Done  43 out of  43 | elapsed:    0.6s finished\n",
      "[Parallel(n_jobs=16)]: Using backend LokyBackend with 16 concurrent workers.\n",
      "[Parallel(n_jobs=16)]: Done  12 out of  43 | elapsed:    0.1s remaining:    0.3s\n",
      "[Parallel(n_jobs=16)]: Done  43 out of  43 | elapsed:    0.6s finished\n",
      "[Parallel(n_jobs=16)]: Using backend LokyBackend with 16 concurrent workers.\n",
      "[Parallel(n_jobs=16)]: Done  12 out of  43 | elapsed:    0.2s remaining:    0.5s\n",
      "[Parallel(n_jobs=16)]: Done  43 out of  43 | elapsed:    0.7s finished\n",
      "[Parallel(n_jobs=16)]: Using backend LokyBackend with 16 concurrent workers.\n",
      "[Parallel(n_jobs=16)]: Done  12 out of  43 | elapsed:    0.2s remaining:    0.4s\n",
      "[Parallel(n_jobs=16)]: Done  43 out of  43 | elapsed:    0.6s finished\n",
      "[Parallel(n_jobs=16)]: Using backend LokyBackend with 16 concurrent workers.\n",
      "[Parallel(n_jobs=16)]: Done  12 out of  43 | elapsed:    0.2s remaining:    0.5s\n",
      "[Parallel(n_jobs=16)]: Done  43 out of  43 | elapsed:    0.6s finished\n",
      "[Parallel(n_jobs=16)]: Using backend LokyBackend with 16 concurrent workers.\n",
      "[Parallel(n_jobs=16)]: Done  12 out of  43 | elapsed:    0.1s remaining:    0.4s\n",
      "[Parallel(n_jobs=16)]: Done  43 out of  43 | elapsed:    0.6s finished\n",
      "[Parallel(n_jobs=16)]: Using backend LokyBackend with 16 concurrent workers.\n",
      "[Parallel(n_jobs=16)]: Done  12 out of  43 | elapsed:    0.2s remaining:    0.5s\n",
      "[Parallel(n_jobs=16)]: Done  43 out of  43 | elapsed:    0.8s finished\n",
      "[Parallel(n_jobs=16)]: Using backend LokyBackend with 16 concurrent workers.\n",
      "[Parallel(n_jobs=16)]: Done  12 out of  43 | elapsed:    0.1s remaining:    0.4s\n",
      "[Parallel(n_jobs=16)]: Done  43 out of  43 | elapsed:    0.6s finished\n",
      "[Parallel(n_jobs=16)]: Using backend LokyBackend with 16 concurrent workers.\n",
      "[Parallel(n_jobs=16)]: Done  12 out of  43 | elapsed:    0.2s remaining:    0.4s\n",
      "[Parallel(n_jobs=16)]: Done  43 out of  43 | elapsed:    0.6s finished\n",
      "[Parallel(n_jobs=16)]: Using backend LokyBackend with 16 concurrent workers.\n",
      "[Parallel(n_jobs=16)]: Done  12 out of  43 | elapsed:    0.1s remaining:    0.4s\n",
      "[Parallel(n_jobs=16)]: Done  43 out of  43 | elapsed:    0.6s finished\n",
      "[Parallel(n_jobs=16)]: Using backend LokyBackend with 16 concurrent workers.\n",
      "[Parallel(n_jobs=16)]: Done  12 out of  43 | elapsed:    0.2s remaining:    0.5s\n",
      "[Parallel(n_jobs=16)]: Done  43 out of  43 | elapsed:    0.7s finished\n",
      "[Parallel(n_jobs=16)]: Using backend LokyBackend with 16 concurrent workers.\n",
      "[Parallel(n_jobs=16)]: Done  12 out of  43 | elapsed:    0.2s remaining:    0.4s\n",
      "[Parallel(n_jobs=16)]: Done  43 out of  43 | elapsed:    0.6s finished\n",
      "[Parallel(n_jobs=16)]: Using backend LokyBackend with 16 concurrent workers.\n",
      "[Parallel(n_jobs=16)]: Done  12 out of  43 | elapsed:    0.2s remaining:    0.5s\n",
      "[Parallel(n_jobs=16)]: Done  43 out of  43 | elapsed:    0.6s finished\n",
      "[Parallel(n_jobs=16)]: Using backend LokyBackend with 16 concurrent workers.\n",
      "[Parallel(n_jobs=16)]: Done  12 out of  43 | elapsed:    0.2s remaining:    0.4s\n",
      "[Parallel(n_jobs=16)]: Done  43 out of  43 | elapsed:    0.7s finished\n",
      "[Parallel(n_jobs=16)]: Using backend LokyBackend with 16 concurrent workers.\n",
      "[Parallel(n_jobs=16)]: Done  12 out of  43 | elapsed:    0.1s remaining:    0.3s\n",
      "[Parallel(n_jobs=16)]: Done  43 out of  43 | elapsed:    0.6s finished\n",
      "[Parallel(n_jobs=16)]: Using backend LokyBackend with 16 concurrent workers.\n",
      "[Parallel(n_jobs=16)]: Done  12 out of  43 | elapsed:    0.2s remaining:    0.5s\n",
      "[Parallel(n_jobs=16)]: Done  43 out of  43 | elapsed:    0.7s finished\n",
      "[Parallel(n_jobs=16)]: Using backend LokyBackend with 16 concurrent workers.\n",
      "[Parallel(n_jobs=16)]: Done  12 out of  43 | elapsed:    0.2s remaining:    0.6s\n",
      "[Parallel(n_jobs=16)]: Done  43 out of  43 | elapsed:    0.6s finished\n",
      "[Parallel(n_jobs=16)]: Using backend LokyBackend with 16 concurrent workers.\n",
      "[Parallel(n_jobs=16)]: Done  12 out of  43 | elapsed:    0.2s remaining:    0.5s\n",
      "[Parallel(n_jobs=16)]: Done  43 out of  43 | elapsed:    0.7s finished\n",
      "[Parallel(n_jobs=16)]: Using backend LokyBackend with 16 concurrent workers.\n",
      "[Parallel(n_jobs=16)]: Done  12 out of  43 | elapsed:    0.2s remaining:    0.6s\n",
      "[Parallel(n_jobs=16)]: Done  43 out of  43 | elapsed:    0.7s finished\n",
      "[Parallel(n_jobs=16)]: Using backend LokyBackend with 16 concurrent workers.\n",
      "[Parallel(n_jobs=16)]: Done  12 out of  43 | elapsed:    0.2s remaining:    0.5s\n",
      "[Parallel(n_jobs=16)]: Done  43 out of  43 | elapsed:    0.7s finished\n",
      "[Parallel(n_jobs=16)]: Using backend LokyBackend with 16 concurrent workers.\n",
      "[Parallel(n_jobs=16)]: Done  12 out of  43 | elapsed:    0.2s remaining:    0.5s\n",
      "[Parallel(n_jobs=16)]: Done  43 out of  43 | elapsed:    0.7s finished\n",
      "[Parallel(n_jobs=16)]: Using backend LokyBackend with 16 concurrent workers.\n",
      "[Parallel(n_jobs=16)]: Done  12 out of  43 | elapsed:    0.2s remaining:    0.5s\n",
      "[Parallel(n_jobs=16)]: Done  43 out of  43 | elapsed:    0.7s finished\n",
      "[Parallel(n_jobs=16)]: Using backend LokyBackend with 16 concurrent workers.\n",
      "[Parallel(n_jobs=16)]: Done  12 out of  43 | elapsed:    0.2s remaining:    0.4s\n",
      "[Parallel(n_jobs=16)]: Done  43 out of  43 | elapsed:    0.6s finished\n",
      "[Parallel(n_jobs=16)]: Using backend LokyBackend with 16 concurrent workers.\n",
      "[Parallel(n_jobs=16)]: Done  12 out of  43 | elapsed:    0.3s remaining:    0.7s\n",
      "[Parallel(n_jobs=16)]: Done  43 out of  43 | elapsed:    0.9s finished\n",
      "[Parallel(n_jobs=16)]: Using backend LokyBackend with 16 concurrent workers.\n",
      "[Parallel(n_jobs=16)]: Done  12 out of  43 | elapsed:    0.2s remaining:    0.5s\n",
      "[Parallel(n_jobs=16)]: Done  43 out of  43 | elapsed:    0.9s finished\n",
      "[Parallel(n_jobs=16)]: Using backend LokyBackend with 16 concurrent workers.\n",
      "[Parallel(n_jobs=16)]: Done  12 out of  43 | elapsed:    0.3s remaining:    0.7s\n",
      "[Parallel(n_jobs=16)]: Done  43 out of  43 | elapsed:    0.9s finished\n",
      "[Parallel(n_jobs=16)]: Using backend LokyBackend with 16 concurrent workers.\n",
      "[Parallel(n_jobs=16)]: Done  12 out of  43 | elapsed:    0.3s remaining:    0.8s\n",
      "[Parallel(n_jobs=16)]: Done  43 out of  43 | elapsed:    0.9s finished\n",
      "[Parallel(n_jobs=16)]: Using backend LokyBackend with 16 concurrent workers.\n",
      "[Parallel(n_jobs=16)]: Done  12 out of  43 | elapsed:    0.3s remaining:    0.6s\n",
      "[Parallel(n_jobs=16)]: Done  43 out of  43 | elapsed:    0.6s finished\n",
      "[Parallel(n_jobs=16)]: Using backend LokyBackend with 16 concurrent workers.\n",
      "[Parallel(n_jobs=16)]: Done  12 out of  43 | elapsed:    0.3s remaining:    0.7s\n",
      "[Parallel(n_jobs=16)]: Done  43 out of  43 | elapsed:    0.8s finished\n",
      "[Parallel(n_jobs=16)]: Using backend LokyBackend with 16 concurrent workers.\n",
      "[Parallel(n_jobs=16)]: Done  12 out of  43 | elapsed:    0.3s remaining:    0.8s\n",
      "[Parallel(n_jobs=16)]: Done  43 out of  43 | elapsed:    0.9s finished\n",
      "[Parallel(n_jobs=16)]: Using backend LokyBackend with 16 concurrent workers.\n",
      "[Parallel(n_jobs=16)]: Done  12 out of  43 | elapsed:    0.3s remaining:    0.9s\n",
      "[Parallel(n_jobs=16)]: Done  43 out of  43 | elapsed:    1.1s finished\n",
      "[Parallel(n_jobs=16)]: Using backend LokyBackend with 16 concurrent workers.\n",
      "[Parallel(n_jobs=16)]: Done  12 out of  43 | elapsed:    0.3s remaining:    0.9s\n",
      "[Parallel(n_jobs=16)]: Done  43 out of  43 | elapsed:    1.1s finished\n",
      "[Parallel(n_jobs=16)]: Using backend LokyBackend with 16 concurrent workers.\n",
      "[Parallel(n_jobs=16)]: Done  12 out of  43 | elapsed:    0.4s remaining:    0.9s\n",
      "[Parallel(n_jobs=16)]: Done  43 out of  43 | elapsed:    1.2s finished\n",
      "[Parallel(n_jobs=16)]: Using backend LokyBackend with 16 concurrent workers.\n",
      "[Parallel(n_jobs=16)]: Done  12 out of  43 | elapsed:    0.3s remaining:    0.8s\n",
      "[Parallel(n_jobs=16)]: Done  43 out of  43 | elapsed:    1.2s finished\n",
      "[Parallel(n_jobs=16)]: Using backend LokyBackend with 16 concurrent workers.\n"
     ]
    },
    {
     "name": "stderr",
     "output_type": "stream",
     "text": [
      "[Parallel(n_jobs=16)]: Done  12 out of  43 | elapsed:    0.4s remaining:    0.9s\n",
      "[Parallel(n_jobs=16)]: Done  43 out of  43 | elapsed:    1.3s finished\n",
      "[Parallel(n_jobs=16)]: Using backend LokyBackend with 16 concurrent workers.\n",
      "[Parallel(n_jobs=16)]: Done  12 out of  43 | elapsed:    0.3s remaining:    0.9s\n",
      "[Parallel(n_jobs=16)]: Done  43 out of  43 | elapsed:    1.3s finished\n",
      "[Parallel(n_jobs=16)]: Using backend LokyBackend with 16 concurrent workers.\n",
      "[Parallel(n_jobs=16)]: Done  12 out of  43 | elapsed:    0.4s remaining:    1.1s\n",
      "[Parallel(n_jobs=16)]: Done  43 out of  43 | elapsed:    1.3s finished\n",
      "[Parallel(n_jobs=16)]: Using backend LokyBackend with 16 concurrent workers.\n",
      "[Parallel(n_jobs=16)]: Done  43 out of  43 | elapsed:    0.8s finished\n",
      "[Parallel(n_jobs=16)]: Using backend LokyBackend with 16 concurrent workers.\n",
      "[Parallel(n_jobs=16)]: Done  12 out of  43 | elapsed:    0.3s remaining:    0.8s\n",
      "[Parallel(n_jobs=16)]: Done  43 out of  43 | elapsed:    1.1s finished\n",
      "[Parallel(n_jobs=16)]: Using backend LokyBackend with 16 concurrent workers.\n",
      "[Parallel(n_jobs=16)]: Done  12 out of  43 | elapsed:    0.4s remaining:    0.9s\n",
      "[Parallel(n_jobs=16)]: Done  43 out of  43 | elapsed:    1.3s finished\n",
      "[Parallel(n_jobs=16)]: Using backend LokyBackend with 16 concurrent workers.\n",
      "[Parallel(n_jobs=16)]: Done  12 out of  43 | elapsed:    0.4s remaining:    1.1s\n",
      "[Parallel(n_jobs=16)]: Done  43 out of  43 | elapsed:    1.3s finished\n",
      "[Parallel(n_jobs=16)]: Using backend LokyBackend with 16 concurrent workers.\n",
      "[Parallel(n_jobs=16)]: Done  12 out of  43 | elapsed:    0.4s remaining:    1.1s\n",
      "[Parallel(n_jobs=16)]: Done  43 out of  43 | elapsed:    1.3s finished\n",
      "[Parallel(n_jobs=16)]: Using backend LokyBackend with 16 concurrent workers.\n",
      "[Parallel(n_jobs=16)]: Done  12 out of  43 | elapsed:    0.4s remaining:    1.0s\n",
      "[Parallel(n_jobs=16)]: Done  43 out of  43 | elapsed:    1.4s finished\n",
      "[Parallel(n_jobs=16)]: Using backend LokyBackend with 16 concurrent workers.\n",
      "[Parallel(n_jobs=16)]: Done  12 out of  43 | elapsed:    0.4s remaining:    1.0s\n",
      "[Parallel(n_jobs=16)]: Done  43 out of  43 | elapsed:    1.2s finished\n",
      "[Parallel(n_jobs=16)]: Using backend LokyBackend with 16 concurrent workers.\n",
      "[Parallel(n_jobs=16)]: Done  12 out of  43 | elapsed:    0.4s remaining:    1.0s\n",
      "[Parallel(n_jobs=16)]: Done  43 out of  43 | elapsed:    1.3s finished\n",
      "[Parallel(n_jobs=16)]: Using backend LokyBackend with 16 concurrent workers.\n",
      "[Parallel(n_jobs=16)]: Done  12 out of  43 | elapsed:    0.4s remaining:    1.0s\n",
      "[Parallel(n_jobs=16)]: Done  43 out of  43 | elapsed:    1.4s finished\n",
      "[Parallel(n_jobs=16)]: Using backend LokyBackend with 16 concurrent workers.\n",
      "[Parallel(n_jobs=16)]: Done  12 out of  43 | elapsed:    0.4s remaining:    1.0s\n",
      "[Parallel(n_jobs=16)]: Done  43 out of  43 | elapsed:    1.3s finished\n",
      "[Parallel(n_jobs=16)]: Using backend LokyBackend with 16 concurrent workers.\n",
      "[Parallel(n_jobs=16)]: Done  12 out of  43 | elapsed:    0.4s remaining:    1.0s\n",
      "[Parallel(n_jobs=16)]: Done  43 out of  43 | elapsed:    1.4s finished\n",
      "[Parallel(n_jobs=16)]: Using backend LokyBackend with 16 concurrent workers.\n",
      "[Parallel(n_jobs=16)]: Done  12 out of  43 | elapsed:    0.4s remaining:    1.1s\n",
      "[Parallel(n_jobs=16)]: Done  43 out of  43 | elapsed:    1.4s finished\n",
      "[Parallel(n_jobs=16)]: Using backend LokyBackend with 16 concurrent workers.\n",
      "[Parallel(n_jobs=16)]: Done  12 out of  43 | elapsed:    0.3s remaining:    0.8s\n",
      "[Parallel(n_jobs=16)]: Done  43 out of  43 | elapsed:    1.4s finished\n",
      "[Parallel(n_jobs=16)]: Using backend LokyBackend with 16 concurrent workers.\n",
      "[Parallel(n_jobs=16)]: Done  12 out of  43 | elapsed:    0.4s remaining:    1.0s\n",
      "[Parallel(n_jobs=16)]: Done  43 out of  43 | elapsed:    1.4s finished\n",
      "[Parallel(n_jobs=16)]: Using backend LokyBackend with 16 concurrent workers.\n",
      "[Parallel(n_jobs=16)]: Done  12 out of  43 | elapsed:    0.4s remaining:    1.1s\n",
      "[Parallel(n_jobs=16)]: Done  43 out of  43 | elapsed:    1.5s finished\n",
      "[Parallel(n_jobs=16)]: Using backend LokyBackend with 16 concurrent workers.\n",
      "[Parallel(n_jobs=16)]: Done  12 out of  43 | elapsed:    0.4s remaining:    1.2s\n",
      "[Parallel(n_jobs=16)]: Done  43 out of  43 | elapsed:    1.5s finished\n",
      "[Parallel(n_jobs=16)]: Using backend LokyBackend with 16 concurrent workers.\n",
      "[Parallel(n_jobs=16)]: Done  12 out of  43 | elapsed:    0.4s remaining:    1.1s\n",
      "[Parallel(n_jobs=16)]: Done  43 out of  43 | elapsed:    1.5s finished\n",
      "[Parallel(n_jobs=16)]: Using backend LokyBackend with 16 concurrent workers.\n",
      "[Parallel(n_jobs=16)]: Done  12 out of  43 | elapsed:    0.4s remaining:    1.1s\n",
      "[Parallel(n_jobs=16)]: Done  43 out of  43 | elapsed:    1.5s finished\n",
      "[Parallel(n_jobs=16)]: Using backend LokyBackend with 16 concurrent workers.\n",
      "[Parallel(n_jobs=16)]: Done  12 out of  43 | elapsed:    0.5s remaining:    1.4s\n",
      "[Parallel(n_jobs=16)]: Done  43 out of  43 | elapsed:    1.5s finished\n",
      "[Parallel(n_jobs=16)]: Using backend LokyBackend with 16 concurrent workers.\n",
      "[Parallel(n_jobs=16)]: Done  12 out of  43 | elapsed:    0.4s remaining:    1.0s\n",
      "[Parallel(n_jobs=16)]: Done  43 out of  43 | elapsed:    1.5s finished\n",
      "[Parallel(n_jobs=16)]: Using backend LokyBackend with 16 concurrent workers.\n",
      "[Parallel(n_jobs=16)]: Done  12 out of  43 | elapsed:    0.6s remaining:    1.5s\n",
      "[Parallel(n_jobs=16)]: Done  43 out of  43 | elapsed:    1.6s finished\n",
      "[Parallel(n_jobs=16)]: Using backend LokyBackend with 16 concurrent workers.\n",
      "[Parallel(n_jobs=16)]: Done  12 out of  43 | elapsed:    0.5s remaining:    1.2s\n",
      "[Parallel(n_jobs=16)]: Done  43 out of  43 | elapsed:    1.6s finished\n"
     ]
    }
   ],
   "source": [
    "\n",
    "full_df = {}\n",
    "size_rng = np.concatenate((np.arange(1, 12), (5000*np.logspace(-2.2, 0, 50)).astype(np.int32)), axis=0) # 1 to 5000 in logspace\n",
    "for i in ['bo','br','bs','cb','ew','hc','kh','pb','jb']:\n",
    "    full_df[i] = get_repo_size_dist(i, size_rng)\n"
   ]
  },
  {
   "cell_type": "code",
   "execution_count": 40,
   "metadata": {},
   "outputs": [],
   "source": [
    "u.save_obj(full_df, 'ECCV20_figures', 'distVSrepoSize')"
   ]
  },
  {
   "cell_type": "code",
   "execution_count": null,
   "metadata": {},
   "outputs": [],
   "source": [
    "full_df = u.load_obj('result_csv', 'distVSrepoSize')"
   ]
  },
  {
   "cell_type": "code",
   "execution_count": 51,
   "metadata": {},
   "outputs": [
    {
     "data": {
      "image/png": "[encoded data removed]",
      "text/plain": [
       "<Figure size 1080x360 with 2 Axes>"
      ]
     },
     "metadata": {
      "needs_background": "light"
     },
     "output_type": "display_data"
    }
   ],
   "source": [
    "\n",
    "def plot_one_size(in_dict, in_ids, f_nm, ax):\n",
    "    \n",
    "    avg_feat = np.zeros((len(size_rng), ))\n",
    "    for k in in_ids:\n",
    "        avg_feat = avg_feat + np.array(in_dict[k][f_nm])\n",
    "    \n",
    "    avg_feat = avg_feat/len(in_ids)\n",
    "    cur_sz = size_rng*5/(30*60) # these many seconds\n",
    "    ax[0].plot(cur_sz, avg_feat)\n",
    "    ax[1].plot(np.log10(cur_sz), avg_feat)\n",
    "    \n",
    "    # xticks \n",
    "    xtck2 = np.linspace(np.log10(cur_sz[0]), np.log10(cur_sz[-1]), 5)\n",
    "    xtck1 = np.linspace(cur_sz[0], cur_sz[-1], 5)\n",
    "    ax[0].set_xticks(xtck1)\n",
    "    ax[0].set_xticklabels([f'{f:.2f}' for f in xtck1], rotation=0)\n",
    "    ax[1].set_xticks(xtck2)\n",
    "    ax[1].set_xticklabels([f'{10**f:.2f}' for f in xtck2], rotation=0)\n",
    "    ax[0].grid(b=True)\n",
    "    ax[1].grid(b=True)    \n",
    "\n",
    "_, ax = plt.subplots(nrows=1, ncols=2, figsize=(15, 5))\n",
    "plot_one_size(full_df,  ['bo','br','bs','cb','ew','hc','jb','kh', 'pb'], 'mean_dist', ax)\n",
    "    \n",
    "ax[0].set_xlabel('minutes (linear)')\n",
    "ax[1].set_xlabel('minutes (logscale)')\n",
    "ax[0].set_ylabel('Cos Similarity')\n",
    "ax[1].set_ylabel('Cos Similarity')\n",
    "\n",
    "ax[0].set_ylim([0.6, 0.9])\n",
    "ax[1].set_ylim([0.6, 0.9])\n",
    "plt.show()\n"
   ]
  },
  {
   "cell_type": "code",
   "execution_count": 27,
   "metadata": {},
   "outputs": [
    {
     "data": {
      "image/png": "[encoded data removed]",
      "text/plain": [
       "<Figure size 1080x360 with 2 Axes>"
      ]
     },
     "metadata": {
      "needs_background": "light"
     },
     "output_type": "display_data"
    }
   ],
   "source": [
    "\n",
    "def plot_one_size(in_df, in_id, f_nm, ax):\n",
    "    \n",
    "    cur_sz = np.array(in_df['size'])*4/60 # these many seconds\n",
    "    ax[0].plot(cur_sz, np.array(in_df[f_nm]), label=in_id)\n",
    "    ax[1].plot(np.log10(cur_sz), np.array(in_df[f_nm]), label=in_id)\n",
    "    \n",
    "    # xticks \n",
    "    xtck2 = np.linspace(np.log10(cur_sz[0]), np.log10(cur_sz[-1]), 40)\n",
    "    xtck1 = 10**(xtck2)\n",
    "    ax[0].set_xticks(xtck1)\n",
    "    ax[0].set_xticklabels([f'{f:.2f}' for f in xtck1], rotation=90)\n",
    "    ax[1].set_xticks(xtck2)\n",
    "    ax[1].set_xticklabels([f'{f:.2f}' for f in xtck1], rotation=90)\n",
    "    ax[0].grid(b=True)\n",
    "    ax[1].grid(b=True)    \n",
    "\n",
    "ldrs = ['bo','br','bs','cb','dt','ew','hc','jb','kh', 'pb']\n",
    "_, ax = plt.subplots(nrows=1, ncols=2, figsize=(15, 5))\n",
    "\n",
    "for i in range(len(ldrs)):\n",
    "    \n",
    "    plot_one_size(full_df[ldrs[i]], ldrs[i], 'mean_dist', ax)\n",
    "    \n",
    "ax[0].set_xlabel('minutes (linear)')\n",
    "ax[1].set_xlabel('minutes (logscale)')\n",
    "ax[0].set_ylabel('Cos Similarity')\n",
    "ax[1].set_ylabel('Cos Similarity')\n",
    "\n",
    "#ax[0].set_ylim([0.6, 1])\n",
    "#ax[1].set_ylim([0.6, 1])\n",
    "ax[0].legend()\n",
    "ax[1].legend()\n",
    "plt.show()"
   ]
  },
  {
   "cell_type": "markdown",
   "metadata": {},
   "source": [
    "# different context plots"
   ]
  },
  {
   "cell_type": "code",
   "execution_count": null,
   "metadata": {},
   "outputs": [],
   "source": [
    "## 2) same person same context vs different person same context vs same person different context vs different person different context\n",
    "# faceswaps with same context faceid, same context behaveid\n",
    "\n",
    "# Questions not answered: \n",
    "# not sure how to proof there is disentaglement from the face id???\n",
    "# how to ensure after one hour of video we won't match to any one else\n",
    "\n",
    "# consider GG data with ids and context dict\n",
    "cntxt = {'neutral_wall': ['__talking_against_wall'], \n",
    "         'laugh': ['__outside_talking_still_laughing', '__outside_talking_pan_laughing'],\n",
    "         'angry': ['__talking_angry_couch'],\n",
    "         'happy': ['__podium_speech_happy'],\n",
    "         'neutral_frnd': ['__kitchen_still', '__kitchen_pan']}\n",
    "\n",
    "ids = [f'{f+1:02d}' for f in range(28)]                \n"
   ]
  },
  {
   "cell_type": "code",
   "execution_count": null,
   "metadata": {},
   "outputs": [],
   "source": [
    "# read all the emb in a dictionary with context and id as keys\n",
    "all_emb = {}\n",
    "bs_fldr = '/data/home/shruti/voxceleb/fabnet_metric/GG_orig'\n",
    "for i in ids:\n",
    "    \n",
    "    all_emb[i] = {}\n",
    "    for j in cntxt.keys():\n",
    "        \n",
    "        #files\n",
    "        cur_files = [i + f + '.npy' for f in cntxt[j]]\n",
    "        all_emb[i][j] = []\n",
    "        for f in cur_files:\n",
    "            if os.path.exists(os.path.join(bs_fldr, f)):\n",
    "                X = np.load(os.path.join(bs_fldr, f))\n",
    "                X = X - np.mean(X, axis=1, keepdims=True)        \n",
    "                X = X / np.linalg.norm(X, axis=1, keepdims=True) # normalize                \n",
    "                all_emb[i][j] = all_emb[i][j] + [X]\n"
   ]
  },
  {
   "cell_type": "code",
   "execution_count": null,
   "metadata": {
    "scrolled": true
   },
   "outputs": [],
   "source": [
    "def get_one_comb_df(id1, id2, cntxt1, cntxt2):\n",
    "    \n",
    "    if id1 == id2 and cntxt1==cntxt2:\n",
    "        if len(all_emb[id1][cntxt1])>1:                \n",
    "            sim_mat = np.matmul(all_emb[id1][cntxt1][0], all_emb[id1][cntxt1][1].T)\n",
    "        else:\n",
    "            return None\n",
    "\n",
    "    else: \n",
    "        if len(all_emb[id1][cntxt1])>0 and len(all_emb[id2][cntxt2])>0:\n",
    "            sim_mat = np.matmul(all_emb[id1][cntxt1][0], all_emb[id2][cntxt2][-1].T)\n",
    "        else:\n",
    "            return None\n",
    "\n",
    "    cur_max_dist = 1-np.max(sim_mat, axis=0)\n",
    "    out_df = pd.DataFrame(data=cur_max_dist, columns=['dist'])\n",
    "    out_df['id1'] = id1\n",
    "    out_df['id2'] = id2\n",
    "    out_df['cntxt1'] = cntxt1\n",
    "    out_df['cntxt2'] = cntxt2\n",
    "    \n",
    "    return out_df\n",
    "\n",
    "cntxt_keys = list(cntxt.keys())\n",
    "\n",
    "all_df = []\n",
    "for i in range(len(ids)):\n",
    "    \n",
    "    for j in range(i, len(ids)):\n",
    "        \n",
    "        for c1 in range(len(cntxt_keys)):\n",
    "            \n",
    "            for c2 in range(c1, len(cntxt_keys)):\n",
    "                \n",
    "                print(ids[i], ids[j], cntxt_keys[c1], cntxt_keys[c2])\n",
    "                cur_df = get_one_comb_df(ids[i], ids[j], cntxt_keys[c1], cntxt_keys[c2])\n",
    "                if cur_df is not None:\n",
    "                    all_df = all_df + [cur_df]\n",
    "                    "
   ]
  },
  {
   "cell_type": "code",
   "execution_count": null,
   "metadata": {},
   "outputs": [],
   "source": [
    "all_df = pd.concat(all_df, ignore_index=True, sort=False)"
   ]
  },
  {
   "cell_type": "code",
   "execution_count": null,
   "metadata": {},
   "outputs": [],
   "source": [
    "# plot of distance distributions\n",
    "bins = np.linspace(0,1, 40)\n",
    "\n",
    "plt.figure(figsize=(8,8))\n",
    "# same id same context\n",
    "dist = 1-np.array(all_df[(all_df['id1']==all_df['id2'])&\n",
    "                    (all_df['cntxt1']==all_df['cntxt2'])]['dist'])\n",
    "sns.distplot(dist, bins=bins, label=f'sID_sC {len(dist)}')\n",
    "\n",
    "# same id different context\n",
    "dist = 1-np.array(all_df[(all_df['id1']==all_df['id2'])&\n",
    "                    (all_df['cntxt1']!=all_df['cntxt2'])]['dist'])\n",
    "sns.distplot(dist, bins=bins, label=f'sID_dC {len(dist)}')\n",
    "\n",
    "# different id same context\n",
    "dist = 1-np.array(all_df[(all_df['id1']!=all_df['id2'])&\n",
    "                    (all_df['cntxt1']==all_df['cntxt2'])]['dist'])\n",
    "sns.distplot(dist, bins=bins, label=f'dID_sC {len(dist)}')\n",
    "\n",
    "# diff id diff context\n",
    "dist = 1-np.array(all_df[(all_df['id1']!=all_df['id2'])&\n",
    "                    (all_df['cntxt1']!=all_df['cntxt2'])]['dist'])\n",
    "sns.distplot(dist, bins=bins, label=f'dID_dC {len(dist)}')\n",
    "plt.plot([0.75, 0.75], [0, 10], 'r--')\n",
    "\n",
    "plt.xlabel('Cosine Similarity')\n",
    "plt.legend()\n",
    "plt.show()"
   ]
  },
  {
   "cell_type": "markdown",
   "metadata": {},
   "source": [
    "## face swap context distributions"
   ]
  },
  {
   "cell_type": "code",
   "execution_count": null,
   "metadata": {},
   "outputs": [],
   "source": [
    "fk_files = ['__outside_talking_pan_laughing', '__kitchen_pan']\n"
   ]
  },
  {
   "cell_type": "code",
   "execution_count": null,
   "metadata": {},
   "outputs": [],
   "source": [
    "# all the fake files of kitchen pan and outdoor pan\n",
    "GG_fake_test_files = u.load_file_names('/data/home/shruti/voxceleb/fabnet_metric/', 'GG_fake', join_bsfldr=False)\n",
    "GG_fake_test_files = [f for f in GG_fake_test_files if np.any([x in f for x in fk_files])]\n",
    "GG_fake_test_files"
   ]
  },
  {
   "cell_type": "code",
   "execution_count": null,
   "metadata": {},
   "outputs": [],
   "source": [
    "\n",
    "# for each fake file\n",
    "# load the feature\n",
    "# compare the file with orignal of face id (1 is face), behav id (0 is behav) of original\n",
    "fake_face_dist = {}\n",
    "fake_behv_dist = {}\n",
    "for i in range(len(GG_fake_test_files)):\n",
    "    \n",
    "    cur_cntxt = 'neutral_frnd'\n",
    "    if 'laugh' in GG_fake_test_files[i]:\n",
    "        cur_cntxt = 'laugh'\n",
    "        \n",
    "    # load the current file\n",
    "    fk_feat = np.load(os.path.join('/data/home/shruti/voxceleb/fabnet_metric/', \n",
    "                                   GG_fake_test_files[i]))\n",
    "    fk_feat = fk_feat - np.mean(fk_feat, axis=1, keepdims=True)        \n",
    "    fk_feat = fk_feat / np.linalg.norm(fk_feat, axis=1, keepdims=True) # normalize\n",
    "    \n",
    "    # face id\n",
    "    face_id = GG_fake_test_files[i].split('/')[-1].split('_')[1]\n",
    "    if len(all_emb[face_id][cur_cntxt])>0:\n",
    "        sim_mat = np.matmul(all_emb[face_id][cur_cntxt][0], fk_feat.T)\n",
    "        fake_face_dist[i] = 1-np.max(sim_mat, axis=0)\n",
    "\n",
    "    # behavior id\n",
    "    behav_id = GG_fake_test_files[i].split('/')[-1].split('_')[0]\n",
    "    if len(all_emb[behav_id][cur_cntxt])>0:\n",
    "        sim_mat = np.matmul(all_emb[behav_id][cur_cntxt][0], fk_feat.T)\n",
    "        fake_behv_dist[i] = 1-np.max(sim_mat, axis=0)\n",
    "\n"
   ]
  },
  {
   "cell_type": "code",
   "execution_count": null,
   "metadata": {},
   "outputs": [],
   "source": [
    "# plot of distance distributions\n",
    "bins = np.linspace(0,1, 40)\n",
    "\n",
    "plt.figure(figsize=(8,8))\n",
    "# same id same context\n",
    "dist = 1-np.array(all_df[(all_df['id1']==all_df['id2'])&\n",
    "                    (all_df['cntxt1']==all_df['cntxt2'])]['dist'])\n",
    "sns.distplot(dist, bins=bins, label=f'real sID sC {len(dist)}')\n",
    "\n",
    "# fake \n",
    "dist = 1-np.concatenate(list(fake_face_dist.values()), axis=0)\n",
    "sns.distplot(dist, \n",
    "             bins=bins, label=f'fake faceID sC {len(dist)}')\n",
    "\n",
    "# different id same context\n",
    "dist = 1-np.concatenate(list(fake_behv_dist.values()), axis=0)\n",
    "sns.distplot(dist, \n",
    "             bins=bins, label=f'fake behavID sC {len(dist)}')\n",
    "\n",
    "# different id same context\n",
    "dist = 1-np.array(all_df[(all_df['id1']!=all_df['id2'])&\n",
    "                    (all_df['cntxt1']==all_df['cntxt2'])]['dist'])\n",
    "sns.distplot(dist, bins=bins, label=f'dID_sC {len(dist)}')\n",
    "\n",
    "plt.plot([0.75, 0.75], [0, 10], 'r--')\n",
    "plt.xlabel('Cosine Similarity')\n",
    "plt.legend()\n",
    "plt.show()"
   ]
  },
  {
   "cell_type": "markdown",
   "metadata": {},
   "source": [
    "\n",
    "# accuracy vs repo size\n"
   ]
  },
  {
   "cell_type": "code",
   "execution_count": 2,
   "metadata": {},
   "outputs": [
    {
     "name": "stdout",
     "output_type": "stream",
     "text": [
      "before 4105\n",
      "after 3739\n"
     ]
    }
   ],
   "source": [
    "\n",
    "train_files, test_files = u.train_test_all_ids('/data/home/shruti/voxceleb/features/vgg/leaders/')\n"
   ]
  },
  {
   "cell_type": "code",
   "execution_count": 3,
   "metadata": {},
   "outputs": [
    {
     "data": {
      "text/plain": [
       "array([   1,    2,    3,    4,    5,    6,    7,    8,    9,   10,   11,\n",
       "         12,   13,   15,   17,   19,   21,   23,   26,   28,   31,   35,\n",
       "         39,   43,   48,   53,   59,   65,   73,   81,   89,   99,  110,\n",
       "        122,  136,  150,  167,  185,  205,  228,  252,  280,  311,  344,\n",
       "        382,  424,  470,  521,  578,  641,  711,  788,  874,  969, 1075,\n",
       "       1192, 1322, 1466, 1626, 1803, 2000])"
      ]
     },
     "execution_count": 3,
     "metadata": {},
     "output_type": "execute_result"
    }
   ],
   "source": [
    "\n",
    "size_rng = np.concatenate((np.arange(1, 12), (2000*np.logspace(-2.2, 0, 50)).astype(np.int32)), axis=0) # 1 to 5000 in logspace\n",
    "size_rng"
   ]
  },
  {
   "cell_type": "code",
   "execution_count": 21,
   "metadata": {},
   "outputs": [],
   "source": [
    "\n",
    "def save_results(vgg_repo, fab_repo, test_ids, r_or_f, N_f, out_file, n1, n2, parallel=False):\n",
    "        \n",
    "    # number of files per id\n",
    "    test_dict = {}\n",
    "    for ids in test_ids:\n",
    "        cur_test_files = test_files[r_or_f][ids]\n",
    "        if N_f>0 and len(cur_test_files)>N_f:\n",
    "            test_dict[ids] = cur_test_files[:N_f].copy()\n",
    "        else:\n",
    "            test_dict[ids] = cur_test_files.copy()\n",
    "            \n",
    "    vgg_result = vgg_repo.dist_using_dict(test_dict, n1, n2, parallel=parallel)\n",
    "    vgg_result['RealFake'] = r_or_f\n",
    "    fab_result = fab_repo.dist_using_dict(test_dict, n1, n2, parallel=parallel)\n",
    "    fab_result['RealFake'] = r_or_f\n",
    "    full_df = vgg_result.set_index('fileName').join(fab_result.set_index('fileName'), \n",
    "                                                 how='inner', lsuffix='_vgg', rsuffix='_fab')\n",
    "    full_df = full_df[['actualLabel_vgg', \n",
    "                       'RealFake_vgg', 'sim_vgg', 'sim_fab']].copy()\n",
    "    \n",
    "    if out_file is not None:\n",
    "        full_df.to_pickle(out_file)\n",
    "        \n",
    "    return full_df\n",
    "\n",
    "def compute_acc_optout(in_score, in_thres):\n",
    "    # non-nan features\n",
    "    nn_id = np.logical_not(np.isnan(in_score))\n",
    "    return np.sum(in_score[nn_id]>in_thres)/np.sum(nn_id), (len(in_score)-np.sum(nn_id))/len(in_score)\n",
    "\n"
   ]
  },
  {
   "cell_type": "code",
   "execution_count": 34,
   "metadata": {},
   "outputs": [],
   "source": [
    "\n",
    "def get_repo_size_accuracy(in_size_rng):\n",
    "    \n",
    "    out_result = np.zeros((len(in_size_rng), 3))\n",
    "    \n",
    "    # ldrs\n",
    "    keys = ['bo','br','bs','cb','dt','ew','hc','jb','kh', 'pb',\n",
    "            'bo_imposter','bs_imposter','ew_imposter','dt_imposter',\n",
    "            'hc_imposter', 'jb_imposter']\n",
    "    \n",
    "    # repo\n",
    "    vgg_repo_metric = u.load_obj('result_csv', 'vgg_repo')\n",
    "    fab_repo_metric = u.load_obj('result_csv', 'fab_repo')\n",
    "    \n",
    "    vgg_repo_metric.bs_fldr = '/data/home/shruti/voxceleb/features/vgg/leaders/'\n",
    "    fab_repo_metric.bs_fldr = '/data/home/shruti/voxceleb/features/fabnet_metric/'\n",
    "\n",
    "    # full embeddings per person\n",
    "    fab_emb = {}\n",
    "    vgg_emb = {}\n",
    "    for k in keys:\n",
    "        vgg_emb[k] = vgg_repo_metric.pop_ids([k])\n",
    "        fab_emb[k] = fab_repo_metric.pop_ids([k])\n",
    "\n",
    "    #np.random.seed(0)    \n",
    "    for i in range(len(in_size_rng)):\n",
    "        \n",
    "        # sample the points from the emb to be used\n",
    "        for k in keys:\n",
    "            # emb to the current repo\n",
    "            fab_id = np.random.choice(np.arange(len(fab_emb[k])), in_size_rng[i])\n",
    "            fab_repo_metric.add_emb_ids(fab_emb[k][fab_id, :], k)\n",
    "            #vgg_id = np.random.choice(np.arange(len(vgg_emb[k])), in_size_rng[i])\n",
    "            vgg_repo_metric.add_emb_ids(vgg_emb[k], k)\n",
    "            \n",
    "        real_res = save_results(vgg_repo_metric, fab_repo_metric, \n",
    "                            ['bo','bs','dt','ew','hc','jb'], \n",
    "                            'real', 10, \n",
    "                            None, 0, 1, parallel=True)\n",
    "        fake_res = save_results(vgg_repo_metric, fab_repo_metric, \n",
    "                            ['bo','bs','dt','ew','hc','jb'], \n",
    "                            'fake', 10, \n",
    "                            None, 0, 1, parallel=True)\n",
    "\n",
    "        tpr, _ = compute_acc_optout(ru.get_comb_Or_scaleMaxVGGFab(real_res, \n",
    "                                                                  mu_sigVGG=(0.86, 0.0001), \n",
    "                                                                  mu_sigFab=(0.3, 0.0001)), 0.0001)\n",
    "        fpr, _ = compute_acc_optout(ru.get_comb_Or_scaleMaxVGGFab(fake_res, \n",
    "                                                                  mu_sigVGG=(0.86, 0.0001), \n",
    "                                                                  mu_sigFab=(0.3, 0.0001)), 0.0001)\n",
    "        \n",
    "        out_result[i, 0] = in_size_rng[i]\n",
    "        out_result[i, 1] = tpr\n",
    "        out_result[i, 2] = fpr\n",
    "        print(f'Size:{in_size_rng[i]:.2f} TPR:{tpr:.2f} FPR:{1-fpr:.2f}')\n",
    "        \n",
    "        fab_repo_metric.remove_ids(keys)\n",
    "        vgg_repo_metric.remove_ids(keys)\n",
    "        \n",
    "    out_df = pd.DataFrame(data=out_result, columns=['size', 'tpr', 'fpr'])\n",
    "    return out_df\n"
   ]
  },
  {
   "cell_type": "code",
   "execution_count": 25,
   "metadata": {},
   "outputs": [
    {
     "name": "stderr",
     "output_type": "stream",
     "text": [
      "[Parallel(n_jobs=16)]: Using backend LokyBackend with 16 concurrent workers.\n",
      "[Parallel(n_jobs=16)]: Done  18 tasks      | elapsed:   34.6s\n",
      "[Parallel(n_jobs=16)]: Done  60 out of  60 | elapsed:  1.2min finished\n",
      "[Parallel(n_jobs=16)]: Using backend LokyBackend with 16 concurrent workers.\n",
      "[Parallel(n_jobs=16)]: Done  18 tasks      | elapsed:   12.8s\n",
      "[Parallel(n_jobs=16)]: Done  60 out of  60 | elapsed:   26.9s finished\n",
      "[Parallel(n_jobs=16)]: Using backend LokyBackend with 16 concurrent workers.\n",
      "[Parallel(n_jobs=16)]: Done  18 tasks      | elapsed:   29.9s\n",
      "[Parallel(n_jobs=16)]: Done  57 out of  57 | elapsed:   52.4s finished\n",
      "[Parallel(n_jobs=16)]: Using backend LokyBackend with 16 concurrent workers.\n",
      "[Parallel(n_jobs=16)]: Done  18 tasks      | elapsed:   11.3s\n",
      "[Parallel(n_jobs=16)]: Done  57 out of  57 | elapsed:   20.4s finished\n"
     ]
    },
    {
     "name": "stdout",
     "output_type": "stream",
     "text": [
      "Size:1.00 TPR:0.27 FPR:1.00\n"
     ]
    },
    {
     "name": "stderr",
     "output_type": "stream",
     "text": [
      "[Parallel(n_jobs=16)]: Using backend LokyBackend with 16 concurrent workers.\n",
      "[Parallel(n_jobs=16)]: Done  18 tasks      | elapsed:   36.0s\n",
      "[Parallel(n_jobs=16)]: Done  60 out of  60 | elapsed:  1.2min finished\n",
      "[Parallel(n_jobs=16)]: Using backend LokyBackend with 16 concurrent workers.\n",
      "[Parallel(n_jobs=16)]: Done  18 tasks      | elapsed:   13.3s\n",
      "[Parallel(n_jobs=16)]: Done  60 out of  60 | elapsed:   27.8s finished\n",
      "[Parallel(n_jobs=16)]: Using backend LokyBackend with 16 concurrent workers.\n",
      "[Parallel(n_jobs=16)]: Done  18 tasks      | elapsed:   29.8s\n",
      "[Parallel(n_jobs=16)]: Done  57 out of  57 | elapsed:   51.2s finished\n",
      "[Parallel(n_jobs=16)]: Using backend LokyBackend with 16 concurrent workers.\n",
      "[Parallel(n_jobs=16)]: Done  18 tasks      | elapsed:   11.3s\n",
      "[Parallel(n_jobs=16)]: Done  57 out of  57 | elapsed:   20.5s finished\n"
     ]
    },
    {
     "name": "stdout",
     "output_type": "stream",
     "text": [
      "Size:2.00 TPR:0.32 FPR:0.99\n"
     ]
    },
    {
     "name": "stderr",
     "output_type": "stream",
     "text": [
      "[Parallel(n_jobs=16)]: Using backend LokyBackend with 16 concurrent workers.\n",
      "[Parallel(n_jobs=16)]: Done  18 tasks      | elapsed:   37.1s\n",
      "[Parallel(n_jobs=16)]: Done  60 out of  60 | elapsed:  1.2min finished\n",
      "[Parallel(n_jobs=16)]: Using backend LokyBackend with 16 concurrent workers.\n",
      "[Parallel(n_jobs=16)]: Done  18 tasks      | elapsed:   13.3s\n",
      "[Parallel(n_jobs=16)]: Done  60 out of  60 | elapsed:   27.3s finished\n",
      "[Parallel(n_jobs=16)]: Using backend LokyBackend with 16 concurrent workers.\n",
      "[Parallel(n_jobs=16)]: Done  18 tasks      | elapsed:   30.1s\n",
      "[Parallel(n_jobs=16)]: Done  57 out of  57 | elapsed:   51.6s finished\n",
      "[Parallel(n_jobs=16)]: Using backend LokyBackend with 16 concurrent workers.\n",
      "[Parallel(n_jobs=16)]: Done  18 tasks      | elapsed:   11.5s\n",
      "[Parallel(n_jobs=16)]: Done  57 out of  57 | elapsed:   20.5s finished\n"
     ]
    },
    {
     "name": "stdout",
     "output_type": "stream",
     "text": [
      "Size:3.00 TPR:0.48 FPR:0.97\n"
     ]
    },
    {
     "name": "stderr",
     "output_type": "stream",
     "text": [
      "[Parallel(n_jobs=16)]: Using backend LokyBackend with 16 concurrent workers.\n",
      "[Parallel(n_jobs=16)]: Done  18 tasks      | elapsed:   37.0s\n",
      "[Parallel(n_jobs=16)]: Done  60 out of  60 | elapsed:  1.2min finished\n",
      "[Parallel(n_jobs=16)]: Using backend LokyBackend with 16 concurrent workers.\n",
      "[Parallel(n_jobs=16)]: Done  18 tasks      | elapsed:   12.8s\n",
      "[Parallel(n_jobs=16)]: Done  60 out of  60 | elapsed:   26.9s finished\n",
      "[Parallel(n_jobs=16)]: Using backend LokyBackend with 16 concurrent workers.\n",
      "[Parallel(n_jobs=16)]: Done  18 tasks      | elapsed:   30.1s\n",
      "[Parallel(n_jobs=16)]: Done  57 out of  57 | elapsed:   51.2s finished\n",
      "[Parallel(n_jobs=16)]: Using backend LokyBackend with 16 concurrent workers.\n",
      "[Parallel(n_jobs=16)]: Done  18 tasks      | elapsed:   11.4s\n",
      "[Parallel(n_jobs=16)]: Done  57 out of  57 | elapsed:   20.6s finished\n"
     ]
    },
    {
     "name": "stdout",
     "output_type": "stream",
     "text": [
      "Size:4.00 TPR:0.49 FPR:0.97\n"
     ]
    },
    {
     "name": "stderr",
     "output_type": "stream",
     "text": [
      "[Parallel(n_jobs=16)]: Using backend LokyBackend with 16 concurrent workers.\n",
      "[Parallel(n_jobs=16)]: Done  18 tasks      | elapsed:   27.7s\n",
      "[Parallel(n_jobs=16)]: Done  60 out of  60 | elapsed:  1.2min finished\n",
      "[Parallel(n_jobs=16)]: Using backend LokyBackend with 16 concurrent workers.\n",
      "[Parallel(n_jobs=16)]: Done  18 tasks      | elapsed:   13.1s\n",
      "[Parallel(n_jobs=16)]: Done  60 out of  60 | elapsed:   26.8s finished\n",
      "[Parallel(n_jobs=16)]: Using backend LokyBackend with 16 concurrent workers.\n",
      "[Parallel(n_jobs=16)]: Done  18 tasks      | elapsed:   29.9s\n",
      "[Parallel(n_jobs=16)]: Done  57 out of  57 | elapsed:   51.3s finished\n",
      "[Parallel(n_jobs=16)]: Using backend LokyBackend with 16 concurrent workers.\n",
      "[Parallel(n_jobs=16)]: Done  18 tasks      | elapsed:    9.8s\n",
      "[Parallel(n_jobs=16)]: Done  57 out of  57 | elapsed:   21.1s finished\n"
     ]
    },
    {
     "name": "stdout",
     "output_type": "stream",
     "text": [
      "Size:5.00 TPR:0.39 FPR:0.99\n"
     ]
    },
    {
     "name": "stderr",
     "output_type": "stream",
     "text": [
      "[Parallel(n_jobs=16)]: Using backend LokyBackend with 16 concurrent workers.\n",
      "[Parallel(n_jobs=16)]: Done  18 tasks      | elapsed:   37.2s\n",
      "[Parallel(n_jobs=16)]: Done  60 out of  60 | elapsed:  1.2min finished\n",
      "[Parallel(n_jobs=16)]: Using backend LokyBackend with 16 concurrent workers.\n",
      "[Parallel(n_jobs=16)]: Done  18 tasks      | elapsed:   13.5s\n",
      "[Parallel(n_jobs=16)]: Done  60 out of  60 | elapsed:   26.9s finished\n",
      "[Parallel(n_jobs=16)]: Using backend LokyBackend with 16 concurrent workers.\n",
      "[Parallel(n_jobs=16)]: Done  18 tasks      | elapsed:   30.1s\n",
      "[Parallel(n_jobs=16)]: Done  57 out of  57 | elapsed:   51.5s finished\n",
      "[Parallel(n_jobs=16)]: Using backend LokyBackend with 16 concurrent workers.\n",
      "[Parallel(n_jobs=16)]: Done  18 tasks      | elapsed:   11.2s\n",
      "[Parallel(n_jobs=16)]: Done  57 out of  57 | elapsed:   20.3s finished\n"
     ]
    },
    {
     "name": "stdout",
     "output_type": "stream",
     "text": [
      "Size:6.00 TPR:0.55 FPR:0.95\n"
     ]
    },
    {
     "name": "stderr",
     "output_type": "stream",
     "text": [
      "[Parallel(n_jobs=16)]: Using backend LokyBackend with 16 concurrent workers.\n",
      "[Parallel(n_jobs=16)]: Done  18 tasks      | elapsed:   36.4s\n",
      "[Parallel(n_jobs=16)]: Done  60 out of  60 | elapsed:  1.2min finished\n",
      "[Parallel(n_jobs=16)]: Using backend LokyBackend with 16 concurrent workers.\n",
      "[Parallel(n_jobs=16)]: Done  18 tasks      | elapsed:   13.7s\n",
      "[Parallel(n_jobs=16)]: Done  60 out of  60 | elapsed:   27.3s finished\n",
      "[Parallel(n_jobs=16)]: Using backend LokyBackend with 16 concurrent workers.\n",
      "[Parallel(n_jobs=16)]: Done  18 tasks      | elapsed:   30.0s\n",
      "[Parallel(n_jobs=16)]: Done  57 out of  57 | elapsed:   51.3s finished\n",
      "[Parallel(n_jobs=16)]: Using backend LokyBackend with 16 concurrent workers.\n",
      "[Parallel(n_jobs=16)]: Done  18 tasks      | elapsed:   11.3s\n",
      "[Parallel(n_jobs=16)]: Done  57 out of  57 | elapsed:   20.5s finished\n"
     ]
    },
    {
     "name": "stdout",
     "output_type": "stream",
     "text": [
      "Size:7.00 TPR:0.67 FPR:0.95\n"
     ]
    },
    {
     "name": "stderr",
     "output_type": "stream",
     "text": [
      "[Parallel(n_jobs=16)]: Using backend LokyBackend with 16 concurrent workers.\n",
      "[Parallel(n_jobs=16)]: Done  18 tasks      | elapsed:   35.9s\n",
      "[Parallel(n_jobs=16)]: Done  60 out of  60 | elapsed:  1.2min finished\n",
      "[Parallel(n_jobs=16)]: Using backend LokyBackend with 16 concurrent workers.\n",
      "[Parallel(n_jobs=16)]: Done  18 tasks      | elapsed:   10.1s\n",
      "[Parallel(n_jobs=16)]: Done  60 out of  60 | elapsed:   27.3s finished\n",
      "[Parallel(n_jobs=16)]: Using backend LokyBackend with 16 concurrent workers.\n",
      "[Parallel(n_jobs=16)]: Done  18 tasks      | elapsed:   29.8s\n",
      "[Parallel(n_jobs=16)]: Done  57 out of  57 | elapsed:   51.5s finished\n",
      "[Parallel(n_jobs=16)]: Using backend LokyBackend with 16 concurrent workers.\n",
      "[Parallel(n_jobs=16)]: Done  18 tasks      | elapsed:   11.4s\n",
      "[Parallel(n_jobs=16)]: Done  57 out of  57 | elapsed:   20.5s finished\n"
     ]
    },
    {
     "name": "stdout",
     "output_type": "stream",
     "text": [
      "Size:8.00 TPR:0.57 FPR:0.98\n"
     ]
    },
    {
     "name": "stderr",
     "output_type": "stream",
     "text": [
      "[Parallel(n_jobs=16)]: Using backend LokyBackend with 16 concurrent workers.\n",
      "[Parallel(n_jobs=16)]: Done  18 tasks      | elapsed:   36.7s\n",
      "[Parallel(n_jobs=16)]: Done  60 out of  60 | elapsed:  1.2min finished\n",
      "[Parallel(n_jobs=16)]: Using backend LokyBackend with 16 concurrent workers.\n",
      "[Parallel(n_jobs=16)]: Done  18 tasks      | elapsed:   13.4s\n",
      "[Parallel(n_jobs=16)]: Done  60 out of  60 | elapsed:   27.2s finished\n",
      "[Parallel(n_jobs=16)]: Using backend LokyBackend with 16 concurrent workers.\n",
      "[Parallel(n_jobs=16)]: Done  18 tasks      | elapsed:   29.9s\n",
      "[Parallel(n_jobs=16)]: Done  57 out of  57 | elapsed:   51.4s finished\n",
      "[Parallel(n_jobs=16)]: Using backend LokyBackend with 16 concurrent workers.\n",
      "[Parallel(n_jobs=16)]: Done  18 tasks      | elapsed:   11.3s\n",
      "[Parallel(n_jobs=16)]: Done  57 out of  57 | elapsed:   20.6s finished\n"
     ]
    },
    {
     "name": "stdout",
     "output_type": "stream",
     "text": [
      "Size:9.00 TPR:0.68 FPR:0.97\n"
     ]
    },
    {
     "name": "stderr",
     "output_type": "stream",
     "text": [
      "[Parallel(n_jobs=16)]: Using backend LokyBackend with 16 concurrent workers.\n",
      "[Parallel(n_jobs=16)]: Done  18 tasks      | elapsed:   36.9s\n",
      "[Parallel(n_jobs=16)]: Done  60 out of  60 | elapsed:  1.2min finished\n",
      "[Parallel(n_jobs=16)]: Using backend LokyBackend with 16 concurrent workers.\n",
      "[Parallel(n_jobs=16)]: Done  18 tasks      | elapsed:   13.5s\n",
      "[Parallel(n_jobs=16)]: Done  60 out of  60 | elapsed:   27.2s finished\n",
      "[Parallel(n_jobs=16)]: Using backend LokyBackend with 16 concurrent workers.\n",
      "[Parallel(n_jobs=16)]: Done  18 tasks      | elapsed:   30.0s\n",
      "[Parallel(n_jobs=16)]: Done  57 out of  57 | elapsed:   51.2s finished\n",
      "[Parallel(n_jobs=16)]: Using backend LokyBackend with 16 concurrent workers.\n",
      "[Parallel(n_jobs=16)]: Done  18 tasks      | elapsed:   12.0s\n",
      "[Parallel(n_jobs=16)]: Done  57 out of  57 | elapsed:   21.5s finished\n"
     ]
    },
    {
     "name": "stdout",
     "output_type": "stream",
     "text": [
      "Size:10.00 TPR:0.66 FPR:0.95\n"
     ]
    },
    {
     "name": "stderr",
     "output_type": "stream",
     "text": [
      "[Parallel(n_jobs=16)]: Using backend LokyBackend with 16 concurrent workers.\n",
      "[Parallel(n_jobs=16)]: Done  18 tasks      | elapsed:   37.0s\n",
      "[Parallel(n_jobs=16)]: Done  60 out of  60 | elapsed:  1.2min finished\n",
      "[Parallel(n_jobs=16)]: Using backend LokyBackend with 16 concurrent workers.\n",
      "[Parallel(n_jobs=16)]: Done  18 tasks      | elapsed:   13.2s\n",
      "[Parallel(n_jobs=16)]: Done  60 out of  60 | elapsed:   27.1s finished\n",
      "[Parallel(n_jobs=16)]: Using backend LokyBackend with 16 concurrent workers.\n",
      "[Parallel(n_jobs=16)]: Done  18 tasks      | elapsed:   29.3s\n",
      "[Parallel(n_jobs=16)]: Done  57 out of  57 | elapsed:   51.5s finished\n",
      "[Parallel(n_jobs=16)]: Using backend LokyBackend with 16 concurrent workers.\n",
      "[Parallel(n_jobs=16)]: Done  18 tasks      | elapsed:   11.1s\n",
      "[Parallel(n_jobs=16)]: Done  57 out of  57 | elapsed:   20.6s finished\n"
     ]
    },
    {
     "name": "stdout",
     "output_type": "stream",
     "text": [
      "Size:11.00 TPR:0.77 FPR:0.92\n"
     ]
    },
    {
     "name": "stderr",
     "output_type": "stream",
     "text": [
      "[Parallel(n_jobs=16)]: Using backend LokyBackend with 16 concurrent workers.\n",
      "[Parallel(n_jobs=16)]: Done  18 tasks      | elapsed:   36.7s\n",
      "[Parallel(n_jobs=16)]: Done  60 out of  60 | elapsed:  1.2min finished\n",
      "[Parallel(n_jobs=16)]: Using backend LokyBackend with 16 concurrent workers.\n",
      "[Parallel(n_jobs=16)]: Done  18 tasks      | elapsed:   13.3s\n",
      "[Parallel(n_jobs=16)]: Done  60 out of  60 | elapsed:   26.9s finished\n",
      "[Parallel(n_jobs=16)]: Using backend LokyBackend with 16 concurrent workers.\n",
      "[Parallel(n_jobs=16)]: Done  18 tasks      | elapsed:   30.0s\n",
      "[Parallel(n_jobs=16)]: Done  57 out of  57 | elapsed:   51.3s finished\n",
      "[Parallel(n_jobs=16)]: Using backend LokyBackend with 16 concurrent workers.\n",
      "[Parallel(n_jobs=16)]: Done  18 tasks      | elapsed:   11.4s\n",
      "[Parallel(n_jobs=16)]: Done  57 out of  57 | elapsed:   20.6s finished\n"
     ]
    },
    {
     "name": "stdout",
     "output_type": "stream",
     "text": [
      "Size:12.00 TPR:0.76 FPR:0.97\n"
     ]
    },
    {
     "name": "stderr",
     "output_type": "stream",
     "text": [
      "[Parallel(n_jobs=16)]: Using backend LokyBackend with 16 concurrent workers.\n",
      "[Parallel(n_jobs=16)]: Done  18 tasks      | elapsed:   36.7s\n",
      "[Parallel(n_jobs=16)]: Done  60 out of  60 | elapsed:  1.2min finished\n",
      "[Parallel(n_jobs=16)]: Using backend LokyBackend with 16 concurrent workers.\n",
      "[Parallel(n_jobs=16)]: Done  18 tasks      | elapsed:    9.9s\n",
      "[Parallel(n_jobs=16)]: Done  60 out of  60 | elapsed:   27.2s finished\n",
      "[Parallel(n_jobs=16)]: Using backend LokyBackend with 16 concurrent workers.\n",
      "[Parallel(n_jobs=16)]: Done  18 tasks      | elapsed:   30.1s\n",
      "[Parallel(n_jobs=16)]: Done  57 out of  57 | elapsed:   51.2s finished\n",
      "[Parallel(n_jobs=16)]: Using backend LokyBackend with 16 concurrent workers.\n",
      "[Parallel(n_jobs=16)]: Done  18 tasks      | elapsed:   11.4s\n",
      "[Parallel(n_jobs=16)]: Done  57 out of  57 | elapsed:   20.5s finished\n"
     ]
    },
    {
     "name": "stdout",
     "output_type": "stream",
     "text": [
      "Size:13.00 TPR:0.73 FPR:0.94\n"
     ]
    },
    {
     "name": "stderr",
     "output_type": "stream",
     "text": [
      "[Parallel(n_jobs=16)]: Using backend LokyBackend with 16 concurrent workers.\n",
      "[Parallel(n_jobs=16)]: Done  18 tasks      | elapsed:   35.0s\n",
      "[Parallel(n_jobs=16)]: Done  60 out of  60 | elapsed:  1.2min finished\n",
      "[Parallel(n_jobs=16)]: Using backend LokyBackend with 16 concurrent workers.\n",
      "[Parallel(n_jobs=16)]: Done  18 tasks      | elapsed:   13.5s\n",
      "[Parallel(n_jobs=16)]: Done  60 out of  60 | elapsed:   27.1s finished\n",
      "[Parallel(n_jobs=16)]: Using backend LokyBackend with 16 concurrent workers.\n",
      "[Parallel(n_jobs=16)]: Done  18 tasks      | elapsed:   30.1s\n",
      "[Parallel(n_jobs=16)]: Done  57 out of  57 | elapsed:   51.5s finished\n",
      "[Parallel(n_jobs=16)]: Using backend LokyBackend with 16 concurrent workers.\n",
      "[Parallel(n_jobs=16)]: Done  18 tasks      | elapsed:   11.3s\n",
      "[Parallel(n_jobs=16)]: Done  57 out of  57 | elapsed:   21.5s finished\n"
     ]
    },
    {
     "name": "stdout",
     "output_type": "stream",
     "text": [
      "Size:15.00 TPR:0.78 FPR:0.93\n"
     ]
    },
    {
     "name": "stderr",
     "output_type": "stream",
     "text": [
      "[Parallel(n_jobs=16)]: Using backend LokyBackend with 16 concurrent workers.\n",
      "[Parallel(n_jobs=16)]: Done  18 tasks      | elapsed:   36.1s\n",
      "[Parallel(n_jobs=16)]: Done  60 out of  60 | elapsed:  1.2min finished\n",
      "[Parallel(n_jobs=16)]: Using backend LokyBackend with 16 concurrent workers.\n",
      "[Parallel(n_jobs=16)]: Done  18 tasks      | elapsed:   13.5s\n",
      "[Parallel(n_jobs=16)]: Done  60 out of  60 | elapsed:   27.1s finished\n",
      "[Parallel(n_jobs=16)]: Using backend LokyBackend with 16 concurrent workers.\n",
      "[Parallel(n_jobs=16)]: Done  18 tasks      | elapsed:   30.2s\n",
      "[Parallel(n_jobs=16)]: Done  57 out of  57 | elapsed:   51.5s finished\n",
      "[Parallel(n_jobs=16)]: Using backend LokyBackend with 16 concurrent workers.\n",
      "[Parallel(n_jobs=16)]: Done  18 tasks      | elapsed:   12.3s\n",
      "[Parallel(n_jobs=16)]: Done  57 out of  57 | elapsed:   21.6s finished\n"
     ]
    },
    {
     "name": "stdout",
     "output_type": "stream",
     "text": [
      "Size:17.00 TPR:0.85 FPR:0.92\n"
     ]
    },
    {
     "name": "stderr",
     "output_type": "stream",
     "text": [
      "[Parallel(n_jobs=16)]: Using backend LokyBackend with 16 concurrent workers.\n",
      "[Parallel(n_jobs=16)]: Done  18 tasks      | elapsed:   36.2s\n",
      "[Parallel(n_jobs=16)]: Done  60 out of  60 | elapsed:  1.2min finished\n",
      "[Parallel(n_jobs=16)]: Using backend LokyBackend with 16 concurrent workers.\n",
      "[Parallel(n_jobs=16)]: Done  18 tasks      | elapsed:   13.5s\n",
      "[Parallel(n_jobs=16)]: Done  60 out of  60 | elapsed:   26.8s finished\n",
      "[Parallel(n_jobs=16)]: Using backend LokyBackend with 16 concurrent workers.\n",
      "[Parallel(n_jobs=16)]: Done  18 tasks      | elapsed:   30.5s\n",
      "[Parallel(n_jobs=16)]: Done  57 out of  57 | elapsed:   52.2s finished\n",
      "[Parallel(n_jobs=16)]: Using backend LokyBackend with 16 concurrent workers.\n",
      "[Parallel(n_jobs=16)]: Done  18 tasks      | elapsed:   11.1s\n",
      "[Parallel(n_jobs=16)]: Done  57 out of  57 | elapsed:   20.6s finished\n"
     ]
    },
    {
     "name": "stdout",
     "output_type": "stream",
     "text": [
      "Size:19.00 TPR:0.88 FPR:0.90\n"
     ]
    },
    {
     "name": "stderr",
     "output_type": "stream",
     "text": [
      "[Parallel(n_jobs=16)]: Using backend LokyBackend with 16 concurrent workers.\n",
      "[Parallel(n_jobs=16)]: Done  18 tasks      | elapsed:   36.8s\n",
      "[Parallel(n_jobs=16)]: Done  60 out of  60 | elapsed:  1.2min finished\n",
      "[Parallel(n_jobs=16)]: Using backend LokyBackend with 16 concurrent workers.\n",
      "[Parallel(n_jobs=16)]: Done  18 tasks      | elapsed:   13.4s\n",
      "[Parallel(n_jobs=16)]: Done  60 out of  60 | elapsed:   27.7s finished\n",
      "[Parallel(n_jobs=16)]: Using backend LokyBackend with 16 concurrent workers.\n",
      "[Parallel(n_jobs=16)]: Done  18 tasks      | elapsed:   30.0s\n",
      "[Parallel(n_jobs=16)]: Done  57 out of  57 | elapsed:   51.2s finished\n",
      "[Parallel(n_jobs=16)]: Using backend LokyBackend with 16 concurrent workers.\n",
      "[Parallel(n_jobs=16)]: Done  18 tasks      | elapsed:   11.4s\n",
      "[Parallel(n_jobs=16)]: Done  57 out of  57 | elapsed:   20.7s finished\n"
     ]
    },
    {
     "name": "stdout",
     "output_type": "stream",
     "text": [
      "Size:21.00 TPR:0.87 FPR:0.98\n"
     ]
    },
    {
     "name": "stderr",
     "output_type": "stream",
     "text": [
      "[Parallel(n_jobs=16)]: Using backend LokyBackend with 16 concurrent workers.\n",
      "[Parallel(n_jobs=16)]: Done  18 tasks      | elapsed:   37.1s\n",
      "[Parallel(n_jobs=16)]: Done  60 out of  60 | elapsed:  1.2min finished\n",
      "[Parallel(n_jobs=16)]: Using backend LokyBackend with 16 concurrent workers.\n",
      "[Parallel(n_jobs=16)]: Done  18 tasks      | elapsed:   13.8s\n",
      "[Parallel(n_jobs=16)]: Done  60 out of  60 | elapsed:   27.4s finished\n",
      "[Parallel(n_jobs=16)]: Using backend LokyBackend with 16 concurrent workers.\n",
      "[Parallel(n_jobs=16)]: Done  18 tasks      | elapsed:   29.8s\n",
      "[Parallel(n_jobs=16)]: Done  57 out of  57 | elapsed:   51.2s finished\n",
      "[Parallel(n_jobs=16)]: Using backend LokyBackend with 16 concurrent workers.\n",
      "[Parallel(n_jobs=16)]: Done  18 tasks      | elapsed:   11.3s\n",
      "[Parallel(n_jobs=16)]: Done  57 out of  57 | elapsed:   20.5s finished\n"
     ]
    },
    {
     "name": "stdout",
     "output_type": "stream",
     "text": [
      "Size:23.00 TPR:0.75 FPR:0.92\n"
     ]
    },
    {
     "name": "stderr",
     "output_type": "stream",
     "text": [
      "[Parallel(n_jobs=16)]: Using backend LokyBackend with 16 concurrent workers.\n",
      "[Parallel(n_jobs=16)]: Done  18 tasks      | elapsed:   37.1s\n",
      "[Parallel(n_jobs=16)]: Done  60 out of  60 | elapsed:  1.2min finished\n",
      "[Parallel(n_jobs=16)]: Using backend LokyBackend with 16 concurrent workers.\n",
      "[Parallel(n_jobs=16)]: Done  18 tasks      | elapsed:   12.7s\n",
      "[Parallel(n_jobs=16)]: Done  60 out of  60 | elapsed:   26.8s finished\n",
      "[Parallel(n_jobs=16)]: Using backend LokyBackend with 16 concurrent workers.\n",
      "[Parallel(n_jobs=16)]: Done  18 tasks      | elapsed:   30.0s\n",
      "[Parallel(n_jobs=16)]: Done  57 out of  57 | elapsed:   51.5s finished\n",
      "[Parallel(n_jobs=16)]: Using backend LokyBackend with 16 concurrent workers.\n",
      "[Parallel(n_jobs=16)]: Done  18 tasks      | elapsed:   11.4s\n",
      "[Parallel(n_jobs=16)]: Done  57 out of  57 | elapsed:   21.4s finished\n"
     ]
    },
    {
     "name": "stdout",
     "output_type": "stream",
     "text": [
      "Size:26.00 TPR:0.85 FPR:0.91\n"
     ]
    },
    {
     "name": "stderr",
     "output_type": "stream",
     "text": [
      "[Parallel(n_jobs=16)]: Using backend LokyBackend with 16 concurrent workers.\n",
      "[Parallel(n_jobs=16)]: Done  18 tasks      | elapsed:   36.6s\n",
      "[Parallel(n_jobs=16)]: Done  60 out of  60 | elapsed:  1.2min finished\n",
      "[Parallel(n_jobs=16)]: Using backend LokyBackend with 16 concurrent workers.\n",
      "[Parallel(n_jobs=16)]: Done  18 tasks      | elapsed:   13.1s\n",
      "[Parallel(n_jobs=16)]: Done  60 out of  60 | elapsed:   27.2s finished\n",
      "[Parallel(n_jobs=16)]: Using backend LokyBackend with 16 concurrent workers.\n",
      "[Parallel(n_jobs=16)]: Done  18 tasks      | elapsed:   30.1s\n",
      "[Parallel(n_jobs=16)]: Done  57 out of  57 | elapsed:   51.7s finished\n",
      "[Parallel(n_jobs=16)]: Using backend LokyBackend with 16 concurrent workers.\n",
      "[Parallel(n_jobs=16)]: Done  18 tasks      | elapsed:   12.3s\n",
      "[Parallel(n_jobs=16)]: Done  57 out of  57 | elapsed:   21.5s finished\n"
     ]
    },
    {
     "name": "stdout",
     "output_type": "stream",
     "text": [
      "Size:28.00 TPR:0.88 FPR:0.96\n"
     ]
    },
    {
     "name": "stderr",
     "output_type": "stream",
     "text": [
      "[Parallel(n_jobs=16)]: Using backend LokyBackend with 16 concurrent workers.\n",
      "[Parallel(n_jobs=16)]: Done  18 tasks      | elapsed:   36.2s\n",
      "[Parallel(n_jobs=16)]: Done  60 out of  60 | elapsed:  1.2min finished\n",
      "[Parallel(n_jobs=16)]: Using backend LokyBackend with 16 concurrent workers.\n",
      "[Parallel(n_jobs=16)]: Done  18 tasks      | elapsed:   12.9s\n",
      "[Parallel(n_jobs=16)]: Done  60 out of  60 | elapsed:   26.9s finished\n",
      "[Parallel(n_jobs=16)]: Using backend LokyBackend with 16 concurrent workers.\n",
      "[Parallel(n_jobs=16)]: Done  18 tasks      | elapsed:   30.6s\n",
      "[Parallel(n_jobs=16)]: Done  57 out of  57 | elapsed:   52.3s finished\n",
      "[Parallel(n_jobs=16)]: Using backend LokyBackend with 16 concurrent workers.\n",
      "[Parallel(n_jobs=16)]: Done  18 tasks      | elapsed:   11.3s\n",
      "[Parallel(n_jobs=16)]: Done  57 out of  57 | elapsed:   20.6s finished\n"
     ]
    },
    {
     "name": "stdout",
     "output_type": "stream",
     "text": [
      "Size:31.00 TPR:0.90 FPR:0.95\n"
     ]
    },
    {
     "name": "stderr",
     "output_type": "stream",
     "text": [
      "[Parallel(n_jobs=16)]: Using backend LokyBackend with 16 concurrent workers.\n",
      "[Parallel(n_jobs=16)]: Done  18 tasks      | elapsed:   37.0s\n",
      "[Parallel(n_jobs=16)]: Done  60 out of  60 | elapsed:  1.2min finished\n",
      "[Parallel(n_jobs=16)]: Using backend LokyBackend with 16 concurrent workers.\n",
      "[Parallel(n_jobs=16)]: Done  18 tasks      | elapsed:   13.0s\n",
      "[Parallel(n_jobs=16)]: Done  60 out of  60 | elapsed:   27.8s finished\n",
      "[Parallel(n_jobs=16)]: Using backend LokyBackend with 16 concurrent workers.\n",
      "[Parallel(n_jobs=16)]: Done  18 tasks      | elapsed:   30.2s\n",
      "[Parallel(n_jobs=16)]: Done  57 out of  57 | elapsed:   51.3s finished\n",
      "[Parallel(n_jobs=16)]: Using backend LokyBackend with 16 concurrent workers.\n",
      "[Parallel(n_jobs=16)]: Done  18 tasks      | elapsed:   11.3s\n",
      "[Parallel(n_jobs=16)]: Done  57 out of  57 | elapsed:   20.3s finished\n"
     ]
    },
    {
     "name": "stdout",
     "output_type": "stream",
     "text": [
      "Size:35.00 TPR:0.88 FPR:0.97\n"
     ]
    },
    {
     "name": "stderr",
     "output_type": "stream",
     "text": [
      "[Parallel(n_jobs=16)]: Using backend LokyBackend with 16 concurrent workers.\n",
      "[Parallel(n_jobs=16)]: Done  18 tasks      | elapsed:   36.6s\n",
      "[Parallel(n_jobs=16)]: Done  60 out of  60 | elapsed:  1.2min finished\n",
      "[Parallel(n_jobs=16)]: Using backend LokyBackend with 16 concurrent workers.\n",
      "[Parallel(n_jobs=16)]: Done  18 tasks      | elapsed:   13.5s\n",
      "[Parallel(n_jobs=16)]: Done  60 out of  60 | elapsed:   28.2s finished\n",
      "[Parallel(n_jobs=16)]: Using backend LokyBackend with 16 concurrent workers.\n",
      "[Parallel(n_jobs=16)]: Done  18 tasks      | elapsed:   30.2s\n",
      "[Parallel(n_jobs=16)]: Done  57 out of  57 | elapsed:   51.2s finished\n",
      "[Parallel(n_jobs=16)]: Using backend LokyBackend with 16 concurrent workers.\n",
      "[Parallel(n_jobs=16)]: Done  18 tasks      | elapsed:   11.2s\n",
      "[Parallel(n_jobs=16)]: Done  57 out of  57 | elapsed:   20.4s finished\n"
     ]
    },
    {
     "name": "stdout",
     "output_type": "stream",
     "text": [
      "Size:39.00 TPR:0.88 FPR:0.95\n"
     ]
    },
    {
     "name": "stderr",
     "output_type": "stream",
     "text": [
      "[Parallel(n_jobs=16)]: Using backend LokyBackend with 16 concurrent workers.\n",
      "[Parallel(n_jobs=16)]: Done  18 tasks      | elapsed:   37.0s\n",
      "[Parallel(n_jobs=16)]: Done  60 out of  60 | elapsed:  1.2min finished\n",
      "[Parallel(n_jobs=16)]: Using backend LokyBackend with 16 concurrent workers.\n",
      "[Parallel(n_jobs=16)]: Done  18 tasks      | elapsed:   13.4s\n",
      "[Parallel(n_jobs=16)]: Done  60 out of  60 | elapsed:   26.8s finished\n",
      "[Parallel(n_jobs=16)]: Using backend LokyBackend with 16 concurrent workers.\n",
      "[Parallel(n_jobs=16)]: Done  18 tasks      | elapsed:   30.2s\n",
      "[Parallel(n_jobs=16)]: Done  57 out of  57 | elapsed:   51.4s finished\n",
      "[Parallel(n_jobs=16)]: Using backend LokyBackend with 16 concurrent workers.\n",
      "[Parallel(n_jobs=16)]: Done  18 tasks      | elapsed:   11.3s\n",
      "[Parallel(n_jobs=16)]: Done  57 out of  57 | elapsed:   20.5s finished\n"
     ]
    },
    {
     "name": "stdout",
     "output_type": "stream",
     "text": [
      "Size:43.00 TPR:0.92 FPR:0.91\n"
     ]
    },
    {
     "name": "stderr",
     "output_type": "stream",
     "text": [
      "[Parallel(n_jobs=16)]: Using backend LokyBackend with 16 concurrent workers.\n",
      "[Parallel(n_jobs=16)]: Done  18 tasks      | elapsed:   36.6s\n",
      "[Parallel(n_jobs=16)]: Done  60 out of  60 | elapsed:  1.2min finished\n",
      "[Parallel(n_jobs=16)]: Using backend LokyBackend with 16 concurrent workers.\n",
      "[Parallel(n_jobs=16)]: Done  18 tasks      | elapsed:   13.3s\n",
      "[Parallel(n_jobs=16)]: Done  60 out of  60 | elapsed:   27.0s finished\n",
      "[Parallel(n_jobs=16)]: Using backend LokyBackend with 16 concurrent workers.\n",
      "[Parallel(n_jobs=16)]: Done  18 tasks      | elapsed:   30.0s\n",
      "[Parallel(n_jobs=16)]: Done  57 out of  57 | elapsed:   51.5s finished\n",
      "[Parallel(n_jobs=16)]: Using backend LokyBackend with 16 concurrent workers.\n",
      "[Parallel(n_jobs=16)]: Done  18 tasks      | elapsed:   12.3s\n",
      "[Parallel(n_jobs=16)]: Done  57 out of  57 | elapsed:   21.3s finished\n"
     ]
    },
    {
     "name": "stdout",
     "output_type": "stream",
     "text": [
      "Size:48.00 TPR:0.94 FPR:0.94\n"
     ]
    },
    {
     "name": "stderr",
     "output_type": "stream",
     "text": [
      "[Parallel(n_jobs=16)]: Using backend LokyBackend with 16 concurrent workers.\n",
      "[Parallel(n_jobs=16)]: Done  18 tasks      | elapsed:   37.1s\n",
      "[Parallel(n_jobs=16)]: Done  60 out of  60 | elapsed:  1.2min finished\n",
      "[Parallel(n_jobs=16)]: Using backend LokyBackend with 16 concurrent workers.\n",
      "[Parallel(n_jobs=16)]: Done  18 tasks      | elapsed:   12.7s\n",
      "[Parallel(n_jobs=16)]: Done  60 out of  60 | elapsed:   27.0s finished\n",
      "[Parallel(n_jobs=16)]: Using backend LokyBackend with 16 concurrent workers.\n",
      "[Parallel(n_jobs=16)]: Done  18 tasks      | elapsed:   30.5s\n",
      "[Parallel(n_jobs=16)]: Done  57 out of  57 | elapsed:   51.9s finished\n",
      "[Parallel(n_jobs=16)]: Using backend LokyBackend with 16 concurrent workers.\n",
      "[Parallel(n_jobs=16)]: Done  18 tasks      | elapsed:   11.3s\n",
      "[Parallel(n_jobs=16)]: Done  57 out of  57 | elapsed:   20.6s finished\n"
     ]
    },
    {
     "name": "stdout",
     "output_type": "stream",
     "text": [
      "Size:53.00 TPR:0.92 FPR:0.91\n"
     ]
    },
    {
     "name": "stderr",
     "output_type": "stream",
     "text": [
      "[Parallel(n_jobs=16)]: Using backend LokyBackend with 16 concurrent workers.\n",
      "[Parallel(n_jobs=16)]: Done  18 tasks      | elapsed:   36.9s\n",
      "[Parallel(n_jobs=16)]: Done  60 out of  60 | elapsed:  1.2min finished\n",
      "[Parallel(n_jobs=16)]: Using backend LokyBackend with 16 concurrent workers.\n",
      "[Parallel(n_jobs=16)]: Done  18 tasks      | elapsed:   13.7s\n",
      "[Parallel(n_jobs=16)]: Done  60 out of  60 | elapsed:   27.6s finished\n",
      "[Parallel(n_jobs=16)]: Using backend LokyBackend with 16 concurrent workers.\n",
      "[Parallel(n_jobs=16)]: Done  18 tasks      | elapsed:   30.2s\n",
      "[Parallel(n_jobs=16)]: Done  57 out of  57 | elapsed:   51.6s finished\n",
      "[Parallel(n_jobs=16)]: Using backend LokyBackend with 16 concurrent workers.\n",
      "[Parallel(n_jobs=16)]: Done  18 tasks      | elapsed:   11.3s\n",
      "[Parallel(n_jobs=16)]: Done  57 out of  57 | elapsed:   20.5s finished\n"
     ]
    },
    {
     "name": "stdout",
     "output_type": "stream",
     "text": [
      "Size:59.00 TPR:0.94 FPR:0.92\n"
     ]
    },
    {
     "name": "stderr",
     "output_type": "stream",
     "text": [
      "[Parallel(n_jobs=16)]: Using backend LokyBackend with 16 concurrent workers.\n",
      "[Parallel(n_jobs=16)]: Done  18 tasks      | elapsed:   36.8s\n",
      "[Parallel(n_jobs=16)]: Done  60 out of  60 | elapsed:  1.2min finished\n",
      "[Parallel(n_jobs=16)]: Using backend LokyBackend with 16 concurrent workers.\n",
      "[Parallel(n_jobs=16)]: Done  18 tasks      | elapsed:   13.9s\n",
      "[Parallel(n_jobs=16)]: Done  60 out of  60 | elapsed:   28.3s finished\n",
      "[Parallel(n_jobs=16)]: Using backend LokyBackend with 16 concurrent workers.\n",
      "[Parallel(n_jobs=16)]: Done  18 tasks      | elapsed:   30.2s\n",
      "[Parallel(n_jobs=16)]: Done  57 out of  57 | elapsed:   51.4s finished\n",
      "[Parallel(n_jobs=16)]: Using backend LokyBackend with 16 concurrent workers.\n",
      "[Parallel(n_jobs=16)]: Done  18 tasks      | elapsed:   11.3s\n",
      "[Parallel(n_jobs=16)]: Done  57 out of  57 | elapsed:   20.4s finished\n"
     ]
    },
    {
     "name": "stdout",
     "output_type": "stream",
     "text": [
      "Size:65.00 TPR:0.94 FPR:0.96\n"
     ]
    },
    {
     "name": "stderr",
     "output_type": "stream",
     "text": [
      "[Parallel(n_jobs=16)]: Using backend LokyBackend with 16 concurrent workers.\n",
      "[Parallel(n_jobs=16)]: Done  18 tasks      | elapsed:   37.0s\n",
      "[Parallel(n_jobs=16)]: Done  60 out of  60 | elapsed:  1.2min finished\n",
      "[Parallel(n_jobs=16)]: Using backend LokyBackend with 16 concurrent workers.\n",
      "[Parallel(n_jobs=16)]: Done  18 tasks      | elapsed:   13.5s\n",
      "[Parallel(n_jobs=16)]: Done  60 out of  60 | elapsed:   26.9s finished\n",
      "[Parallel(n_jobs=16)]: Using backend LokyBackend with 16 concurrent workers.\n",
      "[Parallel(n_jobs=16)]: Done  18 tasks      | elapsed:   30.2s\n",
      "[Parallel(n_jobs=16)]: Done  57 out of  57 | elapsed:   51.8s finished\n",
      "[Parallel(n_jobs=16)]: Using backend LokyBackend with 16 concurrent workers.\n",
      "[Parallel(n_jobs=16)]: Done  18 tasks      | elapsed:   11.3s\n",
      "[Parallel(n_jobs=16)]: Done  57 out of  57 | elapsed:   20.7s finished\n"
     ]
    },
    {
     "name": "stdout",
     "output_type": "stream",
     "text": [
      "Size:73.00 TPR:0.94 FPR:0.91\n"
     ]
    },
    {
     "name": "stderr",
     "output_type": "stream",
     "text": [
      "[Parallel(n_jobs=16)]: Using backend LokyBackend with 16 concurrent workers.\n",
      "[Parallel(n_jobs=16)]: Done  18 tasks      | elapsed:   36.7s\n",
      "[Parallel(n_jobs=16)]: Done  60 out of  60 | elapsed:  1.2min finished\n",
      "[Parallel(n_jobs=16)]: Using backend LokyBackend with 16 concurrent workers.\n",
      "[Parallel(n_jobs=16)]: Done  18 tasks      | elapsed:   13.3s\n",
      "[Parallel(n_jobs=16)]: Done  60 out of  60 | elapsed:   26.9s finished\n",
      "[Parallel(n_jobs=16)]: Using backend LokyBackend with 16 concurrent workers.\n",
      "[Parallel(n_jobs=16)]: Done  18 tasks      | elapsed:   30.1s\n",
      "[Parallel(n_jobs=16)]: Done  57 out of  57 | elapsed:   51.8s finished\n",
      "[Parallel(n_jobs=16)]: Using backend LokyBackend with 16 concurrent workers.\n",
      "[Parallel(n_jobs=16)]: Done  18 tasks      | elapsed:   12.1s\n",
      "[Parallel(n_jobs=16)]: Done  57 out of  57 | elapsed:   21.5s finished\n"
     ]
    },
    {
     "name": "stdout",
     "output_type": "stream",
     "text": [
      "Size:81.00 TPR:0.96 FPR:0.93\n"
     ]
    },
    {
     "name": "stderr",
     "output_type": "stream",
     "text": [
      "[Parallel(n_jobs=16)]: Using backend LokyBackend with 16 concurrent workers.\n",
      "[Parallel(n_jobs=16)]: Done  18 tasks      | elapsed:   37.3s\n",
      "[Parallel(n_jobs=16)]: Done  60 out of  60 | elapsed:  1.2min finished\n",
      "[Parallel(n_jobs=16)]: Using backend LokyBackend with 16 concurrent workers.\n",
      "[Parallel(n_jobs=16)]: Done  18 tasks      | elapsed:   13.4s\n",
      "[Parallel(n_jobs=16)]: Done  60 out of  60 | elapsed:   27.1s finished\n",
      "[Parallel(n_jobs=16)]: Using backend LokyBackend with 16 concurrent workers.\n",
      "[Parallel(n_jobs=16)]: Done  18 tasks      | elapsed:   27.2s\n",
      "[Parallel(n_jobs=16)]: Done  57 out of  57 | elapsed:   52.8s finished\n",
      "[Parallel(n_jobs=16)]: Using backend LokyBackend with 16 concurrent workers.\n",
      "[Parallel(n_jobs=16)]: Done  18 tasks      | elapsed:   11.5s\n",
      "[Parallel(n_jobs=16)]: Done  57 out of  57 | elapsed:   20.7s finished\n"
     ]
    },
    {
     "name": "stdout",
     "output_type": "stream",
     "text": [
      "Size:89.00 TPR:0.97 FPR:0.94\n"
     ]
    },
    {
     "name": "stderr",
     "output_type": "stream",
     "text": [
      "[Parallel(n_jobs=16)]: Using backend LokyBackend with 16 concurrent workers.\n",
      "[Parallel(n_jobs=16)]: Done  18 tasks      | elapsed:   36.5s\n",
      "[Parallel(n_jobs=16)]: Done  60 out of  60 | elapsed:  1.2min finished\n",
      "[Parallel(n_jobs=16)]: Using backend LokyBackend with 16 concurrent workers.\n",
      "[Parallel(n_jobs=16)]: Done  18 tasks      | elapsed:   11.1s\n",
      "[Parallel(n_jobs=16)]: Done  60 out of  60 | elapsed:   28.0s finished\n",
      "[Parallel(n_jobs=16)]: Using backend LokyBackend with 16 concurrent workers.\n",
      "[Parallel(n_jobs=16)]: Done  18 tasks      | elapsed:   30.3s\n",
      "[Parallel(n_jobs=16)]: Done  57 out of  57 | elapsed:   51.6s finished\n",
      "[Parallel(n_jobs=16)]: Using backend LokyBackend with 16 concurrent workers.\n",
      "[Parallel(n_jobs=16)]: Done  18 tasks      | elapsed:   11.3s\n",
      "[Parallel(n_jobs=16)]: Done  57 out of  57 | elapsed:   20.7s finished\n"
     ]
    },
    {
     "name": "stdout",
     "output_type": "stream",
     "text": [
      "Size:99.00 TPR:0.97 FPR:0.91\n"
     ]
    },
    {
     "name": "stderr",
     "output_type": "stream",
     "text": [
      "[Parallel(n_jobs=16)]: Using backend LokyBackend with 16 concurrent workers.\n",
      "[Parallel(n_jobs=16)]: Done  18 tasks      | elapsed:   37.5s\n",
      "[Parallel(n_jobs=16)]: Done  60 out of  60 | elapsed:  1.2min finished\n",
      "[Parallel(n_jobs=16)]: Using backend LokyBackend with 16 concurrent workers.\n",
      "[Parallel(n_jobs=16)]: Done  18 tasks      | elapsed:   13.4s\n",
      "[Parallel(n_jobs=16)]: Done  60 out of  60 | elapsed:   27.1s finished\n",
      "[Parallel(n_jobs=16)]: Using backend LokyBackend with 16 concurrent workers.\n",
      "[Parallel(n_jobs=16)]: Done  18 tasks      | elapsed:   30.3s\n",
      "[Parallel(n_jobs=16)]: Done  57 out of  57 | elapsed:   51.9s finished\n",
      "[Parallel(n_jobs=16)]: Using backend LokyBackend with 16 concurrent workers.\n",
      "[Parallel(n_jobs=16)]: Done  18 tasks      | elapsed:   11.6s\n",
      "[Parallel(n_jobs=16)]: Done  57 out of  57 | elapsed:   20.8s finished\n"
     ]
    },
    {
     "name": "stdout",
     "output_type": "stream",
     "text": [
      "Size:110.00 TPR:0.98 FPR:0.93\n"
     ]
    },
    {
     "name": "stderr",
     "output_type": "stream",
     "text": [
      "[Parallel(n_jobs=16)]: Using backend LokyBackend with 16 concurrent workers.\n",
      "[Parallel(n_jobs=16)]: Done  18 tasks      | elapsed:   36.1s\n",
      "[Parallel(n_jobs=16)]: Done  60 out of  60 | elapsed:  1.2min finished\n",
      "[Parallel(n_jobs=16)]: Using backend LokyBackend with 16 concurrent workers.\n",
      "[Parallel(n_jobs=16)]: Done  18 tasks      | elapsed:   13.6s\n",
      "[Parallel(n_jobs=16)]: Done  60 out of  60 | elapsed:   27.1s finished\n",
      "[Parallel(n_jobs=16)]: Using backend LokyBackend with 16 concurrent workers.\n",
      "[Parallel(n_jobs=16)]: Done  18 tasks      | elapsed:   30.5s\n",
      "[Parallel(n_jobs=16)]: Done  57 out of  57 | elapsed:   51.9s finished\n",
      "[Parallel(n_jobs=16)]: Using backend LokyBackend with 16 concurrent workers.\n",
      "[Parallel(n_jobs=16)]: Done  18 tasks      | elapsed:   11.4s\n",
      "[Parallel(n_jobs=16)]: Done  57 out of  57 | elapsed:   20.8s finished\n"
     ]
    },
    {
     "name": "stdout",
     "output_type": "stream",
     "text": [
      "Size:122.00 TPR:0.97 FPR:0.92\n"
     ]
    },
    {
     "name": "stderr",
     "output_type": "stream",
     "text": [
      "[Parallel(n_jobs=16)]: Using backend LokyBackend with 16 concurrent workers.\n",
      "[Parallel(n_jobs=16)]: Done  18 tasks      | elapsed:   37.4s\n",
      "[Parallel(n_jobs=16)]: Done  60 out of  60 | elapsed:  1.2min finished\n",
      "[Parallel(n_jobs=16)]: Using backend LokyBackend with 16 concurrent workers.\n",
      "[Parallel(n_jobs=16)]: Done  18 tasks      | elapsed:   13.2s\n",
      "[Parallel(n_jobs=16)]: Done  60 out of  60 | elapsed:   27.2s finished\n",
      "[Parallel(n_jobs=16)]: Using backend LokyBackend with 16 concurrent workers.\n",
      "[Parallel(n_jobs=16)]: Done  18 tasks      | elapsed:   30.6s\n",
      "[Parallel(n_jobs=16)]: Done  57 out of  57 | elapsed:   51.9s finished\n",
      "[Parallel(n_jobs=16)]: Using backend LokyBackend with 16 concurrent workers.\n",
      "[Parallel(n_jobs=16)]: Done  18 tasks      | elapsed:   11.6s\n",
      "[Parallel(n_jobs=16)]: Done  57 out of  57 | elapsed:   20.7s finished\n"
     ]
    },
    {
     "name": "stdout",
     "output_type": "stream",
     "text": [
      "Size:136.00 TPR:0.98 FPR:0.97\n"
     ]
    },
    {
     "name": "stderr",
     "output_type": "stream",
     "text": [
      "[Parallel(n_jobs=16)]: Using backend LokyBackend with 16 concurrent workers.\n",
      "[Parallel(n_jobs=16)]: Done  18 tasks      | elapsed:   36.4s\n",
      "[Parallel(n_jobs=16)]: Done  60 out of  60 | elapsed:  1.2min finished\n",
      "[Parallel(n_jobs=16)]: Using backend LokyBackend with 16 concurrent workers.\n",
      "[Parallel(n_jobs=16)]: Done  18 tasks      | elapsed:   11.3s\n",
      "[Parallel(n_jobs=16)]: Done  60 out of  60 | elapsed:   27.7s finished\n",
      "[Parallel(n_jobs=16)]: Using backend LokyBackend with 16 concurrent workers.\n",
      "[Parallel(n_jobs=16)]: Done  18 tasks      | elapsed:   30.4s\n",
      "[Parallel(n_jobs=16)]: Done  57 out of  57 | elapsed:   52.4s finished\n",
      "[Parallel(n_jobs=16)]: Using backend LokyBackend with 16 concurrent workers.\n",
      "[Parallel(n_jobs=16)]: Done  18 tasks      | elapsed:   11.3s\n",
      "[Parallel(n_jobs=16)]: Done  57 out of  57 | elapsed:   20.6s finished\n"
     ]
    },
    {
     "name": "stdout",
     "output_type": "stream",
     "text": [
      "Size:150.00 TPR:0.97 FPR:0.96\n"
     ]
    },
    {
     "name": "stderr",
     "output_type": "stream",
     "text": [
      "[Parallel(n_jobs=16)]: Using backend LokyBackend with 16 concurrent workers.\n",
      "[Parallel(n_jobs=16)]: Done  18 tasks      | elapsed:   37.0s\n",
      "[Parallel(n_jobs=16)]: Done  60 out of  60 | elapsed:  1.2min finished\n",
      "[Parallel(n_jobs=16)]: Using backend LokyBackend with 16 concurrent workers.\n",
      "[Parallel(n_jobs=16)]: Done  18 tasks      | elapsed:   13.3s\n",
      "[Parallel(n_jobs=16)]: Done  60 out of  60 | elapsed:   27.3s finished\n",
      "[Parallel(n_jobs=16)]: Using backend LokyBackend with 16 concurrent workers.\n",
      "[Parallel(n_jobs=16)]: Done  18 tasks      | elapsed:   30.4s\n",
      "[Parallel(n_jobs=16)]: Done  57 out of  57 | elapsed:   52.0s finished\n",
      "[Parallel(n_jobs=16)]: Using backend LokyBackend with 16 concurrent workers.\n",
      "[Parallel(n_jobs=16)]: Done  18 tasks      | elapsed:   11.5s\n",
      "[Parallel(n_jobs=16)]: Done  57 out of  57 | elapsed:   21.0s finished\n"
     ]
    },
    {
     "name": "stdout",
     "output_type": "stream",
     "text": [
      "Size:167.00 TPR:0.97 FPR:0.92\n"
     ]
    },
    {
     "name": "stderr",
     "output_type": "stream",
     "text": [
      "[Parallel(n_jobs=16)]: Using backend LokyBackend with 16 concurrent workers.\n",
      "[Parallel(n_jobs=16)]: Done  18 tasks      | elapsed:   38.4s\n",
      "[Parallel(n_jobs=16)]: Done  60 out of  60 | elapsed:  1.2min finished\n",
      "[Parallel(n_jobs=16)]: Using backend LokyBackend with 16 concurrent workers.\n",
      "[Parallel(n_jobs=16)]: Done  18 tasks      | elapsed:   13.8s\n",
      "[Parallel(n_jobs=16)]: Done  60 out of  60 | elapsed:   27.3s finished\n",
      "[Parallel(n_jobs=16)]: Using backend LokyBackend with 16 concurrent workers.\n",
      "[Parallel(n_jobs=16)]: Done  18 tasks      | elapsed:   30.6s\n",
      "[Parallel(n_jobs=16)]: Done  57 out of  57 | elapsed:   52.2s finished\n",
      "[Parallel(n_jobs=16)]: Using backend LokyBackend with 16 concurrent workers.\n",
      "[Parallel(n_jobs=16)]: Done  18 tasks      | elapsed:   12.0s\n",
      "[Parallel(n_jobs=16)]: Done  57 out of  57 | elapsed:   21.7s finished\n"
     ]
    },
    {
     "name": "stdout",
     "output_type": "stream",
     "text": [
      "Size:185.00 TPR:0.97 FPR:0.94\n"
     ]
    },
    {
     "name": "stderr",
     "output_type": "stream",
     "text": [
      "[Parallel(n_jobs=16)]: Using backend LokyBackend with 16 concurrent workers.\n",
      "[Parallel(n_jobs=16)]: Done  18 tasks      | elapsed:   37.0s\n",
      "[Parallel(n_jobs=16)]: Done  60 out of  60 | elapsed:  1.2min finished\n",
      "[Parallel(n_jobs=16)]: Using backend LokyBackend with 16 concurrent workers.\n",
      "[Parallel(n_jobs=16)]: Done  18 tasks      | elapsed:   13.8s\n",
      "[Parallel(n_jobs=16)]: Done  60 out of  60 | elapsed:   27.1s finished\n",
      "[Parallel(n_jobs=16)]: Using backend LokyBackend with 16 concurrent workers.\n",
      "[Parallel(n_jobs=16)]: Done  18 tasks      | elapsed:   29.6s\n",
      "[Parallel(n_jobs=16)]: Done  57 out of  57 | elapsed:   53.1s finished\n",
      "[Parallel(n_jobs=16)]: Using backend LokyBackend with 16 concurrent workers.\n",
      "[Parallel(n_jobs=16)]: Done  18 tasks      | elapsed:   11.5s\n",
      "[Parallel(n_jobs=16)]: Done  57 out of  57 | elapsed:   21.0s finished\n"
     ]
    },
    {
     "name": "stdout",
     "output_type": "stream",
     "text": [
      "Size:205.00 TPR:0.98 FPR:0.96\n"
     ]
    },
    {
     "name": "stderr",
     "output_type": "stream",
     "text": [
      "[Parallel(n_jobs=16)]: Using backend LokyBackend with 16 concurrent workers.\n",
      "[Parallel(n_jobs=16)]: Done  18 tasks      | elapsed:   37.3s\n",
      "[Parallel(n_jobs=16)]: Done  60 out of  60 | elapsed:  1.2min finished\n",
      "[Parallel(n_jobs=16)]: Using backend LokyBackend with 16 concurrent workers.\n",
      "[Parallel(n_jobs=16)]: Done  18 tasks      | elapsed:   13.3s\n",
      "[Parallel(n_jobs=16)]: Done  60 out of  60 | elapsed:   28.1s finished\n",
      "[Parallel(n_jobs=16)]: Using backend LokyBackend with 16 concurrent workers.\n",
      "[Parallel(n_jobs=16)]: Done  18 tasks      | elapsed:   30.7s\n",
      "[Parallel(n_jobs=16)]: Done  57 out of  57 | elapsed:   52.6s finished\n",
      "[Parallel(n_jobs=16)]: Using backend LokyBackend with 16 concurrent workers.\n",
      "[Parallel(n_jobs=16)]: Done  18 tasks      | elapsed:   11.7s\n",
      "[Parallel(n_jobs=16)]: Done  57 out of  57 | elapsed:   21.2s finished\n"
     ]
    },
    {
     "name": "stdout",
     "output_type": "stream",
     "text": [
      "Size:228.00 TPR:0.98 FPR:0.93\n"
     ]
    },
    {
     "name": "stderr",
     "output_type": "stream",
     "text": [
      "[Parallel(n_jobs=16)]: Using backend LokyBackend with 16 concurrent workers.\n",
      "[Parallel(n_jobs=16)]: Done  18 tasks      | elapsed:   37.7s\n",
      "[Parallel(n_jobs=16)]: Done  60 out of  60 | elapsed:  1.2min finished\n",
      "[Parallel(n_jobs=16)]: Using backend LokyBackend with 16 concurrent workers.\n",
      "[Parallel(n_jobs=16)]: Done  18 tasks      | elapsed:   11.5s\n",
      "[Parallel(n_jobs=16)]: Done  60 out of  60 | elapsed:   27.6s finished\n",
      "[Parallel(n_jobs=16)]: Using backend LokyBackend with 16 concurrent workers.\n",
      "[Parallel(n_jobs=16)]: Done  18 tasks      | elapsed:   30.5s\n",
      "[Parallel(n_jobs=16)]: Done  57 out of  57 | elapsed:   52.5s finished\n",
      "[Parallel(n_jobs=16)]: Using backend LokyBackend with 16 concurrent workers.\n",
      "[Parallel(n_jobs=16)]: Done  18 tasks      | elapsed:   11.4s\n",
      "[Parallel(n_jobs=16)]: Done  57 out of  57 | elapsed:   20.9s finished\n"
     ]
    },
    {
     "name": "stdout",
     "output_type": "stream",
     "text": [
      "Size:252.00 TPR:0.99 FPR:0.93\n"
     ]
    },
    {
     "name": "stderr",
     "output_type": "stream",
     "text": [
      "[Parallel(n_jobs=16)]: Using backend LokyBackend with 16 concurrent workers.\n",
      "[Parallel(n_jobs=16)]: Done  18 tasks      | elapsed:   35.6s\n",
      "[Parallel(n_jobs=16)]: Done  60 out of  60 | elapsed:  1.2min finished\n",
      "[Parallel(n_jobs=16)]: Using backend LokyBackend with 16 concurrent workers.\n",
      "[Parallel(n_jobs=16)]: Done  18 tasks      | elapsed:   13.0s\n",
      "[Parallel(n_jobs=16)]: Done  60 out of  60 | elapsed:   27.2s finished\n",
      "[Parallel(n_jobs=16)]: Using backend LokyBackend with 16 concurrent workers.\n",
      "[Parallel(n_jobs=16)]: Done  18 tasks      | elapsed:   30.4s\n",
      "[Parallel(n_jobs=16)]: Done  57 out of  57 | elapsed:   51.9s finished\n",
      "[Parallel(n_jobs=16)]: Using backend LokyBackend with 16 concurrent workers.\n",
      "[Parallel(n_jobs=16)]: Done  18 tasks      | elapsed:   11.4s\n",
      "[Parallel(n_jobs=16)]: Done  57 out of  57 | elapsed:   21.5s finished\n"
     ]
    },
    {
     "name": "stdout",
     "output_type": "stream",
     "text": [
      "Size:280.00 TPR:0.99 FPR:0.96\n"
     ]
    },
    {
     "name": "stderr",
     "output_type": "stream",
     "text": [
      "[Parallel(n_jobs=16)]: Using backend LokyBackend with 16 concurrent workers.\n",
      "[Parallel(n_jobs=16)]: Done  18 tasks      | elapsed:   37.7s\n",
      "[Parallel(n_jobs=16)]: Done  60 out of  60 | elapsed:  1.2min finished\n",
      "[Parallel(n_jobs=16)]: Using backend LokyBackend with 16 concurrent workers.\n",
      "[Parallel(n_jobs=16)]: Done  18 tasks      | elapsed:   13.5s\n",
      "[Parallel(n_jobs=16)]: Done  60 out of  60 | elapsed:   27.3s finished\n",
      "[Parallel(n_jobs=16)]: Using backend LokyBackend with 16 concurrent workers.\n",
      "[Parallel(n_jobs=16)]: Done  18 tasks      | elapsed:   30.4s\n",
      "[Parallel(n_jobs=16)]: Done  57 out of  57 | elapsed:   52.7s finished\n",
      "[Parallel(n_jobs=16)]: Using backend LokyBackend with 16 concurrent workers.\n",
      "[Parallel(n_jobs=16)]: Done  18 tasks      | elapsed:   11.6s\n",
      "[Parallel(n_jobs=16)]: Done  57 out of  57 | elapsed:   21.0s finished\n"
     ]
    },
    {
     "name": "stdout",
     "output_type": "stream",
     "text": [
      "Size:311.00 TPR:0.98 FPR:0.92\n"
     ]
    },
    {
     "name": "stderr",
     "output_type": "stream",
     "text": [
      "[Parallel(n_jobs=16)]: Using backend LokyBackend with 16 concurrent workers.\n",
      "[Parallel(n_jobs=16)]: Done  18 tasks      | elapsed:   37.2s\n",
      "[Parallel(n_jobs=16)]: Done  60 out of  60 | elapsed:  1.2min finished\n",
      "[Parallel(n_jobs=16)]: Using backend LokyBackend with 16 concurrent workers.\n",
      "[Parallel(n_jobs=16)]: Done  18 tasks      | elapsed:   13.7s\n",
      "[Parallel(n_jobs=16)]: Done  60 out of  60 | elapsed:   27.4s finished\n",
      "[Parallel(n_jobs=16)]: Using backend LokyBackend with 16 concurrent workers.\n",
      "[Parallel(n_jobs=16)]: Done  18 tasks      | elapsed:   31.3s\n",
      "[Parallel(n_jobs=16)]: Done  57 out of  57 | elapsed:   53.3s finished\n",
      "[Parallel(n_jobs=16)]: Using backend LokyBackend with 16 concurrent workers.\n",
      "[Parallel(n_jobs=16)]: Done  18 tasks      | elapsed:   11.6s\n",
      "[Parallel(n_jobs=16)]: Done  57 out of  57 | elapsed:   20.8s finished\n"
     ]
    },
    {
     "name": "stdout",
     "output_type": "stream",
     "text": [
      "Size:344.00 TPR:0.99 FPR:0.93\n"
     ]
    },
    {
     "name": "stderr",
     "output_type": "stream",
     "text": [
      "[Parallel(n_jobs=16)]: Using backend LokyBackend with 16 concurrent workers.\n",
      "[Parallel(n_jobs=16)]: Done  18 tasks      | elapsed:   37.0s\n",
      "[Parallel(n_jobs=16)]: Done  60 out of  60 | elapsed:  1.2min finished\n",
      "[Parallel(n_jobs=16)]: Using backend LokyBackend with 16 concurrent workers.\n",
      "[Parallel(n_jobs=16)]: Done  18 tasks      | elapsed:   10.8s\n",
      "[Parallel(n_jobs=16)]: Done  60 out of  60 | elapsed:   28.2s finished\n",
      "[Parallel(n_jobs=16)]: Using backend LokyBackend with 16 concurrent workers.\n",
      "[Parallel(n_jobs=16)]: Done  18 tasks      | elapsed:   30.8s\n",
      "[Parallel(n_jobs=16)]: Done  57 out of  57 | elapsed:   52.7s finished\n",
      "[Parallel(n_jobs=16)]: Using backend LokyBackend with 16 concurrent workers.\n",
      "[Parallel(n_jobs=16)]: Done  18 tasks      | elapsed:   11.8s\n",
      "[Parallel(n_jobs=16)]: Done  57 out of  57 | elapsed:   21.1s finished\n"
     ]
    },
    {
     "name": "stdout",
     "output_type": "stream",
     "text": [
      "Size:382.00 TPR:0.99 FPR:0.97\n"
     ]
    },
    {
     "name": "stderr",
     "output_type": "stream",
     "text": [
      "[Parallel(n_jobs=16)]: Using backend LokyBackend with 16 concurrent workers.\n",
      "[Parallel(n_jobs=16)]: Done  18 tasks      | elapsed:   38.0s\n",
      "[Parallel(n_jobs=16)]: Done  60 out of  60 | elapsed:  1.2min finished\n",
      "[Parallel(n_jobs=16)]: Using backend LokyBackend with 16 concurrent workers.\n",
      "[Parallel(n_jobs=16)]: Done  18 tasks      | elapsed:   14.0s\n",
      "[Parallel(n_jobs=16)]: Done  60 out of  60 | elapsed:   27.4s finished\n",
      "[Parallel(n_jobs=16)]: Using backend LokyBackend with 16 concurrent workers.\n",
      "[Parallel(n_jobs=16)]: Done  18 tasks      | elapsed:   31.1s\n",
      "[Parallel(n_jobs=16)]: Done  57 out of  57 | elapsed:   53.2s finished\n",
      "[Parallel(n_jobs=16)]: Using backend LokyBackend with 16 concurrent workers.\n",
      "[Parallel(n_jobs=16)]: Done  18 tasks      | elapsed:   11.5s\n",
      "[Parallel(n_jobs=16)]: Done  57 out of  57 | elapsed:   21.0s finished\n"
     ]
    },
    {
     "name": "stdout",
     "output_type": "stream",
     "text": [
      "Size:424.00 TPR:0.99 FPR:0.95\n"
     ]
    },
    {
     "name": "stderr",
     "output_type": "stream",
     "text": [
      "[Parallel(n_jobs=16)]: Using backend LokyBackend with 16 concurrent workers.\n",
      "[Parallel(n_jobs=16)]: Done  18 tasks      | elapsed:   37.7s\n",
      "[Parallel(n_jobs=16)]: Done  60 out of  60 | elapsed:  1.2min finished\n",
      "[Parallel(n_jobs=16)]: Using backend LokyBackend with 16 concurrent workers.\n",
      "[Parallel(n_jobs=16)]: Done  18 tasks      | elapsed:   13.9s\n",
      "[Parallel(n_jobs=16)]: Done  60 out of  60 | elapsed:   27.6s finished\n",
      "[Parallel(n_jobs=16)]: Using backend LokyBackend with 16 concurrent workers.\n",
      "[Parallel(n_jobs=16)]: Done  18 tasks      | elapsed:   31.0s\n",
      "[Parallel(n_jobs=16)]: Done  57 out of  57 | elapsed:   53.2s finished\n",
      "[Parallel(n_jobs=16)]: Using backend LokyBackend with 16 concurrent workers.\n",
      "[Parallel(n_jobs=16)]: Done  18 tasks      | elapsed:   11.7s\n",
      "[Parallel(n_jobs=16)]: Done  57 out of  57 | elapsed:   21.1s finished\n"
     ]
    },
    {
     "name": "stdout",
     "output_type": "stream",
     "text": [
      "Size:470.00 TPR:0.99 FPR:0.93\n"
     ]
    },
    {
     "name": "stderr",
     "output_type": "stream",
     "text": [
      "[Parallel(n_jobs=16)]: Using backend LokyBackend with 16 concurrent workers.\n",
      "[Parallel(n_jobs=16)]: Done  18 tasks      | elapsed:   38.6s\n",
      "[Parallel(n_jobs=16)]: Done  60 out of  60 | elapsed:  1.2min finished\n",
      "[Parallel(n_jobs=16)]: Using backend LokyBackend with 16 concurrent workers.\n",
      "[Parallel(n_jobs=16)]: Done  18 tasks      | elapsed:   13.8s\n",
      "[Parallel(n_jobs=16)]: Done  60 out of  60 | elapsed:   27.9s finished\n",
      "[Parallel(n_jobs=16)]: Using backend LokyBackend with 16 concurrent workers.\n",
      "[Parallel(n_jobs=16)]: Done  18 tasks      | elapsed:   29.2s\n",
      "[Parallel(n_jobs=16)]: Done  57 out of  57 | elapsed:   53.6s finished\n",
      "[Parallel(n_jobs=16)]: Using backend LokyBackend with 16 concurrent workers.\n",
      "[Parallel(n_jobs=16)]: Done  18 tasks      | elapsed:   11.9s\n",
      "[Parallel(n_jobs=16)]: Done  57 out of  57 | elapsed:   21.6s finished\n"
     ]
    },
    {
     "name": "stdout",
     "output_type": "stream",
     "text": [
      "Size:521.00 TPR:0.99 FPR:0.95\n"
     ]
    },
    {
     "name": "stderr",
     "output_type": "stream",
     "text": [
      "[Parallel(n_jobs=16)]: Using backend LokyBackend with 16 concurrent workers.\n",
      "[Parallel(n_jobs=16)]: Done  18 tasks      | elapsed:   38.7s\n",
      "[Parallel(n_jobs=16)]: Done  60 out of  60 | elapsed:  1.2min finished\n",
      "[Parallel(n_jobs=16)]: Using backend LokyBackend with 16 concurrent workers.\n",
      "[Parallel(n_jobs=16)]: Done  18 tasks      | elapsed:   13.9s\n",
      "[Parallel(n_jobs=16)]: Done  60 out of  60 | elapsed:   29.0s finished\n",
      "[Parallel(n_jobs=16)]: Using backend LokyBackend with 16 concurrent workers.\n",
      "[Parallel(n_jobs=16)]: Done  18 tasks      | elapsed:   31.7s\n",
      "[Parallel(n_jobs=16)]: Done  57 out of  57 | elapsed:   54.3s finished\n",
      "[Parallel(n_jobs=16)]: Using backend LokyBackend with 16 concurrent workers.\n",
      "[Parallel(n_jobs=16)]: Done  18 tasks      | elapsed:   11.8s\n",
      "[Parallel(n_jobs=16)]: Done  57 out of  57 | elapsed:   21.5s finished\n"
     ]
    },
    {
     "name": "stdout",
     "output_type": "stream",
     "text": [
      "Size:578.00 TPR:0.99 FPR:0.95\n"
     ]
    },
    {
     "name": "stderr",
     "output_type": "stream",
     "text": [
      "[Parallel(n_jobs=16)]: Using backend LokyBackend with 16 concurrent workers.\n",
      "[Parallel(n_jobs=16)]: Done  18 tasks      | elapsed:   39.2s\n",
      "[Parallel(n_jobs=16)]: Done  60 out of  60 | elapsed:  1.2min finished\n",
      "[Parallel(n_jobs=16)]: Using backend LokyBackend with 16 concurrent workers.\n",
      "[Parallel(n_jobs=16)]: Done  18 tasks      | elapsed:   12.2s\n",
      "[Parallel(n_jobs=16)]: Done  60 out of  60 | elapsed:   28.7s finished\n",
      "[Parallel(n_jobs=16)]: Using backend LokyBackend with 16 concurrent workers.\n",
      "[Parallel(n_jobs=16)]: Done  18 tasks      | elapsed:   31.8s\n",
      "[Parallel(n_jobs=16)]: Done  57 out of  57 | elapsed:   54.3s finished\n",
      "[Parallel(n_jobs=16)]: Using backend LokyBackend with 16 concurrent workers.\n",
      "[Parallel(n_jobs=16)]: Done  18 tasks      | elapsed:   11.9s\n",
      "[Parallel(n_jobs=16)]: Done  57 out of  57 | elapsed:   21.4s finished\n"
     ]
    },
    {
     "name": "stdout",
     "output_type": "stream",
     "text": [
      "Size:641.00 TPR:0.99 FPR:0.94\n"
     ]
    },
    {
     "name": "stderr",
     "output_type": "stream",
     "text": [
      "[Parallel(n_jobs=16)]: Using backend LokyBackend with 16 concurrent workers.\n",
      "[Parallel(n_jobs=16)]: Done  18 tasks      | elapsed:   40.0s\n",
      "[Parallel(n_jobs=16)]: Done  60 out of  60 | elapsed:  1.2min finished\n",
      "[Parallel(n_jobs=16)]: Using backend LokyBackend with 16 concurrent workers.\n",
      "[Parallel(n_jobs=16)]: Done  18 tasks      | elapsed:   14.2s\n",
      "[Parallel(n_jobs=16)]: Done  60 out of  60 | elapsed:   28.5s finished\n",
      "[Parallel(n_jobs=16)]: Using backend LokyBackend with 16 concurrent workers.\n",
      "[Parallel(n_jobs=16)]: Done  18 tasks      | elapsed:   31.7s\n",
      "[Parallel(n_jobs=16)]: Done  57 out of  57 | elapsed:   54.2s finished\n",
      "[Parallel(n_jobs=16)]: Using backend LokyBackend with 16 concurrent workers.\n",
      "[Parallel(n_jobs=16)]: Done  18 tasks      | elapsed:   12.0s\n",
      "[Parallel(n_jobs=16)]: Done  57 out of  57 | elapsed:   22.3s finished\n"
     ]
    },
    {
     "name": "stdout",
     "output_type": "stream",
     "text": [
      "Size:711.00 TPR:0.99 FPR:0.96\n"
     ]
    },
    {
     "name": "stderr",
     "output_type": "stream",
     "text": [
      "[Parallel(n_jobs=16)]: Using backend LokyBackend with 16 concurrent workers.\n",
      "[Parallel(n_jobs=16)]: Done  18 tasks      | elapsed:   39.4s\n",
      "[Parallel(n_jobs=16)]: Done  60 out of  60 | elapsed:  1.2min finished\n",
      "[Parallel(n_jobs=16)]: Using backend LokyBackend with 16 concurrent workers.\n",
      "[Parallel(n_jobs=16)]: Done  18 tasks      | elapsed:   14.5s\n",
      "[Parallel(n_jobs=16)]: Done  60 out of  60 | elapsed:   28.4s finished\n",
      "[Parallel(n_jobs=16)]: Using backend LokyBackend with 16 concurrent workers.\n",
      "[Parallel(n_jobs=16)]: Done  18 tasks      | elapsed:   32.1s\n",
      "[Parallel(n_jobs=16)]: Done  57 out of  57 | elapsed:   54.9s finished\n",
      "[Parallel(n_jobs=16)]: Using backend LokyBackend with 16 concurrent workers.\n",
      "[Parallel(n_jobs=16)]: Done  18 tasks      | elapsed:   12.7s\n",
      "[Parallel(n_jobs=16)]: Done  57 out of  57 | elapsed:   22.4s finished\n"
     ]
    },
    {
     "name": "stdout",
     "output_type": "stream",
     "text": [
      "Size:788.00 TPR:0.99 FPR:0.94\n"
     ]
    },
    {
     "name": "stderr",
     "output_type": "stream",
     "text": [
      "[Parallel(n_jobs=16)]: Using backend LokyBackend with 16 concurrent workers.\n",
      "[Parallel(n_jobs=16)]: Done  18 tasks      | elapsed:   40.2s\n",
      "[Parallel(n_jobs=16)]: Done  60 out of  60 | elapsed:  1.2min finished\n",
      "[Parallel(n_jobs=16)]: Using backend LokyBackend with 16 concurrent workers.\n",
      "[Parallel(n_jobs=16)]: Done  18 tasks      | elapsed:   14.3s\n",
      "[Parallel(n_jobs=16)]: Done  60 out of  60 | elapsed:   28.7s finished\n",
      "[Parallel(n_jobs=16)]: Using backend LokyBackend with 16 concurrent workers.\n",
      "[Parallel(n_jobs=16)]: Done  18 tasks      | elapsed:   28.5s\n",
      "[Parallel(n_jobs=16)]: Done  57 out of  57 | elapsed:   55.8s finished\n",
      "[Parallel(n_jobs=16)]: Using backend LokyBackend with 16 concurrent workers.\n",
      "[Parallel(n_jobs=16)]: Done  18 tasks      | elapsed:   12.3s\n",
      "[Parallel(n_jobs=16)]: Done  57 out of  57 | elapsed:   22.1s finished\n"
     ]
    },
    {
     "name": "stdout",
     "output_type": "stream",
     "text": [
      "Size:874.00 TPR:0.99 FPR:0.93\n"
     ]
    },
    {
     "name": "stderr",
     "output_type": "stream",
     "text": [
      "[Parallel(n_jobs=16)]: Using backend LokyBackend with 16 concurrent workers.\n",
      "[Parallel(n_jobs=16)]: Done  18 tasks      | elapsed:   40.0s\n",
      "[Parallel(n_jobs=16)]: Done  60 out of  60 | elapsed:  1.3min finished\n",
      "[Parallel(n_jobs=16)]: Using backend LokyBackend with 16 concurrent workers.\n",
      "[Parallel(n_jobs=16)]: Done  18 tasks      | elapsed:   14.3s\n",
      "[Parallel(n_jobs=16)]: Done  60 out of  60 | elapsed:   29.5s finished\n",
      "[Parallel(n_jobs=16)]: Using backend LokyBackend with 16 concurrent workers.\n",
      "[Parallel(n_jobs=16)]: Done  18 tasks      | elapsed:   32.5s\n",
      "[Parallel(n_jobs=16)]: Done  57 out of  57 | elapsed:   55.6s finished\n",
      "[Parallel(n_jobs=16)]: Using backend LokyBackend with 16 concurrent workers.\n",
      "[Parallel(n_jobs=16)]: Done  18 tasks      | elapsed:   12.3s\n",
      "[Parallel(n_jobs=16)]: Done  57 out of  57 | elapsed:   22.2s finished\n"
     ]
    },
    {
     "name": "stdout",
     "output_type": "stream",
     "text": [
      "Size:969.00 TPR:0.99 FPR:0.95\n"
     ]
    },
    {
     "name": "stderr",
     "output_type": "stream",
     "text": [
      "[Parallel(n_jobs=16)]: Using backend LokyBackend with 16 concurrent workers.\n",
      "[Parallel(n_jobs=16)]: Done  18 tasks      | elapsed:   41.8s\n",
      "[Parallel(n_jobs=16)]: Done  60 out of  60 | elapsed:  1.3min finished\n",
      "[Parallel(n_jobs=16)]: Using backend LokyBackend with 16 concurrent workers.\n",
      "[Parallel(n_jobs=16)]: Done  18 tasks      | elapsed:   15.5s\n",
      "[Parallel(n_jobs=16)]: Done  60 out of  60 | elapsed:   30.4s finished\n",
      "[Parallel(n_jobs=16)]: Using backend LokyBackend with 16 concurrent workers.\n",
      "[Parallel(n_jobs=16)]: Done  18 tasks      | elapsed:   33.0s\n",
      "[Parallel(n_jobs=16)]: Done  57 out of  57 | elapsed:   56.2s finished\n",
      "[Parallel(n_jobs=16)]: Using backend LokyBackend with 16 concurrent workers.\n",
      "[Parallel(n_jobs=16)]: Done  18 tasks      | elapsed:   12.4s\n",
      "[Parallel(n_jobs=16)]: Done  57 out of  57 | elapsed:   22.1s finished\n"
     ]
    },
    {
     "name": "stdout",
     "output_type": "stream",
     "text": [
      "Size:1075.00 TPR:0.99 FPR:0.95\n"
     ]
    },
    {
     "name": "stderr",
     "output_type": "stream",
     "text": [
      "[Parallel(n_jobs=16)]: Using backend LokyBackend with 16 concurrent workers.\n",
      "[Parallel(n_jobs=16)]: Done  18 tasks      | elapsed:   41.2s\n",
      "[Parallel(n_jobs=16)]: Done  60 out of  60 | elapsed:  1.3min finished\n",
      "[Parallel(n_jobs=16)]: Using backend LokyBackend with 16 concurrent workers.\n",
      "[Parallel(n_jobs=16)]: Done  18 tasks      | elapsed:   14.7s\n",
      "[Parallel(n_jobs=16)]: Done  60 out of  60 | elapsed:   29.7s finished\n",
      "[Parallel(n_jobs=16)]: Using backend LokyBackend with 16 concurrent workers.\n",
      "[Parallel(n_jobs=16)]: Done  18 tasks      | elapsed:   33.2s\n",
      "[Parallel(n_jobs=16)]: Done  57 out of  57 | elapsed:   56.7s finished\n",
      "[Parallel(n_jobs=16)]: Using backend LokyBackend with 16 concurrent workers.\n",
      "[Parallel(n_jobs=16)]: Done  18 tasks      | elapsed:   12.3s\n",
      "[Parallel(n_jobs=16)]: Done  57 out of  57 | elapsed:   22.4s finished\n"
     ]
    },
    {
     "name": "stdout",
     "output_type": "stream",
     "text": [
      "Size:1192.00 TPR:0.99 FPR:0.95\n"
     ]
    },
    {
     "name": "stderr",
     "output_type": "stream",
     "text": [
      "[Parallel(n_jobs=16)]: Using backend LokyBackend with 16 concurrent workers.\n",
      "[Parallel(n_jobs=16)]: Done  18 tasks      | elapsed:   41.9s\n",
      "[Parallel(n_jobs=16)]: Done  60 out of  60 | elapsed:  1.3min finished\n",
      "[Parallel(n_jobs=16)]: Using backend LokyBackend with 16 concurrent workers.\n",
      "[Parallel(n_jobs=16)]: Done  18 tasks      | elapsed:   15.0s\n",
      "[Parallel(n_jobs=16)]: Done  60 out of  60 | elapsed:   29.5s finished\n",
      "[Parallel(n_jobs=16)]: Using backend LokyBackend with 16 concurrent workers.\n",
      "[Parallel(n_jobs=16)]: Done  18 tasks      | elapsed:   33.9s\n",
      "[Parallel(n_jobs=16)]: Done  57 out of  57 | elapsed:   58.2s finished\n",
      "[Parallel(n_jobs=16)]: Using backend LokyBackend with 16 concurrent workers.\n",
      "[Parallel(n_jobs=16)]: Done  18 tasks      | elapsed:   12.6s\n",
      "[Parallel(n_jobs=16)]: Done  57 out of  57 | elapsed:   22.7s finished\n"
     ]
    },
    {
     "name": "stdout",
     "output_type": "stream",
     "text": [
      "Size:1322.00 TPR:0.99 FPR:0.94\n"
     ]
    },
    {
     "name": "stderr",
     "output_type": "stream",
     "text": [
      "[Parallel(n_jobs=16)]: Using backend LokyBackend with 16 concurrent workers.\n",
      "[Parallel(n_jobs=16)]: Done  18 tasks      | elapsed:   42.2s\n",
      "[Parallel(n_jobs=16)]: Done  60 out of  60 | elapsed:  1.3min finished\n",
      "[Parallel(n_jobs=16)]: Using backend LokyBackend with 16 concurrent workers.\n",
      "[Parallel(n_jobs=16)]: Done  18 tasks      | elapsed:   15.3s\n",
      "[Parallel(n_jobs=16)]: Done  60 out of  60 | elapsed:   30.3s finished\n",
      "[Parallel(n_jobs=16)]: Using backend LokyBackend with 16 concurrent workers.\n",
      "[Parallel(n_jobs=16)]: Done  18 tasks      | elapsed:   35.0s\n",
      "[Parallel(n_jobs=16)]: Done  57 out of  57 | elapsed:   59.5s finished\n",
      "[Parallel(n_jobs=16)]: Using backend LokyBackend with 16 concurrent workers.\n",
      "[Parallel(n_jobs=16)]: Done  18 tasks      | elapsed:   12.7s\n",
      "[Parallel(n_jobs=16)]: Done  57 out of  57 | elapsed:   22.9s finished\n"
     ]
    },
    {
     "name": "stdout",
     "output_type": "stream",
     "text": [
      "Size:1466.00 TPR:1.00 FPR:0.94\n"
     ]
    },
    {
     "name": "stderr",
     "output_type": "stream",
     "text": [
      "[Parallel(n_jobs=16)]: Using backend LokyBackend with 16 concurrent workers.\n",
      "[Parallel(n_jobs=16)]: Done  18 tasks      | elapsed:   41.9s\n",
      "[Parallel(n_jobs=16)]: Done  60 out of  60 | elapsed:  1.3min finished\n",
      "[Parallel(n_jobs=16)]: Using backend LokyBackend with 16 concurrent workers.\n",
      "[Parallel(n_jobs=16)]: Done  18 tasks      | elapsed:   15.6s\n",
      "[Parallel(n_jobs=16)]: Done  60 out of  60 | elapsed:   31.2s finished\n",
      "[Parallel(n_jobs=16)]: Using backend LokyBackend with 16 concurrent workers.\n",
      "[Parallel(n_jobs=16)]: Done  18 tasks      | elapsed:   34.5s\n",
      "[Parallel(n_jobs=16)]: Done  57 out of  57 | elapsed:   59.7s finished\n",
      "[Parallel(n_jobs=16)]: Using backend LokyBackend with 16 concurrent workers.\n",
      "[Parallel(n_jobs=16)]: Done  18 tasks      | elapsed:   12.9s\n",
      "[Parallel(n_jobs=16)]: Done  57 out of  57 | elapsed:   23.3s finished\n"
     ]
    },
    {
     "name": "stdout",
     "output_type": "stream",
     "text": [
      "Size:1626.00 TPR:1.00 FPR:0.96\n"
     ]
    },
    {
     "name": "stderr",
     "output_type": "stream",
     "text": [
      "[Parallel(n_jobs=16)]: Using backend LokyBackend with 16 concurrent workers.\n",
      "[Parallel(n_jobs=16)]: Done  18 tasks      | elapsed:   43.2s\n",
      "[Parallel(n_jobs=16)]: Done  60 out of  60 | elapsed:  1.4min finished\n",
      "[Parallel(n_jobs=16)]: Using backend LokyBackend with 16 concurrent workers.\n",
      "[Parallel(n_jobs=16)]: Done  18 tasks      | elapsed:   13.3s\n",
      "[Parallel(n_jobs=16)]: Done  60 out of  60 | elapsed:   31.9s finished\n",
      "[Parallel(n_jobs=16)]: Using backend LokyBackend with 16 concurrent workers.\n",
      "[Parallel(n_jobs=16)]: Done  18 tasks      | elapsed:   35.1s\n",
      "[Parallel(n_jobs=16)]: Done  57 out of  57 | elapsed:   59.9s finished\n",
      "[Parallel(n_jobs=16)]: Using backend LokyBackend with 16 concurrent workers.\n",
      "[Parallel(n_jobs=16)]: Done  18 tasks      | elapsed:   13.1s\n",
      "[Parallel(n_jobs=16)]: Done  57 out of  57 | elapsed:   23.4s finished\n"
     ]
    },
    {
     "name": "stdout",
     "output_type": "stream",
     "text": [
      "Size:1803.00 TPR:1.00 FPR:0.96\n"
     ]
    },
    {
     "name": "stderr",
     "output_type": "stream",
     "text": [
      "[Parallel(n_jobs=16)]: Using backend LokyBackend with 16 concurrent workers.\n",
      "[Parallel(n_jobs=16)]: Done  18 tasks      | elapsed:   44.2s\n",
      "[Parallel(n_jobs=16)]: Done  60 out of  60 | elapsed:  1.4min finished\n",
      "[Parallel(n_jobs=16)]: Using backend LokyBackend with 16 concurrent workers.\n",
      "[Parallel(n_jobs=16)]: Done  18 tasks      | elapsed:   15.9s\n",
      "[Parallel(n_jobs=16)]: Done  60 out of  60 | elapsed:   31.5s finished\n",
      "[Parallel(n_jobs=16)]: Using backend LokyBackend with 16 concurrent workers.\n",
      "[Parallel(n_jobs=16)]: Done  18 tasks      | elapsed:   35.8s\n",
      "[Parallel(n_jobs=16)]: Done  57 out of  57 | elapsed:  1.0min finished\n",
      "[Parallel(n_jobs=16)]: Using backend LokyBackend with 16 concurrent workers.\n",
      "[Parallel(n_jobs=16)]: Done  18 tasks      | elapsed:   13.2s\n",
      "[Parallel(n_jobs=16)]: Done  57 out of  57 | elapsed:   24.4s finished\n"
     ]
    },
    {
     "name": "stdout",
     "output_type": "stream",
     "text": [
      "Size:2000.00 TPR:0.99 FPR:0.95\n"
     ]
    },
    {
     "data": {
      "text/html": [
       "<div>\n",
       "<style scoped>\n",
       "    .dataframe tbody tr th:only-of-type {\n",
       "        vertical-align: middle;\n",
       "    }\n",
       "\n",
       "    .dataframe tbody tr th {\n",
       "        vertical-align: top;\n",
       "    }\n",
       "\n",
       "    .dataframe thead th {\n",
       "        text-align: right;\n",
       "    }\n",
       "</style>\n",
       "<table border=\"1\" class=\"dataframe\">\n",
       "  <thead>\n",
       "    <tr style=\"text-align: right;\">\n",
       "      <th></th>\n",
       "      <th>size</th>\n",
       "      <th>tpr</th>\n",
       "      <th>fpr</th>\n",
       "    </tr>\n",
       "  </thead>\n",
       "  <tbody>\n",
       "    <tr>\n",
       "      <th>0</th>\n",
       "      <td>1.0</td>\n",
       "      <td>0.274365</td>\n",
       "      <td>0.000676</td>\n",
       "    </tr>\n",
       "    <tr>\n",
       "      <th>1</th>\n",
       "      <td>2.0</td>\n",
       "      <td>0.318510</td>\n",
       "      <td>0.011500</td>\n",
       "    </tr>\n",
       "    <tr>\n",
       "      <th>2</th>\n",
       "      <td>3.0</td>\n",
       "      <td>0.475615</td>\n",
       "      <td>0.026383</td>\n",
       "    </tr>\n",
       "    <tr>\n",
       "      <th>3</th>\n",
       "      <td>4.0</td>\n",
       "      <td>0.489897</td>\n",
       "      <td>0.028548</td>\n",
       "    </tr>\n",
       "    <tr>\n",
       "      <th>4</th>\n",
       "      <td>5.0</td>\n",
       "      <td>0.387974</td>\n",
       "      <td>0.014612</td>\n",
       "    </tr>\n",
       "    <tr>\n",
       "      <th>5</th>\n",
       "      <td>6.0</td>\n",
       "      <td>0.546133</td>\n",
       "      <td>0.052090</td>\n",
       "    </tr>\n",
       "    <tr>\n",
       "      <th>6</th>\n",
       "      <td>7.0</td>\n",
       "      <td>0.674024</td>\n",
       "      <td>0.052226</td>\n",
       "    </tr>\n",
       "    <tr>\n",
       "      <th>7</th>\n",
       "      <td>8.0</td>\n",
       "      <td>0.565122</td>\n",
       "      <td>0.018942</td>\n",
       "    </tr>\n",
       "    <tr>\n",
       "      <th>8</th>\n",
       "      <td>9.0</td>\n",
       "      <td>0.679299</td>\n",
       "      <td>0.034231</td>\n",
       "    </tr>\n",
       "    <tr>\n",
       "      <th>9</th>\n",
       "      <td>10.0</td>\n",
       "      <td>0.656334</td>\n",
       "      <td>0.050467</td>\n",
       "    </tr>\n",
       "    <tr>\n",
       "      <th>10</th>\n",
       "      <td>11.0</td>\n",
       "      <td>0.765641</td>\n",
       "      <td>0.079692</td>\n",
       "    </tr>\n",
       "    <tr>\n",
       "      <th>11</th>\n",
       "      <td>12.0</td>\n",
       "      <td>0.756553</td>\n",
       "      <td>0.032878</td>\n",
       "    </tr>\n",
       "    <tr>\n",
       "      <th>12</th>\n",
       "      <td>13.0</td>\n",
       "      <td>0.734561</td>\n",
       "      <td>0.063050</td>\n",
       "    </tr>\n",
       "    <tr>\n",
       "      <th>13</th>\n",
       "      <td>15.0</td>\n",
       "      <td>0.779843</td>\n",
       "      <td>0.066567</td>\n",
       "    </tr>\n",
       "    <tr>\n",
       "      <th>14</th>\n",
       "      <td>17.0</td>\n",
       "      <td>0.850605</td>\n",
       "      <td>0.075362</td>\n",
       "    </tr>\n",
       "    <tr>\n",
       "      <th>15</th>\n",
       "      <td>19.0</td>\n",
       "      <td>0.879412</td>\n",
       "      <td>0.102422</td>\n",
       "    </tr>\n",
       "    <tr>\n",
       "      <th>16</th>\n",
       "      <td>21.0</td>\n",
       "      <td>0.865536</td>\n",
       "      <td>0.024760</td>\n",
       "    </tr>\n",
       "    <tr>\n",
       "      <th>17</th>\n",
       "      <td>23.0</td>\n",
       "      <td>0.750061</td>\n",
       "      <td>0.075497</td>\n",
       "    </tr>\n",
       "    <tr>\n",
       "      <th>18</th>\n",
       "      <td>26.0</td>\n",
       "      <td>0.853932</td>\n",
       "      <td>0.094980</td>\n",
       "    </tr>\n",
       "    <tr>\n",
       "      <th>19</th>\n",
       "      <td>28.0</td>\n",
       "      <td>0.880792</td>\n",
       "      <td>0.036531</td>\n",
       "    </tr>\n",
       "    <tr>\n",
       "      <th>20</th>\n",
       "      <td>31.0</td>\n",
       "      <td>0.903920</td>\n",
       "      <td>0.050602</td>\n",
       "    </tr>\n",
       "    <tr>\n",
       "      <th>21</th>\n",
       "      <td>35.0</td>\n",
       "      <td>0.878033</td>\n",
       "      <td>0.028548</td>\n",
       "    </tr>\n",
       "    <tr>\n",
       "      <th>22</th>\n",
       "      <td>39.0</td>\n",
       "      <td>0.878926</td>\n",
       "      <td>0.046408</td>\n",
       "    </tr>\n",
       "    <tr>\n",
       "      <th>23</th>\n",
       "      <td>43.0</td>\n",
       "      <td>0.923639</td>\n",
       "      <td>0.089568</td>\n",
       "    </tr>\n",
       "    <tr>\n",
       "      <th>24</th>\n",
       "      <td>48.0</td>\n",
       "      <td>0.938327</td>\n",
       "      <td>0.061967</td>\n",
       "    </tr>\n",
       "    <tr>\n",
       "      <th>25</th>\n",
       "      <td>53.0</td>\n",
       "      <td>0.920149</td>\n",
       "      <td>0.091057</td>\n",
       "    </tr>\n",
       "    <tr>\n",
       "      <th>26</th>\n",
       "      <td>59.0</td>\n",
       "      <td>0.944737</td>\n",
       "      <td>0.080233</td>\n",
       "    </tr>\n",
       "    <tr>\n",
       "      <th>27</th>\n",
       "      <td>65.0</td>\n",
       "      <td>0.940680</td>\n",
       "      <td>0.042214</td>\n",
       "    </tr>\n",
       "    <tr>\n",
       "      <th>28</th>\n",
       "      <td>73.0</td>\n",
       "      <td>0.944900</td>\n",
       "      <td>0.090110</td>\n",
       "    </tr>\n",
       "    <tr>\n",
       "      <th>29</th>\n",
       "      <td>81.0</td>\n",
       "      <td>0.957965</td>\n",
       "      <td>0.073332</td>\n",
       "    </tr>\n",
       "    <tr>\n",
       "      <th>...</th>\n",
       "      <td>...</td>\n",
       "      <td>...</td>\n",
       "      <td>...</td>\n",
       "    </tr>\n",
       "    <tr>\n",
       "      <th>31</th>\n",
       "      <td>99.0</td>\n",
       "      <td>0.973302</td>\n",
       "      <td>0.093221</td>\n",
       "    </tr>\n",
       "    <tr>\n",
       "      <th>32</th>\n",
       "      <td>110.0</td>\n",
       "      <td>0.980768</td>\n",
       "      <td>0.066703</td>\n",
       "    </tr>\n",
       "    <tr>\n",
       "      <th>33</th>\n",
       "      <td>122.0</td>\n",
       "      <td>0.967784</td>\n",
       "      <td>0.084021</td>\n",
       "    </tr>\n",
       "    <tr>\n",
       "      <th>34</th>\n",
       "      <td>136.0</td>\n",
       "      <td>0.977359</td>\n",
       "      <td>0.026383</td>\n",
       "    </tr>\n",
       "    <tr>\n",
       "      <th>35</th>\n",
       "      <td>150.0</td>\n",
       "      <td>0.974925</td>\n",
       "      <td>0.037072</td>\n",
       "    </tr>\n",
       "    <tr>\n",
       "      <th>36</th>\n",
       "      <td>167.0</td>\n",
       "      <td>0.967297</td>\n",
       "      <td>0.084562</td>\n",
       "    </tr>\n",
       "    <tr>\n",
       "      <th>37</th>\n",
       "      <td>185.0</td>\n",
       "      <td>0.972166</td>\n",
       "      <td>0.060614</td>\n",
       "    </tr>\n",
       "    <tr>\n",
       "      <th>38</th>\n",
       "      <td>205.0</td>\n",
       "      <td>0.981092</td>\n",
       "      <td>0.043025</td>\n",
       "    </tr>\n",
       "    <tr>\n",
       "      <th>39</th>\n",
       "      <td>228.0</td>\n",
       "      <td>0.982147</td>\n",
       "      <td>0.065079</td>\n",
       "    </tr>\n",
       "    <tr>\n",
       "      <th>40</th>\n",
       "      <td>252.0</td>\n",
       "      <td>0.985637</td>\n",
       "      <td>0.069950</td>\n",
       "    </tr>\n",
       "    <tr>\n",
       "      <th>41</th>\n",
       "      <td>280.0</td>\n",
       "      <td>0.985474</td>\n",
       "      <td>0.039237</td>\n",
       "    </tr>\n",
       "    <tr>\n",
       "      <th>42</th>\n",
       "      <td>311.0</td>\n",
       "      <td>0.983689</td>\n",
       "      <td>0.076174</td>\n",
       "    </tr>\n",
       "    <tr>\n",
       "      <th>43</th>\n",
       "      <td>344.0</td>\n",
       "      <td>0.989694</td>\n",
       "      <td>0.073738</td>\n",
       "    </tr>\n",
       "    <tr>\n",
       "      <th>44</th>\n",
       "      <td>382.0</td>\n",
       "      <td>0.988396</td>\n",
       "      <td>0.027195</td>\n",
       "    </tr>\n",
       "    <tr>\n",
       "      <th>45</th>\n",
       "      <td>424.0</td>\n",
       "      <td>0.990911</td>\n",
       "      <td>0.052090</td>\n",
       "    </tr>\n",
       "    <tr>\n",
       "      <th>46</th>\n",
       "      <td>470.0</td>\n",
       "      <td>0.991317</td>\n",
       "      <td>0.069409</td>\n",
       "    </tr>\n",
       "    <tr>\n",
       "      <th>47</th>\n",
       "      <td>521.0</td>\n",
       "      <td>0.993265</td>\n",
       "      <td>0.048708</td>\n",
       "    </tr>\n",
       "    <tr>\n",
       "      <th>48</th>\n",
       "      <td>578.0</td>\n",
       "      <td>0.990262</td>\n",
       "      <td>0.054796</td>\n",
       "    </tr>\n",
       "    <tr>\n",
       "      <th>49</th>\n",
       "      <td>641.0</td>\n",
       "      <td>0.991479</td>\n",
       "      <td>0.063050</td>\n",
       "    </tr>\n",
       "    <tr>\n",
       "      <th>50</th>\n",
       "      <td>711.0</td>\n",
       "      <td>0.990749</td>\n",
       "      <td>0.041808</td>\n",
       "    </tr>\n",
       "    <tr>\n",
       "      <th>51</th>\n",
       "      <td>788.0</td>\n",
       "      <td>0.994238</td>\n",
       "      <td>0.058991</td>\n",
       "    </tr>\n",
       "    <tr>\n",
       "      <th>52</th>\n",
       "      <td>874.0</td>\n",
       "      <td>0.994482</td>\n",
       "      <td>0.065891</td>\n",
       "    </tr>\n",
       "    <tr>\n",
       "      <th>53</th>\n",
       "      <td>969.0</td>\n",
       "      <td>0.994238</td>\n",
       "      <td>0.049114</td>\n",
       "    </tr>\n",
       "    <tr>\n",
       "      <th>54</th>\n",
       "      <td>1075.0</td>\n",
       "      <td>0.993914</td>\n",
       "      <td>0.052361</td>\n",
       "    </tr>\n",
       "    <tr>\n",
       "      <th>55</th>\n",
       "      <td>1192.0</td>\n",
       "      <td>0.994401</td>\n",
       "      <td>0.048437</td>\n",
       "    </tr>\n",
       "    <tr>\n",
       "      <th>56</th>\n",
       "      <td>1322.0</td>\n",
       "      <td>0.994969</td>\n",
       "      <td>0.055743</td>\n",
       "    </tr>\n",
       "    <tr>\n",
       "      <th>57</th>\n",
       "      <td>1466.0</td>\n",
       "      <td>0.995699</td>\n",
       "      <td>0.056555</td>\n",
       "    </tr>\n",
       "    <tr>\n",
       "      <th>58</th>\n",
       "      <td>1626.0</td>\n",
       "      <td>0.995456</td>\n",
       "      <td>0.042619</td>\n",
       "    </tr>\n",
       "    <tr>\n",
       "      <th>59</th>\n",
       "      <td>1803.0</td>\n",
       "      <td>0.995293</td>\n",
       "      <td>0.043431</td>\n",
       "    </tr>\n",
       "    <tr>\n",
       "      <th>60</th>\n",
       "      <td>2000.0</td>\n",
       "      <td>0.994563</td>\n",
       "      <td>0.046272</td>\n",
       "    </tr>\n",
       "  </tbody>\n",
       "</table>\n",
       "<p>61 rows × 3 columns</p>\n",
       "</div>"
      ],
      "text/plain": [
       "      size       tpr       fpr\n",
       "0      1.0  0.274365  0.000676\n",
       "1      2.0  0.318510  0.011500\n",
       "2      3.0  0.475615  0.026383\n",
       "3      4.0  0.489897  0.028548\n",
       "4      5.0  0.387974  0.014612\n",
       "..     ...       ...       ...\n",
       "56  1322.0  0.994969  0.055743\n",
       "57  1466.0  0.995699  0.056555\n",
       "58  1626.0  0.995456  0.042619\n",
       "59  1803.0  0.995293  0.043431\n",
       "60  2000.0  0.994563  0.046272\n",
       "\n",
       "[61 rows x 3 columns]"
      ]
     },
     "execution_count": 25,
     "metadata": {},
     "output_type": "execute_result"
    }
   ],
   "source": [
    "\n",
    "get_repo_size_accuracy(size_rng)\n"
   ]
  },
  {
   "cell_type": "code",
   "execution_count": 26,
   "metadata": {},
   "outputs": [],
   "source": [
    "vgg_fab_result = _25"
   ]
  },
  {
   "cell_type": "code",
   "execution_count": 28,
   "metadata": {},
   "outputs": [],
   "source": [
    "\n",
    "# get the output of the current repo\n",
    "u.save_obj(vgg_fab_result, 'ECCV20_figures', 'accuracyChangeVGGFabVSrepoSize')\n"
   ]
  },
  {
   "cell_type": "code",
   "execution_count": null,
   "metadata": {},
   "outputs": [
    {
     "name": "stderr",
     "output_type": "stream",
     "text": [
      "[Parallel(n_jobs=16)]: Using backend LokyBackend with 16 concurrent workers.\n",
      "[Parallel(n_jobs=16)]: Done  18 tasks      | elapsed:   56.8s\n",
      "[Parallel(n_jobs=16)]: Done  60 out of  60 | elapsed:  1.6min finished\n",
      "[Parallel(n_jobs=16)]: Using backend LokyBackend with 16 concurrent workers.\n",
      "[Parallel(n_jobs=16)]: Done  18 tasks      | elapsed:   13.1s\n",
      "[Parallel(n_jobs=16)]: Done  60 out of  60 | elapsed:   28.7s finished\n",
      "[Parallel(n_jobs=16)]: Using backend LokyBackend with 16 concurrent workers.\n",
      "[Parallel(n_jobs=16)]: Done  18 tasks      | elapsed:   35.5s\n",
      "[Parallel(n_jobs=16)]: Done  57 out of  57 | elapsed:  1.0min finished\n",
      "[Parallel(n_jobs=16)]: Using backend LokyBackend with 16 concurrent workers.\n",
      "[Parallel(n_jobs=16)]: Done  18 tasks      | elapsed:   11.4s\n",
      "[Parallel(n_jobs=16)]: Done  57 out of  57 | elapsed:   20.5s finished\n"
     ]
    },
    {
     "name": "stdout",
     "output_type": "stream",
     "text": [
      "Size:1.00 TPR:0.24 FPR:0.98\n"
     ]
    },
    {
     "name": "stderr",
     "output_type": "stream",
     "text": [
      "[Parallel(n_jobs=16)]: Using backend LokyBackend with 16 concurrent workers.\n",
      "[Parallel(n_jobs=16)]: Done  18 tasks      | elapsed:   43.8s\n",
      "[Parallel(n_jobs=16)]: Done  60 out of  60 | elapsed:  1.4min finished\n",
      "[Parallel(n_jobs=16)]: Using backend LokyBackend with 16 concurrent workers.\n",
      "[Parallel(n_jobs=16)]: Done  18 tasks      | elapsed:   13.4s\n",
      "[Parallel(n_jobs=16)]: Done  60 out of  60 | elapsed:   26.6s finished\n",
      "[Parallel(n_jobs=16)]: Using backend LokyBackend with 16 concurrent workers.\n",
      "[Parallel(n_jobs=16)]: Done  18 tasks      | elapsed:   35.3s\n",
      "[Parallel(n_jobs=16)]: Done  57 out of  57 | elapsed:  1.0min finished\n",
      "[Parallel(n_jobs=16)]: Using backend LokyBackend with 16 concurrent workers.\n",
      "[Parallel(n_jobs=16)]: Done  18 tasks      | elapsed:   11.4s\n",
      "[Parallel(n_jobs=16)]: Done  57 out of  57 | elapsed:   20.4s finished\n"
     ]
    },
    {
     "name": "stdout",
     "output_type": "stream",
     "text": [
      "Size:2.00 TPR:0.22 FPR:0.95\n"
     ]
    },
    {
     "name": "stderr",
     "output_type": "stream",
     "text": [
      "[Parallel(n_jobs=16)]: Using backend LokyBackend with 16 concurrent workers.\n",
      "[Parallel(n_jobs=16)]: Done  18 tasks      | elapsed:   43.6s\n",
      "[Parallel(n_jobs=16)]: Done  60 out of  60 | elapsed:  1.4min finished\n",
      "[Parallel(n_jobs=16)]: Using backend LokyBackend with 16 concurrent workers.\n",
      "[Parallel(n_jobs=16)]: Done  18 tasks      | elapsed:   13.1s\n",
      "[Parallel(n_jobs=16)]: Done  60 out of  60 | elapsed:   27.2s finished\n",
      "[Parallel(n_jobs=16)]: Using backend LokyBackend with 16 concurrent workers.\n",
      "[Parallel(n_jobs=16)]: Done  18 tasks      | elapsed:   35.4s\n",
      "[Parallel(n_jobs=16)]: Done  57 out of  57 | elapsed:  1.0min finished\n",
      "[Parallel(n_jobs=16)]: Using backend LokyBackend with 16 concurrent workers.\n",
      "[Parallel(n_jobs=16)]: Done  18 tasks      | elapsed:   11.3s\n",
      "[Parallel(n_jobs=16)]: Done  57 out of  57 | elapsed:   20.4s finished\n"
     ]
    },
    {
     "name": "stdout",
     "output_type": "stream",
     "text": [
      "Size:3.00 TPR:0.51 FPR:0.97\n"
     ]
    },
    {
     "name": "stderr",
     "output_type": "stream",
     "text": [
      "[Parallel(n_jobs=16)]: Using backend LokyBackend with 16 concurrent workers.\n",
      "[Parallel(n_jobs=16)]: Done  18 tasks      | elapsed:   43.6s\n",
      "[Parallel(n_jobs=16)]: Done  60 out of  60 | elapsed:  1.4min finished\n",
      "[Parallel(n_jobs=16)]: Using backend LokyBackend with 16 concurrent workers.\n",
      "[Parallel(n_jobs=16)]: Done  18 tasks      | elapsed:   13.3s\n",
      "[Parallel(n_jobs=16)]: Done  60 out of  60 | elapsed:   26.9s finished\n",
      "[Parallel(n_jobs=16)]: Using backend LokyBackend with 16 concurrent workers.\n",
      "[Parallel(n_jobs=16)]: Done  18 tasks      | elapsed:   35.4s\n",
      "[Parallel(n_jobs=16)]: Done  57 out of  57 | elapsed:  1.0min finished\n",
      "[Parallel(n_jobs=16)]: Using backend LokyBackend with 16 concurrent workers.\n",
      "[Parallel(n_jobs=16)]: Done  18 tasks      | elapsed:   11.4s\n",
      "[Parallel(n_jobs=16)]: Done  57 out of  57 | elapsed:   20.4s finished\n"
     ]
    },
    {
     "name": "stdout",
     "output_type": "stream",
     "text": [
      "Size:4.00 TPR:0.61 FPR:0.94\n"
     ]
    },
    {
     "name": "stderr",
     "output_type": "stream",
     "text": [
      "[Parallel(n_jobs=16)]: Using backend LokyBackend with 16 concurrent workers.\n",
      "[Parallel(n_jobs=16)]: Done  18 tasks      | elapsed:   43.6s\n",
      "[Parallel(n_jobs=16)]: Done  60 out of  60 | elapsed:  1.4min finished\n",
      "[Parallel(n_jobs=16)]: Using backend LokyBackend with 16 concurrent workers.\n",
      "[Parallel(n_jobs=16)]: Done  18 tasks      | elapsed:   12.3s\n",
      "[Parallel(n_jobs=16)]: Done  60 out of  60 | elapsed:   27.2s finished\n",
      "[Parallel(n_jobs=16)]: Using backend LokyBackend with 16 concurrent workers.\n",
      "[Parallel(n_jobs=16)]: Done  18 tasks      | elapsed:   35.4s\n",
      "[Parallel(n_jobs=16)]: Done  57 out of  57 | elapsed:  1.0min finished\n",
      "[Parallel(n_jobs=16)]: Using backend LokyBackend with 16 concurrent workers.\n",
      "[Parallel(n_jobs=16)]: Done  18 tasks      | elapsed:   11.1s\n",
      "[Parallel(n_jobs=16)]: Done  57 out of  57 | elapsed:   20.4s finished\n"
     ]
    },
    {
     "name": "stdout",
     "output_type": "stream",
     "text": [
      "Size:5.00 TPR:0.61 FPR:0.95\n"
     ]
    },
    {
     "name": "stderr",
     "output_type": "stream",
     "text": [
      "[Parallel(n_jobs=16)]: Using backend LokyBackend with 16 concurrent workers.\n",
      "[Parallel(n_jobs=16)]: Done  18 tasks      | elapsed:   43.8s\n",
      "[Parallel(n_jobs=16)]: Done  60 out of  60 | elapsed:  1.4min finished\n",
      "[Parallel(n_jobs=16)]: Using backend LokyBackend with 16 concurrent workers.\n",
      "[Parallel(n_jobs=16)]: Done  18 tasks      | elapsed:   13.3s\n",
      "[Parallel(n_jobs=16)]: Done  60 out of  60 | elapsed:   27.4s finished\n",
      "[Parallel(n_jobs=16)]: Using backend LokyBackend with 16 concurrent workers.\n",
      "[Parallel(n_jobs=16)]: Done  18 tasks      | elapsed:   35.1s\n",
      "[Parallel(n_jobs=16)]: Done  57 out of  57 | elapsed:  1.0min finished\n",
      "[Parallel(n_jobs=16)]: Using backend LokyBackend with 16 concurrent workers.\n",
      "[Parallel(n_jobs=16)]: Done  18 tasks      | elapsed:   11.4s\n",
      "[Parallel(n_jobs=16)]: Done  57 out of  57 | elapsed:   20.4s finished\n"
     ]
    },
    {
     "name": "stdout",
     "output_type": "stream",
     "text": [
      "Size:6.00 TPR:0.69 FPR:0.95\n"
     ]
    },
    {
     "name": "stderr",
     "output_type": "stream",
     "text": [
      "[Parallel(n_jobs=16)]: Using backend LokyBackend with 16 concurrent workers.\n",
      "[Parallel(n_jobs=16)]: Done  18 tasks      | elapsed:   43.7s\n",
      "[Parallel(n_jobs=16)]: Done  60 out of  60 | elapsed:  1.4min finished\n",
      "[Parallel(n_jobs=16)]: Using backend LokyBackend with 16 concurrent workers.\n",
      "[Parallel(n_jobs=16)]: Done  18 tasks      | elapsed:   13.4s\n",
      "[Parallel(n_jobs=16)]: Done  60 out of  60 | elapsed:   27.4s finished\n",
      "[Parallel(n_jobs=16)]: Using backend LokyBackend with 16 concurrent workers.\n",
      "[Parallel(n_jobs=16)]: Done  18 tasks      | elapsed:   35.4s\n",
      "[Parallel(n_jobs=16)]: Done  57 out of  57 | elapsed:  1.0min finished\n",
      "[Parallel(n_jobs=16)]: Using backend LokyBackend with 16 concurrent workers.\n",
      "[Parallel(n_jobs=16)]: Done  18 tasks      | elapsed:   11.2s\n",
      "[Parallel(n_jobs=16)]: Done  57 out of  57 | elapsed:   20.4s finished\n"
     ]
    },
    {
     "name": "stdout",
     "output_type": "stream",
     "text": [
      "Size:7.00 TPR:0.66 FPR:0.91\n"
     ]
    },
    {
     "name": "stderr",
     "output_type": "stream",
     "text": [
      "[Parallel(n_jobs=16)]: Using backend LokyBackend with 16 concurrent workers.\n",
      "[Parallel(n_jobs=16)]: Done  18 tasks      | elapsed:   43.4s\n",
      "[Parallel(n_jobs=16)]: Done  60 out of  60 | elapsed:  1.4min finished\n",
      "[Parallel(n_jobs=16)]: Using backend LokyBackend with 16 concurrent workers.\n",
      "[Parallel(n_jobs=16)]: Done  18 tasks      | elapsed:   13.4s\n",
      "[Parallel(n_jobs=16)]: Done  60 out of  60 | elapsed:   27.4s finished\n",
      "[Parallel(n_jobs=16)]: Using backend LokyBackend with 16 concurrent workers.\n",
      "[Parallel(n_jobs=16)]: Done  18 tasks      | elapsed:   35.3s\n",
      "[Parallel(n_jobs=16)]: Done  57 out of  57 | elapsed:  1.0min finished\n",
      "[Parallel(n_jobs=16)]: Using backend LokyBackend with 16 concurrent workers.\n",
      "[Parallel(n_jobs=16)]: Done  18 tasks      | elapsed:   11.2s\n",
      "[Parallel(n_jobs=16)]: Done  57 out of  57 | elapsed:   20.5s finished\n"
     ]
    },
    {
     "name": "stdout",
     "output_type": "stream",
     "text": [
      "Size:8.00 TPR:0.66 FPR:0.95\n"
     ]
    },
    {
     "name": "stderr",
     "output_type": "stream",
     "text": [
      "[Parallel(n_jobs=16)]: Using backend LokyBackend with 16 concurrent workers.\n",
      "[Parallel(n_jobs=16)]: Done  18 tasks      | elapsed:   43.5s\n",
      "[Parallel(n_jobs=16)]: Done  60 out of  60 | elapsed:  1.4min finished\n",
      "[Parallel(n_jobs=16)]: Using backend LokyBackend with 16 concurrent workers.\n",
      "[Parallel(n_jobs=16)]: Done  18 tasks      | elapsed:   13.2s\n",
      "[Parallel(n_jobs=16)]: Done  60 out of  60 | elapsed:   27.7s finished\n",
      "[Parallel(n_jobs=16)]: Using backend LokyBackend with 16 concurrent workers.\n",
      "[Parallel(n_jobs=16)]: Done  18 tasks      | elapsed:   35.4s\n",
      "[Parallel(n_jobs=16)]: Done  57 out of  57 | elapsed:  1.0min finished\n",
      "[Parallel(n_jobs=16)]: Using backend LokyBackend with 16 concurrent workers.\n",
      "[Parallel(n_jobs=16)]: Done  18 tasks      | elapsed:   11.1s\n",
      "[Parallel(n_jobs=16)]: Done  57 out of  57 | elapsed:   20.4s finished\n"
     ]
    },
    {
     "name": "stdout",
     "output_type": "stream",
     "text": [
      "Size:9.00 TPR:0.72 FPR:0.96\n"
     ]
    },
    {
     "name": "stderr",
     "output_type": "stream",
     "text": [
      "[Parallel(n_jobs=16)]: Using backend LokyBackend with 16 concurrent workers.\n",
      "[Parallel(n_jobs=16)]: Done  18 tasks      | elapsed:   43.4s\n",
      "[Parallel(n_jobs=16)]: Done  60 out of  60 | elapsed:  1.4min finished\n",
      "[Parallel(n_jobs=16)]: Using backend LokyBackend with 16 concurrent workers.\n",
      "[Parallel(n_jobs=16)]: Done  18 tasks      | elapsed:   13.4s\n",
      "[Parallel(n_jobs=16)]: Done  60 out of  60 | elapsed:   26.6s finished\n",
      "[Parallel(n_jobs=16)]: Using backend LokyBackend with 16 concurrent workers.\n",
      "[Parallel(n_jobs=16)]: Done  18 tasks      | elapsed:   36.2s\n",
      "[Parallel(n_jobs=16)]: Done  57 out of  57 | elapsed:  1.0min finished\n",
      "[Parallel(n_jobs=16)]: Using backend LokyBackend with 16 concurrent workers.\n",
      "[Parallel(n_jobs=16)]: Done  18 tasks      | elapsed:   11.3s\n",
      "[Parallel(n_jobs=16)]: Done  57 out of  57 | elapsed:   20.4s finished\n"
     ]
    },
    {
     "name": "stdout",
     "output_type": "stream",
     "text": [
      "Size:10.00 TPR:0.73 FPR:0.94\n"
     ]
    },
    {
     "name": "stderr",
     "output_type": "stream",
     "text": [
      "[Parallel(n_jobs=16)]: Using backend LokyBackend with 16 concurrent workers.\n",
      "[Parallel(n_jobs=16)]: Done  18 tasks      | elapsed:   43.7s\n",
      "[Parallel(n_jobs=16)]: Done  60 out of  60 | elapsed:  1.4min finished\n",
      "[Parallel(n_jobs=16)]: Using backend LokyBackend with 16 concurrent workers.\n",
      "[Parallel(n_jobs=16)]: Done  18 tasks      | elapsed:   12.9s\n",
      "[Parallel(n_jobs=16)]: Done  60 out of  60 | elapsed:   27.0s finished\n",
      "[Parallel(n_jobs=16)]: Using backend LokyBackend with 16 concurrent workers.\n",
      "[Parallel(n_jobs=16)]: Done  18 tasks      | elapsed:   36.3s\n",
      "[Parallel(n_jobs=16)]: Done  57 out of  57 | elapsed:  1.0min finished\n",
      "[Parallel(n_jobs=16)]: Using backend LokyBackend with 16 concurrent workers.\n",
      "[Parallel(n_jobs=16)]: Done  18 tasks      | elapsed:   11.2s\n",
      "[Parallel(n_jobs=16)]: Done  57 out of  57 | elapsed:   20.3s finished\n"
     ]
    },
    {
     "name": "stdout",
     "output_type": "stream",
     "text": [
      "Size:11.00 TPR:0.72 FPR:0.95\n"
     ]
    },
    {
     "name": "stderr",
     "output_type": "stream",
     "text": [
      "[Parallel(n_jobs=16)]: Using backend LokyBackend with 16 concurrent workers.\n",
      "[Parallel(n_jobs=16)]: Done  18 tasks      | elapsed:   43.7s\n",
      "[Parallel(n_jobs=16)]: Done  60 out of  60 | elapsed:  1.4min finished\n",
      "[Parallel(n_jobs=16)]: Using backend LokyBackend with 16 concurrent workers.\n",
      "[Parallel(n_jobs=16)]: Done  18 tasks      | elapsed:   13.5s\n",
      "[Parallel(n_jobs=16)]: Done  60 out of  60 | elapsed:   27.9s finished\n",
      "[Parallel(n_jobs=16)]: Using backend LokyBackend with 16 concurrent workers.\n",
      "[Parallel(n_jobs=16)]: Done  18 tasks      | elapsed:   35.4s\n",
      "[Parallel(n_jobs=16)]: Done  57 out of  57 | elapsed:  1.0min finished\n",
      "[Parallel(n_jobs=16)]: Using backend LokyBackend with 16 concurrent workers.\n",
      "[Parallel(n_jobs=16)]: Done  18 tasks      | elapsed:   11.3s\n",
      "[Parallel(n_jobs=16)]: Done  57 out of  57 | elapsed:   20.5s finished\n"
     ]
    },
    {
     "name": "stdout",
     "output_type": "stream",
     "text": [
      "Size:12.00 TPR:0.82 FPR:0.94\n"
     ]
    },
    {
     "name": "stderr",
     "output_type": "stream",
     "text": [
      "[Parallel(n_jobs=16)]: Using backend LokyBackend with 16 concurrent workers.\n",
      "[Parallel(n_jobs=16)]: Done  18 tasks      | elapsed:   44.1s\n",
      "[Parallel(n_jobs=16)]: Done  60 out of  60 | elapsed:  1.4min finished\n",
      "[Parallel(n_jobs=16)]: Using backend LokyBackend with 16 concurrent workers.\n",
      "[Parallel(n_jobs=16)]: Done  18 tasks      | elapsed:   13.0s\n",
      "[Parallel(n_jobs=16)]: Done  60 out of  60 | elapsed:   27.8s finished\n",
      "[Parallel(n_jobs=16)]: Using backend LokyBackend with 16 concurrent workers.\n",
      "[Parallel(n_jobs=16)]: Done  18 tasks      | elapsed:   35.3s\n",
      "[Parallel(n_jobs=16)]: Done  57 out of  57 | elapsed:  1.0min finished\n",
      "[Parallel(n_jobs=16)]: Using backend LokyBackend with 16 concurrent workers.\n",
      "[Parallel(n_jobs=16)]: Done  18 tasks      | elapsed:   11.2s\n",
      "[Parallel(n_jobs=16)]: Done  57 out of  57 | elapsed:   20.5s finished\n"
     ]
    },
    {
     "name": "stdout",
     "output_type": "stream",
     "text": [
      "Size:13.00 TPR:0.81 FPR:0.93\n"
     ]
    },
    {
     "name": "stderr",
     "output_type": "stream",
     "text": [
      "[Parallel(n_jobs=16)]: Using backend LokyBackend with 16 concurrent workers.\n",
      "[Parallel(n_jobs=16)]: Done  18 tasks      | elapsed:   43.6s\n",
      "[Parallel(n_jobs=16)]: Done  60 out of  60 | elapsed:  1.4min finished\n",
      "[Parallel(n_jobs=16)]: Using backend LokyBackend with 16 concurrent workers.\n",
      "[Parallel(n_jobs=16)]: Done  18 tasks      | elapsed:   13.4s\n",
      "[Parallel(n_jobs=16)]: Done  60 out of  60 | elapsed:   27.8s finished\n",
      "[Parallel(n_jobs=16)]: Using backend LokyBackend with 16 concurrent workers.\n",
      "[Parallel(n_jobs=16)]: Done  18 tasks      | elapsed:   35.4s\n",
      "[Parallel(n_jobs=16)]: Done  57 out of  57 | elapsed:  1.0min finished\n",
      "[Parallel(n_jobs=16)]: Using backend LokyBackend with 16 concurrent workers.\n",
      "[Parallel(n_jobs=16)]: Done  18 tasks      | elapsed:   11.2s\n",
      "[Parallel(n_jobs=16)]: Done  57 out of  57 | elapsed:   20.5s finished\n"
     ]
    },
    {
     "name": "stdout",
     "output_type": "stream",
     "text": [
      "Size:15.00 TPR:0.84 FPR:0.91\n"
     ]
    },
    {
     "name": "stderr",
     "output_type": "stream",
     "text": [
      "[Parallel(n_jobs=16)]: Using backend LokyBackend with 16 concurrent workers.\n",
      "[Parallel(n_jobs=16)]: Done  18 tasks      | elapsed:   43.5s\n",
      "[Parallel(n_jobs=16)]: Done  60 out of  60 | elapsed:  1.4min finished\n",
      "[Parallel(n_jobs=16)]: Using backend LokyBackend with 16 concurrent workers.\n",
      "[Parallel(n_jobs=16)]: Done  18 tasks      | elapsed:   13.1s\n",
      "[Parallel(n_jobs=16)]: Done  60 out of  60 | elapsed:   27.5s finished\n",
      "[Parallel(n_jobs=16)]: Using backend LokyBackend with 16 concurrent workers.\n",
      "[Parallel(n_jobs=16)]: Done  18 tasks      | elapsed:   35.5s\n",
      "[Parallel(n_jobs=16)]: Done  57 out of  57 | elapsed:  1.0min finished\n",
      "[Parallel(n_jobs=16)]: Using backend LokyBackend with 16 concurrent workers.\n",
      "[Parallel(n_jobs=16)]: Done  18 tasks      | elapsed:   11.3s\n",
      "[Parallel(n_jobs=16)]: Done  57 out of  57 | elapsed:   20.5s finished\n"
     ]
    },
    {
     "name": "stdout",
     "output_type": "stream",
     "text": [
      "Size:17.00 TPR:0.88 FPR:0.94\n"
     ]
    },
    {
     "name": "stderr",
     "output_type": "stream",
     "text": [
      "[Parallel(n_jobs=16)]: Using backend LokyBackend with 16 concurrent workers.\n",
      "[Parallel(n_jobs=16)]: Done  18 tasks      | elapsed:   43.4s\n",
      "[Parallel(n_jobs=16)]: Done  60 out of  60 | elapsed:  1.4min finished\n",
      "[Parallel(n_jobs=16)]: Using backend LokyBackend with 16 concurrent workers.\n",
      "[Parallel(n_jobs=16)]: Done  18 tasks      | elapsed:   13.4s\n",
      "[Parallel(n_jobs=16)]: Done  60 out of  60 | elapsed:   27.2s finished\n",
      "[Parallel(n_jobs=16)]: Using backend LokyBackend with 16 concurrent workers.\n",
      "[Parallel(n_jobs=16)]: Done  18 tasks      | elapsed:   35.2s\n",
      "[Parallel(n_jobs=16)]: Done  57 out of  57 | elapsed:   59.9s finished\n",
      "[Parallel(n_jobs=16)]: Using backend LokyBackend with 16 concurrent workers.\n",
      "[Parallel(n_jobs=16)]: Done  18 tasks      | elapsed:   11.6s\n",
      "[Parallel(n_jobs=16)]: Done  57 out of  57 | elapsed:   20.7s finished\n"
     ]
    },
    {
     "name": "stdout",
     "output_type": "stream",
     "text": [
      "Size:19.00 TPR:0.87 FPR:0.95\n"
     ]
    },
    {
     "name": "stderr",
     "output_type": "stream",
     "text": [
      "[Parallel(n_jobs=16)]: Using backend LokyBackend with 16 concurrent workers.\n",
      "[Parallel(n_jobs=16)]: Done  18 tasks      | elapsed:   44.0s\n",
      "[Parallel(n_jobs=16)]: Done  60 out of  60 | elapsed:  1.4min finished\n",
      "[Parallel(n_jobs=16)]: Using backend LokyBackend with 16 concurrent workers.\n",
      "[Parallel(n_jobs=16)]: Done  18 tasks      | elapsed:   13.5s\n",
      "[Parallel(n_jobs=16)]: Done  60 out of  60 | elapsed:   27.8s finished\n",
      "[Parallel(n_jobs=16)]: Using backend LokyBackend with 16 concurrent workers.\n",
      "[Parallel(n_jobs=16)]: Done  18 tasks      | elapsed:   35.6s\n",
      "[Parallel(n_jobs=16)]: Done  57 out of  57 | elapsed:  1.0min finished\n",
      "[Parallel(n_jobs=16)]: Using backend LokyBackend with 16 concurrent workers.\n",
      "[Parallel(n_jobs=16)]: Done  18 tasks      | elapsed:   11.3s\n",
      "[Parallel(n_jobs=16)]: Done  57 out of  57 | elapsed:   20.4s finished\n"
     ]
    },
    {
     "name": "stdout",
     "output_type": "stream",
     "text": [
      "Size:21.00 TPR:0.86 FPR:0.95\n"
     ]
    },
    {
     "name": "stderr",
     "output_type": "stream",
     "text": [
      "[Parallel(n_jobs=16)]: Using backend LokyBackend with 16 concurrent workers.\n",
      "[Parallel(n_jobs=16)]: Done  18 tasks      | elapsed:   43.4s\n",
      "[Parallel(n_jobs=16)]: Done  60 out of  60 | elapsed:  1.4min finished\n",
      "[Parallel(n_jobs=16)]: Using backend LokyBackend with 16 concurrent workers.\n",
      "[Parallel(n_jobs=16)]: Done  18 tasks      | elapsed:   13.1s\n",
      "[Parallel(n_jobs=16)]: Done  60 out of  60 | elapsed:   27.3s finished\n",
      "[Parallel(n_jobs=16)]: Using backend LokyBackend with 16 concurrent workers.\n",
      "[Parallel(n_jobs=16)]: Done  18 tasks      | elapsed:   35.4s\n",
      "[Parallel(n_jobs=16)]: Done  57 out of  57 | elapsed:  1.0min finished\n",
      "[Parallel(n_jobs=16)]: Using backend LokyBackend with 16 concurrent workers.\n",
      "[Parallel(n_jobs=16)]: Done  18 tasks      | elapsed:   11.3s\n",
      "[Parallel(n_jobs=16)]: Done  57 out of  57 | elapsed:   20.6s finished\n"
     ]
    },
    {
     "name": "stdout",
     "output_type": "stream",
     "text": [
      "Size:23.00 TPR:0.85 FPR:0.93\n"
     ]
    },
    {
     "name": "stderr",
     "output_type": "stream",
     "text": [
      "[Parallel(n_jobs=16)]: Using backend LokyBackend with 16 concurrent workers.\n",
      "[Parallel(n_jobs=16)]: Done  18 tasks      | elapsed:   42.7s\n",
      "[Parallel(n_jobs=16)]: Done  60 out of  60 | elapsed:  1.4min finished\n",
      "[Parallel(n_jobs=16)]: Using backend LokyBackend with 16 concurrent workers.\n",
      "[Parallel(n_jobs=16)]: Done  18 tasks      | elapsed:   13.3s\n",
      "[Parallel(n_jobs=16)]: Done  60 out of  60 | elapsed:   27.2s finished\n",
      "[Parallel(n_jobs=16)]: Using backend LokyBackend with 16 concurrent workers.\n",
      "[Parallel(n_jobs=16)]: Done  18 tasks      | elapsed:   35.3s\n",
      "[Parallel(n_jobs=16)]: Done  57 out of  57 | elapsed:  1.0min finished\n",
      "[Parallel(n_jobs=16)]: Using backend LokyBackend with 16 concurrent workers.\n",
      "[Parallel(n_jobs=16)]: Done  18 tasks      | elapsed:   11.3s\n",
      "[Parallel(n_jobs=16)]: Done  57 out of  57 | elapsed:   20.4s finished\n"
     ]
    },
    {
     "name": "stdout",
     "output_type": "stream",
     "text": [
      "Size:26.00 TPR:0.84 FPR:0.93\n"
     ]
    },
    {
     "name": "stderr",
     "output_type": "stream",
     "text": [
      "[Parallel(n_jobs=16)]: Using backend LokyBackend with 16 concurrent workers.\n",
      "[Parallel(n_jobs=16)]: Done  18 tasks      | elapsed:   43.5s\n",
      "[Parallel(n_jobs=16)]: Done  60 out of  60 | elapsed:  1.4min finished\n",
      "[Parallel(n_jobs=16)]: Using backend LokyBackend with 16 concurrent workers.\n",
      "[Parallel(n_jobs=16)]: Done  18 tasks      | elapsed:   13.1s\n",
      "[Parallel(n_jobs=16)]: Done  60 out of  60 | elapsed:   26.8s finished\n",
      "[Parallel(n_jobs=16)]: Using backend LokyBackend with 16 concurrent workers.\n",
      "[Parallel(n_jobs=16)]: Done  18 tasks      | elapsed:   35.5s\n",
      "[Parallel(n_jobs=16)]: Done  57 out of  57 | elapsed:  1.0min finished\n",
      "[Parallel(n_jobs=16)]: Using backend LokyBackend with 16 concurrent workers.\n",
      "[Parallel(n_jobs=16)]: Done  18 tasks      | elapsed:   11.3s\n",
      "[Parallel(n_jobs=16)]: Done  57 out of  57 | elapsed:   20.4s finished\n"
     ]
    },
    {
     "name": "stdout",
     "output_type": "stream",
     "text": [
      "Size:28.00 TPR:0.91 FPR:0.94\n"
     ]
    },
    {
     "name": "stderr",
     "output_type": "stream",
     "text": [
      "[Parallel(n_jobs=16)]: Using backend LokyBackend with 16 concurrent workers.\n",
      "[Parallel(n_jobs=16)]: Done  18 tasks      | elapsed:   43.4s\n",
      "[Parallel(n_jobs=16)]: Done  60 out of  60 | elapsed:  1.4min finished\n",
      "[Parallel(n_jobs=16)]: Using backend LokyBackend with 16 concurrent workers.\n",
      "[Parallel(n_jobs=16)]: Done  18 tasks      | elapsed:   13.4s\n",
      "[Parallel(n_jobs=16)]: Done  60 out of  60 | elapsed:   27.2s finished\n",
      "[Parallel(n_jobs=16)]: Using backend LokyBackend with 16 concurrent workers.\n",
      "[Parallel(n_jobs=16)]: Done  18 tasks      | elapsed:   35.3s\n",
      "[Parallel(n_jobs=16)]: Done  57 out of  57 | elapsed:  1.0min finished\n",
      "[Parallel(n_jobs=16)]: Using backend LokyBackend with 16 concurrent workers.\n",
      "[Parallel(n_jobs=16)]: Done  18 tasks      | elapsed:   11.3s\n",
      "[Parallel(n_jobs=16)]: Done  57 out of  57 | elapsed:   20.5s finished\n"
     ]
    },
    {
     "name": "stdout",
     "output_type": "stream",
     "text": [
      "Size:31.00 TPR:0.83 FPR:0.95\n"
     ]
    },
    {
     "name": "stderr",
     "output_type": "stream",
     "text": [
      "[Parallel(n_jobs=16)]: Using backend LokyBackend with 16 concurrent workers.\n",
      "[Parallel(n_jobs=16)]: Done  18 tasks      | elapsed:   43.5s\n",
      "[Parallel(n_jobs=16)]: Done  60 out of  60 | elapsed:  1.4min finished\n",
      "[Parallel(n_jobs=16)]: Using backend LokyBackend with 16 concurrent workers.\n",
      "[Parallel(n_jobs=16)]: Done  18 tasks      | elapsed:   13.3s\n",
      "[Parallel(n_jobs=16)]: Done  60 out of  60 | elapsed:   28.0s finished\n",
      "[Parallel(n_jobs=16)]: Using backend LokyBackend with 16 concurrent workers.\n",
      "[Parallel(n_jobs=16)]: Done  18 tasks      | elapsed:   35.4s\n",
      "[Parallel(n_jobs=16)]: Done  57 out of  57 | elapsed:  1.0min finished\n",
      "[Parallel(n_jobs=16)]: Using backend LokyBackend with 16 concurrent workers.\n",
      "[Parallel(n_jobs=16)]: Done  18 tasks      | elapsed:   11.3s\n",
      "[Parallel(n_jobs=16)]: Done  57 out of  57 | elapsed:   20.4s finished\n"
     ]
    },
    {
     "name": "stdout",
     "output_type": "stream",
     "text": [
      "Size:35.00 TPR:0.84 FPR:0.94\n"
     ]
    },
    {
     "name": "stderr",
     "output_type": "stream",
     "text": [
      "[Parallel(n_jobs=16)]: Using backend LokyBackend with 16 concurrent workers.\n",
      "[Parallel(n_jobs=16)]: Done  18 tasks      | elapsed:   43.7s\n",
      "[Parallel(n_jobs=16)]: Done  60 out of  60 | elapsed:  1.4min finished\n",
      "[Parallel(n_jobs=16)]: Using backend LokyBackend with 16 concurrent workers.\n",
      "[Parallel(n_jobs=16)]: Done  18 tasks      | elapsed:   12.6s\n",
      "[Parallel(n_jobs=16)]: Done  60 out of  60 | elapsed:   27.6s finished\n",
      "[Parallel(n_jobs=16)]: Using backend LokyBackend with 16 concurrent workers.\n",
      "[Parallel(n_jobs=16)]: Done  18 tasks      | elapsed:   35.4s\n",
      "[Parallel(n_jobs=16)]: Done  57 out of  57 | elapsed:  1.0min finished\n",
      "[Parallel(n_jobs=16)]: Using backend LokyBackend with 16 concurrent workers.\n",
      "[Parallel(n_jobs=16)]: Done  18 tasks      | elapsed:   11.4s\n",
      "[Parallel(n_jobs=16)]: Done  57 out of  57 | elapsed:   20.4s finished\n"
     ]
    },
    {
     "name": "stdout",
     "output_type": "stream",
     "text": [
      "Size:39.00 TPR:0.91 FPR:0.95\n"
     ]
    },
    {
     "name": "stderr",
     "output_type": "stream",
     "text": [
      "[Parallel(n_jobs=16)]: Using backend LokyBackend with 16 concurrent workers.\n",
      "[Parallel(n_jobs=16)]: Done  18 tasks      | elapsed:   43.9s\n",
      "[Parallel(n_jobs=16)]: Done  60 out of  60 | elapsed:  1.4min finished\n",
      "[Parallel(n_jobs=16)]: Using backend LokyBackend with 16 concurrent workers.\n",
      "[Parallel(n_jobs=16)]: Done  18 tasks      | elapsed:   13.1s\n",
      "[Parallel(n_jobs=16)]: Done  60 out of  60 | elapsed:   27.9s finished\n",
      "[Parallel(n_jobs=16)]: Using backend LokyBackend with 16 concurrent workers.\n",
      "[Parallel(n_jobs=16)]: Done  18 tasks      | elapsed:   35.1s\n",
      "[Parallel(n_jobs=16)]: Done  57 out of  57 | elapsed:  1.0min finished\n",
      "[Parallel(n_jobs=16)]: Using backend LokyBackend with 16 concurrent workers.\n",
      "[Parallel(n_jobs=16)]: Done  18 tasks      | elapsed:   11.2s\n",
      "[Parallel(n_jobs=16)]: Done  57 out of  57 | elapsed:   20.2s finished\n"
     ]
    },
    {
     "name": "stdout",
     "output_type": "stream",
     "text": [
      "Size:43.00 TPR:0.94 FPR:0.96\n"
     ]
    },
    {
     "name": "stderr",
     "output_type": "stream",
     "text": [
      "[Parallel(n_jobs=16)]: Using backend LokyBackend with 16 concurrent workers.\n",
      "[Parallel(n_jobs=16)]: Done  18 tasks      | elapsed:   42.8s\n",
      "[Parallel(n_jobs=16)]: Done  60 out of  60 | elapsed:  1.4min finished\n",
      "[Parallel(n_jobs=16)]: Using backend LokyBackend with 16 concurrent workers.\n",
      "[Parallel(n_jobs=16)]: Done  18 tasks      | elapsed:   13.4s\n",
      "[Parallel(n_jobs=16)]: Done  60 out of  60 | elapsed:   28.0s finished\n",
      "[Parallel(n_jobs=16)]: Using backend LokyBackend with 16 concurrent workers.\n",
      "[Parallel(n_jobs=16)]: Done  18 tasks      | elapsed:   35.3s\n",
      "[Parallel(n_jobs=16)]: Done  57 out of  57 | elapsed:  1.0min finished\n",
      "[Parallel(n_jobs=16)]: Using backend LokyBackend with 16 concurrent workers.\n",
      "[Parallel(n_jobs=16)]: Done  18 tasks      | elapsed:   11.4s\n",
      "[Parallel(n_jobs=16)]: Done  57 out of  57 | elapsed:   20.5s finished\n"
     ]
    },
    {
     "name": "stdout",
     "output_type": "stream",
     "text": [
      "Size:48.00 TPR:0.92 FPR:0.96\n"
     ]
    },
    {
     "name": "stderr",
     "output_type": "stream",
     "text": [
      "[Parallel(n_jobs=16)]: Using backend LokyBackend with 16 concurrent workers.\n",
      "[Parallel(n_jobs=16)]: Done  18 tasks      | elapsed:   43.4s\n",
      "[Parallel(n_jobs=16)]: Done  60 out of  60 | elapsed:  1.4min finished\n",
      "[Parallel(n_jobs=16)]: Using backend LokyBackend with 16 concurrent workers.\n",
      "[Parallel(n_jobs=16)]: Done  18 tasks      | elapsed:   13.4s\n",
      "[Parallel(n_jobs=16)]: Done  60 out of  60 | elapsed:   27.8s finished\n",
      "[Parallel(n_jobs=16)]: Using backend LokyBackend with 16 concurrent workers.\n",
      "[Parallel(n_jobs=16)]: Done  18 tasks      | elapsed:   35.3s\n",
      "[Parallel(n_jobs=16)]: Done  57 out of  57 | elapsed:  1.0min finished\n",
      "[Parallel(n_jobs=16)]: Using backend LokyBackend with 16 concurrent workers.\n",
      "[Parallel(n_jobs=16)]: Done  18 tasks      | elapsed:   11.3s\n",
      "[Parallel(n_jobs=16)]: Done  57 out of  57 | elapsed:   20.5s finished\n"
     ]
    },
    {
     "name": "stdout",
     "output_type": "stream",
     "text": [
      "Size:53.00 TPR:0.94 FPR:0.95\n"
     ]
    },
    {
     "name": "stderr",
     "output_type": "stream",
     "text": [
      "[Parallel(n_jobs=16)]: Using backend LokyBackend with 16 concurrent workers.\n",
      "[Parallel(n_jobs=16)]: Done  18 tasks      | elapsed:   43.6s\n",
      "[Parallel(n_jobs=16)]: Done  60 out of  60 | elapsed:  1.4min finished\n",
      "[Parallel(n_jobs=16)]: Using backend LokyBackend with 16 concurrent workers.\n",
      "[Parallel(n_jobs=16)]: Done  18 tasks      | elapsed:   13.3s\n",
      "[Parallel(n_jobs=16)]: Done  60 out of  60 | elapsed:   26.6s finished\n",
      "[Parallel(n_jobs=16)]: Using backend LokyBackend with 16 concurrent workers.\n",
      "[Parallel(n_jobs=16)]: Done  18 tasks      | elapsed:   35.2s\n",
      "[Parallel(n_jobs=16)]: Done  57 out of  57 | elapsed:  1.0min finished\n",
      "[Parallel(n_jobs=16)]: Using backend LokyBackend with 16 concurrent workers.\n",
      "[Parallel(n_jobs=16)]: Done  18 tasks      | elapsed:   11.3s\n",
      "[Parallel(n_jobs=16)]: Done  57 out of  57 | elapsed:   20.4s finished\n"
     ]
    },
    {
     "name": "stdout",
     "output_type": "stream",
     "text": [
      "Size:59.00 TPR:0.95 FPR:0.96\n"
     ]
    },
    {
     "name": "stderr",
     "output_type": "stream",
     "text": [
      "[Parallel(n_jobs=16)]: Using backend LokyBackend with 16 concurrent workers.\n",
      "[Parallel(n_jobs=16)]: Done  18 tasks      | elapsed:   43.1s\n",
      "[Parallel(n_jobs=16)]: Done  60 out of  60 | elapsed:  1.4min finished\n",
      "[Parallel(n_jobs=16)]: Using backend LokyBackend with 16 concurrent workers.\n",
      "[Parallel(n_jobs=16)]: Done  18 tasks      | elapsed:   13.4s\n",
      "[Parallel(n_jobs=16)]: Done  60 out of  60 | elapsed:   27.0s finished\n",
      "[Parallel(n_jobs=16)]: Using backend LokyBackend with 16 concurrent workers.\n",
      "[Parallel(n_jobs=16)]: Done  18 tasks      | elapsed:   36.4s\n",
      "[Parallel(n_jobs=16)]: Done  57 out of  57 | elapsed:  1.0min finished\n",
      "[Parallel(n_jobs=16)]: Using backend LokyBackend with 16 concurrent workers.\n",
      "[Parallel(n_jobs=16)]: Done  18 tasks      | elapsed:   11.2s\n",
      "[Parallel(n_jobs=16)]: Done  57 out of  57 | elapsed:   20.3s finished\n"
     ]
    },
    {
     "name": "stdout",
     "output_type": "stream",
     "text": [
      "Size:65.00 TPR:0.95 FPR:0.96\n"
     ]
    },
    {
     "name": "stderr",
     "output_type": "stream",
     "text": [
      "[Parallel(n_jobs=16)]: Using backend LokyBackend with 16 concurrent workers.\n",
      "[Parallel(n_jobs=16)]: Done  18 tasks      | elapsed:   43.4s\n",
      "[Parallel(n_jobs=16)]: Done  60 out of  60 | elapsed:  1.4min finished\n",
      "[Parallel(n_jobs=16)]: Using backend LokyBackend with 16 concurrent workers.\n",
      "[Parallel(n_jobs=16)]: Done  18 tasks      | elapsed:   13.3s\n",
      "[Parallel(n_jobs=16)]: Done  60 out of  60 | elapsed:   27.0s finished\n",
      "[Parallel(n_jobs=16)]: Using backend LokyBackend with 16 concurrent workers.\n",
      "[Parallel(n_jobs=16)]: Done  18 tasks      | elapsed:   36.4s\n",
      "[Parallel(n_jobs=16)]: Done  57 out of  57 | elapsed:  1.0min finished\n",
      "[Parallel(n_jobs=16)]: Using backend LokyBackend with 16 concurrent workers.\n",
      "[Parallel(n_jobs=16)]: Done  18 tasks      | elapsed:   11.2s\n",
      "[Parallel(n_jobs=16)]: Done  57 out of  57 | elapsed:   20.4s finished\n"
     ]
    },
    {
     "name": "stdout",
     "output_type": "stream",
     "text": [
      "Size:73.00 TPR:0.97 FPR:0.95\n"
     ]
    },
    {
     "name": "stderr",
     "output_type": "stream",
     "text": [
      "[Parallel(n_jobs=16)]: Using backend LokyBackend with 16 concurrent workers.\n",
      "[Parallel(n_jobs=16)]: Done  18 tasks      | elapsed:   43.6s\n",
      "[Parallel(n_jobs=16)]: Done  60 out of  60 | elapsed:  1.4min finished\n",
      "[Parallel(n_jobs=16)]: Using backend LokyBackend with 16 concurrent workers.\n",
      "[Parallel(n_jobs=16)]: Done  18 tasks      | elapsed:   13.4s\n",
      "[Parallel(n_jobs=16)]: Done  60 out of  60 | elapsed:   28.0s finished\n",
      "[Parallel(n_jobs=16)]: Using backend LokyBackend with 16 concurrent workers.\n",
      "[Parallel(n_jobs=16)]: Done  18 tasks      | elapsed:   35.4s\n",
      "[Parallel(n_jobs=16)]: Done  57 out of  57 | elapsed:  1.0min finished\n",
      "[Parallel(n_jobs=16)]: Using backend LokyBackend with 16 concurrent workers.\n",
      "[Parallel(n_jobs=16)]: Done  18 tasks      | elapsed:   11.3s\n",
      "[Parallel(n_jobs=16)]: Done  57 out of  57 | elapsed:   20.4s finished\n"
     ]
    },
    {
     "name": "stdout",
     "output_type": "stream",
     "text": [
      "Size:81.00 TPR:0.97 FPR:0.94\n"
     ]
    },
    {
     "name": "stderr",
     "output_type": "stream",
     "text": [
      "[Parallel(n_jobs=16)]: Using backend LokyBackend with 16 concurrent workers.\n",
      "[Parallel(n_jobs=16)]: Done  18 tasks      | elapsed:   43.7s\n",
      "[Parallel(n_jobs=16)]: Done  60 out of  60 | elapsed:  1.4min finished\n",
      "[Parallel(n_jobs=16)]: Using backend LokyBackend with 16 concurrent workers.\n",
      "[Parallel(n_jobs=16)]: Done  18 tasks      | elapsed:   13.3s\n",
      "[Parallel(n_jobs=16)]: Done  60 out of  60 | elapsed:   26.9s finished\n",
      "[Parallel(n_jobs=16)]: Using backend LokyBackend with 16 concurrent workers.\n",
      "[Parallel(n_jobs=16)]: Done  18 tasks      | elapsed:   35.4s\n",
      "[Parallel(n_jobs=16)]: Done  57 out of  57 | elapsed:  1.0min finished\n",
      "[Parallel(n_jobs=16)]: Using backend LokyBackend with 16 concurrent workers.\n",
      "[Parallel(n_jobs=16)]: Done  18 tasks      | elapsed:   11.3s\n",
      "[Parallel(n_jobs=16)]: Done  57 out of  57 | elapsed:   20.5s finished\n"
     ]
    },
    {
     "name": "stdout",
     "output_type": "stream",
     "text": [
      "Size:89.00 TPR:0.97 FPR:0.95\n"
     ]
    },
    {
     "name": "stderr",
     "output_type": "stream",
     "text": [
      "[Parallel(n_jobs=16)]: Using backend LokyBackend with 16 concurrent workers.\n",
      "[Parallel(n_jobs=16)]: Done  18 tasks      | elapsed:   43.1s\n",
      "[Parallel(n_jobs=16)]: Done  60 out of  60 | elapsed:  1.4min finished\n",
      "[Parallel(n_jobs=16)]: Using backend LokyBackend with 16 concurrent workers.\n",
      "[Parallel(n_jobs=16)]: Done  18 tasks      | elapsed:   13.4s\n",
      "[Parallel(n_jobs=16)]: Done  60 out of  60 | elapsed:   26.7s finished\n",
      "[Parallel(n_jobs=16)]: Using backend LokyBackend with 16 concurrent workers.\n",
      "[Parallel(n_jobs=16)]: Done  18 tasks      | elapsed:   36.6s\n",
      "[Parallel(n_jobs=16)]: Done  57 out of  57 | elapsed:  1.0min finished\n",
      "[Parallel(n_jobs=16)]: Using backend LokyBackend with 16 concurrent workers.\n",
      "[Parallel(n_jobs=16)]: Done  18 tasks      | elapsed:   11.2s\n",
      "[Parallel(n_jobs=16)]: Done  57 out of  57 | elapsed:   20.3s finished\n"
     ]
    },
    {
     "name": "stdout",
     "output_type": "stream",
     "text": [
      "Size:99.00 TPR:0.97 FPR:0.95\n"
     ]
    },
    {
     "name": "stderr",
     "output_type": "stream",
     "text": [
      "[Parallel(n_jobs=16)]: Using backend LokyBackend with 16 concurrent workers.\n",
      "[Parallel(n_jobs=16)]: Done  18 tasks      | elapsed:   43.6s\n",
      "[Parallel(n_jobs=16)]: Done  60 out of  60 | elapsed:  1.4min finished\n",
      "[Parallel(n_jobs=16)]: Using backend LokyBackend with 16 concurrent workers.\n",
      "[Parallel(n_jobs=16)]: Done  18 tasks      | elapsed:   13.6s\n",
      "[Parallel(n_jobs=16)]: Done  60 out of  60 | elapsed:   27.3s finished\n",
      "[Parallel(n_jobs=16)]: Using backend LokyBackend with 16 concurrent workers.\n",
      "[Parallel(n_jobs=16)]: Done  18 tasks      | elapsed:   36.7s\n",
      "[Parallel(n_jobs=16)]: Done  57 out of  57 | elapsed:  1.0min finished\n",
      "[Parallel(n_jobs=16)]: Using backend LokyBackend with 16 concurrent workers.\n",
      "[Parallel(n_jobs=16)]: Done  18 tasks      | elapsed:   11.5s\n",
      "[Parallel(n_jobs=16)]: Done  57 out of  57 | elapsed:   20.6s finished\n"
     ]
    },
    {
     "name": "stdout",
     "output_type": "stream",
     "text": [
      "Size:110.00 TPR:0.97 FPR:0.96\n"
     ]
    },
    {
     "name": "stderr",
     "output_type": "stream",
     "text": [
      "[Parallel(n_jobs=16)]: Using backend LokyBackend with 16 concurrent workers.\n",
      "[Parallel(n_jobs=16)]: Done  18 tasks      | elapsed:   43.2s\n",
      "[Parallel(n_jobs=16)]: Done  60 out of  60 | elapsed:  1.4min finished\n",
      "[Parallel(n_jobs=16)]: Using backend LokyBackend with 16 concurrent workers.\n",
      "[Parallel(n_jobs=16)]: Done  18 tasks      | elapsed:   13.5s\n",
      "[Parallel(n_jobs=16)]: Done  60 out of  60 | elapsed:   28.1s finished\n",
      "[Parallel(n_jobs=16)]: Using backend LokyBackend with 16 concurrent workers.\n",
      "[Parallel(n_jobs=16)]: Done  18 tasks      | elapsed:   35.3s\n",
      "[Parallel(n_jobs=16)]: Done  57 out of  57 | elapsed:  1.0min finished\n",
      "[Parallel(n_jobs=16)]: Using backend LokyBackend with 16 concurrent workers.\n",
      "[Parallel(n_jobs=16)]: Done  18 tasks      | elapsed:   11.4s\n",
      "[Parallel(n_jobs=16)]: Done  57 out of  57 | elapsed:   20.3s finished\n"
     ]
    },
    {
     "name": "stdout",
     "output_type": "stream",
     "text": [
      "Size:122.00 TPR:0.97 FPR:0.96\n"
     ]
    },
    {
     "name": "stderr",
     "output_type": "stream",
     "text": [
      "[Parallel(n_jobs=16)]: Using backend LokyBackend with 16 concurrent workers.\n",
      "[Parallel(n_jobs=16)]: Done  18 tasks      | elapsed:   43.5s\n",
      "[Parallel(n_jobs=16)]: Done  60 out of  60 | elapsed:  1.4min finished\n",
      "[Parallel(n_jobs=16)]: Using backend LokyBackend with 16 concurrent workers.\n",
      "[Parallel(n_jobs=16)]: Done  18 tasks      | elapsed:   13.2s\n",
      "[Parallel(n_jobs=16)]: Done  60 out of  60 | elapsed:   26.6s finished\n",
      "[Parallel(n_jobs=16)]: Using backend LokyBackend with 16 concurrent workers.\n",
      "[Parallel(n_jobs=16)]: Done  18 tasks      | elapsed:   36.4s\n",
      "[Parallel(n_jobs=16)]: Done  57 out of  57 | elapsed:  1.0min finished\n",
      "[Parallel(n_jobs=16)]: Using backend LokyBackend with 16 concurrent workers.\n",
      "[Parallel(n_jobs=16)]: Done  18 tasks      | elapsed:   11.6s\n",
      "[Parallel(n_jobs=16)]: Done  57 out of  57 | elapsed:   20.7s finished\n"
     ]
    },
    {
     "name": "stdout",
     "output_type": "stream",
     "text": [
      "Size:136.00 TPR:0.98 FPR:0.95\n"
     ]
    },
    {
     "name": "stderr",
     "output_type": "stream",
     "text": [
      "[Parallel(n_jobs=16)]: Using backend LokyBackend with 16 concurrent workers.\n",
      "[Parallel(n_jobs=16)]: Done  18 tasks      | elapsed:   43.7s\n",
      "[Parallel(n_jobs=16)]: Done  60 out of  60 | elapsed:  1.4min finished\n",
      "[Parallel(n_jobs=16)]: Using backend LokyBackend with 16 concurrent workers.\n",
      "[Parallel(n_jobs=16)]: Done  18 tasks      | elapsed:   12.8s\n",
      "[Parallel(n_jobs=16)]: Done  60 out of  60 | elapsed:   28.4s finished\n",
      "[Parallel(n_jobs=16)]: Using backend LokyBackend with 16 concurrent workers.\n",
      "[Parallel(n_jobs=16)]: Done  18 tasks      | elapsed:   35.3s\n",
      "[Parallel(n_jobs=16)]: Done  57 out of  57 | elapsed:  1.0min finished\n",
      "[Parallel(n_jobs=16)]: Using backend LokyBackend with 16 concurrent workers.\n",
      "[Parallel(n_jobs=16)]: Done  18 tasks      | elapsed:   11.5s\n",
      "[Parallel(n_jobs=16)]: Done  57 out of  57 | elapsed:   20.8s finished\n"
     ]
    },
    {
     "name": "stdout",
     "output_type": "stream",
     "text": [
      "Size:150.00 TPR:0.98 FPR:0.95\n"
     ]
    },
    {
     "name": "stderr",
     "output_type": "stream",
     "text": [
      "[Parallel(n_jobs=16)]: Using backend LokyBackend with 16 concurrent workers.\n",
      "[Parallel(n_jobs=16)]: Done  18 tasks      | elapsed:   43.6s\n",
      "[Parallel(n_jobs=16)]: Done  60 out of  60 | elapsed:  1.4min finished\n",
      "[Parallel(n_jobs=16)]: Using backend LokyBackend with 16 concurrent workers.\n",
      "[Parallel(n_jobs=16)]: Done  18 tasks      | elapsed:   13.2s\n",
      "[Parallel(n_jobs=16)]: Done  60 out of  60 | elapsed:   27.4s finished\n",
      "[Parallel(n_jobs=16)]: Using backend LokyBackend with 16 concurrent workers.\n",
      "[Parallel(n_jobs=16)]: Done  18 tasks      | elapsed:   36.4s\n",
      "[Parallel(n_jobs=16)]: Done  57 out of  57 | elapsed:  1.0min finished\n",
      "[Parallel(n_jobs=16)]: Using backend LokyBackend with 16 concurrent workers.\n",
      "[Parallel(n_jobs=16)]: Done  18 tasks      | elapsed:   11.2s\n",
      "[Parallel(n_jobs=16)]: Done  57 out of  57 | elapsed:   20.7s finished\n"
     ]
    },
    {
     "name": "stdout",
     "output_type": "stream",
     "text": [
      "Size:167.00 TPR:0.98 FPR:0.95\n"
     ]
    },
    {
     "name": "stderr",
     "output_type": "stream",
     "text": [
      "[Parallel(n_jobs=16)]: Using backend LokyBackend with 16 concurrent workers.\n",
      "[Parallel(n_jobs=16)]: Done  18 tasks      | elapsed:   43.6s\n",
      "[Parallel(n_jobs=16)]: Done  60 out of  60 | elapsed:  1.4min finished\n",
      "[Parallel(n_jobs=16)]: Using backend LokyBackend with 16 concurrent workers.\n",
      "[Parallel(n_jobs=16)]: Done  18 tasks      | elapsed:   13.4s\n",
      "[Parallel(n_jobs=16)]: Done  60 out of  60 | elapsed:   27.3s finished\n",
      "[Parallel(n_jobs=16)]: Using backend LokyBackend with 16 concurrent workers.\n",
      "[Parallel(n_jobs=16)]: Done  18 tasks      | elapsed:   36.3s\n",
      "[Parallel(n_jobs=16)]: Done  57 out of  57 | elapsed:  1.0min finished\n",
      "[Parallel(n_jobs=16)]: Using backend LokyBackend with 16 concurrent workers.\n",
      "[Parallel(n_jobs=16)]: Done  18 tasks      | elapsed:   11.4s\n",
      "[Parallel(n_jobs=16)]: Done  57 out of  57 | elapsed:   20.7s finished\n"
     ]
    },
    {
     "name": "stdout",
     "output_type": "stream",
     "text": [
      "Size:185.00 TPR:0.97 FPR:0.95\n"
     ]
    },
    {
     "name": "stderr",
     "output_type": "stream",
     "text": [
      "[Parallel(n_jobs=16)]: Using backend LokyBackend with 16 concurrent workers.\n",
      "[Parallel(n_jobs=16)]: Done  18 tasks      | elapsed:   44.0s\n",
      "[Parallel(n_jobs=16)]: Done  60 out of  60 | elapsed:  1.4min finished\n",
      "[Parallel(n_jobs=16)]: Using backend LokyBackend with 16 concurrent workers.\n",
      "[Parallel(n_jobs=16)]: Done  18 tasks      | elapsed:   13.6s\n",
      "[Parallel(n_jobs=16)]: Done  60 out of  60 | elapsed:   28.3s finished\n",
      "[Parallel(n_jobs=16)]: Using backend LokyBackend with 16 concurrent workers.\n",
      "[Parallel(n_jobs=16)]: Done  18 tasks      | elapsed:   35.3s\n",
      "[Parallel(n_jobs=16)]: Done  57 out of  57 | elapsed:  1.0min finished\n",
      "[Parallel(n_jobs=16)]: Using backend LokyBackend with 16 concurrent workers.\n",
      "[Parallel(n_jobs=16)]: Done  18 tasks      | elapsed:   11.4s\n",
      "[Parallel(n_jobs=16)]: Done  57 out of  57 | elapsed:   20.7s finished\n"
     ]
    },
    {
     "name": "stdout",
     "output_type": "stream",
     "text": [
      "Size:205.00 TPR:0.98 FPR:0.96\n"
     ]
    },
    {
     "name": "stderr",
     "output_type": "stream",
     "text": [
      "[Parallel(n_jobs=16)]: Using backend LokyBackend with 16 concurrent workers.\n",
      "[Parallel(n_jobs=16)]: Done  18 tasks      | elapsed:   43.2s\n",
      "[Parallel(n_jobs=16)]: Done  60 out of  60 | elapsed:  1.4min finished\n",
      "[Parallel(n_jobs=16)]: Using backend LokyBackend with 16 concurrent workers.\n",
      "[Parallel(n_jobs=16)]: Done  18 tasks      | elapsed:   13.5s\n",
      "[Parallel(n_jobs=16)]: Done  60 out of  60 | elapsed:   27.3s finished\n",
      "[Parallel(n_jobs=16)]: Using backend LokyBackend with 16 concurrent workers.\n",
      "[Parallel(n_jobs=16)]: Done  18 tasks      | elapsed:   36.4s\n",
      "[Parallel(n_jobs=16)]: Done  57 out of  57 | elapsed:  1.0min finished\n",
      "[Parallel(n_jobs=16)]: Using backend LokyBackend with 16 concurrent workers.\n",
      "[Parallel(n_jobs=16)]: Done  18 tasks      | elapsed:   11.6s\n",
      "[Parallel(n_jobs=16)]: Done  57 out of  57 | elapsed:   20.8s finished\n"
     ]
    },
    {
     "name": "stdout",
     "output_type": "stream",
     "text": [
      "Size:228.00 TPR:0.99 FPR:0.96\n"
     ]
    },
    {
     "name": "stderr",
     "output_type": "stream",
     "text": [
      "[Parallel(n_jobs=16)]: Using backend LokyBackend with 16 concurrent workers.\n",
      "[Parallel(n_jobs=16)]: Done  18 tasks      | elapsed:   43.2s\n",
      "[Parallel(n_jobs=16)]: Done  60 out of  60 | elapsed:  1.4min finished\n",
      "[Parallel(n_jobs=16)]: Using backend LokyBackend with 16 concurrent workers.\n",
      "[Parallel(n_jobs=16)]: Done  18 tasks      | elapsed:   13.7s\n",
      "[Parallel(n_jobs=16)]: Done  60 out of  60 | elapsed:   28.3s finished\n",
      "[Parallel(n_jobs=16)]: Using backend LokyBackend with 16 concurrent workers.\n",
      "[Parallel(n_jobs=16)]: Done  18 tasks      | elapsed:   35.4s\n",
      "[Parallel(n_jobs=16)]: Done  57 out of  57 | elapsed:  1.0min finished\n",
      "[Parallel(n_jobs=16)]: Using backend LokyBackend with 16 concurrent workers.\n",
      "[Parallel(n_jobs=16)]: Done  18 tasks      | elapsed:   11.4s\n",
      "[Parallel(n_jobs=16)]: Done  57 out of  57 | elapsed:   20.8s finished\n"
     ]
    },
    {
     "name": "stdout",
     "output_type": "stream",
     "text": [
      "Size:252.00 TPR:0.99 FPR:0.95\n"
     ]
    },
    {
     "name": "stderr",
     "output_type": "stream",
     "text": [
      "[Parallel(n_jobs=16)]: Using backend LokyBackend with 16 concurrent workers.\n",
      "[Parallel(n_jobs=16)]: Done  18 tasks      | elapsed:   43.8s\n",
      "[Parallel(n_jobs=16)]: Done  60 out of  60 | elapsed:  1.4min finished\n",
      "[Parallel(n_jobs=16)]: Using backend LokyBackend with 16 concurrent workers.\n",
      "[Parallel(n_jobs=16)]: Done  18 tasks      | elapsed:   13.3s\n",
      "[Parallel(n_jobs=16)]: Done  60 out of  60 | elapsed:   28.8s finished\n",
      "[Parallel(n_jobs=16)]: Using backend LokyBackend with 16 concurrent workers.\n",
      "[Parallel(n_jobs=16)]: Done  18 tasks      | elapsed:   35.6s\n",
      "[Parallel(n_jobs=16)]: Done  57 out of  57 | elapsed:  1.0min finished\n",
      "[Parallel(n_jobs=16)]: Using backend LokyBackend with 16 concurrent workers.\n",
      "[Parallel(n_jobs=16)]: Done  18 tasks      | elapsed:   11.8s\n",
      "[Parallel(n_jobs=16)]: Done  57 out of  57 | elapsed:   21.0s finished\n"
     ]
    },
    {
     "name": "stdout",
     "output_type": "stream",
     "text": [
      "Size:280.00 TPR:0.99 FPR:0.96\n"
     ]
    },
    {
     "name": "stderr",
     "output_type": "stream",
     "text": [
      "[Parallel(n_jobs=16)]: Using backend LokyBackend with 16 concurrent workers.\n",
      "[Parallel(n_jobs=16)]: Done  18 tasks      | elapsed:   43.4s\n",
      "[Parallel(n_jobs=16)]: Done  60 out of  60 | elapsed:  1.4min finished\n",
      "[Parallel(n_jobs=16)]: Using backend LokyBackend with 16 concurrent workers.\n",
      "[Parallel(n_jobs=16)]: Done  18 tasks      | elapsed:   13.6s\n",
      "[Parallel(n_jobs=16)]: Done  60 out of  60 | elapsed:   27.7s finished\n",
      "[Parallel(n_jobs=16)]: Using backend LokyBackend with 16 concurrent workers.\n",
      "[Parallel(n_jobs=16)]: Done  18 tasks      | elapsed:   36.8s\n",
      "[Parallel(n_jobs=16)]: Done  57 out of  57 | elapsed:  1.0min finished\n",
      "[Parallel(n_jobs=16)]: Using backend LokyBackend with 16 concurrent workers.\n",
      "[Parallel(n_jobs=16)]: Done  18 tasks      | elapsed:   11.7s\n",
      "[Parallel(n_jobs=16)]: Done  57 out of  57 | elapsed:   21.1s finished\n"
     ]
    },
    {
     "name": "stdout",
     "output_type": "stream",
     "text": [
      "Size:311.00 TPR:0.98 FPR:0.96\n"
     ]
    },
    {
     "name": "stderr",
     "output_type": "stream",
     "text": [
      "[Parallel(n_jobs=16)]: Using backend LokyBackend with 16 concurrent workers.\n",
      "[Parallel(n_jobs=16)]: Done  18 tasks      | elapsed:   43.5s\n",
      "[Parallel(n_jobs=16)]: Done  60 out of  60 | elapsed:  1.4min finished\n",
      "[Parallel(n_jobs=16)]: Using backend LokyBackend with 16 concurrent workers.\n",
      "[Parallel(n_jobs=16)]: Done  18 tasks      | elapsed:   13.8s\n",
      "[Parallel(n_jobs=16)]: Done  60 out of  60 | elapsed:   27.5s finished\n",
      "[Parallel(n_jobs=16)]: Using backend LokyBackend with 16 concurrent workers.\n",
      "[Parallel(n_jobs=16)]: Done  18 tasks      | elapsed:   36.4s\n",
      "[Parallel(n_jobs=16)]: Done  57 out of  57 | elapsed:  1.0min finished\n",
      "[Parallel(n_jobs=16)]: Using backend LokyBackend with 16 concurrent workers.\n",
      "[Parallel(n_jobs=16)]: Done  18 tasks      | elapsed:   11.7s\n",
      "[Parallel(n_jobs=16)]: Done  57 out of  57 | elapsed:   21.2s finished\n"
     ]
    },
    {
     "name": "stdout",
     "output_type": "stream",
     "text": [
      "Size:344.00 TPR:0.98 FPR:0.96\n"
     ]
    },
    {
     "name": "stderr",
     "output_type": "stream",
     "text": [
      "[Parallel(n_jobs=16)]: Using backend LokyBackend with 16 concurrent workers.\n",
      "[Parallel(n_jobs=16)]: Done  18 tasks      | elapsed:   44.0s\n",
      "[Parallel(n_jobs=16)]: Done  60 out of  60 | elapsed:  1.4min finished\n",
      "[Parallel(n_jobs=16)]: Using backend LokyBackend with 16 concurrent workers.\n",
      "[Parallel(n_jobs=16)]: Done  18 tasks      | elapsed:   13.8s\n",
      "[Parallel(n_jobs=16)]: Done  60 out of  60 | elapsed:   27.5s finished\n",
      "[Parallel(n_jobs=16)]: Using backend LokyBackend with 16 concurrent workers.\n",
      "[Parallel(n_jobs=16)]: Done  18 tasks      | elapsed:   36.3s\n",
      "[Parallel(n_jobs=16)]: Done  57 out of  57 | elapsed:  1.0min finished\n",
      "[Parallel(n_jobs=16)]: Using backend LokyBackend with 16 concurrent workers.\n",
      "[Parallel(n_jobs=16)]: Done  18 tasks      | elapsed:   11.7s\n",
      "[Parallel(n_jobs=16)]: Done  57 out of  57 | elapsed:   21.2s finished\n"
     ]
    },
    {
     "name": "stdout",
     "output_type": "stream",
     "text": [
      "Size:382.00 TPR:0.99 FPR:0.96\n"
     ]
    },
    {
     "name": "stderr",
     "output_type": "stream",
     "text": [
      "[Parallel(n_jobs=16)]: Using backend LokyBackend with 16 concurrent workers.\n",
      "[Parallel(n_jobs=16)]: Done  18 tasks      | elapsed:   43.2s\n",
      "[Parallel(n_jobs=16)]: Done  60 out of  60 | elapsed:  1.4min finished\n",
      "[Parallel(n_jobs=16)]: Using backend LokyBackend with 16 concurrent workers.\n",
      "[Parallel(n_jobs=16)]: Done  18 tasks      | elapsed:   14.0s\n",
      "[Parallel(n_jobs=16)]: Done  60 out of  60 | elapsed:   28.8s finished\n",
      "[Parallel(n_jobs=16)]: Using backend LokyBackend with 16 concurrent workers.\n",
      "[Parallel(n_jobs=16)]: Done  18 tasks      | elapsed:   35.4s\n",
      "[Parallel(n_jobs=16)]: Done  57 out of  57 | elapsed:  1.0min finished\n",
      "[Parallel(n_jobs=16)]: Using backend LokyBackend with 16 concurrent workers.\n",
      "[Parallel(n_jobs=16)]: Done  18 tasks      | elapsed:   11.7s\n",
      "[Parallel(n_jobs=16)]: Done  57 out of  57 | elapsed:   21.0s finished\n"
     ]
    },
    {
     "name": "stdout",
     "output_type": "stream",
     "text": [
      "Size:424.00 TPR:0.98 FPR:0.96\n"
     ]
    },
    {
     "name": "stderr",
     "output_type": "stream",
     "text": [
      "[Parallel(n_jobs=16)]: Using backend LokyBackend with 16 concurrent workers.\n",
      "[Parallel(n_jobs=16)]: Done  18 tasks      | elapsed:   43.5s\n",
      "[Parallel(n_jobs=16)]: Done  60 out of  60 | elapsed:  1.4min finished\n",
      "[Parallel(n_jobs=16)]: Using backend LokyBackend with 16 concurrent workers.\n",
      "[Parallel(n_jobs=16)]: Done  18 tasks      | elapsed:   14.0s\n",
      "[Parallel(n_jobs=16)]: Done  60 out of  60 | elapsed:   28.9s finished\n",
      "[Parallel(n_jobs=16)]: Using backend LokyBackend with 16 concurrent workers.\n",
      "[Parallel(n_jobs=16)]: Done  18 tasks      | elapsed:   35.5s\n",
      "[Parallel(n_jobs=16)]: Done  57 out of  57 | elapsed:  1.0min finished\n",
      "[Parallel(n_jobs=16)]: Using backend LokyBackend with 16 concurrent workers.\n",
      "[Parallel(n_jobs=16)]: Done  18 tasks      | elapsed:   11.7s\n",
      "[Parallel(n_jobs=16)]: Done  57 out of  57 | elapsed:   21.2s finished\n"
     ]
    },
    {
     "name": "stdout",
     "output_type": "stream",
     "text": [
      "Size:470.00 TPR:0.99 FPR:0.96\n"
     ]
    },
    {
     "name": "stderr",
     "output_type": "stream",
     "text": [
      "[Parallel(n_jobs=16)]: Using backend LokyBackend with 16 concurrent workers.\n",
      "[Parallel(n_jobs=16)]: Done  18 tasks      | elapsed:   43.3s\n",
      "[Parallel(n_jobs=16)]: Done  60 out of  60 | elapsed:  1.4min finished\n",
      "[Parallel(n_jobs=16)]: Using backend LokyBackend with 16 concurrent workers.\n",
      "[Parallel(n_jobs=16)]: Done  18 tasks      | elapsed:   13.9s\n",
      "[Parallel(n_jobs=16)]: Done  60 out of  60 | elapsed:   28.8s finished\n",
      "[Parallel(n_jobs=16)]: Using backend LokyBackend with 16 concurrent workers.\n",
      "[Parallel(n_jobs=16)]: Done  18 tasks      | elapsed:   35.4s\n",
      "[Parallel(n_jobs=16)]: Done  57 out of  57 | elapsed:  1.0min finished\n",
      "[Parallel(n_jobs=16)]: Using backend LokyBackend with 16 concurrent workers.\n",
      "[Parallel(n_jobs=16)]: Done  18 tasks      | elapsed:   11.8s\n",
      "[Parallel(n_jobs=16)]: Done  57 out of  57 | elapsed:   21.3s finished\n"
     ]
    },
    {
     "name": "stdout",
     "output_type": "stream",
     "text": [
      "Size:521.00 TPR:0.99 FPR:0.96\n"
     ]
    },
    {
     "name": "stderr",
     "output_type": "stream",
     "text": [
      "[Parallel(n_jobs=16)]: Using backend LokyBackend with 16 concurrent workers.\n",
      "[Parallel(n_jobs=16)]: Done  18 tasks      | elapsed:   43.5s\n",
      "[Parallel(n_jobs=16)]: Done  60 out of  60 | elapsed:  1.4min finished\n",
      "[Parallel(n_jobs=16)]: Using backend LokyBackend with 16 concurrent workers.\n",
      "[Parallel(n_jobs=16)]: Done  18 tasks      | elapsed:   14.0s\n",
      "[Parallel(n_jobs=16)]: Done  60 out of  60 | elapsed:   29.1s finished\n",
      "[Parallel(n_jobs=16)]: Using backend LokyBackend with 16 concurrent workers.\n",
      "[Parallel(n_jobs=16)]: Done  18 tasks      | elapsed:   35.4s\n",
      "[Parallel(n_jobs=16)]: Done  57 out of  57 | elapsed:  1.0min finished\n",
      "[Parallel(n_jobs=16)]: Using backend LokyBackend with 16 concurrent workers.\n",
      "[Parallel(n_jobs=16)]: Done  18 tasks      | elapsed:   12.1s\n",
      "[Parallel(n_jobs=16)]: Done  57 out of  57 | elapsed:   21.7s finished\n"
     ]
    },
    {
     "name": "stdout",
     "output_type": "stream",
     "text": [
      "Size:578.00 TPR:0.99 FPR:0.96\n"
     ]
    },
    {
     "name": "stderr",
     "output_type": "stream",
     "text": [
      "[Parallel(n_jobs=16)]: Using backend LokyBackend with 16 concurrent workers.\n",
      "[Parallel(n_jobs=16)]: Done  18 tasks      | elapsed:   43.5s\n",
      "[Parallel(n_jobs=16)]: Done  60 out of  60 | elapsed:  1.4min finished\n",
      "[Parallel(n_jobs=16)]: Using backend LokyBackend with 16 concurrent workers.\n",
      "[Parallel(n_jobs=16)]: Done  18 tasks      | elapsed:   14.4s\n",
      "[Parallel(n_jobs=16)]: Done  60 out of  60 | elapsed:   29.1s finished\n",
      "[Parallel(n_jobs=16)]: Using backend LokyBackend with 16 concurrent workers.\n",
      "[Parallel(n_jobs=16)]: Done  18 tasks      | elapsed:   35.4s\n",
      "[Parallel(n_jobs=16)]: Done  57 out of  57 | elapsed:  1.0min finished\n",
      "[Parallel(n_jobs=16)]: Using backend LokyBackend with 16 concurrent workers.\n",
      "[Parallel(n_jobs=16)]: Done  18 tasks      | elapsed:   12.1s\n",
      "[Parallel(n_jobs=16)]: Done  57 out of  57 | elapsed:   21.8s finished\n"
     ]
    },
    {
     "name": "stdout",
     "output_type": "stream",
     "text": [
      "Size:641.00 TPR:0.99 FPR:0.96\n"
     ]
    },
    {
     "name": "stderr",
     "output_type": "stream",
     "text": [
      "[Parallel(n_jobs=16)]: Using backend LokyBackend with 16 concurrent workers.\n",
      "[Parallel(n_jobs=16)]: Done  18 tasks      | elapsed:   42.9s\n",
      "[Parallel(n_jobs=16)]: Done  60 out of  60 | elapsed:  1.4min finished\n",
      "[Parallel(n_jobs=16)]: Using backend LokyBackend with 16 concurrent workers.\n",
      "[Parallel(n_jobs=16)]: Done  18 tasks      | elapsed:   14.2s\n",
      "[Parallel(n_jobs=16)]: Done  60 out of  60 | elapsed:   29.5s finished\n",
      "[Parallel(n_jobs=16)]: Using backend LokyBackend with 16 concurrent workers.\n",
      "[Parallel(n_jobs=16)]: Done  18 tasks      | elapsed:   35.4s\n",
      "[Parallel(n_jobs=16)]: Done  57 out of  57 | elapsed:  1.0min finished\n",
      "[Parallel(n_jobs=16)]: Using backend LokyBackend with 16 concurrent workers.\n",
      "[Parallel(n_jobs=16)]: Done  18 tasks      | elapsed:   11.9s\n",
      "[Parallel(n_jobs=16)]: Done  57 out of  57 | elapsed:   21.7s finished\n"
     ]
    },
    {
     "name": "stdout",
     "output_type": "stream",
     "text": [
      "Size:711.00 TPR:0.99 FPR:0.96\n"
     ]
    },
    {
     "name": "stderr",
     "output_type": "stream",
     "text": [
      "[Parallel(n_jobs=16)]: Using backend LokyBackend with 16 concurrent workers.\n",
      "[Parallel(n_jobs=16)]: Done  18 tasks      | elapsed:   43.2s\n",
      "[Parallel(n_jobs=16)]: Done  60 out of  60 | elapsed:  1.4min finished\n",
      "[Parallel(n_jobs=16)]: Using backend LokyBackend with 16 concurrent workers.\n",
      "[Parallel(n_jobs=16)]: Done  18 tasks      | elapsed:   14.4s\n",
      "[Parallel(n_jobs=16)]: Done  60 out of  60 | elapsed:   29.6s finished\n",
      "[Parallel(n_jobs=16)]: Using backend LokyBackend with 16 concurrent workers.\n",
      "[Parallel(n_jobs=16)]: Done  18 tasks      | elapsed:   35.2s\n",
      "[Parallel(n_jobs=16)]: Done  57 out of  57 | elapsed:  1.0min finished\n",
      "[Parallel(n_jobs=16)]: Using backend LokyBackend with 16 concurrent workers.\n",
      "[Parallel(n_jobs=16)]: Done  18 tasks      | elapsed:   12.2s\n",
      "[Parallel(n_jobs=16)]: Done  57 out of  57 | elapsed:   22.0s finished\n"
     ]
    },
    {
     "name": "stdout",
     "output_type": "stream",
     "text": [
      "Size:788.00 TPR:1.00 FPR:0.96\n"
     ]
    },
    {
     "name": "stderr",
     "output_type": "stream",
     "text": [
      "[Parallel(n_jobs=16)]: Using backend LokyBackend with 16 concurrent workers.\n",
      "[Parallel(n_jobs=16)]: Done  18 tasks      | elapsed:   43.5s\n",
      "[Parallel(n_jobs=16)]: Done  60 out of  60 | elapsed:  1.4min finished\n",
      "[Parallel(n_jobs=16)]: Using backend LokyBackend with 16 concurrent workers.\n",
      "[Parallel(n_jobs=16)]: Done  18 tasks      | elapsed:   14.6s\n",
      "[Parallel(n_jobs=16)]: Done  60 out of  60 | elapsed:   29.6s finished\n",
      "[Parallel(n_jobs=16)]: Using backend LokyBackend with 16 concurrent workers.\n",
      "[Parallel(n_jobs=16)]: Done  18 tasks      | elapsed:   35.3s\n",
      "[Parallel(n_jobs=16)]: Done  57 out of  57 | elapsed:  1.0min finished\n",
      "[Parallel(n_jobs=16)]: Using backend LokyBackend with 16 concurrent workers.\n",
      "[Parallel(n_jobs=16)]: Done  18 tasks      | elapsed:   12.1s\n",
      "[Parallel(n_jobs=16)]: Done  57 out of  57 | elapsed:   21.7s finished\n"
     ]
    },
    {
     "name": "stdout",
     "output_type": "stream",
     "text": [
      "Size:874.00 TPR:0.99 FPR:0.96\n"
     ]
    },
    {
     "name": "stderr",
     "output_type": "stream",
     "text": [
      "[Parallel(n_jobs=16)]: Using backend LokyBackend with 16 concurrent workers.\n",
      "[Parallel(n_jobs=16)]: Done  18 tasks      | elapsed:   43.0s\n",
      "[Parallel(n_jobs=16)]: Done  60 out of  60 | elapsed:  1.4min finished\n",
      "[Parallel(n_jobs=16)]: Using backend LokyBackend with 16 concurrent workers.\n",
      "[Parallel(n_jobs=16)]: Done  18 tasks      | elapsed:   14.6s\n",
      "[Parallel(n_jobs=16)]: Done  60 out of  60 | elapsed:   30.2s finished\n",
      "[Parallel(n_jobs=16)]: Using backend LokyBackend with 16 concurrent workers.\n",
      "[Parallel(n_jobs=16)]: Done  18 tasks      | elapsed:   35.2s\n",
      "[Parallel(n_jobs=16)]: Done  57 out of  57 | elapsed:  1.0min finished\n",
      "[Parallel(n_jobs=16)]: Using backend LokyBackend with 16 concurrent workers.\n",
      "[Parallel(n_jobs=16)]: Done  18 tasks      | elapsed:   12.2s\n",
      "[Parallel(n_jobs=16)]: Done  57 out of  57 | elapsed:   22.1s finished\n"
     ]
    },
    {
     "name": "stdout",
     "output_type": "stream",
     "text": [
      "Size:969.00 TPR:0.99 FPR:0.96\n"
     ]
    },
    {
     "name": "stderr",
     "output_type": "stream",
     "text": [
      "[Parallel(n_jobs=16)]: Using backend LokyBackend with 16 concurrent workers.\n",
      "[Parallel(n_jobs=16)]: Done  18 tasks      | elapsed:   43.5s\n",
      "[Parallel(n_jobs=16)]: Done  60 out of  60 | elapsed:  1.4min finished\n",
      "[Parallel(n_jobs=16)]: Using backend LokyBackend with 16 concurrent workers.\n",
      "[Parallel(n_jobs=16)]: Done  18 tasks      | elapsed:   14.7s\n",
      "[Parallel(n_jobs=16)]: Done  60 out of  60 | elapsed:   30.0s finished\n",
      "[Parallel(n_jobs=16)]: Using backend LokyBackend with 16 concurrent workers.\n",
      "[Parallel(n_jobs=16)]: Done  18 tasks      | elapsed:   35.5s\n",
      "[Parallel(n_jobs=16)]: Done  57 out of  57 | elapsed:  1.0min finished\n",
      "[Parallel(n_jobs=16)]: Using backend LokyBackend with 16 concurrent workers.\n",
      "[Parallel(n_jobs=16)]: Done  18 tasks      | elapsed:   12.4s\n",
      "[Parallel(n_jobs=16)]: Done  57 out of  57 | elapsed:   22.5s finished\n"
     ]
    },
    {
     "name": "stdout",
     "output_type": "stream",
     "text": [
      "Size:1075.00 TPR:0.99 FPR:0.96\n"
     ]
    },
    {
     "name": "stderr",
     "output_type": "stream",
     "text": [
      "[Parallel(n_jobs=16)]: Using backend LokyBackend with 16 concurrent workers.\n",
      "[Parallel(n_jobs=16)]: Done  18 tasks      | elapsed:   43.7s\n",
      "[Parallel(n_jobs=16)]: Done  60 out of  60 | elapsed:  1.4min finished\n",
      "[Parallel(n_jobs=16)]: Using backend LokyBackend with 16 concurrent workers.\n",
      "[Parallel(n_jobs=16)]: Done  18 tasks      | elapsed:   14.7s\n",
      "[Parallel(n_jobs=16)]: Done  60 out of  60 | elapsed:   30.4s finished\n",
      "[Parallel(n_jobs=16)]: Using backend LokyBackend with 16 concurrent workers.\n",
      "[Parallel(n_jobs=16)]: Done  18 tasks      | elapsed:   35.4s\n",
      "[Parallel(n_jobs=16)]: Done  57 out of  57 | elapsed:  1.0min finished\n",
      "[Parallel(n_jobs=16)]: Using backend LokyBackend with 16 concurrent workers.\n",
      "[Parallel(n_jobs=16)]: Done  18 tasks      | elapsed:   12.4s\n",
      "[Parallel(n_jobs=16)]: Done  57 out of  57 | elapsed:   22.4s finished\n"
     ]
    },
    {
     "name": "stdout",
     "output_type": "stream",
     "text": [
      "Size:1192.00 TPR:0.99 FPR:0.96\n"
     ]
    },
    {
     "name": "stderr",
     "output_type": "stream",
     "text": [
      "[Parallel(n_jobs=16)]: Using backend LokyBackend with 16 concurrent workers.\n",
      "[Parallel(n_jobs=16)]: Done  18 tasks      | elapsed:   43.7s\n",
      "[Parallel(n_jobs=16)]: Done  60 out of  60 | elapsed:  1.4min finished\n",
      "[Parallel(n_jobs=16)]: Using backend LokyBackend with 16 concurrent workers.\n",
      "[Parallel(n_jobs=16)]: Done  18 tasks      | elapsed:   15.0s\n",
      "[Parallel(n_jobs=16)]: Done  60 out of  60 | elapsed:   31.1s finished\n",
      "[Parallel(n_jobs=16)]: Using backend LokyBackend with 16 concurrent workers.\n",
      "[Parallel(n_jobs=16)]: Done  18 tasks      | elapsed:   35.7s\n",
      "[Parallel(n_jobs=16)]: Done  57 out of  57 | elapsed:  1.0min finished\n",
      "[Parallel(n_jobs=16)]: Using backend LokyBackend with 16 concurrent workers.\n",
      "[Parallel(n_jobs=16)]: Done  18 tasks      | elapsed:   12.6s\n",
      "[Parallel(n_jobs=16)]: Done  57 out of  57 | elapsed:   22.5s finished\n"
     ]
    },
    {
     "name": "stdout",
     "output_type": "stream",
     "text": [
      "Size:1322.00 TPR:0.99 FPR:0.96\n"
     ]
    },
    {
     "name": "stderr",
     "output_type": "stream",
     "text": [
      "[Parallel(n_jobs=16)]: Using backend LokyBackend with 16 concurrent workers.\n",
      "[Parallel(n_jobs=16)]: Done  18 tasks      | elapsed:   43.4s\n",
      "[Parallel(n_jobs=16)]: Done  60 out of  60 | elapsed:  1.4min finished\n",
      "[Parallel(n_jobs=16)]: Using backend LokyBackend with 16 concurrent workers.\n",
      "[Parallel(n_jobs=16)]: Done  18 tasks      | elapsed:   15.2s\n",
      "[Parallel(n_jobs=16)]: Done  60 out of  60 | elapsed:   31.0s finished\n",
      "[Parallel(n_jobs=16)]: Using backend LokyBackend with 16 concurrent workers.\n",
      "[Parallel(n_jobs=16)]: Done  18 tasks      | elapsed:   35.4s\n",
      "[Parallel(n_jobs=16)]: Done  57 out of  57 | elapsed:  1.0min finished\n",
      "[Parallel(n_jobs=16)]: Using backend LokyBackend with 16 concurrent workers.\n",
      "[Parallel(n_jobs=16)]: Done  18 tasks      | elapsed:   12.9s\n",
      "[Parallel(n_jobs=16)]: Done  57 out of  57 | elapsed:   23.1s finished\n"
     ]
    },
    {
     "name": "stdout",
     "output_type": "stream",
     "text": [
      "Size:1466.00 TPR:0.99 FPR:0.96\n"
     ]
    },
    {
     "name": "stderr",
     "output_type": "stream",
     "text": [
      "[Parallel(n_jobs=16)]: Using backend LokyBackend with 16 concurrent workers.\n",
      "[Parallel(n_jobs=16)]: Done  18 tasks      | elapsed:   42.7s\n",
      "[Parallel(n_jobs=16)]: Done  60 out of  60 | elapsed:  1.4min finished\n",
      "[Parallel(n_jobs=16)]: Using backend LokyBackend with 16 concurrent workers.\n",
      "[Parallel(n_jobs=16)]: Done  18 tasks      | elapsed:   15.2s\n",
      "[Parallel(n_jobs=16)]: Done  60 out of  60 | elapsed:   30.7s finished\n",
      "[Parallel(n_jobs=16)]: Using backend LokyBackend with 16 concurrent workers.\n",
      "[Parallel(n_jobs=16)]: Done  18 tasks      | elapsed:   36.5s\n",
      "[Parallel(n_jobs=16)]: Done  57 out of  57 | elapsed:  1.0min finished\n",
      "[Parallel(n_jobs=16)]: Using backend LokyBackend with 16 concurrent workers.\n",
      "[Parallel(n_jobs=16)]: Done  18 tasks      | elapsed:   13.1s\n",
      "[Parallel(n_jobs=16)]: Done  57 out of  57 | elapsed:   23.5s finished\n"
     ]
    },
    {
     "name": "stdout",
     "output_type": "stream",
     "text": [
      "Size:1626.00 TPR:1.00 FPR:0.96\n"
     ]
    },
    {
     "name": "stderr",
     "output_type": "stream",
     "text": [
      "[Parallel(n_jobs=16)]: Using backend LokyBackend with 16 concurrent workers.\n",
      "[Parallel(n_jobs=16)]: Done  18 tasks      | elapsed:   43.1s\n",
      "[Parallel(n_jobs=16)]: Done  60 out of  60 | elapsed:  1.4min finished\n",
      "[Parallel(n_jobs=16)]: Using backend LokyBackend with 16 concurrent workers.\n",
      "[Parallel(n_jobs=16)]: Done  18 tasks      | elapsed:   15.6s\n",
      "[Parallel(n_jobs=16)]: Done  60 out of  60 | elapsed:   32.4s finished\n",
      "[Parallel(n_jobs=16)]: Using backend LokyBackend with 16 concurrent workers.\n",
      "[Parallel(n_jobs=16)]: Done  18 tasks      | elapsed:   35.4s\n",
      "[Parallel(n_jobs=16)]: Done  57 out of  57 | elapsed:  1.0min finished\n",
      "[Parallel(n_jobs=16)]: Using backend LokyBackend with 16 concurrent workers.\n",
      "[Parallel(n_jobs=16)]: Done  18 tasks      | elapsed:   13.1s\n",
      "[Parallel(n_jobs=16)]: Done  57 out of  57 | elapsed:   23.6s finished\n"
     ]
    },
    {
     "name": "stdout",
     "output_type": "stream",
     "text": [
      "Size:1803.00 TPR:1.00 FPR:0.96\n"
     ]
    },
    {
     "name": "stderr",
     "output_type": "stream",
     "text": [
      "[Parallel(n_jobs=16)]: Using backend LokyBackend with 16 concurrent workers.\n",
      "[Parallel(n_jobs=16)]: Done  18 tasks      | elapsed:   43.8s\n",
      "[Parallel(n_jobs=16)]: Done  60 out of  60 | elapsed:  1.4min finished\n",
      "[Parallel(n_jobs=16)]: Using backend LokyBackend with 16 concurrent workers.\n",
      "[Parallel(n_jobs=16)]: Done  18 tasks      | elapsed:   16.0s\n",
      "[Parallel(n_jobs=16)]: Done  60 out of  60 | elapsed:   32.4s finished\n",
      "[Parallel(n_jobs=16)]: Using backend LokyBackend with 16 concurrent workers.\n",
      "[Parallel(n_jobs=16)]: Done  18 tasks      | elapsed:   35.4s\n",
      "[Parallel(n_jobs=16)]: Done  57 out of  57 | elapsed:  1.0min finished\n",
      "[Parallel(n_jobs=16)]: Using backend LokyBackend with 16 concurrent workers.\n",
      "[Parallel(n_jobs=16)]: Done  18 tasks      | elapsed:   13.4s\n",
      "[Parallel(n_jobs=16)]: Done  57 out of  57 | elapsed:   24.1s finished\n"
     ]
    },
    {
     "name": "stdout",
     "output_type": "stream",
     "text": [
      "Size:2000.00 TPR:1.00 FPR:0.96\n"
     ]
    },
    {
     "name": "stderr",
     "output_type": "stream",
     "text": [
      "[Parallel(n_jobs=16)]: Using backend LokyBackend with 16 concurrent workers.\n",
      "[Parallel(n_jobs=16)]: Done  18 tasks      | elapsed:   43.0s\n",
      "[Parallel(n_jobs=16)]: Done  60 out of  60 | elapsed:  1.4min finished\n",
      "[Parallel(n_jobs=16)]: Using backend LokyBackend with 16 concurrent workers.\n",
      "[Parallel(n_jobs=16)]: Done  18 tasks      | elapsed:   12.8s\n",
      "[Parallel(n_jobs=16)]: Done  60 out of  60 | elapsed:   28.1s finished\n",
      "[Parallel(n_jobs=16)]: Using backend LokyBackend with 16 concurrent workers.\n",
      "[Parallel(n_jobs=16)]: Done  18 tasks      | elapsed:   35.2s\n",
      "[Parallel(n_jobs=16)]: Done  57 out of  57 | elapsed:  1.0min finished\n",
      "[Parallel(n_jobs=16)]: Using backend LokyBackend with 16 concurrent workers.\n",
      "[Parallel(n_jobs=16)]: Done  18 tasks      | elapsed:   11.3s\n",
      "[Parallel(n_jobs=16)]: Done  57 out of  57 | elapsed:   20.5s finished\n"
     ]
    },
    {
     "name": "stdout",
     "output_type": "stream",
     "text": [
      "Size:1.00 TPR:0.26 FPR:0.99\n"
     ]
    },
    {
     "name": "stderr",
     "output_type": "stream",
     "text": [
      "[Parallel(n_jobs=16)]: Using backend LokyBackend with 16 concurrent workers.\n",
      "[Parallel(n_jobs=16)]: Done  18 tasks      | elapsed:   44.0s\n",
      "[Parallel(n_jobs=16)]: Done  60 out of  60 | elapsed:  1.4min finished\n",
      "[Parallel(n_jobs=16)]: Using backend LokyBackend with 16 concurrent workers.\n",
      "[Parallel(n_jobs=16)]: Done  18 tasks      | elapsed:   13.1s\n",
      "[Parallel(n_jobs=16)]: Done  60 out of  60 | elapsed:   26.8s finished\n",
      "[Parallel(n_jobs=16)]: Using backend LokyBackend with 16 concurrent workers.\n",
      "[Parallel(n_jobs=16)]: Done  18 tasks      | elapsed:   35.5s\n",
      "[Parallel(n_jobs=16)]: Done  57 out of  57 | elapsed:  1.0min finished\n",
      "[Parallel(n_jobs=16)]: Using backend LokyBackend with 16 concurrent workers.\n",
      "[Parallel(n_jobs=16)]: Done  18 tasks      | elapsed:   11.1s\n",
      "[Parallel(n_jobs=16)]: Done  57 out of  57 | elapsed:   20.6s finished\n"
     ]
    },
    {
     "name": "stdout",
     "output_type": "stream",
     "text": [
      "Size:2.00 TPR:0.39 FPR:0.98\n"
     ]
    },
    {
     "name": "stderr",
     "output_type": "stream",
     "text": [
      "[Parallel(n_jobs=16)]: Using backend LokyBackend with 16 concurrent workers.\n",
      "[Parallel(n_jobs=16)]: Done  18 tasks      | elapsed:   43.4s\n",
      "[Parallel(n_jobs=16)]: Done  60 out of  60 | elapsed:  1.4min finished\n",
      "[Parallel(n_jobs=16)]: Using backend LokyBackend with 16 concurrent workers.\n",
      "[Parallel(n_jobs=16)]: Done  18 tasks      | elapsed:   13.4s\n",
      "[Parallel(n_jobs=16)]: Done  60 out of  60 | elapsed:   28.0s finished\n",
      "[Parallel(n_jobs=16)]: Using backend LokyBackend with 16 concurrent workers.\n",
      "[Parallel(n_jobs=16)]: Done  18 tasks      | elapsed:   35.4s\n",
      "[Parallel(n_jobs=16)]: Done  57 out of  57 | elapsed:  1.0min finished\n",
      "[Parallel(n_jobs=16)]: Using backend LokyBackend with 16 concurrent workers.\n",
      "[Parallel(n_jobs=16)]: Done  18 tasks      | elapsed:   11.0s\n",
      "[Parallel(n_jobs=16)]: Done  57 out of  57 | elapsed:   20.4s finished\n"
     ]
    },
    {
     "name": "stdout",
     "output_type": "stream",
     "text": [
      "Size:3.00 TPR:0.61 FPR:0.94\n"
     ]
    },
    {
     "name": "stderr",
     "output_type": "stream",
     "text": [
      "[Parallel(n_jobs=16)]: Using backend LokyBackend with 16 concurrent workers.\n",
      "[Parallel(n_jobs=16)]: Done  18 tasks      | elapsed:   43.7s\n",
      "[Parallel(n_jobs=16)]: Done  60 out of  60 | elapsed:  1.4min finished\n",
      "[Parallel(n_jobs=16)]: Using backend LokyBackend with 16 concurrent workers.\n",
      "[Parallel(n_jobs=16)]: Done  18 tasks      | elapsed:   13.2s\n",
      "[Parallel(n_jobs=16)]: Done  60 out of  60 | elapsed:   27.8s finished\n",
      "[Parallel(n_jobs=16)]: Using backend LokyBackend with 16 concurrent workers.\n",
      "[Parallel(n_jobs=16)]: Done  18 tasks      | elapsed:   35.3s\n",
      "[Parallel(n_jobs=16)]: Done  57 out of  57 | elapsed:  1.0min finished\n",
      "[Parallel(n_jobs=16)]: Using backend LokyBackend with 16 concurrent workers.\n",
      "[Parallel(n_jobs=16)]: Done  18 tasks      | elapsed:   11.3s\n",
      "[Parallel(n_jobs=16)]: Done  57 out of  57 | elapsed:   20.6s finished\n"
     ]
    },
    {
     "name": "stdout",
     "output_type": "stream",
     "text": [
      "Size:4.00 TPR:0.41 FPR:0.93\n"
     ]
    },
    {
     "name": "stderr",
     "output_type": "stream",
     "text": [
      "[Parallel(n_jobs=16)]: Using backend LokyBackend with 16 concurrent workers.\n",
      "[Parallel(n_jobs=16)]: Done  18 tasks      | elapsed:   43.7s\n",
      "[Parallel(n_jobs=16)]: Done  60 out of  60 | elapsed:  1.4min finished\n",
      "[Parallel(n_jobs=16)]: Using backend LokyBackend with 16 concurrent workers.\n",
      "[Parallel(n_jobs=16)]: Done  18 tasks      | elapsed:   13.4s\n",
      "[Parallel(n_jobs=16)]: Done  60 out of  60 | elapsed:   27.9s finished\n",
      "[Parallel(n_jobs=16)]: Using backend LokyBackend with 16 concurrent workers.\n",
      "[Parallel(n_jobs=16)]: Done  18 tasks      | elapsed:   35.2s\n",
      "[Parallel(n_jobs=16)]: Done  57 out of  57 | elapsed:  1.0min finished\n",
      "[Parallel(n_jobs=16)]: Using backend LokyBackend with 16 concurrent workers.\n",
      "[Parallel(n_jobs=16)]: Done  18 tasks      | elapsed:   11.2s\n",
      "[Parallel(n_jobs=16)]: Done  57 out of  57 | elapsed:   20.2s finished\n"
     ]
    },
    {
     "name": "stdout",
     "output_type": "stream",
     "text": [
      "Size:5.00 TPR:0.61 FPR:0.91\n"
     ]
    },
    {
     "name": "stderr",
     "output_type": "stream",
     "text": [
      "[Parallel(n_jobs=16)]: Using backend LokyBackend with 16 concurrent workers.\n",
      "[Parallel(n_jobs=16)]: Done  18 tasks      | elapsed:   43.8s\n",
      "[Parallel(n_jobs=16)]: Done  60 out of  60 | elapsed:  1.4min finished\n",
      "[Parallel(n_jobs=16)]: Using backend LokyBackend with 16 concurrent workers.\n",
      "[Parallel(n_jobs=16)]: Done  18 tasks      | elapsed:   13.4s\n",
      "[Parallel(n_jobs=16)]: Done  60 out of  60 | elapsed:   27.8s finished\n",
      "[Parallel(n_jobs=16)]: Using backend LokyBackend with 16 concurrent workers.\n",
      "[Parallel(n_jobs=16)]: Done  18 tasks      | elapsed:   35.2s\n",
      "[Parallel(n_jobs=16)]: Done  57 out of  57 | elapsed:  1.0min finished\n",
      "[Parallel(n_jobs=16)]: Using backend LokyBackend with 16 concurrent workers.\n",
      "[Parallel(n_jobs=16)]: Done  18 tasks      | elapsed:   11.2s\n",
      "[Parallel(n_jobs=16)]: Done  57 out of  57 | elapsed:   20.3s finished\n"
     ]
    },
    {
     "name": "stdout",
     "output_type": "stream",
     "text": [
      "Size:6.00 TPR:0.57 FPR:0.94\n"
     ]
    },
    {
     "name": "stderr",
     "output_type": "stream",
     "text": [
      "[Parallel(n_jobs=16)]: Using backend LokyBackend with 16 concurrent workers.\n",
      "[Parallel(n_jobs=16)]: Done  18 tasks      | elapsed:   43.5s\n",
      "[Parallel(n_jobs=16)]: Done  60 out of  60 | elapsed:  1.4min finished\n",
      "[Parallel(n_jobs=16)]: Using backend LokyBackend with 16 concurrent workers.\n",
      "[Parallel(n_jobs=16)]: Done  18 tasks      | elapsed:   12.9s\n",
      "[Parallel(n_jobs=16)]: Done  60 out of  60 | elapsed:   27.3s finished\n",
      "[Parallel(n_jobs=16)]: Using backend LokyBackend with 16 concurrent workers.\n",
      "[Parallel(n_jobs=16)]: Done  18 tasks      | elapsed:   35.4s\n",
      "[Parallel(n_jobs=16)]: Done  57 out of  57 | elapsed:  1.0min finished\n",
      "[Parallel(n_jobs=16)]: Using backend LokyBackend with 16 concurrent workers.\n",
      "[Parallel(n_jobs=16)]: Done  18 tasks      | elapsed:   11.4s\n",
      "[Parallel(n_jobs=16)]: Done  57 out of  57 | elapsed:   20.6s finished\n"
     ]
    },
    {
     "name": "stdout",
     "output_type": "stream",
     "text": [
      "Size:7.00 TPR:0.70 FPR:0.94\n"
     ]
    },
    {
     "name": "stderr",
     "output_type": "stream",
     "text": [
      "[Parallel(n_jobs=16)]: Using backend LokyBackend with 16 concurrent workers.\n",
      "[Parallel(n_jobs=16)]: Done  18 tasks      | elapsed:   43.5s\n",
      "[Parallel(n_jobs=16)]: Done  60 out of  60 | elapsed:  1.4min finished\n",
      "[Parallel(n_jobs=16)]: Using backend LokyBackend with 16 concurrent workers.\n",
      "[Parallel(n_jobs=16)]: Done  18 tasks      | elapsed:   12.9s\n",
      "[Parallel(n_jobs=16)]: Done  60 out of  60 | elapsed:   27.4s finished\n",
      "[Parallel(n_jobs=16)]: Using backend LokyBackend with 16 concurrent workers.\n",
      "[Parallel(n_jobs=16)]: Done  18 tasks      | elapsed:   35.2s\n",
      "[Parallel(n_jobs=16)]: Done  57 out of  57 | elapsed:  1.0min finished\n",
      "[Parallel(n_jobs=16)]: Using backend LokyBackend with 16 concurrent workers.\n",
      "[Parallel(n_jobs=16)]: Done  18 tasks      | elapsed:   11.3s\n",
      "[Parallel(n_jobs=16)]: Done  57 out of  57 | elapsed:   20.3s finished\n"
     ]
    },
    {
     "name": "stdout",
     "output_type": "stream",
     "text": [
      "Size:8.00 TPR:0.68 FPR:0.98\n"
     ]
    },
    {
     "name": "stderr",
     "output_type": "stream",
     "text": [
      "[Parallel(n_jobs=16)]: Using backend LokyBackend with 16 concurrent workers.\n",
      "[Parallel(n_jobs=16)]: Done  18 tasks      | elapsed:   43.7s\n",
      "[Parallel(n_jobs=16)]: Done  60 out of  60 | elapsed:  1.4min finished\n",
      "[Parallel(n_jobs=16)]: Using backend LokyBackend with 16 concurrent workers.\n",
      "[Parallel(n_jobs=16)]: Done  18 tasks      | elapsed:   13.2s\n",
      "[Parallel(n_jobs=16)]: Done  60 out of  60 | elapsed:   28.1s finished\n",
      "[Parallel(n_jobs=16)]: Using backend LokyBackend with 16 concurrent workers.\n",
      "[Parallel(n_jobs=16)]: Done  18 tasks      | elapsed:   35.4s\n",
      "[Parallel(n_jobs=16)]: Done  57 out of  57 | elapsed:  1.0min finished\n",
      "[Parallel(n_jobs=16)]: Using backend LokyBackend with 16 concurrent workers.\n",
      "[Parallel(n_jobs=16)]: Done  18 tasks      | elapsed:   11.3s\n",
      "[Parallel(n_jobs=16)]: Done  57 out of  57 | elapsed:   20.6s finished\n"
     ]
    },
    {
     "name": "stdout",
     "output_type": "stream",
     "text": [
      "Size:9.00 TPR:0.85 FPR:0.93\n"
     ]
    },
    {
     "name": "stderr",
     "output_type": "stream",
     "text": [
      "[Parallel(n_jobs=16)]: Using backend LokyBackend with 16 concurrent workers.\n",
      "[Parallel(n_jobs=16)]: Done  18 tasks      | elapsed:   43.1s\n",
      "[Parallel(n_jobs=16)]: Done  60 out of  60 | elapsed:  1.4min finished\n",
      "[Parallel(n_jobs=16)]: Using backend LokyBackend with 16 concurrent workers.\n",
      "[Parallel(n_jobs=16)]: Done  18 tasks      | elapsed:   13.2s\n",
      "[Parallel(n_jobs=16)]: Done  60 out of  60 | elapsed:   27.0s finished\n",
      "[Parallel(n_jobs=16)]: Using backend LokyBackend with 16 concurrent workers.\n",
      "[Parallel(n_jobs=16)]: Done  18 tasks      | elapsed:   36.3s\n",
      "[Parallel(n_jobs=16)]: Done  57 out of  57 | elapsed:  1.0min finished\n",
      "[Parallel(n_jobs=16)]: Using backend LokyBackend with 16 concurrent workers.\n",
      "[Parallel(n_jobs=16)]: Done  18 tasks      | elapsed:   11.5s\n",
      "[Parallel(n_jobs=16)]: Done  57 out of  57 | elapsed:   20.6s finished\n"
     ]
    },
    {
     "name": "stdout",
     "output_type": "stream",
     "text": [
      "Size:10.00 TPR:0.65 FPR:0.94\n"
     ]
    },
    {
     "name": "stderr",
     "output_type": "stream",
     "text": [
      "[Parallel(n_jobs=16)]: Using backend LokyBackend with 16 concurrent workers.\n",
      "[Parallel(n_jobs=16)]: Done  18 tasks      | elapsed:   43.6s\n",
      "[Parallel(n_jobs=16)]: Done  60 out of  60 | elapsed:  1.4min finished\n",
      "[Parallel(n_jobs=16)]: Using backend LokyBackend with 16 concurrent workers.\n",
      "[Parallel(n_jobs=16)]: Done  18 tasks      | elapsed:   13.1s\n",
      "[Parallel(n_jobs=16)]: Done  60 out of  60 | elapsed:   26.7s finished\n",
      "[Parallel(n_jobs=16)]: Using backend LokyBackend with 16 concurrent workers.\n",
      "[Parallel(n_jobs=16)]: Done  18 tasks      | elapsed:   36.1s\n",
      "[Parallel(n_jobs=16)]: Done  57 out of  57 | elapsed:  1.0min finished\n",
      "[Parallel(n_jobs=16)]: Using backend LokyBackend with 16 concurrent workers.\n",
      "[Parallel(n_jobs=16)]: Done  18 tasks      | elapsed:   11.3s\n",
      "[Parallel(n_jobs=16)]: Done  57 out of  57 | elapsed:   20.4s finished\n"
     ]
    },
    {
     "name": "stdout",
     "output_type": "stream",
     "text": [
      "Size:11.00 TPR:0.79 FPR:0.94\n"
     ]
    },
    {
     "name": "stderr",
     "output_type": "stream",
     "text": [
      "[Parallel(n_jobs=16)]: Using backend LokyBackend with 16 concurrent workers.\n",
      "[Parallel(n_jobs=16)]: Done  18 tasks      | elapsed:   43.6s\n",
      "[Parallel(n_jobs=16)]: Done  60 out of  60 | elapsed:  1.4min finished\n",
      "[Parallel(n_jobs=16)]: Using backend LokyBackend with 16 concurrent workers.\n",
      "[Parallel(n_jobs=16)]: Done  18 tasks      | elapsed:   13.3s\n",
      "[Parallel(n_jobs=16)]: Done  60 out of  60 | elapsed:   26.7s finished\n",
      "[Parallel(n_jobs=16)]: Using backend LokyBackend with 16 concurrent workers.\n",
      "[Parallel(n_jobs=16)]: Done  18 tasks      | elapsed:   36.5s\n",
      "[Parallel(n_jobs=16)]: Done  57 out of  57 | elapsed:  1.0min finished\n",
      "[Parallel(n_jobs=16)]: Using backend LokyBackend with 16 concurrent workers.\n",
      "[Parallel(n_jobs=16)]: Done  18 tasks      | elapsed:   11.3s\n",
      "[Parallel(n_jobs=16)]: Done  57 out of  57 | elapsed:   20.4s finished\n"
     ]
    },
    {
     "name": "stdout",
     "output_type": "stream",
     "text": [
      "Size:12.00 TPR:0.81 FPR:0.96\n"
     ]
    },
    {
     "name": "stderr",
     "output_type": "stream",
     "text": [
      "[Parallel(n_jobs=16)]: Using backend LokyBackend with 16 concurrent workers.\n",
      "[Parallel(n_jobs=16)]: Done  18 tasks      | elapsed:   43.8s\n",
      "[Parallel(n_jobs=16)]: Done  60 out of  60 | elapsed:  1.4min finished\n",
      "[Parallel(n_jobs=16)]: Using backend LokyBackend with 16 concurrent workers.\n",
      "[Parallel(n_jobs=16)]: Done  18 tasks      | elapsed:   13.1s\n",
      "[Parallel(n_jobs=16)]: Done  60 out of  60 | elapsed:   27.8s finished\n",
      "[Parallel(n_jobs=16)]: Using backend LokyBackend with 16 concurrent workers.\n",
      "[Parallel(n_jobs=16)]: Done  18 tasks      | elapsed:   35.5s\n",
      "[Parallel(n_jobs=16)]: Done  57 out of  57 | elapsed:  1.0min finished\n",
      "[Parallel(n_jobs=16)]: Using backend LokyBackend with 16 concurrent workers.\n",
      "[Parallel(n_jobs=16)]: Done  18 tasks      | elapsed:   11.3s\n",
      "[Parallel(n_jobs=16)]: Done  57 out of  57 | elapsed:   20.4s finished\n"
     ]
    },
    {
     "name": "stdout",
     "output_type": "stream",
     "text": [
      "Size:13.00 TPR:0.80 FPR:0.94\n"
     ]
    },
    {
     "name": "stderr",
     "output_type": "stream",
     "text": [
      "[Parallel(n_jobs=16)]: Using backend LokyBackend with 16 concurrent workers.\n",
      "[Parallel(n_jobs=16)]: Done  18 tasks      | elapsed:   44.1s\n",
      "[Parallel(n_jobs=16)]: Done  60 out of  60 | elapsed:  1.4min finished\n",
      "[Parallel(n_jobs=16)]: Using backend LokyBackend with 16 concurrent workers.\n",
      "[Parallel(n_jobs=16)]: Done  18 tasks      | elapsed:   13.5s\n",
      "[Parallel(n_jobs=16)]: Done  60 out of  60 | elapsed:   27.6s finished\n",
      "[Parallel(n_jobs=16)]: Using backend LokyBackend with 16 concurrent workers.\n",
      "[Parallel(n_jobs=16)]: Done  18 tasks      | elapsed:   35.6s\n",
      "[Parallel(n_jobs=16)]: Done  57 out of  57 | elapsed:  1.0min finished\n",
      "[Parallel(n_jobs=16)]: Using backend LokyBackend with 16 concurrent workers.\n",
      "[Parallel(n_jobs=16)]: Done  18 tasks      | elapsed:   11.2s\n",
      "[Parallel(n_jobs=16)]: Done  57 out of  57 | elapsed:   20.6s finished\n"
     ]
    },
    {
     "name": "stdout",
     "output_type": "stream",
     "text": [
      "Size:15.00 TPR:0.85 FPR:0.96\n"
     ]
    },
    {
     "name": "stderr",
     "output_type": "stream",
     "text": [
      "[Parallel(n_jobs=16)]: Using backend LokyBackend with 16 concurrent workers.\n",
      "[Parallel(n_jobs=16)]: Done  18 tasks      | elapsed:   43.5s\n",
      "[Parallel(n_jobs=16)]: Done  60 out of  60 | elapsed:  1.4min finished\n",
      "[Parallel(n_jobs=16)]: Using backend LokyBackend with 16 concurrent workers.\n",
      "[Parallel(n_jobs=16)]: Done  18 tasks      | elapsed:   12.9s\n",
      "[Parallel(n_jobs=16)]: Done  60 out of  60 | elapsed:   26.8s finished\n",
      "[Parallel(n_jobs=16)]: Using backend LokyBackend with 16 concurrent workers.\n",
      "[Parallel(n_jobs=16)]: Done  18 tasks      | elapsed:   36.3s\n",
      "[Parallel(n_jobs=16)]: Done  57 out of  57 | elapsed:  1.0min finished\n",
      "[Parallel(n_jobs=16)]: Using backend LokyBackend with 16 concurrent workers.\n",
      "[Parallel(n_jobs=16)]: Done  18 tasks      | elapsed:   11.3s\n",
      "[Parallel(n_jobs=16)]: Done  57 out of  57 | elapsed:   20.5s finished\n"
     ]
    },
    {
     "name": "stdout",
     "output_type": "stream",
     "text": [
      "Size:17.00 TPR:0.88 FPR:0.96\n"
     ]
    },
    {
     "name": "stderr",
     "output_type": "stream",
     "text": [
      "[Parallel(n_jobs=16)]: Using backend LokyBackend with 16 concurrent workers.\n",
      "[Parallel(n_jobs=16)]: Done  18 tasks      | elapsed:   43.5s\n",
      "[Parallel(n_jobs=16)]: Done  60 out of  60 | elapsed:  1.4min finished\n",
      "[Parallel(n_jobs=16)]: Using backend LokyBackend with 16 concurrent workers.\n",
      "[Parallel(n_jobs=16)]: Done  18 tasks      | elapsed:   13.1s\n",
      "[Parallel(n_jobs=16)]: Done  60 out of  60 | elapsed:   27.7s finished\n",
      "[Parallel(n_jobs=16)]: Using backend LokyBackend with 16 concurrent workers.\n",
      "[Parallel(n_jobs=16)]: Done  18 tasks      | elapsed:   35.4s\n",
      "[Parallel(n_jobs=16)]: Done  57 out of  57 | elapsed:  1.0min finished\n",
      "[Parallel(n_jobs=16)]: Using backend LokyBackend with 16 concurrent workers.\n",
      "[Parallel(n_jobs=16)]: Done  18 tasks      | elapsed:   11.2s\n",
      "[Parallel(n_jobs=16)]: Done  57 out of  57 | elapsed:   20.2s finished\n"
     ]
    },
    {
     "name": "stdout",
     "output_type": "stream",
     "text": [
      "Size:19.00 TPR:0.78 FPR:0.95\n"
     ]
    },
    {
     "name": "stderr",
     "output_type": "stream",
     "text": [
      "[Parallel(n_jobs=16)]: Using backend LokyBackend with 16 concurrent workers.\n",
      "[Parallel(n_jobs=16)]: Done  18 tasks      | elapsed:   43.4s\n",
      "[Parallel(n_jobs=16)]: Done  60 out of  60 | elapsed:  1.4min finished\n",
      "[Parallel(n_jobs=16)]: Using backend LokyBackend with 16 concurrent workers.\n",
      "[Parallel(n_jobs=16)]: Done  18 tasks      | elapsed:   13.1s\n",
      "[Parallel(n_jobs=16)]: Done  60 out of  60 | elapsed:   26.7s finished\n",
      "[Parallel(n_jobs=16)]: Using backend LokyBackend with 16 concurrent workers.\n",
      "[Parallel(n_jobs=16)]: Done  18 tasks      | elapsed:   36.3s\n",
      "[Parallel(n_jobs=16)]: Done  57 out of  57 | elapsed:  1.0min finished\n",
      "[Parallel(n_jobs=16)]: Using backend LokyBackend with 16 concurrent workers.\n",
      "[Parallel(n_jobs=16)]: Done  18 tasks      | elapsed:   11.2s\n",
      "[Parallel(n_jobs=16)]: Done  57 out of  57 | elapsed:   20.5s finished\n"
     ]
    },
    {
     "name": "stdout",
     "output_type": "stream",
     "text": [
      "Size:21.00 TPR:0.85 FPR:0.96\n"
     ]
    },
    {
     "name": "stderr",
     "output_type": "stream",
     "text": [
      "[Parallel(n_jobs=16)]: Using backend LokyBackend with 16 concurrent workers.\n",
      "[Parallel(n_jobs=16)]: Done  18 tasks      | elapsed:   43.7s\n",
      "[Parallel(n_jobs=16)]: Done  60 out of  60 | elapsed:  1.4min finished\n",
      "[Parallel(n_jobs=16)]: Using backend LokyBackend with 16 concurrent workers.\n",
      "[Parallel(n_jobs=16)]: Done  18 tasks      | elapsed:   13.2s\n",
      "[Parallel(n_jobs=16)]: Done  60 out of  60 | elapsed:   28.1s finished\n",
      "[Parallel(n_jobs=16)]: Using backend LokyBackend with 16 concurrent workers.\n",
      "[Parallel(n_jobs=16)]: Done  18 tasks      | elapsed:   35.3s\n",
      "[Parallel(n_jobs=16)]: Done  57 out of  57 | elapsed:  1.0min finished\n",
      "[Parallel(n_jobs=16)]: Using backend LokyBackend with 16 concurrent workers.\n",
      "[Parallel(n_jobs=16)]: Done  18 tasks      | elapsed:   11.5s\n",
      "[Parallel(n_jobs=16)]: Done  57 out of  57 | elapsed:   20.7s finished\n"
     ]
    },
    {
     "name": "stdout",
     "output_type": "stream",
     "text": [
      "Size:23.00 TPR:0.82 FPR:0.94\n"
     ]
    },
    {
     "name": "stderr",
     "output_type": "stream",
     "text": [
      "[Parallel(n_jobs=16)]: Using backend LokyBackend with 16 concurrent workers.\n",
      "[Parallel(n_jobs=16)]: Done  18 tasks      | elapsed:   43.5s\n",
      "[Parallel(n_jobs=16)]: Done  60 out of  60 | elapsed:  1.4min finished\n",
      "[Parallel(n_jobs=16)]: Using backend LokyBackend with 16 concurrent workers.\n",
      "[Parallel(n_jobs=16)]: Done  18 tasks      | elapsed:   12.8s\n",
      "[Parallel(n_jobs=16)]: Done  60 out of  60 | elapsed:   26.8s finished\n",
      "[Parallel(n_jobs=16)]: Using backend LokyBackend with 16 concurrent workers.\n",
      "[Parallel(n_jobs=16)]: Done  18 tasks      | elapsed:   36.5s\n",
      "[Parallel(n_jobs=16)]: Done  57 out of  57 | elapsed:  1.0min finished\n",
      "[Parallel(n_jobs=16)]: Using backend LokyBackend with 16 concurrent workers.\n",
      "[Parallel(n_jobs=16)]: Done  18 tasks      | elapsed:   11.3s\n",
      "[Parallel(n_jobs=16)]: Done  57 out of  57 | elapsed:   20.6s finished\n"
     ]
    },
    {
     "name": "stdout",
     "output_type": "stream",
     "text": [
      "Size:26.00 TPR:0.87 FPR:0.93\n"
     ]
    },
    {
     "name": "stderr",
     "output_type": "stream",
     "text": [
      "[Parallel(n_jobs=16)]: Using backend LokyBackend with 16 concurrent workers.\n",
      "[Parallel(n_jobs=16)]: Done  18 tasks      | elapsed:   43.8s\n",
      "[Parallel(n_jobs=16)]: Done  60 out of  60 | elapsed:  1.4min finished\n",
      "[Parallel(n_jobs=16)]: Using backend LokyBackend with 16 concurrent workers.\n",
      "[Parallel(n_jobs=16)]: Done  18 tasks      | elapsed:   13.1s\n",
      "[Parallel(n_jobs=16)]: Done  60 out of  60 | elapsed:   27.4s finished\n",
      "[Parallel(n_jobs=16)]: Using backend LokyBackend with 16 concurrent workers.\n",
      "[Parallel(n_jobs=16)]: Done  18 tasks      | elapsed:   36.6s\n",
      "[Parallel(n_jobs=16)]: Done  57 out of  57 | elapsed:  1.0min finished\n",
      "[Parallel(n_jobs=16)]: Using backend LokyBackend with 16 concurrent workers.\n",
      "[Parallel(n_jobs=16)]: Done  18 tasks      | elapsed:   11.3s\n",
      "[Parallel(n_jobs=16)]: Done  57 out of  57 | elapsed:   20.5s finished\n"
     ]
    },
    {
     "name": "stdout",
     "output_type": "stream",
     "text": [
      "Size:28.00 TPR:0.89 FPR:0.96\n"
     ]
    },
    {
     "name": "stderr",
     "output_type": "stream",
     "text": [
      "[Parallel(n_jobs=16)]: Using backend LokyBackend with 16 concurrent workers.\n",
      "[Parallel(n_jobs=16)]: Done  18 tasks      | elapsed:   43.4s\n",
      "[Parallel(n_jobs=16)]: Done  60 out of  60 | elapsed:  1.4min finished\n",
      "[Parallel(n_jobs=16)]: Using backend LokyBackend with 16 concurrent workers.\n",
      "[Parallel(n_jobs=16)]: Done  18 tasks      | elapsed:   13.3s\n",
      "[Parallel(n_jobs=16)]: Done  60 out of  60 | elapsed:   28.1s finished\n",
      "[Parallel(n_jobs=16)]: Using backend LokyBackend with 16 concurrent workers.\n",
      "[Parallel(n_jobs=16)]: Done  18 tasks      | elapsed:   35.3s\n",
      "[Parallel(n_jobs=16)]: Done  57 out of  57 | elapsed:  1.0min finished\n",
      "[Parallel(n_jobs=16)]: Using backend LokyBackend with 16 concurrent workers.\n",
      "[Parallel(n_jobs=16)]: Done  18 tasks      | elapsed:   11.2s\n",
      "[Parallel(n_jobs=16)]: Done  57 out of  57 | elapsed:   20.2s finished\n"
     ]
    },
    {
     "name": "stdout",
     "output_type": "stream",
     "text": [
      "Size:31.00 TPR:0.93 FPR:0.95\n"
     ]
    },
    {
     "name": "stderr",
     "output_type": "stream",
     "text": [
      "[Parallel(n_jobs=16)]: Using backend LokyBackend with 16 concurrent workers.\n",
      "[Parallel(n_jobs=16)]: Done  18 tasks      | elapsed:   43.4s\n",
      "[Parallel(n_jobs=16)]: Done  60 out of  60 | elapsed:  1.4min finished\n",
      "[Parallel(n_jobs=16)]: Using backend LokyBackend with 16 concurrent workers.\n",
      "[Parallel(n_jobs=16)]: Done  18 tasks      | elapsed:   13.2s\n",
      "[Parallel(n_jobs=16)]: Done  60 out of  60 | elapsed:   27.8s finished\n",
      "[Parallel(n_jobs=16)]: Using backend LokyBackend with 16 concurrent workers.\n",
      "[Parallel(n_jobs=16)]: Done  18 tasks      | elapsed:   35.3s\n",
      "[Parallel(n_jobs=16)]: Done  57 out of  57 | elapsed:  1.0min finished\n",
      "[Parallel(n_jobs=16)]: Using backend LokyBackend with 16 concurrent workers.\n",
      "[Parallel(n_jobs=16)]: Done  18 tasks      | elapsed:   11.1s\n",
      "[Parallel(n_jobs=16)]: Done  57 out of  57 | elapsed:   20.3s finished\n"
     ]
    },
    {
     "name": "stdout",
     "output_type": "stream",
     "text": [
      "Size:35.00 TPR:0.93 FPR:0.95\n"
     ]
    },
    {
     "name": "stderr",
     "output_type": "stream",
     "text": [
      "[Parallel(n_jobs=16)]: Using backend LokyBackend with 16 concurrent workers.\n",
      "[Parallel(n_jobs=16)]: Done  18 tasks      | elapsed:   43.8s\n",
      "[Parallel(n_jobs=16)]: Done  60 out of  60 | elapsed:  1.4min finished\n",
      "[Parallel(n_jobs=16)]: Using backend LokyBackend with 16 concurrent workers.\n",
      "[Parallel(n_jobs=16)]: Done  18 tasks      | elapsed:   12.6s\n",
      "[Parallel(n_jobs=16)]: Done  60 out of  60 | elapsed:   27.1s finished\n",
      "[Parallel(n_jobs=16)]: Using backend LokyBackend with 16 concurrent workers.\n",
      "[Parallel(n_jobs=16)]: Done  18 tasks      | elapsed:   36.7s\n",
      "[Parallel(n_jobs=16)]: Done  57 out of  57 | elapsed:  1.0min finished\n",
      "[Parallel(n_jobs=16)]: Using backend LokyBackend with 16 concurrent workers.\n",
      "[Parallel(n_jobs=16)]: Done  18 tasks      | elapsed:   11.2s\n",
      "[Parallel(n_jobs=16)]: Done  57 out of  57 | elapsed:   20.3s finished\n"
     ]
    },
    {
     "name": "stdout",
     "output_type": "stream",
     "text": [
      "Size:39.00 TPR:0.94 FPR:0.95\n"
     ]
    },
    {
     "name": "stderr",
     "output_type": "stream",
     "text": [
      "[Parallel(n_jobs=16)]: Using backend LokyBackend with 16 concurrent workers.\n",
      "[Parallel(n_jobs=16)]: Done  18 tasks      | elapsed:   43.6s\n",
      "[Parallel(n_jobs=16)]: Done  60 out of  60 | elapsed:  1.4min finished\n",
      "[Parallel(n_jobs=16)]: Using backend LokyBackend with 16 concurrent workers.\n",
      "[Parallel(n_jobs=16)]: Done  18 tasks      | elapsed:   13.3s\n",
      "[Parallel(n_jobs=16)]: Done  60 out of  60 | elapsed:   27.7s finished\n",
      "[Parallel(n_jobs=16)]: Using backend LokyBackend with 16 concurrent workers.\n",
      "[Parallel(n_jobs=16)]: Done  18 tasks      | elapsed:   35.0s\n",
      "[Parallel(n_jobs=16)]: Done  57 out of  57 | elapsed:  1.0min finished\n",
      "[Parallel(n_jobs=16)]: Using backend LokyBackend with 16 concurrent workers.\n",
      "[Parallel(n_jobs=16)]: Done  18 tasks      | elapsed:   11.3s\n",
      "[Parallel(n_jobs=16)]: Done  57 out of  57 | elapsed:   20.4s finished\n"
     ]
    },
    {
     "name": "stdout",
     "output_type": "stream",
     "text": [
      "Size:43.00 TPR:0.95 FPR:0.96\n"
     ]
    },
    {
     "name": "stderr",
     "output_type": "stream",
     "text": [
      "[Parallel(n_jobs=16)]: Using backend LokyBackend with 16 concurrent workers.\n",
      "[Parallel(n_jobs=16)]: Done  18 tasks      | elapsed:   43.9s\n",
      "[Parallel(n_jobs=16)]: Done  60 out of  60 | elapsed:  1.4min finished\n",
      "[Parallel(n_jobs=16)]: Using backend LokyBackend with 16 concurrent workers.\n",
      "[Parallel(n_jobs=16)]: Done  18 tasks      | elapsed:   13.1s\n",
      "[Parallel(n_jobs=16)]: Done  60 out of  60 | elapsed:   27.0s finished\n",
      "[Parallel(n_jobs=16)]: Using backend LokyBackend with 16 concurrent workers.\n",
      "[Parallel(n_jobs=16)]: Done  18 tasks      | elapsed:   36.3s\n",
      "[Parallel(n_jobs=16)]: Done  57 out of  57 | elapsed:  1.0min finished\n",
      "[Parallel(n_jobs=16)]: Using backend LokyBackend with 16 concurrent workers.\n",
      "[Parallel(n_jobs=16)]: Done  18 tasks      | elapsed:   11.2s\n",
      "[Parallel(n_jobs=16)]: Done  57 out of  57 | elapsed:   20.6s finished\n"
     ]
    },
    {
     "name": "stdout",
     "output_type": "stream",
     "text": [
      "Size:48.00 TPR:0.96 FPR:0.95\n"
     ]
    },
    {
     "name": "stderr",
     "output_type": "stream",
     "text": [
      "[Parallel(n_jobs=16)]: Using backend LokyBackend with 16 concurrent workers.\n",
      "[Parallel(n_jobs=16)]: Done  18 tasks      | elapsed:   43.5s\n",
      "[Parallel(n_jobs=16)]: Done  60 out of  60 | elapsed:  1.4min finished\n",
      "[Parallel(n_jobs=16)]: Using backend LokyBackend with 16 concurrent workers.\n",
      "[Parallel(n_jobs=16)]: Done  18 tasks      | elapsed:   13.4s\n",
      "[Parallel(n_jobs=16)]: Done  60 out of  60 | elapsed:   26.7s finished\n",
      "[Parallel(n_jobs=16)]: Using backend LokyBackend with 16 concurrent workers.\n",
      "[Parallel(n_jobs=16)]: Done  18 tasks      | elapsed:   35.3s\n",
      "[Parallel(n_jobs=16)]: Done  57 out of  57 | elapsed:  1.0min finished\n",
      "[Parallel(n_jobs=16)]: Using backend LokyBackend with 16 concurrent workers.\n",
      "[Parallel(n_jobs=16)]: Done  18 tasks      | elapsed:   11.4s\n",
      "[Parallel(n_jobs=16)]: Done  57 out of  57 | elapsed:   20.6s finished\n"
     ]
    },
    {
     "name": "stdout",
     "output_type": "stream",
     "text": [
      "Size:53.00 TPR:0.96 FPR:0.96\n"
     ]
    },
    {
     "name": "stderr",
     "output_type": "stream",
     "text": [
      "[Parallel(n_jobs=16)]: Using backend LokyBackend with 16 concurrent workers.\n",
      "[Parallel(n_jobs=16)]: Done  18 tasks      | elapsed:   43.1s\n",
      "[Parallel(n_jobs=16)]: Done  60 out of  60 | elapsed:  1.4min finished\n",
      "[Parallel(n_jobs=16)]: Using backend LokyBackend with 16 concurrent workers.\n",
      "[Parallel(n_jobs=16)]: Done  18 tasks      | elapsed:   13.2s\n",
      "[Parallel(n_jobs=16)]: Done  60 out of  60 | elapsed:   26.8s finished\n",
      "[Parallel(n_jobs=16)]: Using backend LokyBackend with 16 concurrent workers.\n",
      "[Parallel(n_jobs=16)]: Done  18 tasks      | elapsed:   36.5s\n",
      "[Parallel(n_jobs=16)]: Done  57 out of  57 | elapsed:  1.0min finished\n",
      "[Parallel(n_jobs=16)]: Using backend LokyBackend with 16 concurrent workers.\n",
      "[Parallel(n_jobs=16)]: Done  18 tasks      | elapsed:   11.2s\n",
      "[Parallel(n_jobs=16)]: Done  57 out of  57 | elapsed:   20.4s finished\n"
     ]
    },
    {
     "name": "stdout",
     "output_type": "stream",
     "text": [
      "Size:59.00 TPR:0.96 FPR:0.95\n"
     ]
    },
    {
     "name": "stderr",
     "output_type": "stream",
     "text": [
      "[Parallel(n_jobs=16)]: Using backend LokyBackend with 16 concurrent workers.\n",
      "[Parallel(n_jobs=16)]: Done  18 tasks      | elapsed:   43.5s\n",
      "[Parallel(n_jobs=16)]: Done  60 out of  60 | elapsed:  1.4min finished\n",
      "[Parallel(n_jobs=16)]: Using backend LokyBackend with 16 concurrent workers.\n",
      "[Parallel(n_jobs=16)]: Done  18 tasks      | elapsed:   13.4s\n",
      "[Parallel(n_jobs=16)]: Done  60 out of  60 | elapsed:   26.7s finished\n",
      "[Parallel(n_jobs=16)]: Using backend LokyBackend with 16 concurrent workers.\n",
      "[Parallel(n_jobs=16)]: Done  18 tasks      | elapsed:   36.4s\n",
      "[Parallel(n_jobs=16)]: Done  57 out of  57 | elapsed:  1.0min finished\n",
      "[Parallel(n_jobs=16)]: Using backend LokyBackend with 16 concurrent workers.\n",
      "[Parallel(n_jobs=16)]: Done  18 tasks      | elapsed:   11.5s\n",
      "[Parallel(n_jobs=16)]: Done  57 out of  57 | elapsed:   20.6s finished\n"
     ]
    },
    {
     "name": "stdout",
     "output_type": "stream",
     "text": [
      "Size:65.00 TPR:0.94 FPR:0.95\n"
     ]
    },
    {
     "name": "stderr",
     "output_type": "stream",
     "text": [
      "[Parallel(n_jobs=16)]: Using backend LokyBackend with 16 concurrent workers.\n",
      "[Parallel(n_jobs=16)]: Done  18 tasks      | elapsed:   43.0s\n",
      "[Parallel(n_jobs=16)]: Done  60 out of  60 | elapsed:  1.4min finished\n",
      "[Parallel(n_jobs=16)]: Using backend LokyBackend with 16 concurrent workers.\n",
      "[Parallel(n_jobs=16)]: Done  18 tasks      | elapsed:   13.4s\n",
      "[Parallel(n_jobs=16)]: Done  60 out of  60 | elapsed:   27.1s finished\n",
      "[Parallel(n_jobs=16)]: Using backend LokyBackend with 16 concurrent workers.\n",
      "[Parallel(n_jobs=16)]: Done  18 tasks      | elapsed:   35.3s\n",
      "[Parallel(n_jobs=16)]: Done  57 out of  57 | elapsed:  1.0min finished\n",
      "[Parallel(n_jobs=16)]: Using backend LokyBackend with 16 concurrent workers.\n",
      "[Parallel(n_jobs=16)]: Done  18 tasks      | elapsed:   11.4s\n",
      "[Parallel(n_jobs=16)]: Done  57 out of  57 | elapsed:   20.6s finished\n"
     ]
    },
    {
     "name": "stdout",
     "output_type": "stream",
     "text": [
      "Size:73.00 TPR:0.93 FPR:0.95\n"
     ]
    },
    {
     "name": "stderr",
     "output_type": "stream",
     "text": [
      "[Parallel(n_jobs=16)]: Using backend LokyBackend with 16 concurrent workers.\n",
      "[Parallel(n_jobs=16)]: Done  18 tasks      | elapsed:   43.3s\n",
      "[Parallel(n_jobs=16)]: Done  60 out of  60 | elapsed:  1.4min finished\n",
      "[Parallel(n_jobs=16)]: Using backend LokyBackend with 16 concurrent workers.\n",
      "[Parallel(n_jobs=16)]: Done  18 tasks      | elapsed:   13.2s\n",
      "[Parallel(n_jobs=16)]: Done  60 out of  60 | elapsed:   27.0s finished\n",
      "[Parallel(n_jobs=16)]: Using backend LokyBackend with 16 concurrent workers.\n",
      "[Parallel(n_jobs=16)]: Done  18 tasks      | elapsed:   36.6s\n",
      "[Parallel(n_jobs=16)]: Done  57 out of  57 | elapsed:  1.0min finished\n",
      "[Parallel(n_jobs=16)]: Using backend LokyBackend with 16 concurrent workers.\n",
      "[Parallel(n_jobs=16)]: Done  18 tasks      | elapsed:   11.3s\n",
      "[Parallel(n_jobs=16)]: Done  57 out of  57 | elapsed:   20.5s finished\n"
     ]
    },
    {
     "name": "stdout",
     "output_type": "stream",
     "text": [
      "Size:81.00 TPR:0.96 FPR:0.94\n"
     ]
    },
    {
     "name": "stderr",
     "output_type": "stream",
     "text": [
      "[Parallel(n_jobs=16)]: Using backend LokyBackend with 16 concurrent workers.\n",
      "[Parallel(n_jobs=16)]: Done  18 tasks      | elapsed:   44.0s\n",
      "[Parallel(n_jobs=16)]: Done  60 out of  60 | elapsed:  1.4min finished\n",
      "[Parallel(n_jobs=16)]: Using backend LokyBackend with 16 concurrent workers.\n",
      "[Parallel(n_jobs=16)]: Done  18 tasks      | elapsed:   13.3s\n",
      "[Parallel(n_jobs=16)]: Done  60 out of  60 | elapsed:   28.1s finished\n",
      "[Parallel(n_jobs=16)]: Using backend LokyBackend with 16 concurrent workers.\n",
      "[Parallel(n_jobs=16)]: Done  18 tasks      | elapsed:   35.2s\n",
      "[Parallel(n_jobs=16)]: Done  57 out of  57 | elapsed:  1.0min finished\n",
      "[Parallel(n_jobs=16)]: Using backend LokyBackend with 16 concurrent workers.\n",
      "[Parallel(n_jobs=16)]: Done  18 tasks      | elapsed:   11.2s\n",
      "[Parallel(n_jobs=16)]: Done  57 out of  57 | elapsed:   20.5s finished\n"
     ]
    },
    {
     "name": "stdout",
     "output_type": "stream",
     "text": [
      "Size:89.00 TPR:0.97 FPR:0.95\n"
     ]
    },
    {
     "name": "stderr",
     "output_type": "stream",
     "text": [
      "[Parallel(n_jobs=16)]: Using backend LokyBackend with 16 concurrent workers.\n",
      "[Parallel(n_jobs=16)]: Done  18 tasks      | elapsed:   43.6s\n",
      "[Parallel(n_jobs=16)]: Done  60 out of  60 | elapsed:  1.4min finished\n",
      "[Parallel(n_jobs=16)]: Using backend LokyBackend with 16 concurrent workers.\n",
      "[Parallel(n_jobs=16)]: Done  18 tasks      | elapsed:   13.5s\n",
      "[Parallel(n_jobs=16)]: Done  60 out of  60 | elapsed:   27.8s finished\n",
      "[Parallel(n_jobs=16)]: Using backend LokyBackend with 16 concurrent workers.\n",
      "[Parallel(n_jobs=16)]: Done  18 tasks      | elapsed:   35.5s\n",
      "[Parallel(n_jobs=16)]: Done  57 out of  57 | elapsed:  1.0min finished\n",
      "[Parallel(n_jobs=16)]: Using backend LokyBackend with 16 concurrent workers.\n",
      "[Parallel(n_jobs=16)]: Done  18 tasks      | elapsed:   11.2s\n",
      "[Parallel(n_jobs=16)]: Done  57 out of  57 | elapsed:   20.6s finished\n"
     ]
    },
    {
     "name": "stdout",
     "output_type": "stream",
     "text": [
      "Size:99.00 TPR:0.97 FPR:0.95\n"
     ]
    },
    {
     "name": "stderr",
     "output_type": "stream",
     "text": [
      "[Parallel(n_jobs=16)]: Using backend LokyBackend with 16 concurrent workers.\n",
      "[Parallel(n_jobs=16)]: Done  18 tasks      | elapsed:   43.6s\n",
      "[Parallel(n_jobs=16)]: Done  60 out of  60 | elapsed:  1.4min finished\n",
      "[Parallel(n_jobs=16)]: Using backend LokyBackend with 16 concurrent workers.\n",
      "[Parallel(n_jobs=16)]: Done  18 tasks      | elapsed:   13.5s\n",
      "[Parallel(n_jobs=16)]: Done  60 out of  60 | elapsed:   27.0s finished\n",
      "[Parallel(n_jobs=16)]: Using backend LokyBackend with 16 concurrent workers.\n",
      "[Parallel(n_jobs=16)]: Done  18 tasks      | elapsed:   36.3s\n",
      "[Parallel(n_jobs=16)]: Done  57 out of  57 | elapsed:  1.0min finished\n",
      "[Parallel(n_jobs=16)]: Using backend LokyBackend with 16 concurrent workers.\n",
      "[Parallel(n_jobs=16)]: Done  18 tasks      | elapsed:   11.4s\n",
      "[Parallel(n_jobs=16)]: Done  57 out of  57 | elapsed:   20.5s finished\n"
     ]
    },
    {
     "name": "stdout",
     "output_type": "stream",
     "text": [
      "Size:110.00 TPR:0.96 FPR:0.95\n"
     ]
    },
    {
     "name": "stderr",
     "output_type": "stream",
     "text": [
      "[Parallel(n_jobs=16)]: Using backend LokyBackend with 16 concurrent workers.\n",
      "[Parallel(n_jobs=16)]: Done  18 tasks      | elapsed:   43.5s\n",
      "[Parallel(n_jobs=16)]: Done  60 out of  60 | elapsed:  1.4min finished\n",
      "[Parallel(n_jobs=16)]: Using backend LokyBackend with 16 concurrent workers.\n",
      "[Parallel(n_jobs=16)]: Done  18 tasks      | elapsed:   13.0s\n",
      "[Parallel(n_jobs=16)]: Done  60 out of  60 | elapsed:   28.3s finished\n",
      "[Parallel(n_jobs=16)]: Using backend LokyBackend with 16 concurrent workers.\n",
      "[Parallel(n_jobs=16)]: Done  18 tasks      | elapsed:   35.4s\n",
      "[Parallel(n_jobs=16)]: Done  57 out of  57 | elapsed:  1.0min finished\n",
      "[Parallel(n_jobs=16)]: Using backend LokyBackend with 16 concurrent workers.\n",
      "[Parallel(n_jobs=16)]: Done  18 tasks      | elapsed:   11.5s\n",
      "[Parallel(n_jobs=16)]: Done  57 out of  57 | elapsed:   20.7s finished\n"
     ]
    },
    {
     "name": "stdout",
     "output_type": "stream",
     "text": [
      "Size:122.00 TPR:0.97 FPR:0.95\n"
     ]
    },
    {
     "name": "stderr",
     "output_type": "stream",
     "text": [
      "[Parallel(n_jobs=16)]: Using backend LokyBackend with 16 concurrent workers.\n",
      "[Parallel(n_jobs=16)]: Done  18 tasks      | elapsed:   43.8s\n",
      "[Parallel(n_jobs=16)]: Done  60 out of  60 | elapsed:  1.4min finished\n",
      "[Parallel(n_jobs=16)]: Using backend LokyBackend with 16 concurrent workers.\n",
      "[Parallel(n_jobs=16)]: Done  18 tasks      | elapsed:   13.3s\n",
      "[Parallel(n_jobs=16)]: Done  60 out of  60 | elapsed:   27.1s finished\n",
      "[Parallel(n_jobs=16)]: Using backend LokyBackend with 16 concurrent workers.\n",
      "[Parallel(n_jobs=16)]: Done  18 tasks      | elapsed:   36.4s\n",
      "[Parallel(n_jobs=16)]: Done  57 out of  57 | elapsed:  1.0min finished\n",
      "[Parallel(n_jobs=16)]: Using backend LokyBackend with 16 concurrent workers.\n",
      "[Parallel(n_jobs=16)]: Done  18 tasks      | elapsed:   11.3s\n",
      "[Parallel(n_jobs=16)]: Done  57 out of  57 | elapsed:   20.6s finished\n"
     ]
    },
    {
     "name": "stdout",
     "output_type": "stream",
     "text": [
      "Size:136.00 TPR:0.98 FPR:0.95\n"
     ]
    },
    {
     "name": "stderr",
     "output_type": "stream",
     "text": [
      "[Parallel(n_jobs=16)]: Using backend LokyBackend with 16 concurrent workers.\n",
      "[Parallel(n_jobs=16)]: Done  18 tasks      | elapsed:   43.3s\n",
      "[Parallel(n_jobs=16)]: Done  60 out of  60 | elapsed:  1.4min finished\n",
      "[Parallel(n_jobs=16)]: Using backend LokyBackend with 16 concurrent workers.\n",
      "[Parallel(n_jobs=16)]: Done  18 tasks      | elapsed:   13.4s\n",
      "[Parallel(n_jobs=16)]: Done  60 out of  60 | elapsed:   27.0s finished\n",
      "[Parallel(n_jobs=16)]: Using backend LokyBackend with 16 concurrent workers.\n",
      "[Parallel(n_jobs=16)]: Done  18 tasks      | elapsed:   36.6s\n",
      "[Parallel(n_jobs=16)]: Done  57 out of  57 | elapsed:  1.0min finished\n",
      "[Parallel(n_jobs=16)]: Using backend LokyBackend with 16 concurrent workers.\n",
      "[Parallel(n_jobs=16)]: Done  18 tasks      | elapsed:   11.4s\n",
      "[Parallel(n_jobs=16)]: Done  57 out of  57 | elapsed:   20.5s finished\n"
     ]
    },
    {
     "name": "stdout",
     "output_type": "stream",
     "text": [
      "Size:150.00 TPR:0.96 FPR:0.96\n"
     ]
    },
    {
     "name": "stderr",
     "output_type": "stream",
     "text": [
      "[Parallel(n_jobs=16)]: Using backend LokyBackend with 16 concurrent workers.\n",
      "[Parallel(n_jobs=16)]: Done  18 tasks      | elapsed:   44.0s\n",
      "[Parallel(n_jobs=16)]: Done  60 out of  60 | elapsed:  1.4min finished\n",
      "[Parallel(n_jobs=16)]: Using backend LokyBackend with 16 concurrent workers.\n",
      "[Parallel(n_jobs=16)]: Done  18 tasks      | elapsed:   13.6s\n",
      "[Parallel(n_jobs=16)]: Done  60 out of  60 | elapsed:   28.1s finished\n",
      "[Parallel(n_jobs=16)]: Using backend LokyBackend with 16 concurrent workers.\n",
      "[Parallel(n_jobs=16)]: Done  18 tasks      | elapsed:   35.6s\n",
      "[Parallel(n_jobs=16)]: Done  57 out of  57 | elapsed:  1.0min finished\n",
      "[Parallel(n_jobs=16)]: Using backend LokyBackend with 16 concurrent workers.\n",
      "[Parallel(n_jobs=16)]: Done  18 tasks      | elapsed:   11.3s\n",
      "[Parallel(n_jobs=16)]: Done  57 out of  57 | elapsed:   20.3s finished\n"
     ]
    },
    {
     "name": "stdout",
     "output_type": "stream",
     "text": [
      "Size:167.00 TPR:0.97 FPR:0.96\n"
     ]
    },
    {
     "name": "stderr",
     "output_type": "stream",
     "text": [
      "[Parallel(n_jobs=16)]: Using backend LokyBackend with 16 concurrent workers.\n",
      "[Parallel(n_jobs=16)]: Done  18 tasks      | elapsed:   43.8s\n",
      "[Parallel(n_jobs=16)]: Done  60 out of  60 | elapsed:  1.4min finished\n",
      "[Parallel(n_jobs=16)]: Using backend LokyBackend with 16 concurrent workers.\n",
      "[Parallel(n_jobs=16)]: Done  18 tasks      | elapsed:   13.2s\n",
      "[Parallel(n_jobs=16)]: Done  60 out of  60 | elapsed:   28.3s finished\n",
      "[Parallel(n_jobs=16)]: Using backend LokyBackend with 16 concurrent workers.\n",
      "[Parallel(n_jobs=16)]: Done  18 tasks      | elapsed:   35.2s\n",
      "[Parallel(n_jobs=16)]: Done  57 out of  57 | elapsed:  1.0min finished\n",
      "[Parallel(n_jobs=16)]: Using backend LokyBackend with 16 concurrent workers.\n",
      "[Parallel(n_jobs=16)]: Done  18 tasks      | elapsed:   11.4s\n",
      "[Parallel(n_jobs=16)]: Done  57 out of  57 | elapsed:   20.6s finished\n"
     ]
    },
    {
     "name": "stdout",
     "output_type": "stream",
     "text": [
      "Size:185.00 TPR:0.98 FPR:0.96\n"
     ]
    },
    {
     "name": "stderr",
     "output_type": "stream",
     "text": [
      "[Parallel(n_jobs=16)]: Using backend LokyBackend with 16 concurrent workers.\n",
      "[Parallel(n_jobs=16)]: Done  18 tasks      | elapsed:   43.6s\n",
      "[Parallel(n_jobs=16)]: Done  60 out of  60 | elapsed:  1.4min finished\n",
      "[Parallel(n_jobs=16)]: Using backend LokyBackend with 16 concurrent workers.\n",
      "[Parallel(n_jobs=16)]: Done  18 tasks      | elapsed:   13.1s\n",
      "[Parallel(n_jobs=16)]: Done  60 out of  60 | elapsed:   28.1s finished\n",
      "[Parallel(n_jobs=16)]: Using backend LokyBackend with 16 concurrent workers.\n",
      "[Parallel(n_jobs=16)]: Done  18 tasks      | elapsed:   35.4s\n",
      "[Parallel(n_jobs=16)]: Done  57 out of  57 | elapsed:  1.0min finished\n",
      "[Parallel(n_jobs=16)]: Using backend LokyBackend with 16 concurrent workers.\n",
      "[Parallel(n_jobs=16)]: Done  18 tasks      | elapsed:   11.5s\n",
      "[Parallel(n_jobs=16)]: Done  57 out of  57 | elapsed:   20.8s finished\n"
     ]
    },
    {
     "name": "stdout",
     "output_type": "stream",
     "text": [
      "Size:205.00 TPR:0.98 FPR:0.96\n"
     ]
    },
    {
     "name": "stderr",
     "output_type": "stream",
     "text": [
      "[Parallel(n_jobs=16)]: Using backend LokyBackend with 16 concurrent workers.\n",
      "[Parallel(n_jobs=16)]: Done  18 tasks      | elapsed:   43.5s\n",
      "[Parallel(n_jobs=16)]: Done  60 out of  60 | elapsed:  1.4min finished\n",
      "[Parallel(n_jobs=16)]: Using backend LokyBackend with 16 concurrent workers.\n",
      "[Parallel(n_jobs=16)]: Done  18 tasks      | elapsed:   13.4s\n",
      "[Parallel(n_jobs=16)]: Done  60 out of  60 | elapsed:   27.0s finished\n",
      "[Parallel(n_jobs=16)]: Using backend LokyBackend with 16 concurrent workers.\n",
      "[Parallel(n_jobs=16)]: Done  18 tasks      | elapsed:   36.5s\n",
      "[Parallel(n_jobs=16)]: Done  57 out of  57 | elapsed:  1.0min finished\n",
      "[Parallel(n_jobs=16)]: Using backend LokyBackend with 16 concurrent workers.\n",
      "[Parallel(n_jobs=16)]: Done  18 tasks      | elapsed:   11.4s\n",
      "[Parallel(n_jobs=16)]: Done  57 out of  57 | elapsed:   20.5s finished\n"
     ]
    },
    {
     "name": "stdout",
     "output_type": "stream",
     "text": [
      "Size:228.00 TPR:0.99 FPR:0.96\n"
     ]
    },
    {
     "name": "stderr",
     "output_type": "stream",
     "text": [
      "[Parallel(n_jobs=16)]: Using backend LokyBackend with 16 concurrent workers.\n",
      "[Parallel(n_jobs=16)]: Done  18 tasks      | elapsed:   43.5s\n",
      "[Parallel(n_jobs=16)]: Done  60 out of  60 | elapsed:  1.4min finished\n",
      "[Parallel(n_jobs=16)]: Using backend LokyBackend with 16 concurrent workers.\n",
      "[Parallel(n_jobs=16)]: Done  18 tasks      | elapsed:   13.0s\n",
      "[Parallel(n_jobs=16)]: Done  60 out of  60 | elapsed:   28.5s finished\n",
      "[Parallel(n_jobs=16)]: Using backend LokyBackend with 16 concurrent workers.\n",
      "[Parallel(n_jobs=16)]: Done  18 tasks      | elapsed:   35.4s\n",
      "[Parallel(n_jobs=16)]: Done  57 out of  57 | elapsed:  1.0min finished\n",
      "[Parallel(n_jobs=16)]: Using backend LokyBackend with 16 concurrent workers.\n",
      "[Parallel(n_jobs=16)]: Done  18 tasks      | elapsed:   11.4s\n",
      "[Parallel(n_jobs=16)]: Done  57 out of  57 | elapsed:   20.7s finished\n"
     ]
    },
    {
     "name": "stdout",
     "output_type": "stream",
     "text": [
      "Size:252.00 TPR:0.99 FPR:0.95\n"
     ]
    },
    {
     "name": "stderr",
     "output_type": "stream",
     "text": [
      "[Parallel(n_jobs=16)]: Using backend LokyBackend with 16 concurrent workers.\n",
      "[Parallel(n_jobs=16)]: Done  18 tasks      | elapsed:   43.7s\n",
      "[Parallel(n_jobs=16)]: Done  60 out of  60 | elapsed:  1.4min finished\n",
      "[Parallel(n_jobs=16)]: Using backend LokyBackend with 16 concurrent workers.\n",
      "[Parallel(n_jobs=16)]: Done  18 tasks      | elapsed:   13.8s\n",
      "[Parallel(n_jobs=16)]: Done  60 out of  60 | elapsed:   27.4s finished\n",
      "[Parallel(n_jobs=16)]: Using backend LokyBackend with 16 concurrent workers.\n",
      "[Parallel(n_jobs=16)]: Done  18 tasks      | elapsed:   36.7s\n",
      "[Parallel(n_jobs=16)]: Done  57 out of  57 | elapsed:  1.0min finished\n",
      "[Parallel(n_jobs=16)]: Using backend LokyBackend with 16 concurrent workers.\n",
      "[Parallel(n_jobs=16)]: Done  18 tasks      | elapsed:   11.8s\n",
      "[Parallel(n_jobs=16)]: Done  57 out of  57 | elapsed:   20.9s finished\n"
     ]
    },
    {
     "name": "stdout",
     "output_type": "stream",
     "text": [
      "Size:280.00 TPR:0.99 FPR:0.96\n"
     ]
    },
    {
     "name": "stderr",
     "output_type": "stream",
     "text": [
      "[Parallel(n_jobs=16)]: Using backend LokyBackend with 16 concurrent workers.\n",
      "[Parallel(n_jobs=16)]: Done  18 tasks      | elapsed:   43.5s\n",
      "[Parallel(n_jobs=16)]: Done  60 out of  60 | elapsed:  1.4min finished\n",
      "[Parallel(n_jobs=16)]: Using backend LokyBackend with 16 concurrent workers.\n",
      "[Parallel(n_jobs=16)]: Done  18 tasks      | elapsed:   13.7s\n",
      "[Parallel(n_jobs=16)]: Done  60 out of  60 | elapsed:   28.8s finished\n",
      "[Parallel(n_jobs=16)]: Using backend LokyBackend with 16 concurrent workers.\n",
      "[Parallel(n_jobs=16)]: Done  18 tasks      | elapsed:   35.1s\n",
      "[Parallel(n_jobs=16)]: Done  57 out of  57 | elapsed:  1.0min finished\n",
      "[Parallel(n_jobs=16)]: Using backend LokyBackend with 16 concurrent workers.\n",
      "[Parallel(n_jobs=16)]: Done  18 tasks      | elapsed:   11.6s\n",
      "[Parallel(n_jobs=16)]: Done  57 out of  57 | elapsed:   21.1s finished\n"
     ]
    },
    {
     "name": "stdout",
     "output_type": "stream",
     "text": [
      "Size:311.00 TPR:0.98 FPR:0.96\n"
     ]
    },
    {
     "name": "stderr",
     "output_type": "stream",
     "text": [
      "[Parallel(n_jobs=16)]: Using backend LokyBackend with 16 concurrent workers.\n",
      "[Parallel(n_jobs=16)]: Done  18 tasks      | elapsed:   43.5s\n",
      "[Parallel(n_jobs=16)]: Done  60 out of  60 | elapsed:  1.4min finished\n",
      "[Parallel(n_jobs=16)]: Using backend LokyBackend with 16 concurrent workers.\n",
      "[Parallel(n_jobs=16)]: Done  18 tasks      | elapsed:   13.8s\n",
      "[Parallel(n_jobs=16)]: Done  60 out of  60 | elapsed:   27.5s finished\n",
      "[Parallel(n_jobs=16)]: Using backend LokyBackend with 16 concurrent workers.\n",
      "[Parallel(n_jobs=16)]: Done  18 tasks      | elapsed:   36.3s\n",
      "[Parallel(n_jobs=16)]: Done  57 out of  57 | elapsed:  1.0min finished\n",
      "[Parallel(n_jobs=16)]: Using backend LokyBackend with 16 concurrent workers.\n",
      "[Parallel(n_jobs=16)]: Done  18 tasks      | elapsed:   11.7s\n",
      "[Parallel(n_jobs=16)]: Done  57 out of  57 | elapsed:   21.0s finished\n"
     ]
    },
    {
     "name": "stdout",
     "output_type": "stream",
     "text": [
      "Size:344.00 TPR:0.99 FPR:0.96\n"
     ]
    },
    {
     "name": "stderr",
     "output_type": "stream",
     "text": [
      "[Parallel(n_jobs=16)]: Using backend LokyBackend with 16 concurrent workers.\n",
      "[Parallel(n_jobs=16)]: Done  18 tasks      | elapsed:   43.6s\n",
      "[Parallel(n_jobs=16)]: Done  60 out of  60 | elapsed:  1.4min finished\n",
      "[Parallel(n_jobs=16)]: Using backend LokyBackend with 16 concurrent workers.\n",
      "[Parallel(n_jobs=16)]: Done  18 tasks      | elapsed:   13.5s\n",
      "[Parallel(n_jobs=16)]: Done  60 out of  60 | elapsed:   29.0s finished\n",
      "[Parallel(n_jobs=16)]: Using backend LokyBackend with 16 concurrent workers.\n",
      "[Parallel(n_jobs=16)]: Done  18 tasks      | elapsed:   35.4s\n",
      "[Parallel(n_jobs=16)]: Done  57 out of  57 | elapsed:  1.0min finished\n",
      "[Parallel(n_jobs=16)]: Using backend LokyBackend with 16 concurrent workers.\n",
      "[Parallel(n_jobs=16)]: Done  18 tasks      | elapsed:   11.6s\n",
      "[Parallel(n_jobs=16)]: Done  57 out of  57 | elapsed:   20.9s finished\n"
     ]
    },
    {
     "name": "stdout",
     "output_type": "stream",
     "text": [
      "Size:382.00 TPR:0.99 FPR:0.96\n"
     ]
    },
    {
     "name": "stderr",
     "output_type": "stream",
     "text": [
      "[Parallel(n_jobs=16)]: Using backend LokyBackend with 16 concurrent workers.\n",
      "[Parallel(n_jobs=16)]: Done  18 tasks      | elapsed:   43.6s\n",
      "[Parallel(n_jobs=16)]: Done  60 out of  60 | elapsed:  1.4min finished\n",
      "[Parallel(n_jobs=16)]: Using backend LokyBackend with 16 concurrent workers.\n",
      "[Parallel(n_jobs=16)]: Done  18 tasks      | elapsed:   13.8s\n",
      "[Parallel(n_jobs=16)]: Done  60 out of  60 | elapsed:   28.7s finished\n",
      "[Parallel(n_jobs=16)]: Using backend LokyBackend with 16 concurrent workers.\n",
      "[Parallel(n_jobs=16)]: Done  18 tasks      | elapsed:   35.3s\n",
      "[Parallel(n_jobs=16)]: Done  57 out of  57 | elapsed:  1.0min finished\n",
      "[Parallel(n_jobs=16)]: Using backend LokyBackend with 16 concurrent workers.\n",
      "[Parallel(n_jobs=16)]: Done  18 tasks      | elapsed:   11.8s\n",
      "[Parallel(n_jobs=16)]: Done  57 out of  57 | elapsed:   21.3s finished\n"
     ]
    },
    {
     "name": "stdout",
     "output_type": "stream",
     "text": [
      "Size:424.00 TPR:0.99 FPR:0.96\n"
     ]
    },
    {
     "name": "stderr",
     "output_type": "stream",
     "text": [
      "[Parallel(n_jobs=16)]: Using backend LokyBackend with 16 concurrent workers.\n",
      "[Parallel(n_jobs=16)]: Done  18 tasks      | elapsed:   43.8s\n",
      "[Parallel(n_jobs=16)]: Done  60 out of  60 | elapsed:  1.4min finished\n",
      "[Parallel(n_jobs=16)]: Using backend LokyBackend with 16 concurrent workers.\n",
      "[Parallel(n_jobs=16)]: Done  18 tasks      | elapsed:   13.8s\n",
      "[Parallel(n_jobs=16)]: Done  60 out of  60 | elapsed:   27.8s finished\n",
      "[Parallel(n_jobs=16)]: Using backend LokyBackend with 16 concurrent workers.\n",
      "[Parallel(n_jobs=16)]: Done  18 tasks      | elapsed:   36.3s\n",
      "[Parallel(n_jobs=16)]: Done  57 out of  57 | elapsed:  1.0min finished\n",
      "[Parallel(n_jobs=16)]: Using backend LokyBackend with 16 concurrent workers.\n",
      "[Parallel(n_jobs=16)]: Done  18 tasks      | elapsed:   11.7s\n",
      "[Parallel(n_jobs=16)]: Done  57 out of  57 | elapsed:   21.4s finished\n"
     ]
    },
    {
     "name": "stdout",
     "output_type": "stream",
     "text": [
      "Size:470.00 TPR:0.99 FPR:0.96\n"
     ]
    },
    {
     "name": "stderr",
     "output_type": "stream",
     "text": [
      "[Parallel(n_jobs=16)]: Using backend LokyBackend with 16 concurrent workers.\n",
      "[Parallel(n_jobs=16)]: Done  18 tasks      | elapsed:   43.6s\n",
      "[Parallel(n_jobs=16)]: Done  60 out of  60 | elapsed:  1.4min finished\n",
      "[Parallel(n_jobs=16)]: Using backend LokyBackend with 16 concurrent workers.\n",
      "[Parallel(n_jobs=16)]: Done  18 tasks      | elapsed:   13.9s\n",
      "[Parallel(n_jobs=16)]: Done  60 out of  60 | elapsed:   28.8s finished\n",
      "[Parallel(n_jobs=16)]: Using backend LokyBackend with 16 concurrent workers.\n",
      "[Parallel(n_jobs=16)]: Done  18 tasks      | elapsed:   35.3s\n",
      "[Parallel(n_jobs=16)]: Done  57 out of  57 | elapsed:  1.0min finished\n",
      "[Parallel(n_jobs=16)]: Using backend LokyBackend with 16 concurrent workers.\n",
      "[Parallel(n_jobs=16)]: Done  18 tasks      | elapsed:   11.8s\n",
      "[Parallel(n_jobs=16)]: Done  57 out of  57 | elapsed:   21.2s finished\n"
     ]
    },
    {
     "name": "stdout",
     "output_type": "stream",
     "text": [
      "Size:521.00 TPR:0.99 FPR:0.96\n"
     ]
    },
    {
     "name": "stderr",
     "output_type": "stream",
     "text": [
      "[Parallel(n_jobs=16)]: Using backend LokyBackend with 16 concurrent workers.\n",
      "[Parallel(n_jobs=16)]: Done  18 tasks      | elapsed:   43.8s\n",
      "[Parallel(n_jobs=16)]: Done  60 out of  60 | elapsed:  1.4min finished\n",
      "[Parallel(n_jobs=16)]: Using backend LokyBackend with 16 concurrent workers.\n",
      "[Parallel(n_jobs=16)]: Done  18 tasks      | elapsed:   14.2s\n",
      "[Parallel(n_jobs=16)]: Done  60 out of  60 | elapsed:   28.2s finished\n",
      "[Parallel(n_jobs=16)]: Using backend LokyBackend with 16 concurrent workers.\n",
      "[Parallel(n_jobs=16)]: Done  18 tasks      | elapsed:   35.1s\n",
      "[Parallel(n_jobs=16)]: Done  57 out of  57 | elapsed:  1.0min finished\n",
      "[Parallel(n_jobs=16)]: Using backend LokyBackend with 16 concurrent workers.\n",
      "[Parallel(n_jobs=16)]: Done  18 tasks      | elapsed:   11.7s\n",
      "[Parallel(n_jobs=16)]: Done  57 out of  57 | elapsed:   21.7s finished\n"
     ]
    },
    {
     "name": "stdout",
     "output_type": "stream",
     "text": [
      "Size:578.00 TPR:0.99 FPR:0.96\n"
     ]
    },
    {
     "name": "stderr",
     "output_type": "stream",
     "text": [
      "[Parallel(n_jobs=16)]: Using backend LokyBackend with 16 concurrent workers.\n",
      "[Parallel(n_jobs=16)]: Done  18 tasks      | elapsed:   43.6s\n",
      "[Parallel(n_jobs=16)]: Done  60 out of  60 | elapsed:  1.4min finished\n",
      "[Parallel(n_jobs=16)]: Using backend LokyBackend with 16 concurrent workers.\n",
      "[Parallel(n_jobs=16)]: Done  18 tasks      | elapsed:   14.1s\n",
      "[Parallel(n_jobs=16)]: Done  60 out of  60 | elapsed:   28.7s finished\n",
      "[Parallel(n_jobs=16)]: Using backend LokyBackend with 16 concurrent workers.\n",
      "[Parallel(n_jobs=16)]: Done  18 tasks      | elapsed:   36.5s\n",
      "[Parallel(n_jobs=16)]: Done  57 out of  57 | elapsed:  1.0min finished\n",
      "[Parallel(n_jobs=16)]: Using backend LokyBackend with 16 concurrent workers.\n",
      "[Parallel(n_jobs=16)]: Done  18 tasks      | elapsed:   11.9s\n",
      "[Parallel(n_jobs=16)]: Done  57 out of  57 | elapsed:   21.6s finished\n"
     ]
    },
    {
     "name": "stdout",
     "output_type": "stream",
     "text": [
      "Size:641.00 TPR:0.99 FPR:0.96\n"
     ]
    },
    {
     "name": "stderr",
     "output_type": "stream",
     "text": [
      "[Parallel(n_jobs=16)]: Using backend LokyBackend with 16 concurrent workers.\n",
      "[Parallel(n_jobs=16)]: Done  18 tasks      | elapsed:   43.2s\n",
      "[Parallel(n_jobs=16)]: Done  60 out of  60 | elapsed:  1.4min finished\n",
      "[Parallel(n_jobs=16)]: Using backend LokyBackend with 16 concurrent workers.\n",
      "[Parallel(n_jobs=16)]: Done  18 tasks      | elapsed:   13.8s\n",
      "[Parallel(n_jobs=16)]: Done  60 out of  60 | elapsed:   29.5s finished\n",
      "[Parallel(n_jobs=16)]: Using backend LokyBackend with 16 concurrent workers.\n",
      "[Parallel(n_jobs=16)]: Done  18 tasks      | elapsed:   35.4s\n",
      "[Parallel(n_jobs=16)]: Done  57 out of  57 | elapsed:  1.0min finished\n",
      "[Parallel(n_jobs=16)]: Using backend LokyBackend with 16 concurrent workers.\n",
      "[Parallel(n_jobs=16)]: Done  18 tasks      | elapsed:   11.9s\n",
      "[Parallel(n_jobs=16)]: Done  57 out of  57 | elapsed:   21.8s finished\n"
     ]
    },
    {
     "name": "stdout",
     "output_type": "stream",
     "text": [
      "Size:711.00 TPR:0.99 FPR:0.96\n"
     ]
    },
    {
     "name": "stderr",
     "output_type": "stream",
     "text": [
      "[Parallel(n_jobs=16)]: Using backend LokyBackend with 16 concurrent workers.\n",
      "[Parallel(n_jobs=16)]: Done  18 tasks      | elapsed:   44.1s\n",
      "[Parallel(n_jobs=16)]: Done  60 out of  60 | elapsed:  1.4min finished\n",
      "[Parallel(n_jobs=16)]: Using backend LokyBackend with 16 concurrent workers.\n",
      "[Parallel(n_jobs=16)]: Done  18 tasks      | elapsed:   14.6s\n",
      "[Parallel(n_jobs=16)]: Done  60 out of  60 | elapsed:   29.8s finished\n",
      "[Parallel(n_jobs=16)]: Using backend LokyBackend with 16 concurrent workers.\n",
      "[Parallel(n_jobs=16)]: Done  18 tasks      | elapsed:   35.5s\n",
      "[Parallel(n_jobs=16)]: Done  57 out of  57 | elapsed:  1.0min finished\n",
      "[Parallel(n_jobs=16)]: Using backend LokyBackend with 16 concurrent workers.\n",
      "[Parallel(n_jobs=16)]: Done  18 tasks      | elapsed:   12.0s\n",
      "[Parallel(n_jobs=16)]: Done  57 out of  57 | elapsed:   22.0s finished\n"
     ]
    },
    {
     "name": "stdout",
     "output_type": "stream",
     "text": [
      "Size:788.00 TPR:0.99 FPR:0.96\n"
     ]
    },
    {
     "name": "stderr",
     "output_type": "stream",
     "text": [
      "[Parallel(n_jobs=16)]: Using backend LokyBackend with 16 concurrent workers.\n",
      "[Parallel(n_jobs=16)]: Done  18 tasks      | elapsed:   43.8s\n",
      "[Parallel(n_jobs=16)]: Done  60 out of  60 | elapsed:  1.4min finished\n",
      "[Parallel(n_jobs=16)]: Using backend LokyBackend with 16 concurrent workers.\n",
      "[Parallel(n_jobs=16)]: Done  18 tasks      | elapsed:   14.4s\n",
      "[Parallel(n_jobs=16)]: Done  60 out of  60 | elapsed:   30.1s finished\n",
      "[Parallel(n_jobs=16)]: Using backend LokyBackend with 16 concurrent workers.\n",
      "[Parallel(n_jobs=16)]: Done  18 tasks      | elapsed:   35.5s\n",
      "[Parallel(n_jobs=16)]: Done  57 out of  57 | elapsed:  1.0min finished\n",
      "[Parallel(n_jobs=16)]: Using backend LokyBackend with 16 concurrent workers.\n",
      "[Parallel(n_jobs=16)]: Done  18 tasks      | elapsed:   12.1s\n",
      "[Parallel(n_jobs=16)]: Done  57 out of  57 | elapsed:   22.0s finished\n"
     ]
    },
    {
     "name": "stdout",
     "output_type": "stream",
     "text": [
      "Size:874.00 TPR:0.99 FPR:0.96\n"
     ]
    },
    {
     "name": "stderr",
     "output_type": "stream",
     "text": [
      "[Parallel(n_jobs=16)]: Using backend LokyBackend with 16 concurrent workers.\n",
      "[Parallel(n_jobs=16)]: Done  18 tasks      | elapsed:   42.9s\n",
      "[Parallel(n_jobs=16)]: Done  60 out of  60 | elapsed:  1.4min finished\n",
      "[Parallel(n_jobs=16)]: Using backend LokyBackend with 16 concurrent workers.\n",
      "[Parallel(n_jobs=16)]: Done  18 tasks      | elapsed:   14.7s\n",
      "[Parallel(n_jobs=16)]: Done  60 out of  60 | elapsed:   29.1s finished\n",
      "[Parallel(n_jobs=16)]: Using backend LokyBackend with 16 concurrent workers.\n",
      "[Parallel(n_jobs=16)]: Done  18 tasks      | elapsed:   36.3s\n",
      "[Parallel(n_jobs=16)]: Done  57 out of  57 | elapsed:  1.0min finished\n",
      "[Parallel(n_jobs=16)]: Using backend LokyBackend with 16 concurrent workers.\n",
      "[Parallel(n_jobs=16)]: Done  18 tasks      | elapsed:   12.2s\n",
      "[Parallel(n_jobs=16)]: Done  57 out of  57 | elapsed:   22.0s finished\n"
     ]
    },
    {
     "name": "stdout",
     "output_type": "stream",
     "text": [
      "Size:969.00 TPR:0.99 FPR:0.96\n"
     ]
    },
    {
     "name": "stderr",
     "output_type": "stream",
     "text": [
      "[Parallel(n_jobs=16)]: Using backend LokyBackend with 16 concurrent workers.\n",
      "[Parallel(n_jobs=16)]: Done  18 tasks      | elapsed:   43.9s\n",
      "[Parallel(n_jobs=16)]: Done  60 out of  60 | elapsed:  1.4min finished\n",
      "[Parallel(n_jobs=16)]: Using backend LokyBackend with 16 concurrent workers.\n",
      "[Parallel(n_jobs=16)]: Done  18 tasks      | elapsed:   14.6s\n",
      "[Parallel(n_jobs=16)]: Done  60 out of  60 | elapsed:   30.2s finished\n",
      "[Parallel(n_jobs=16)]: Using backend LokyBackend with 16 concurrent workers.\n",
      "[Parallel(n_jobs=16)]: Done  18 tasks      | elapsed:   35.2s\n",
      "[Parallel(n_jobs=16)]: Done  57 out of  57 | elapsed:  1.0min finished\n",
      "[Parallel(n_jobs=16)]: Using backend LokyBackend with 16 concurrent workers.\n",
      "[Parallel(n_jobs=16)]: Done  18 tasks      | elapsed:   12.5s\n",
      "[Parallel(n_jobs=16)]: Done  57 out of  57 | elapsed:   22.2s finished\n"
     ]
    },
    {
     "name": "stdout",
     "output_type": "stream",
     "text": [
      "Size:1075.00 TPR:0.99 FPR:0.96\n"
     ]
    },
    {
     "name": "stderr",
     "output_type": "stream",
     "text": [
      "[Parallel(n_jobs=16)]: Using backend LokyBackend with 16 concurrent workers.\n",
      "[Parallel(n_jobs=16)]: Done  18 tasks      | elapsed:   43.9s\n",
      "[Parallel(n_jobs=16)]: Done  60 out of  60 | elapsed:  1.4min finished\n",
      "[Parallel(n_jobs=16)]: Using backend LokyBackend with 16 concurrent workers.\n",
      "[Parallel(n_jobs=16)]: Done  18 tasks      | elapsed:   14.6s\n",
      "[Parallel(n_jobs=16)]: Done  60 out of  60 | elapsed:   30.4s finished\n",
      "[Parallel(n_jobs=16)]: Using backend LokyBackend with 16 concurrent workers.\n",
      "[Parallel(n_jobs=16)]: Done  18 tasks      | elapsed:   35.4s\n",
      "[Parallel(n_jobs=16)]: Done  57 out of  57 | elapsed:  1.0min finished\n",
      "[Parallel(n_jobs=16)]: Using backend LokyBackend with 16 concurrent workers.\n",
      "[Parallel(n_jobs=16)]: Done  18 tasks      | elapsed:   12.7s\n",
      "[Parallel(n_jobs=16)]: Done  57 out of  57 | elapsed:   22.7s finished\n"
     ]
    },
    {
     "name": "stdout",
     "output_type": "stream",
     "text": [
      "Size:1192.00 TPR:1.00 FPR:0.96\n"
     ]
    },
    {
     "name": "stderr",
     "output_type": "stream",
     "text": [
      "[Parallel(n_jobs=16)]: Using backend LokyBackend with 16 concurrent workers.\n",
      "[Parallel(n_jobs=16)]: Done  18 tasks      | elapsed:   43.2s\n",
      "[Parallel(n_jobs=16)]: Done  60 out of  60 | elapsed:  1.4min finished\n",
      "[Parallel(n_jobs=16)]: Using backend LokyBackend with 16 concurrent workers.\n",
      "[Parallel(n_jobs=16)]: Done  18 tasks      | elapsed:   15.0s\n",
      "[Parallel(n_jobs=16)]: Done  60 out of  60 | elapsed:   30.1s finished\n",
      "[Parallel(n_jobs=16)]: Using backend LokyBackend with 16 concurrent workers.\n",
      "[Parallel(n_jobs=16)]: Done  18 tasks      | elapsed:   36.5s\n",
      "[Parallel(n_jobs=16)]: Done  57 out of  57 | elapsed:  1.0min finished\n",
      "[Parallel(n_jobs=16)]: Using backend LokyBackend with 16 concurrent workers.\n",
      "[Parallel(n_jobs=16)]: Done  18 tasks      | elapsed:   12.6s\n",
      "[Parallel(n_jobs=16)]: Done  57 out of  57 | elapsed:   22.6s finished\n"
     ]
    },
    {
     "name": "stdout",
     "output_type": "stream",
     "text": [
      "Size:1322.00 TPR:0.99 FPR:0.96\n"
     ]
    },
    {
     "name": "stderr",
     "output_type": "stream",
     "text": [
      "[Parallel(n_jobs=16)]: Using backend LokyBackend with 16 concurrent workers.\n",
      "[Parallel(n_jobs=16)]: Done  18 tasks      | elapsed:   43.6s\n",
      "[Parallel(n_jobs=16)]: Done  60 out of  60 | elapsed:  1.4min finished\n",
      "[Parallel(n_jobs=16)]: Using backend LokyBackend with 16 concurrent workers.\n",
      "[Parallel(n_jobs=16)]: Done  18 tasks      | elapsed:   15.2s\n",
      "[Parallel(n_jobs=16)]: Done  60 out of  60 | elapsed:   30.2s finished\n",
      "[Parallel(n_jobs=16)]: Using backend LokyBackend with 16 concurrent workers.\n",
      "[Parallel(n_jobs=16)]: Done  18 tasks      | elapsed:   36.4s\n",
      "[Parallel(n_jobs=16)]: Done  57 out of  57 | elapsed:  1.0min finished\n",
      "[Parallel(n_jobs=16)]: Using backend LokyBackend with 16 concurrent workers.\n",
      "[Parallel(n_jobs=16)]: Done  18 tasks      | elapsed:   12.7s\n",
      "[Parallel(n_jobs=16)]: Done  57 out of  57 | elapsed:   23.2s finished\n"
     ]
    },
    {
     "name": "stdout",
     "output_type": "stream",
     "text": [
      "Size:1466.00 TPR:0.99 FPR:0.96\n"
     ]
    },
    {
     "name": "stderr",
     "output_type": "stream",
     "text": [
      "[Parallel(n_jobs=16)]: Using backend LokyBackend with 16 concurrent workers.\n",
      "[Parallel(n_jobs=16)]: Done  18 tasks      | elapsed:   43.2s\n",
      "[Parallel(n_jobs=16)]: Done  60 out of  60 | elapsed:  1.4min finished\n",
      "[Parallel(n_jobs=16)]: Using backend LokyBackend with 16 concurrent workers.\n",
      "[Parallel(n_jobs=16)]: Done  18 tasks      | elapsed:   15.5s\n",
      "[Parallel(n_jobs=16)]: Done  60 out of  60 | elapsed:   31.0s finished\n",
      "[Parallel(n_jobs=16)]: Using backend LokyBackend with 16 concurrent workers.\n",
      "[Parallel(n_jobs=16)]: Done  18 tasks      | elapsed:   35.4s\n",
      "[Parallel(n_jobs=16)]: Done  57 out of  57 | elapsed:  1.0min finished\n",
      "[Parallel(n_jobs=16)]: Using backend LokyBackend with 16 concurrent workers.\n",
      "[Parallel(n_jobs=16)]: Done  18 tasks      | elapsed:   12.9s\n",
      "[Parallel(n_jobs=16)]: Done  57 out of  57 | elapsed:   23.3s finished\n"
     ]
    },
    {
     "name": "stdout",
     "output_type": "stream",
     "text": [
      "Size:1626.00 TPR:0.99 FPR:0.96\n"
     ]
    },
    {
     "name": "stderr",
     "output_type": "stream",
     "text": [
      "[Parallel(n_jobs=16)]: Using backend LokyBackend with 16 concurrent workers.\n",
      "[Parallel(n_jobs=16)]: Done  18 tasks      | elapsed:   43.9s\n",
      "[Parallel(n_jobs=16)]: Done  60 out of  60 | elapsed:  1.4min finished\n",
      "[Parallel(n_jobs=16)]: Using backend LokyBackend with 16 concurrent workers.\n",
      "[Parallel(n_jobs=16)]: Done  18 tasks      | elapsed:   15.6s\n",
      "[Parallel(n_jobs=16)]: Done  60 out of  60 | elapsed:   31.5s finished\n",
      "[Parallel(n_jobs=16)]: Using backend LokyBackend with 16 concurrent workers.\n",
      "[Parallel(n_jobs=16)]: Done  18 tasks      | elapsed:   35.5s\n",
      "[Parallel(n_jobs=16)]: Done  57 out of  57 | elapsed:  1.0min finished\n",
      "[Parallel(n_jobs=16)]: Using backend LokyBackend with 16 concurrent workers.\n",
      "[Parallel(n_jobs=16)]: Done  18 tasks      | elapsed:   13.0s\n",
      "[Parallel(n_jobs=16)]: Done  57 out of  57 | elapsed:   23.6s finished\n"
     ]
    },
    {
     "name": "stdout",
     "output_type": "stream",
     "text": [
      "Size:1803.00 TPR:1.00 FPR:0.96\n"
     ]
    },
    {
     "name": "stderr",
     "output_type": "stream",
     "text": [
      "[Parallel(n_jobs=16)]: Using backend LokyBackend with 16 concurrent workers.\n",
      "[Parallel(n_jobs=16)]: Done  18 tasks      | elapsed:   43.7s\n",
      "[Parallel(n_jobs=16)]: Done  60 out of  60 | elapsed:  1.4min finished\n",
      "[Parallel(n_jobs=16)]: Using backend LokyBackend with 16 concurrent workers.\n",
      "[Parallel(n_jobs=16)]: Done  18 tasks      | elapsed:   15.7s\n",
      "[Parallel(n_jobs=16)]: Done  60 out of  60 | elapsed:   31.7s finished\n",
      "[Parallel(n_jobs=16)]: Using backend LokyBackend with 16 concurrent workers.\n",
      "[Parallel(n_jobs=16)]: Done  18 tasks      | elapsed:   35.3s\n",
      "[Parallel(n_jobs=16)]: Done  57 out of  57 | elapsed:  1.0min finished\n",
      "[Parallel(n_jobs=16)]: Using backend LokyBackend with 16 concurrent workers.\n",
      "[Parallel(n_jobs=16)]: Done  18 tasks      | elapsed:   13.3s\n",
      "[Parallel(n_jobs=16)]: Done  57 out of  57 | elapsed:   24.0s finished\n"
     ]
    },
    {
     "name": "stdout",
     "output_type": "stream",
     "text": [
      "Size:2000.00 TPR:0.99 FPR:0.96\n"
     ]
    },
    {
     "name": "stderr",
     "output_type": "stream",
     "text": [
      "[Parallel(n_jobs=16)]: Using backend LokyBackend with 16 concurrent workers.\n",
      "[Parallel(n_jobs=16)]: Done  18 tasks      | elapsed:   43.1s\n",
      "[Parallel(n_jobs=16)]: Done  60 out of  60 | elapsed:  1.4min finished\n",
      "[Parallel(n_jobs=16)]: Using backend LokyBackend with 16 concurrent workers.\n",
      "[Parallel(n_jobs=16)]: Done  18 tasks      | elapsed:   13.3s\n",
      "[Parallel(n_jobs=16)]: Done  60 out of  60 | elapsed:   27.9s finished\n",
      "[Parallel(n_jobs=16)]: Using backend LokyBackend with 16 concurrent workers.\n",
      "[Parallel(n_jobs=16)]: Done  18 tasks      | elapsed:   35.4s\n",
      "[Parallel(n_jobs=16)]: Done  57 out of  57 | elapsed:  1.0min finished\n",
      "[Parallel(n_jobs=16)]: Using backend LokyBackend with 16 concurrent workers.\n",
      "[Parallel(n_jobs=16)]: Done  18 tasks      | elapsed:   11.3s\n",
      "[Parallel(n_jobs=16)]: Done  57 out of  57 | elapsed:   20.5s finished\n"
     ]
    },
    {
     "name": "stdout",
     "output_type": "stream",
     "text": [
      "Size:1.00 TPR:0.36 FPR:1.00\n"
     ]
    },
    {
     "name": "stderr",
     "output_type": "stream",
     "text": [
      "[Parallel(n_jobs=16)]: Using backend LokyBackend with 16 concurrent workers.\n",
      "[Parallel(n_jobs=16)]: Done  18 tasks      | elapsed:   43.7s\n",
      "[Parallel(n_jobs=16)]: Done  60 out of  60 | elapsed:  1.4min finished\n",
      "[Parallel(n_jobs=16)]: Using backend LokyBackend with 16 concurrent workers.\n",
      "[Parallel(n_jobs=16)]: Done  18 tasks      | elapsed:   13.1s\n",
      "[Parallel(n_jobs=16)]: Done  60 out of  60 | elapsed:   27.0s finished\n",
      "[Parallel(n_jobs=16)]: Using backend LokyBackend with 16 concurrent workers.\n",
      "[Parallel(n_jobs=16)]: Done  18 tasks      | elapsed:   35.6s\n",
      "[Parallel(n_jobs=16)]: Done  57 out of  57 | elapsed:  1.0min finished\n",
      "[Parallel(n_jobs=16)]: Using backend LokyBackend with 16 concurrent workers.\n",
      "[Parallel(n_jobs=16)]: Done  18 tasks      | elapsed:   11.2s\n",
      "[Parallel(n_jobs=16)]: Done  57 out of  57 | elapsed:   20.2s finished\n"
     ]
    },
    {
     "name": "stdout",
     "output_type": "stream",
     "text": [
      "Size:2.00 TPR:0.32 FPR:0.97\n"
     ]
    },
    {
     "name": "stderr",
     "output_type": "stream",
     "text": [
      "[Parallel(n_jobs=16)]: Using backend LokyBackend with 16 concurrent workers.\n",
      "[Parallel(n_jobs=16)]: Done  18 tasks      | elapsed:   43.9s\n",
      "[Parallel(n_jobs=16)]: Done  60 out of  60 | elapsed:  1.4min finished\n",
      "[Parallel(n_jobs=16)]: Using backend LokyBackend with 16 concurrent workers.\n",
      "[Parallel(n_jobs=16)]: Done  18 tasks      | elapsed:   11.3s\n",
      "[Parallel(n_jobs=16)]: Done  60 out of  60 | elapsed:   27.2s finished\n",
      "[Parallel(n_jobs=16)]: Using backend LokyBackend with 16 concurrent workers.\n",
      "[Parallel(n_jobs=16)]: Done  18 tasks      | elapsed:   35.4s\n",
      "[Parallel(n_jobs=16)]: Done  57 out of  57 | elapsed:  1.0min finished\n",
      "[Parallel(n_jobs=16)]: Using backend LokyBackend with 16 concurrent workers.\n",
      "[Parallel(n_jobs=16)]: Done  18 tasks      | elapsed:   11.2s\n",
      "[Parallel(n_jobs=16)]: Done  57 out of  57 | elapsed:   20.4s finished\n"
     ]
    },
    {
     "name": "stdout",
     "output_type": "stream",
     "text": [
      "Size:3.00 TPR:0.54 FPR:0.97\n"
     ]
    },
    {
     "name": "stderr",
     "output_type": "stream",
     "text": [
      "[Parallel(n_jobs=16)]: Using backend LokyBackend with 16 concurrent workers.\n",
      "[Parallel(n_jobs=16)]: Done  18 tasks      | elapsed:   43.4s\n",
      "[Parallel(n_jobs=16)]: Done  60 out of  60 | elapsed:  1.4min finished\n",
      "[Parallel(n_jobs=16)]: Using backend LokyBackend with 16 concurrent workers.\n",
      "[Parallel(n_jobs=16)]: Done  18 tasks      | elapsed:   12.9s\n",
      "[Parallel(n_jobs=16)]: Done  60 out of  60 | elapsed:   26.8s finished\n",
      "[Parallel(n_jobs=16)]: Using backend LokyBackend with 16 concurrent workers.\n",
      "[Parallel(n_jobs=16)]: Done  18 tasks      | elapsed:   35.1s\n",
      "[Parallel(n_jobs=16)]: Done  57 out of  57 | elapsed:  1.0min finished\n",
      "[Parallel(n_jobs=16)]: Using backend LokyBackend with 16 concurrent workers.\n",
      "[Parallel(n_jobs=16)]: Done  18 tasks      | elapsed:   11.0s\n",
      "[Parallel(n_jobs=16)]: Done  57 out of  57 | elapsed:   20.3s finished\n"
     ]
    },
    {
     "name": "stdout",
     "output_type": "stream",
     "text": [
      "Size:4.00 TPR:0.74 FPR:0.93\n"
     ]
    },
    {
     "name": "stderr",
     "output_type": "stream",
     "text": [
      "[Parallel(n_jobs=16)]: Using backend LokyBackend with 16 concurrent workers.\n",
      "[Parallel(n_jobs=16)]: Done  18 tasks      | elapsed:   44.1s\n",
      "[Parallel(n_jobs=16)]: Done  60 out of  60 | elapsed:  1.4min finished\n",
      "[Parallel(n_jobs=16)]: Using backend LokyBackend with 16 concurrent workers.\n",
      "[Parallel(n_jobs=16)]: Done  18 tasks      | elapsed:   13.2s\n",
      "[Parallel(n_jobs=16)]: Done  60 out of  60 | elapsed:   26.6s finished\n",
      "[Parallel(n_jobs=16)]: Using backend LokyBackend with 16 concurrent workers.\n",
      "[Parallel(n_jobs=16)]: Done  18 tasks      | elapsed:   35.4s\n",
      "[Parallel(n_jobs=16)]: Done  57 out of  57 | elapsed:  1.0min finished\n",
      "[Parallel(n_jobs=16)]: Using backend LokyBackend with 16 concurrent workers.\n",
      "[Parallel(n_jobs=16)]: Done  18 tasks      | elapsed:   11.4s\n",
      "[Parallel(n_jobs=16)]: Done  57 out of  57 | elapsed:   20.6s finished\n"
     ]
    },
    {
     "name": "stdout",
     "output_type": "stream",
     "text": [
      "Size:5.00 TPR:0.53 FPR:0.91\n"
     ]
    },
    {
     "name": "stderr",
     "output_type": "stream",
     "text": [
      "[Parallel(n_jobs=16)]: Using backend LokyBackend with 16 concurrent workers.\n",
      "[Parallel(n_jobs=16)]: Done  18 tasks      | elapsed:   43.8s\n",
      "[Parallel(n_jobs=16)]: Done  60 out of  60 | elapsed:  1.4min finished\n",
      "[Parallel(n_jobs=16)]: Using backend LokyBackend with 16 concurrent workers.\n",
      "[Parallel(n_jobs=16)]: Done  18 tasks      | elapsed:   10.9s\n",
      "[Parallel(n_jobs=16)]: Done  60 out of  60 | elapsed:   27.4s finished\n",
      "[Parallel(n_jobs=16)]: Using backend LokyBackend with 16 concurrent workers.\n",
      "[Parallel(n_jobs=16)]: Done  18 tasks      | elapsed:   35.3s\n",
      "[Parallel(n_jobs=16)]: Done  57 out of  57 | elapsed:  1.0min finished\n",
      "[Parallel(n_jobs=16)]: Using backend LokyBackend with 16 concurrent workers.\n",
      "[Parallel(n_jobs=16)]: Done  18 tasks      | elapsed:   11.4s\n",
      "[Parallel(n_jobs=16)]: Done  57 out of  57 | elapsed:   20.3s finished\n"
     ]
    },
    {
     "name": "stdout",
     "output_type": "stream",
     "text": [
      "Size:6.00 TPR:0.57 FPR:0.94\n"
     ]
    },
    {
     "name": "stderr",
     "output_type": "stream",
     "text": [
      "[Parallel(n_jobs=16)]: Using backend LokyBackend with 16 concurrent workers.\n",
      "[Parallel(n_jobs=16)]: Done  18 tasks      | elapsed:   43.1s\n",
      "[Parallel(n_jobs=16)]: Done  60 out of  60 | elapsed:  1.4min finished\n",
      "[Parallel(n_jobs=16)]: Using backend LokyBackend with 16 concurrent workers.\n",
      "[Parallel(n_jobs=16)]: Done  18 tasks      | elapsed:   11.3s\n",
      "[Parallel(n_jobs=16)]: Done  60 out of  60 | elapsed:   27.7s finished\n",
      "[Parallel(n_jobs=16)]: Using backend LokyBackend with 16 concurrent workers.\n",
      "[Parallel(n_jobs=16)]: Done  18 tasks      | elapsed:   35.4s\n",
      "[Parallel(n_jobs=16)]: Done  57 out of  57 | elapsed:  1.0min finished\n",
      "[Parallel(n_jobs=16)]: Using backend LokyBackend with 16 concurrent workers.\n",
      "[Parallel(n_jobs=16)]: Done  18 tasks      | elapsed:   11.4s\n",
      "[Parallel(n_jobs=16)]: Done  57 out of  57 | elapsed:   20.5s finished\n"
     ]
    },
    {
     "name": "stdout",
     "output_type": "stream",
     "text": [
      "Size:7.00 TPR:0.68 FPR:0.96\n"
     ]
    },
    {
     "name": "stderr",
     "output_type": "stream",
     "text": [
      "[Parallel(n_jobs=16)]: Using backend LokyBackend with 16 concurrent workers.\n",
      "[Parallel(n_jobs=16)]: Done  18 tasks      | elapsed:   44.0s\n",
      "[Parallel(n_jobs=16)]: Done  60 out of  60 | elapsed:  1.4min finished\n",
      "[Parallel(n_jobs=16)]: Using backend LokyBackend with 16 concurrent workers.\n",
      "[Parallel(n_jobs=16)]: Done  18 tasks      | elapsed:    9.6s\n",
      "[Parallel(n_jobs=16)]: Done  60 out of  60 | elapsed:   27.4s finished\n",
      "[Parallel(n_jobs=16)]: Using backend LokyBackend with 16 concurrent workers.\n",
      "[Parallel(n_jobs=16)]: Done  18 tasks      | elapsed:   35.2s\n",
      "[Parallel(n_jobs=16)]: Done  57 out of  57 | elapsed:  1.0min finished\n",
      "[Parallel(n_jobs=16)]: Using backend LokyBackend with 16 concurrent workers.\n",
      "[Parallel(n_jobs=16)]: Done  18 tasks      | elapsed:   11.3s\n",
      "[Parallel(n_jobs=16)]: Done  57 out of  57 | elapsed:   20.5s finished\n"
     ]
    },
    {
     "name": "stdout",
     "output_type": "stream",
     "text": [
      "Size:8.00 TPR:0.66 FPR:0.96\n"
     ]
    },
    {
     "name": "stderr",
     "output_type": "stream",
     "text": [
      "[Parallel(n_jobs=16)]: Using backend LokyBackend with 16 concurrent workers.\n",
      "[Parallel(n_jobs=16)]: Done  18 tasks      | elapsed:   43.5s\n",
      "[Parallel(n_jobs=16)]: Done  60 out of  60 | elapsed:  1.4min finished\n",
      "[Parallel(n_jobs=16)]: Using backend LokyBackend with 16 concurrent workers.\n",
      "[Parallel(n_jobs=16)]: Done  18 tasks      | elapsed:   10.0s\n",
      "[Parallel(n_jobs=16)]: Done  60 out of  60 | elapsed:   27.5s finished\n",
      "[Parallel(n_jobs=16)]: Using backend LokyBackend with 16 concurrent workers.\n",
      "[Parallel(n_jobs=16)]: Done  18 tasks      | elapsed:   35.7s\n",
      "[Parallel(n_jobs=16)]: Done  57 out of  57 | elapsed:  1.0min finished\n",
      "[Parallel(n_jobs=16)]: Using backend LokyBackend with 16 concurrent workers.\n",
      "[Parallel(n_jobs=16)]: Done  18 tasks      | elapsed:   11.3s\n",
      "[Parallel(n_jobs=16)]: Done  57 out of  57 | elapsed:   20.3s finished\n"
     ]
    },
    {
     "name": "stdout",
     "output_type": "stream",
     "text": [
      "Size:9.00 TPR:0.79 FPR:0.94\n"
     ]
    },
    {
     "name": "stderr",
     "output_type": "stream",
     "text": [
      "[Parallel(n_jobs=16)]: Using backend LokyBackend with 16 concurrent workers.\n",
      "[Parallel(n_jobs=16)]: Done  18 tasks      | elapsed:   43.6s\n",
      "[Parallel(n_jobs=16)]: Done  60 out of  60 | elapsed:  1.4min finished\n",
      "[Parallel(n_jobs=16)]: Using backend LokyBackend with 16 concurrent workers.\n",
      "[Parallel(n_jobs=16)]: Done  18 tasks      | elapsed:   10.4s\n",
      "[Parallel(n_jobs=16)]: Done  60 out of  60 | elapsed:   27.5s finished\n",
      "[Parallel(n_jobs=16)]: Using backend LokyBackend with 16 concurrent workers.\n",
      "[Parallel(n_jobs=16)]: Done  18 tasks      | elapsed:   35.4s\n",
      "[Parallel(n_jobs=16)]: Done  57 out of  57 | elapsed:  1.0min finished\n",
      "[Parallel(n_jobs=16)]: Using backend LokyBackend with 16 concurrent workers.\n",
      "[Parallel(n_jobs=16)]: Done  18 tasks      | elapsed:   11.3s\n",
      "[Parallel(n_jobs=16)]: Done  57 out of  57 | elapsed:   20.5s finished\n"
     ]
    },
    {
     "name": "stdout",
     "output_type": "stream",
     "text": [
      "Size:10.00 TPR:0.66 FPR:0.95\n"
     ]
    },
    {
     "name": "stderr",
     "output_type": "stream",
     "text": [
      "[Parallel(n_jobs=16)]: Using backend LokyBackend with 16 concurrent workers.\n",
      "[Parallel(n_jobs=16)]: Done  18 tasks      | elapsed:   43.7s\n",
      "[Parallel(n_jobs=16)]: Done  60 out of  60 | elapsed:  1.4min finished\n",
      "[Parallel(n_jobs=16)]: Using backend LokyBackend with 16 concurrent workers.\n",
      "[Parallel(n_jobs=16)]: Done  18 tasks      | elapsed:   10.0s\n",
      "[Parallel(n_jobs=16)]: Done  60 out of  60 | elapsed:   27.4s finished\n",
      "[Parallel(n_jobs=16)]: Using backend LokyBackend with 16 concurrent workers.\n",
      "[Parallel(n_jobs=16)]: Done  18 tasks      | elapsed:   35.4s\n",
      "[Parallel(n_jobs=16)]: Done  57 out of  57 | elapsed:  1.0min finished\n",
      "[Parallel(n_jobs=16)]: Using backend LokyBackend with 16 concurrent workers.\n",
      "[Parallel(n_jobs=16)]: Done  18 tasks      | elapsed:   11.3s\n",
      "[Parallel(n_jobs=16)]: Done  57 out of  57 | elapsed:   20.4s finished\n"
     ]
    },
    {
     "name": "stdout",
     "output_type": "stream",
     "text": [
      "Size:11.00 TPR:0.84 FPR:0.94\n"
     ]
    },
    {
     "name": "stderr",
     "output_type": "stream",
     "text": [
      "[Parallel(n_jobs=16)]: Using backend LokyBackend with 16 concurrent workers.\n",
      "[Parallel(n_jobs=16)]: Done  18 tasks      | elapsed:   43.1s\n",
      "[Parallel(n_jobs=16)]: Done  60 out of  60 | elapsed:  1.4min finished\n",
      "[Parallel(n_jobs=16)]: Using backend LokyBackend with 16 concurrent workers.\n",
      "[Parallel(n_jobs=16)]: Done  18 tasks      | elapsed:    9.3s\n",
      "[Parallel(n_jobs=16)]: Done  60 out of  60 | elapsed:   27.6s finished\n",
      "[Parallel(n_jobs=16)]: Using backend LokyBackend with 16 concurrent workers.\n",
      "[Parallel(n_jobs=16)]: Done  18 tasks      | elapsed:   35.2s\n",
      "[Parallel(n_jobs=16)]: Done  57 out of  57 | elapsed:  1.0min finished\n",
      "[Parallel(n_jobs=16)]: Using backend LokyBackend with 16 concurrent workers.\n",
      "[Parallel(n_jobs=16)]: Done  18 tasks      | elapsed:   11.3s\n",
      "[Parallel(n_jobs=16)]: Done  57 out of  57 | elapsed:   20.0s finished\n"
     ]
    },
    {
     "name": "stdout",
     "output_type": "stream",
     "text": [
      "Size:12.00 TPR:0.76 FPR:0.96\n"
     ]
    },
    {
     "name": "stderr",
     "output_type": "stream",
     "text": [
      "[Parallel(n_jobs=16)]: Using backend LokyBackend with 16 concurrent workers.\n",
      "[Parallel(n_jobs=16)]: Done  18 tasks      | elapsed:   43.2s\n",
      "[Parallel(n_jobs=16)]: Done  60 out of  60 | elapsed:  1.4min finished\n",
      "[Parallel(n_jobs=16)]: Using backend LokyBackend with 16 concurrent workers.\n",
      "[Parallel(n_jobs=16)]: Done  18 tasks      | elapsed:   11.6s\n",
      "[Parallel(n_jobs=16)]: Done  60 out of  60 | elapsed:   27.2s finished\n",
      "[Parallel(n_jobs=16)]: Using backend LokyBackend with 16 concurrent workers.\n",
      "[Parallel(n_jobs=16)]: Done  18 tasks      | elapsed:   35.5s\n",
      "[Parallel(n_jobs=16)]: Done  57 out of  57 | elapsed:  1.0min finished\n",
      "[Parallel(n_jobs=16)]: Using backend LokyBackend with 16 concurrent workers.\n",
      "[Parallel(n_jobs=16)]: Done  18 tasks      | elapsed:   11.2s\n",
      "[Parallel(n_jobs=16)]: Done  57 out of  57 | elapsed:   20.4s finished\n"
     ]
    },
    {
     "name": "stdout",
     "output_type": "stream",
     "text": [
      "Size:13.00 TPR:0.84 FPR:0.92\n"
     ]
    },
    {
     "name": "stderr",
     "output_type": "stream",
     "text": [
      "[Parallel(n_jobs=16)]: Using backend LokyBackend with 16 concurrent workers.\n",
      "[Parallel(n_jobs=16)]: Done  18 tasks      | elapsed:   43.6s\n",
      "[Parallel(n_jobs=16)]: Done  60 out of  60 | elapsed:  1.4min finished\n",
      "[Parallel(n_jobs=16)]: Using backend LokyBackend with 16 concurrent workers.\n",
      "[Parallel(n_jobs=16)]: Done  18 tasks      | elapsed:   11.6s\n",
      "[Parallel(n_jobs=16)]: Done  60 out of  60 | elapsed:   27.5s finished\n",
      "[Parallel(n_jobs=16)]: Using backend LokyBackend with 16 concurrent workers.\n",
      "[Parallel(n_jobs=16)]: Done  18 tasks      | elapsed:   35.5s\n",
      "[Parallel(n_jobs=16)]: Done  57 out of  57 | elapsed:  1.0min finished\n",
      "[Parallel(n_jobs=16)]: Using backend LokyBackend with 16 concurrent workers.\n",
      "[Parallel(n_jobs=16)]: Done  18 tasks      | elapsed:   11.0s\n",
      "[Parallel(n_jobs=16)]: Done  57 out of  57 | elapsed:   20.4s finished\n"
     ]
    },
    {
     "name": "stdout",
     "output_type": "stream",
     "text": [
      "Size:15.00 TPR:0.77 FPR:0.93\n"
     ]
    },
    {
     "name": "stderr",
     "output_type": "stream",
     "text": [
      "[Parallel(n_jobs=16)]: Using backend LokyBackend with 16 concurrent workers.\n",
      "[Parallel(n_jobs=16)]: Done  18 tasks      | elapsed:   43.6s\n",
      "[Parallel(n_jobs=16)]: Done  60 out of  60 | elapsed:  1.4min finished\n",
      "[Parallel(n_jobs=16)]: Using backend LokyBackend with 16 concurrent workers.\n",
      "[Parallel(n_jobs=16)]: Done  18 tasks      | elapsed:   13.2s\n",
      "[Parallel(n_jobs=16)]: Done  60 out of  60 | elapsed:   27.5s finished\n",
      "[Parallel(n_jobs=16)]: Using backend LokyBackend with 16 concurrent workers.\n",
      "[Parallel(n_jobs=16)]: Done  18 tasks      | elapsed:   35.3s\n",
      "[Parallel(n_jobs=16)]: Done  57 out of  57 | elapsed:  1.0min finished\n",
      "[Parallel(n_jobs=16)]: Using backend LokyBackend with 16 concurrent workers.\n",
      "[Parallel(n_jobs=16)]: Done  18 tasks      | elapsed:   11.3s\n",
      "[Parallel(n_jobs=16)]: Done  57 out of  57 | elapsed:   20.4s finished\n"
     ]
    },
    {
     "name": "stdout",
     "output_type": "stream",
     "text": [
      "Size:17.00 TPR:0.81 FPR:0.96\n"
     ]
    },
    {
     "name": "stderr",
     "output_type": "stream",
     "text": [
      "[Parallel(n_jobs=16)]: Using backend LokyBackend with 16 concurrent workers.\n",
      "[Parallel(n_jobs=16)]: Done  18 tasks      | elapsed:   42.8s\n",
      "[Parallel(n_jobs=16)]: Done  60 out of  60 | elapsed:  1.4min finished\n",
      "[Parallel(n_jobs=16)]: Using backend LokyBackend with 16 concurrent workers.\n",
      "[Parallel(n_jobs=16)]: Done  18 tasks      | elapsed:   14.5s\n",
      "[Parallel(n_jobs=16)]: Done  60 out of  60 | elapsed:   27.9s finished\n",
      "[Parallel(n_jobs=16)]: Using backend LokyBackend with 16 concurrent workers.\n",
      "[Parallel(n_jobs=16)]: Done  18 tasks      | elapsed:   35.5s\n",
      "[Parallel(n_jobs=16)]: Done  57 out of  57 | elapsed:  1.0min finished\n",
      "[Parallel(n_jobs=16)]: Using backend LokyBackend with 16 concurrent workers.\n",
      "[Parallel(n_jobs=16)]: Done  18 tasks      | elapsed:   11.1s\n",
      "[Parallel(n_jobs=16)]: Done  57 out of  57 | elapsed:   20.3s finished\n"
     ]
    },
    {
     "name": "stdout",
     "output_type": "stream",
     "text": [
      "Size:19.00 TPR:0.81 FPR:0.96\n"
     ]
    },
    {
     "name": "stderr",
     "output_type": "stream",
     "text": [
      "[Parallel(n_jobs=16)]: Using backend LokyBackend with 16 concurrent workers.\n",
      "[Parallel(n_jobs=16)]: Done  18 tasks      | elapsed:   43.8s\n",
      "[Parallel(n_jobs=16)]: Done  60 out of  60 | elapsed:  1.4min finished\n",
      "[Parallel(n_jobs=16)]: Using backend LokyBackend with 16 concurrent workers.\n",
      "[Parallel(n_jobs=16)]: Done  18 tasks      | elapsed:   12.0s\n",
      "[Parallel(n_jobs=16)]: Done  60 out of  60 | elapsed:   27.7s finished\n",
      "[Parallel(n_jobs=16)]: Using backend LokyBackend with 16 concurrent workers.\n",
      "[Parallel(n_jobs=16)]: Done  18 tasks      | elapsed:   35.5s\n",
      "[Parallel(n_jobs=16)]: Done  57 out of  57 | elapsed:  1.0min finished\n",
      "[Parallel(n_jobs=16)]: Using backend LokyBackend with 16 concurrent workers.\n",
      "[Parallel(n_jobs=16)]: Done  18 tasks      | elapsed:   11.1s\n",
      "[Parallel(n_jobs=16)]: Done  57 out of  57 | elapsed:   20.4s finished\n"
     ]
    },
    {
     "name": "stdout",
     "output_type": "stream",
     "text": [
      "Size:21.00 TPR:0.82 FPR:0.95\n"
     ]
    },
    {
     "name": "stderr",
     "output_type": "stream",
     "text": [
      "[Parallel(n_jobs=16)]: Using backend LokyBackend with 16 concurrent workers.\n",
      "[Parallel(n_jobs=16)]: Done  18 tasks      | elapsed:   43.4s\n",
      "[Parallel(n_jobs=16)]: Done  60 out of  60 | elapsed:  1.4min finished\n",
      "[Parallel(n_jobs=16)]: Using backend LokyBackend with 16 concurrent workers.\n",
      "[Parallel(n_jobs=16)]: Done  18 tasks      | elapsed:   13.2s\n",
      "[Parallel(n_jobs=16)]: Done  60 out of  60 | elapsed:   26.8s finished\n",
      "[Parallel(n_jobs=16)]: Using backend LokyBackend with 16 concurrent workers.\n",
      "[Parallel(n_jobs=16)]: Done  18 tasks      | elapsed:   35.6s\n",
      "[Parallel(n_jobs=16)]: Done  57 out of  57 | elapsed:  1.0min finished\n",
      "[Parallel(n_jobs=16)]: Using backend LokyBackend with 16 concurrent workers.\n",
      "[Parallel(n_jobs=16)]: Done  18 tasks      | elapsed:   11.4s\n",
      "[Parallel(n_jobs=16)]: Done  57 out of  57 | elapsed:   20.6s finished\n"
     ]
    },
    {
     "name": "stdout",
     "output_type": "stream",
     "text": [
      "Size:23.00 TPR:0.84 FPR:0.94\n"
     ]
    },
    {
     "name": "stderr",
     "output_type": "stream",
     "text": [
      "[Parallel(n_jobs=16)]: Done  60 out of  60 | elapsed:  1.4min finished\n",
      "[Parallel(n_jobs=16)]: Using backend LokyBackend with 16 concurrent workers.\n",
      "[Parallel(n_jobs=16)]: Done  18 tasks      | elapsed:   13.3s\n",
      "[Parallel(n_jobs=16)]: Done  60 out of  60 | elapsed:   26.8s finished\n",
      "[Parallel(n_jobs=16)]: Using backend LokyBackend with 16 concurrent workers.\n",
      "[Parallel(n_jobs=16)]: Done  18 tasks      | elapsed:   35.5s\n",
      "[Parallel(n_jobs=16)]: Done  57 out of  57 | elapsed:  1.0min finished\n",
      "[Parallel(n_jobs=16)]: Using backend LokyBackend with 16 concurrent workers.\n",
      "[Parallel(n_jobs=16)]: Done  18 tasks      | elapsed:   11.3s\n",
      "[Parallel(n_jobs=16)]: Done  57 out of  57 | elapsed:   20.3s finished\n"
     ]
    },
    {
     "name": "stdout",
     "output_type": "stream",
     "text": [
      "Size:26.00 TPR:0.89 FPR:0.95\n"
     ]
    },
    {
     "name": "stderr",
     "output_type": "stream",
     "text": [
      "[Parallel(n_jobs=16)]: Using backend LokyBackend with 16 concurrent workers.\n",
      "[Parallel(n_jobs=16)]: Done  18 tasks      | elapsed:   43.1s\n",
      "[Parallel(n_jobs=16)]: Done  60 out of  60 | elapsed:  1.4min finished\n",
      "[Parallel(n_jobs=16)]: Using backend LokyBackend with 16 concurrent workers.\n",
      "[Parallel(n_jobs=16)]: Done  18 tasks      | elapsed:   13.2s\n",
      "[Parallel(n_jobs=16)]: Done  60 out of  60 | elapsed:   26.9s finished\n",
      "[Parallel(n_jobs=16)]: Using backend LokyBackend with 16 concurrent workers.\n",
      "[Parallel(n_jobs=16)]: Done  18 tasks      | elapsed:   35.3s\n",
      "[Parallel(n_jobs=16)]: Done  57 out of  57 | elapsed:  1.0min finished\n",
      "[Parallel(n_jobs=16)]: Using backend LokyBackend with 16 concurrent workers.\n",
      "[Parallel(n_jobs=16)]: Done  18 tasks      | elapsed:   11.4s\n",
      "[Parallel(n_jobs=16)]: Done  57 out of  57 | elapsed:   20.5s finished\n"
     ]
    },
    {
     "name": "stdout",
     "output_type": "stream",
     "text": [
      "Size:28.00 TPR:0.84 FPR:0.93\n"
     ]
    },
    {
     "name": "stderr",
     "output_type": "stream",
     "text": [
      "[Parallel(n_jobs=16)]: Using backend LokyBackend with 16 concurrent workers.\n",
      "[Parallel(n_jobs=16)]: Done  18 tasks      | elapsed:   43.1s\n",
      "[Parallel(n_jobs=16)]: Done  60 out of  60 | elapsed:  1.4min finished\n",
      "[Parallel(n_jobs=16)]: Using backend LokyBackend with 16 concurrent workers.\n",
      "[Parallel(n_jobs=16)]: Done  18 tasks      | elapsed:   13.2s\n",
      "[Parallel(n_jobs=16)]: Done  60 out of  60 | elapsed:   26.5s finished\n",
      "[Parallel(n_jobs=16)]: Using backend LokyBackend with 16 concurrent workers.\n",
      "[Parallel(n_jobs=16)]: Done  18 tasks      | elapsed:   35.3s\n",
      "[Parallel(n_jobs=16)]: Done  57 out of  57 | elapsed:  1.0min finished\n",
      "[Parallel(n_jobs=16)]: Using backend LokyBackend with 16 concurrent workers.\n",
      "[Parallel(n_jobs=16)]: Done  18 tasks      | elapsed:   11.1s\n",
      "[Parallel(n_jobs=16)]: Done  57 out of  57 | elapsed:   20.5s finished\n"
     ]
    },
    {
     "name": "stdout",
     "output_type": "stream",
     "text": [
      "Size:31.00 TPR:0.92 FPR:0.96\n"
     ]
    },
    {
     "name": "stderr",
     "output_type": "stream",
     "text": [
      "[Parallel(n_jobs=16)]: Using backend LokyBackend with 16 concurrent workers.\n",
      "[Parallel(n_jobs=16)]: Done  18 tasks      | elapsed:   43.5s\n",
      "[Parallel(n_jobs=16)]: Done  60 out of  60 | elapsed:  1.4min finished\n",
      "[Parallel(n_jobs=16)]: Using backend LokyBackend with 16 concurrent workers.\n",
      "[Parallel(n_jobs=16)]: Done  18 tasks      | elapsed:   12.9s\n",
      "[Parallel(n_jobs=16)]: Done  60 out of  60 | elapsed:   26.8s finished\n",
      "[Parallel(n_jobs=16)]: Using backend LokyBackend with 16 concurrent workers.\n",
      "[Parallel(n_jobs=16)]: Done  18 tasks      | elapsed:   35.3s\n",
      "[Parallel(n_jobs=16)]: Done  57 out of  57 | elapsed:  1.0min finished\n",
      "[Parallel(n_jobs=16)]: Using backend LokyBackend with 16 concurrent workers.\n",
      "[Parallel(n_jobs=16)]: Done  18 tasks      | elapsed:   11.1s\n",
      "[Parallel(n_jobs=16)]: Done  57 out of  57 | elapsed:   20.3s finished\n"
     ]
    },
    {
     "name": "stdout",
     "output_type": "stream",
     "text": [
      "Size:35.00 TPR:0.89 FPR:0.95\n"
     ]
    },
    {
     "name": "stderr",
     "output_type": "stream",
     "text": [
      "[Parallel(n_jobs=16)]: Using backend LokyBackend with 16 concurrent workers.\n",
      "[Parallel(n_jobs=16)]: Done  18 tasks      | elapsed:   42.8s\n",
      "[Parallel(n_jobs=16)]: Done  60 out of  60 | elapsed:  1.4min finished\n",
      "[Parallel(n_jobs=16)]: Using backend LokyBackend with 16 concurrent workers.\n",
      "[Parallel(n_jobs=16)]: Done  18 tasks      | elapsed:   13.2s\n",
      "[Parallel(n_jobs=16)]: Done  60 out of  60 | elapsed:   27.0s finished\n",
      "[Parallel(n_jobs=16)]: Using backend LokyBackend with 16 concurrent workers.\n",
      "[Parallel(n_jobs=16)]: Done  18 tasks      | elapsed:   35.2s\n",
      "[Parallel(n_jobs=16)]: Done  57 out of  57 | elapsed:  1.0min finished\n",
      "[Parallel(n_jobs=16)]: Using backend LokyBackend with 16 concurrent workers.\n",
      "[Parallel(n_jobs=16)]: Done  18 tasks      | elapsed:   11.2s\n",
      "[Parallel(n_jobs=16)]: Done  57 out of  57 | elapsed:   20.4s finished\n"
     ]
    },
    {
     "name": "stdout",
     "output_type": "stream",
     "text": [
      "Size:39.00 TPR:0.88 FPR:0.94\n"
     ]
    },
    {
     "name": "stderr",
     "output_type": "stream",
     "text": [
      "[Parallel(n_jobs=16)]: Using backend LokyBackend with 16 concurrent workers.\n",
      "[Parallel(n_jobs=16)]: Done  18 tasks      | elapsed:   39.4s\n",
      "[Parallel(n_jobs=16)]: Done  60 out of  60 | elapsed:  1.4min finished\n",
      "[Parallel(n_jobs=16)]: Using backend LokyBackend with 16 concurrent workers.\n",
      "[Parallel(n_jobs=16)]: Done  18 tasks      | elapsed:   13.1s\n",
      "[Parallel(n_jobs=16)]: Done  60 out of  60 | elapsed:   27.0s finished\n",
      "[Parallel(n_jobs=16)]: Using backend LokyBackend with 16 concurrent workers.\n",
      "[Parallel(n_jobs=16)]: Done  18 tasks      | elapsed:   35.2s\n",
      "[Parallel(n_jobs=16)]: Done  57 out of  57 | elapsed:  1.0min finished\n",
      "[Parallel(n_jobs=16)]: Using backend LokyBackend with 16 concurrent workers.\n",
      "[Parallel(n_jobs=16)]: Done  18 tasks      | elapsed:   11.4s\n",
      "[Parallel(n_jobs=16)]: Done  57 out of  57 | elapsed:   20.3s finished\n"
     ]
    },
    {
     "name": "stdout",
     "output_type": "stream",
     "text": [
      "Size:43.00 TPR:0.92 FPR:0.93\n"
     ]
    },
    {
     "name": "stderr",
     "output_type": "stream",
     "text": [
      "[Parallel(n_jobs=16)]: Using backend LokyBackend with 16 concurrent workers.\n",
      "[Parallel(n_jobs=16)]: Done  18 tasks      | elapsed:   34.5s\n",
      "[Parallel(n_jobs=16)]: Done  60 out of  60 | elapsed:  1.4min finished\n",
      "[Parallel(n_jobs=16)]: Using backend LokyBackend with 16 concurrent workers.\n",
      "[Parallel(n_jobs=16)]: Done  18 tasks      | elapsed:   13.2s\n",
      "[Parallel(n_jobs=16)]: Done  60 out of  60 | elapsed:   26.8s finished\n",
      "[Parallel(n_jobs=16)]: Using backend LokyBackend with 16 concurrent workers.\n",
      "[Parallel(n_jobs=16)]: Done  18 tasks      | elapsed:   35.1s\n",
      "[Parallel(n_jobs=16)]: Done  57 out of  57 | elapsed:   59.8s finished\n",
      "[Parallel(n_jobs=16)]: Using backend LokyBackend with 16 concurrent workers.\n",
      "[Parallel(n_jobs=16)]: Done  18 tasks      | elapsed:   11.3s\n",
      "[Parallel(n_jobs=16)]: Done  57 out of  57 | elapsed:   20.4s finished\n"
     ]
    },
    {
     "name": "stdout",
     "output_type": "stream",
     "text": [
      "Size:48.00 TPR:0.94 FPR:0.95\n"
     ]
    },
    {
     "name": "stderr",
     "output_type": "stream",
     "text": [
      "[Parallel(n_jobs=16)]: Using backend LokyBackend with 16 concurrent workers.\n",
      "[Parallel(n_jobs=16)]: Done  18 tasks      | elapsed:   33.4s\n",
      "[Parallel(n_jobs=16)]: Done  60 out of  60 | elapsed:  1.4min finished\n",
      "[Parallel(n_jobs=16)]: Using backend LokyBackend with 16 concurrent workers.\n",
      "[Parallel(n_jobs=16)]: Done  18 tasks      | elapsed:   12.8s\n",
      "[Parallel(n_jobs=16)]: Done  60 out of  60 | elapsed:   26.8s finished\n",
      "[Parallel(n_jobs=16)]: Using backend LokyBackend with 16 concurrent workers.\n",
      "[Parallel(n_jobs=16)]: Done  18 tasks      | elapsed:   35.1s\n",
      "[Parallel(n_jobs=16)]: Done  57 out of  57 | elapsed:  1.0min finished\n",
      "[Parallel(n_jobs=16)]: Using backend LokyBackend with 16 concurrent workers.\n",
      "[Parallel(n_jobs=16)]: Done  18 tasks      | elapsed:   11.3s\n",
      "[Parallel(n_jobs=16)]: Done  57 out of  57 | elapsed:   20.2s finished\n"
     ]
    },
    {
     "name": "stdout",
     "output_type": "stream",
     "text": [
      "Size:53.00 TPR:0.95 FPR:0.96\n"
     ]
    },
    {
     "name": "stderr",
     "output_type": "stream",
     "text": [
      "[Parallel(n_jobs=16)]: Using backend LokyBackend with 16 concurrent workers.\n",
      "[Parallel(n_jobs=16)]: Done  18 tasks      | elapsed:   44.5s\n",
      "[Parallel(n_jobs=16)]: Done  60 out of  60 | elapsed:  1.4min finished\n",
      "[Parallel(n_jobs=16)]: Using backend LokyBackend with 16 concurrent workers.\n",
      "[Parallel(n_jobs=16)]: Done  18 tasks      | elapsed:   13.4s\n",
      "[Parallel(n_jobs=16)]: Done  60 out of  60 | elapsed:   26.6s finished\n",
      "[Parallel(n_jobs=16)]: Using backend LokyBackend with 16 concurrent workers.\n",
      "[Parallel(n_jobs=16)]: Done  18 tasks      | elapsed:   35.2s\n",
      "[Parallel(n_jobs=16)]: Done  57 out of  57 | elapsed:   59.8s finished\n",
      "[Parallel(n_jobs=16)]: Using backend LokyBackend with 16 concurrent workers.\n",
      "[Parallel(n_jobs=16)]: Done  18 tasks      | elapsed:   11.2s\n",
      "[Parallel(n_jobs=16)]: Done  57 out of  57 | elapsed:   20.5s finished\n"
     ]
    },
    {
     "name": "stdout",
     "output_type": "stream",
     "text": [
      "Size:59.00 TPR:0.94 FPR:0.95\n"
     ]
    },
    {
     "name": "stderr",
     "output_type": "stream",
     "text": [
      "[Parallel(n_jobs=16)]: Using backend LokyBackend with 16 concurrent workers.\n",
      "[Parallel(n_jobs=16)]: Done  18 tasks      | elapsed:   43.5s\n",
      "[Parallel(n_jobs=16)]: Done  60 out of  60 | elapsed:  1.4min finished\n",
      "[Parallel(n_jobs=16)]: Using backend LokyBackend with 16 concurrent workers.\n",
      "[Parallel(n_jobs=16)]: Done  18 tasks      | elapsed:   12.9s\n",
      "[Parallel(n_jobs=16)]: Done  60 out of  60 | elapsed:   26.6s finished\n",
      "[Parallel(n_jobs=16)]: Using backend LokyBackend with 16 concurrent workers.\n",
      "[Parallel(n_jobs=16)]: Done  18 tasks      | elapsed:   35.3s\n",
      "[Parallel(n_jobs=16)]: Done  57 out of  57 | elapsed:   60.0s finished\n",
      "[Parallel(n_jobs=16)]: Using backend LokyBackend with 16 concurrent workers.\n",
      "[Parallel(n_jobs=16)]: Done  18 tasks      | elapsed:   11.3s\n",
      "[Parallel(n_jobs=16)]: Done  57 out of  57 | elapsed:   20.5s finished\n"
     ]
    },
    {
     "name": "stdout",
     "output_type": "stream",
     "text": [
      "Size:65.00 TPR:0.95 FPR:0.94\n"
     ]
    },
    {
     "name": "stderr",
     "output_type": "stream",
     "text": [
      "[Parallel(n_jobs=16)]: Using backend LokyBackend with 16 concurrent workers.\n",
      "[Parallel(n_jobs=16)]: Done  18 tasks      | elapsed:   43.4s\n",
      "[Parallel(n_jobs=16)]: Done  60 out of  60 | elapsed:  1.4min finished\n",
      "[Parallel(n_jobs=16)]: Using backend LokyBackend with 16 concurrent workers.\n",
      "[Parallel(n_jobs=16)]: Done  18 tasks      | elapsed:   12.5s\n",
      "[Parallel(n_jobs=16)]: Done  60 out of  60 | elapsed:   26.7s finished\n",
      "[Parallel(n_jobs=16)]: Using backend LokyBackend with 16 concurrent workers.\n",
      "[Parallel(n_jobs=16)]: Done  18 tasks      | elapsed:   35.1s\n",
      "[Parallel(n_jobs=16)]: Done  57 out of  57 | elapsed:  1.0min finished\n",
      "[Parallel(n_jobs=16)]: Using backend LokyBackend with 16 concurrent workers.\n",
      "[Parallel(n_jobs=16)]: Done  18 tasks      | elapsed:   11.4s\n",
      "[Parallel(n_jobs=16)]: Done  57 out of  57 | elapsed:   21.3s finished\n"
     ]
    },
    {
     "name": "stdout",
     "output_type": "stream",
     "text": [
      "Size:73.00 TPR:0.96 FPR:0.96\n"
     ]
    },
    {
     "name": "stderr",
     "output_type": "stream",
     "text": [
      "[Parallel(n_jobs=16)]: Using backend LokyBackend with 16 concurrent workers.\n",
      "[Parallel(n_jobs=16)]: Done  18 tasks      | elapsed:   43.4s\n",
      "[Parallel(n_jobs=16)]: Done  60 out of  60 | elapsed:  1.4min finished\n",
      "[Parallel(n_jobs=16)]: Using backend LokyBackend with 16 concurrent workers.\n",
      "[Parallel(n_jobs=16)]: Done  18 tasks      | elapsed:   13.4s\n",
      "[Parallel(n_jobs=16)]: Done  60 out of  60 | elapsed:   26.8s finished\n",
      "[Parallel(n_jobs=16)]: Using backend LokyBackend with 16 concurrent workers.\n",
      "[Parallel(n_jobs=16)]: Done  18 tasks      | elapsed:   34.9s\n",
      "[Parallel(n_jobs=16)]: Done  57 out of  57 | elapsed:  1.0min finished\n",
      "[Parallel(n_jobs=16)]: Using backend LokyBackend with 16 concurrent workers.\n",
      "[Parallel(n_jobs=16)]: Done  18 tasks      | elapsed:   11.3s\n",
      "[Parallel(n_jobs=16)]: Done  57 out of  57 | elapsed:   21.4s finished\n"
     ]
    },
    {
     "name": "stdout",
     "output_type": "stream",
     "text": [
      "Size:81.00 TPR:0.97 FPR:0.95\n"
     ]
    },
    {
     "name": "stderr",
     "output_type": "stream",
     "text": [
      "[Parallel(n_jobs=16)]: Using backend LokyBackend with 16 concurrent workers.\n",
      "[Parallel(n_jobs=16)]: Done  18 tasks      | elapsed:   43.4s\n",
      "[Parallel(n_jobs=16)]: Done  60 out of  60 | elapsed:  1.3min finished\n",
      "[Parallel(n_jobs=16)]: Using backend LokyBackend with 16 concurrent workers.\n",
      "[Parallel(n_jobs=16)]: Done  18 tasks      | elapsed:   13.4s\n",
      "[Parallel(n_jobs=16)]: Done  60 out of  60 | elapsed:   26.8s finished\n",
      "[Parallel(n_jobs=16)]: Using backend LokyBackend with 16 concurrent workers.\n",
      "[Parallel(n_jobs=16)]: Done  18 tasks      | elapsed:   35.0s\n",
      "[Parallel(n_jobs=16)]: Done  57 out of  57 | elapsed:  1.0min finished\n",
      "[Parallel(n_jobs=16)]: Using backend LokyBackend with 16 concurrent workers.\n",
      "[Parallel(n_jobs=16)]: Done  18 tasks      | elapsed:    9.4s\n",
      "[Parallel(n_jobs=16)]: Done  57 out of  57 | elapsed:   21.2s finished\n"
     ]
    },
    {
     "name": "stdout",
     "output_type": "stream",
     "text": [
      "Size:89.00 TPR:0.97 FPR:0.95\n"
     ]
    },
    {
     "name": "stderr",
     "output_type": "stream",
     "text": [
      "[Parallel(n_jobs=16)]: Using backend LokyBackend with 16 concurrent workers.\n",
      "[Parallel(n_jobs=16)]: Done  18 tasks      | elapsed:   43.5s\n",
      "[Parallel(n_jobs=16)]: Done  60 out of  60 | elapsed:  1.4min finished\n",
      "[Parallel(n_jobs=16)]: Using backend LokyBackend with 16 concurrent workers.\n",
      "[Parallel(n_jobs=16)]: Done  18 tasks      | elapsed:   13.5s\n",
      "[Parallel(n_jobs=16)]: Done  60 out of  60 | elapsed:   26.8s finished\n",
      "[Parallel(n_jobs=16)]: Using backend LokyBackend with 16 concurrent workers.\n",
      "[Parallel(n_jobs=16)]: Done  18 tasks      | elapsed:   35.2s\n",
      "[Parallel(n_jobs=16)]: Done  57 out of  57 | elapsed:   59.9s finished\n",
      "[Parallel(n_jobs=16)]: Using backend LokyBackend with 16 concurrent workers.\n",
      "[Parallel(n_jobs=16)]: Done  18 tasks      | elapsed:   10.4s\n",
      "[Parallel(n_jobs=16)]: Done  57 out of  57 | elapsed:   21.2s finished\n"
     ]
    },
    {
     "name": "stdout",
     "output_type": "stream",
     "text": [
      "Size:99.00 TPR:0.97 FPR:0.95\n"
     ]
    },
    {
     "name": "stderr",
     "output_type": "stream",
     "text": [
      "[Parallel(n_jobs=16)]: Using backend LokyBackend with 16 concurrent workers.\n",
      "[Parallel(n_jobs=16)]: Done  18 tasks      | elapsed:   43.6s\n",
      "[Parallel(n_jobs=16)]: Done  60 out of  60 | elapsed:  1.4min finished\n",
      "[Parallel(n_jobs=16)]: Using backend LokyBackend with 16 concurrent workers.\n",
      "[Parallel(n_jobs=16)]: Done  18 tasks      | elapsed:   13.4s\n",
      "[Parallel(n_jobs=16)]: Done  60 out of  60 | elapsed:   26.7s finished\n",
      "[Parallel(n_jobs=16)]: Using backend LokyBackend with 16 concurrent workers.\n",
      "[Parallel(n_jobs=16)]: Done  18 tasks      | elapsed:   35.3s\n",
      "[Parallel(n_jobs=16)]: Done  57 out of  57 | elapsed:  1.0min finished\n",
      "[Parallel(n_jobs=16)]: Using backend LokyBackend with 16 concurrent workers.\n",
      "[Parallel(n_jobs=16)]: Done  18 tasks      | elapsed:   10.1s\n",
      "[Parallel(n_jobs=16)]: Done  57 out of  57 | elapsed:   20.7s finished\n"
     ]
    },
    {
     "name": "stdout",
     "output_type": "stream",
     "text": [
      "Size:110.00 TPR:0.96 FPR:0.95\n"
     ]
    },
    {
     "name": "stderr",
     "output_type": "stream",
     "text": [
      "[Parallel(n_jobs=16)]: Using backend LokyBackend with 16 concurrent workers.\n",
      "[Parallel(n_jobs=16)]: Done  18 tasks      | elapsed:   43.7s\n",
      "[Parallel(n_jobs=16)]: Done  60 out of  60 | elapsed:  1.4min finished\n",
      "[Parallel(n_jobs=16)]: Using backend LokyBackend with 16 concurrent workers.\n",
      "[Parallel(n_jobs=16)]: Done  18 tasks      | elapsed:   13.3s\n",
      "[Parallel(n_jobs=16)]: Done  60 out of  60 | elapsed:   26.8s finished\n",
      "[Parallel(n_jobs=16)]: Using backend LokyBackend with 16 concurrent workers.\n",
      "[Parallel(n_jobs=16)]: Done  18 tasks      | elapsed:   35.3s\n",
      "[Parallel(n_jobs=16)]: Done  57 out of  57 | elapsed:  1.0min finished\n",
      "[Parallel(n_jobs=16)]: Using backend LokyBackend with 16 concurrent workers.\n",
      "[Parallel(n_jobs=16)]: Done  18 tasks      | elapsed:   12.4s\n",
      "[Parallel(n_jobs=16)]: Done  57 out of  57 | elapsed:   21.6s finished\n"
     ]
    },
    {
     "name": "stdout",
     "output_type": "stream",
     "text": [
      "Size:122.00 TPR:0.98 FPR:0.96\n"
     ]
    },
    {
     "name": "stderr",
     "output_type": "stream",
     "text": [
      "[Parallel(n_jobs=16)]: Using backend LokyBackend with 16 concurrent workers.\n"
     ]
    }
   ],
   "source": [
    "\n",
    "# get four more samples to average \n",
    "all_samples = {}\n",
    "\n",
    "for i in range(5):\n",
    "    \n",
    "    all_samples[i] = get_repo_size_accuracy(size_rng)\n",
    "    u.save_obj(all_samples, 'ECCV20_figures', 'accuracyVSrepoSize')\n"
   ]
  },
  {
   "cell_type": "code",
   "execution_count": null,
   "metadata": {},
   "outputs": [],
   "source": []
  }
 ],
 "metadata": {
  "kernelspec": {
   "display_name": "Python 3",
   "language": "python",
   "name": "python3"
  },
  "language_info": {
   "codemirror_mode": {
    "name": "ipython",
    "version": 3
   },
   "file_extension": ".py",
   "mimetype": "text/x-python",
   "name": "python",
   "nbconvert_exporter": "python",
   "pygments_lexer": "ipython3",
   "version": "3.6.9"
  }
 },
 "nbformat": 4,
 "nbformat_minor": 2
}
