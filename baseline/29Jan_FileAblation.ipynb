{
 "cells": [
  {
   "cell_type": "code",
   "execution_count": 1,
   "metadata": {},
   "outputs": [],
   "source": [
    "%load_ext autoreload\n",
    "%autoreload 2\n",
    "\n",
    "from test_repo_biometric import *\n",
    "import numpy as np\n",
    "import seaborn as sns\n",
    "from sklearn.metrics import roc_curve, auc"
   ]
  },
  {
   "cell_type": "code",
   "execution_count": 2,
   "metadata": {},
   "outputs": [],
   "source": [
    "# get the file names\n",
    "train_files, test_files = train_test_all_ids('/data/home/shruti/voxceleb/vgg/leaders/')\n",
    "\n",
    "# we need control over how much effect the context of the videos \n",
    "# and how much data we need to make fabnet behavior work\n",
    "\n",
    "# this can be done only for obama (or few people with videos in different context)\n",
    "# control to test on random videos and add the number of videos of obama on the fly..\n"
   ]
  },
  {
   "cell_type": "code",
   "execution_count": 3,
   "metadata": {},
   "outputs": [],
   "source": [
    "# get obama_interview_files\n",
    "# interface to test obama files with only N number of train videos in the repo\n",
    "# then use the entire obama data to "
   ]
  },
  {
   "cell_type": "code",
   "execution_count": 4,
   "metadata": {},
   "outputs": [],
   "source": [
    "\n",
    "# create a train repo with all the original people\n",
    "def get_train_repo_bo(params):\n",
    "    \n",
    "    out_repo = {}\n",
    "    # leaders\n",
    "    out_repo = build_repo(params['bsfldr'], \n",
    "                      {f: train_files[f] for f in ['br','bs','cb','dt','ew','hc','jb','kh', 'pb',\n",
    "                                                  'bo_imposter','bs_imposter','ew_imposter','dt_imposter',\n",
    "                                                   'hc_imposter', 'jb_imposter']}, \n",
    "                      {'frames': params['frames'], 'step': params['steps'], 'pool_func': np.mean, \n",
    "                       'N': 5000, 'n1':0, 'n2':1}, \n",
    "                      in_dict=out_repo)\n",
    "    \n",
    "    \n",
    "    # ff original\n",
    "    out_repo = build_repo(params['bsfldr'], \n",
    "                  {'FF_{0:03d}'.format(f): train_files['FF_{0:03d}'.format(f)] for f in range(1000)}, \n",
    "                  {'frames': params['frames'], 'step': params['steps'], 'pool_func': np.mean, \n",
    "                   'N': 5000, 'n1':0, 'n2':0.5}, \n",
    "                  in_dict=out_repo)\n",
    "\n",
    "    # Google \n",
    "    out_repo = build_repo(params['bsfldr'], \n",
    "                  {'GG_{0:02d}'.format(f+1): train_files['GG_{0:02d}'.format(f+1)] for f in range(28)}, \n",
    "                  {'frames': params['frames'], 'step': params['steps'], 'pool_func': np.mean, \n",
    "                   'N': 5000, 'n1':0, 'n2':1}, \n",
    "                  in_dict=out_repo)\n",
    "\n",
    "    return out_repo\n"
   ]
  },
  {
   "cell_type": "code",
   "execution_count": 10,
   "metadata": {},
   "outputs": [],
   "source": [
    "\n",
    "def get_result_df_bo(in_train_repo, params, bo_test_files):\n",
    "    \n",
    "    out_result_df = {}\n",
    "    for r_or_f in ['real', 'fake']:\n",
    "\n",
    "        r_or_f_res = {}\n",
    "        \n",
    "        for ids in bo_test_files:\n",
    "            cur_test = {}\n",
    "            cur_test = build_repo(params['bsfldr'], \n",
    "                                  {ids: test_files[r_or_f][ids]}, \n",
    "                                  {'frames': params['frames'], 'step': params['steps'], \n",
    "                                   'pool_func': np.mean, 'N': 5000, \n",
    "                                   'n1':0.5 if 'FF_' in ids else 0, 'n2':1}, \n",
    "                                  in_dict=cur_test)\n",
    "\n",
    "            cur_max, cur_pred_id = get_repo_dist(in_train_repo, cur_test[ids])\n",
    "            r_or_f_res[ids] = pd.DataFrame(data=cur_max, columns=['dist'])\n",
    "            r_or_f_res[ids]['predLabel'] = cur_pred_id\n",
    "            r_or_f_res[ids]['actualLabel'] = ids\n",
    "            r_or_f_res[ids]['RealFake'] = r_or_f\n",
    "\n",
    "        out_result_df[r_or_f] = pd.concat([r_or_f_res[f] for f in ['bo']], ignore_index=True, sort=False)\n",
    "\n",
    "    return pd.concat([out_result_df[f] for f in ['real', 'fake']], ignore_index=True, sort=False)\n"
   ]
  },
  {
   "cell_type": "code",
   "execution_count": 21,
   "metadata": {},
   "outputs": [],
   "source": [
    "def get_result_rndm_files(in_train_repo, params, bo_test_files, real_fake):\n",
    "    \n",
    "    cur_test = {}\n",
    "    cur_test = build_repo(params['bsfldr'], \n",
    "                          {'bo': bo_test_files}, \n",
    "                          {'frames': params['frames'], 'step': params['steps'], \n",
    "                           'pool_func': np.mean, 'N': 5000, \n",
    "                           'n1':0, 'n2':1}, \n",
    "                          in_dict=cur_test)\n",
    "\n",
    "    cur_max, cur_pred_id = get_repo_dist(in_train_repo, cur_test['bo'])\n",
    "    out_result_df = pd.DataFrame(data=cur_max, columns=['dist'])\n",
    "    out_result_df['predLabel'] = cur_pred_id\n",
    "    out_result_df['actualLabel'] = 'bo'\n",
    "    out_result_df['RealFake'] = real_fake\n",
    "\n",
    "    return out_result_df\n"
   ]
  },
  {
   "cell_type": "code",
   "execution_count": 7,
   "metadata": {},
   "outputs": [],
   "source": [
    "\n",
    "def get_discrepany_accuracy(df1, df2, real_nm, fake_nm):\n",
    "    \n",
    "    out_result = np.zeros((2,)) # true positive vs true negatives\n",
    "    \n",
    "    # real accuracy df1\n",
    "    for k in real_nm:\n",
    "        \n",
    "        cur_df1 = df1[(df1['actualLabel']==k) & (df1['RealFake']=='real')]\n",
    "        cur_df2 = df2[(df2['actualLabel']==k) & (df2['RealFake']=='real')]\n",
    "        n = np.min([len(cur_df1), len(cur_df2)])\n",
    "        cur_df1 = cur_df1.iloc[:n, :].copy()\n",
    "        cur_df2 = cur_df2.iloc[:n, :].copy()\n",
    "        \n",
    "        # real prediction count\n",
    "        out_result[0] = len(np.argwhere((np.array(cur_df1['predLabel']) == np.array(cur_df1['actualLabel']))\n",
    "                    & (np.array(cur_df2['predLabel']) == np.array(cur_df2['actualLabel']))).ravel())*100/n\n",
    "    \n",
    "    for k in fake_nm:\n",
    "        \n",
    "        cur_df1 = df1[(df1['actualLabel']==k) & (df1['RealFake']=='fake')]\n",
    "        cur_df2 = df2[(df2['actualLabel']==k) & (df2['RealFake']=='fake')]\n",
    "        n = np.min([len(cur_df1), len(cur_df2)])\n",
    "        cur_df1 = cur_df1.iloc[:n, :].copy()\n",
    "        cur_df2 = cur_df2.iloc[:n, :].copy()\n",
    "        \n",
    "        # real prediction count\n",
    "        out_result[1] = len(np.argwhere((np.array(cur_df1['predLabel']) != np.array(cur_df1['actualLabel']))\n",
    "                    | (np.array(cur_df2['predLabel']) != np.array(cur_df2['actualLabel']))).ravel())*100/n\n",
    "            \n",
    "    return out_result\n"
   ]
  },
  {
   "cell_type": "markdown",
   "metadata": {},
   "source": [
    "# VGG + Fabnet Metric"
   ]
  },
  {
   "cell_type": "code",
   "execution_count": 25,
   "metadata": {},
   "outputs": [],
   "source": [
    "Ns = range(1, 5000, 200)\n",
    "N_result = np.zeros((len(Ns), 3)) # N, real acc, fake acc\n",
    "\n",
    "fabnet_repo = get_train_repo_bo({'istrain':True, 'bsfldr':'/data/home/shruti/voxceleb/fabnet_metric/', \n",
    "                              'frames':1, 'steps':1})\n",
    "vgg_repo = get_train_repo_bo({'istrain':True, 'bsfldr':'/data/home/shruti/voxceleb/vgg/leaders/', \n",
    "                              'frames':100, 'steps':5})"
   ]
  },
  {
   "cell_type": "code",
   "execution_count": 26,
   "metadata": {},
   "outputs": [
    {
     "name": "stdout",
     "output_type": "stream",
     "text": [
      "vgg 1 fabnet 1\n",
      "1 [  3.94 100.  ]\n",
      "vgg 201 fabnet 201\n",
      "201 [ 96.3 100. ]\n",
      "vgg 401 fabnet 401\n",
      "601 [ 98.84 100.  ]\n",
      "vgg 801 fabnet 801\n",
      "801 [ 99.02 100.  ]\n",
      "vgg 1001 fabnet 1001\n",
      "1001 [ 99.2 100. ]\n",
      "vgg 1201 fabnet 1201\n",
      "1201 [ 99.32 100.  ]\n",
      "vgg 1401 fabnet 1401\n",
      "1401 [ 99.4 100. ]\n",
      "vgg 1601 fabnet 1601\n",
      "1601 [ 99.54 100.  ]\n",
      "vgg 1801 fabnet 1801\n",
      "1801 [ 99.54 100.  ]\n",
      "vgg 2001 fabnet 2001\n",
      "2001 [ 99.56 100.  ]\n",
      "vgg 2201 fabnet 2201\n",
      "2201 [ 99.68 100.  ]\n",
      "vgg 2401 fabnet 2401\n",
      "2401 [ 99.7 100. ]\n",
      "vgg 2601 fabnet 2601\n",
      "2601 [ 99.7 100. ]\n",
      "vgg 2801 fabnet 2801\n"
     ]
    },
    {
     "ename": "KeyboardInterrupt",
     "evalue": "",
     "output_type": "error",
     "traceback": [
      "\u001b[0;31m---------------------------------------------------------------------------\u001b[0m",
      "\u001b[0;31mKeyboardInterrupt\u001b[0m                         Traceback (most recent call last)",
      "\u001b[0;32m<ipython-input-26-eea23032310c>\u001b[0m in \u001b[0;36m<module>\u001b[0;34m\u001b[0m\n\u001b[1;32m     15\u001b[0m \u001b[0;34m\u001b[0m\u001b[0m\n\u001b[1;32m     16\u001b[0m     vgg_result = get_result_df_bo(vgg_repo, {'istrain':True, 'bsfldr':'/data/home/shruti/voxceleb/vgg/leaders/', \n\u001b[0;32m---> 17\u001b[0;31m                                              'frames':100, 'steps':5}, ['bo'])\n\u001b[0m\u001b[1;32m     18\u001b[0m     fabnet_result = get_result_df_bo(fabnet_repo, {'istrain':False, 'bsfldr':'/data/home/shruti/voxceleb/fabnet_metric/', \n\u001b[1;32m     19\u001b[0m                                                    'frames':1, 'steps':1}, ['bo'])\n",
      "\u001b[0;32m<ipython-input-10-93b0829de1f6>\u001b[0m in \u001b[0;36mget_result_df_bo\u001b[0;34m(in_train_repo, params, bo_test_files)\u001b[0m\n\u001b[1;32m     15\u001b[0m                                   in_dict=cur_test)\n\u001b[1;32m     16\u001b[0m \u001b[0;34m\u001b[0m\u001b[0m\n\u001b[0;32m---> 17\u001b[0;31m             \u001b[0mcur_max\u001b[0m\u001b[0;34m,\u001b[0m \u001b[0mcur_pred_id\u001b[0m \u001b[0;34m=\u001b[0m \u001b[0mget_repo_dist\u001b[0m\u001b[0;34m(\u001b[0m\u001b[0min_train_repo\u001b[0m\u001b[0;34m,\u001b[0m \u001b[0mcur_test\u001b[0m\u001b[0;34m[\u001b[0m\u001b[0mids\u001b[0m\u001b[0;34m]\u001b[0m\u001b[0;34m)\u001b[0m\u001b[0;34m\u001b[0m\u001b[0;34m\u001b[0m\u001b[0m\n\u001b[0m\u001b[1;32m     18\u001b[0m             \u001b[0mr_or_f_res\u001b[0m\u001b[0;34m[\u001b[0m\u001b[0mids\u001b[0m\u001b[0;34m]\u001b[0m \u001b[0;34m=\u001b[0m \u001b[0mpd\u001b[0m\u001b[0;34m.\u001b[0m\u001b[0mDataFrame\u001b[0m\u001b[0;34m(\u001b[0m\u001b[0mdata\u001b[0m\u001b[0;34m=\u001b[0m\u001b[0mcur_max\u001b[0m\u001b[0;34m,\u001b[0m \u001b[0mcolumns\u001b[0m\u001b[0;34m=\u001b[0m\u001b[0;34m[\u001b[0m\u001b[0;34m'dist'\u001b[0m\u001b[0;34m]\u001b[0m\u001b[0;34m)\u001b[0m\u001b[0;34m\u001b[0m\u001b[0;34m\u001b[0m\u001b[0m\n\u001b[1;32m     19\u001b[0m             \u001b[0mr_or_f_res\u001b[0m\u001b[0;34m[\u001b[0m\u001b[0mids\u001b[0m\u001b[0;34m]\u001b[0m\u001b[0;34m[\u001b[0m\u001b[0;34m'predLabel'\u001b[0m\u001b[0;34m]\u001b[0m \u001b[0;34m=\u001b[0m \u001b[0mcur_pred_id\u001b[0m\u001b[0;34m\u001b[0m\u001b[0;34m\u001b[0m\u001b[0m\n",
      "\u001b[0;32m/data/home/shruti/voxceleb/motion_signature/baseline/test_repo_biometric.py\u001b[0m in \u001b[0;36mget_repo_dist\u001b[0;34m(in_repo, test_emb, k)\u001b[0m\n\u001b[1;32m    537\u001b[0m             \u001b[0;32mcontinue\u001b[0m\u001b[0;34m\u001b[0m\u001b[0;34m\u001b[0m\u001b[0m\n\u001b[1;32m    538\u001b[0m \u001b[0;34m\u001b[0m\u001b[0m\n\u001b[0;32m--> 539\u001b[0;31m         \u001b[0msim_mat\u001b[0m \u001b[0;34m=\u001b[0m \u001b[0mcosine_similarity\u001b[0m\u001b[0;34m(\u001b[0m\u001b[0min_repo\u001b[0m\u001b[0;34m[\u001b[0m\u001b[0mi\u001b[0m\u001b[0;34m]\u001b[0m\u001b[0;34m[\u001b[0m\u001b[0mnn_id\u001b[0m\u001b[0;34m,\u001b[0m \u001b[0;34m:\u001b[0m\u001b[0;34m]\u001b[0m\u001b[0;34m,\u001b[0m \u001b[0mtest_emb\u001b[0m\u001b[0;34m[\u001b[0m\u001b[0mnn_id_tst\u001b[0m\u001b[0;34m,\u001b[0m \u001b[0;34m:\u001b[0m\u001b[0;34m]\u001b[0m\u001b[0;34m,\u001b[0m \u001b[0mdense_output\u001b[0m\u001b[0;34m=\u001b[0m\u001b[0;32mTrue\u001b[0m\u001b[0;34m)\u001b[0m\u001b[0;34m\u001b[0m\u001b[0;34m\u001b[0m\u001b[0m\n\u001b[0m\u001b[1;32m    540\u001b[0m \u001b[0;34m\u001b[0m\u001b[0m\n\u001b[1;32m    541\u001b[0m         \u001b[0;31m# majority\u001b[0m\u001b[0;34m\u001b[0m\u001b[0;34m\u001b[0m\u001b[0;34m\u001b[0m\u001b[0m\n",
      "\u001b[0;32m/data/opt/voxceleb/lib/python3.6/site-packages/sklearn/metrics/pairwise.py\u001b[0m in \u001b[0;36mcosine_similarity\u001b[0;34m(X, Y, dense_output)\u001b[0m\n\u001b[1;32m   1031\u001b[0m         \u001b[0mY_normalized\u001b[0m \u001b[0;34m=\u001b[0m \u001b[0mX_normalized\u001b[0m\u001b[0;34m\u001b[0m\u001b[0;34m\u001b[0m\u001b[0m\n\u001b[1;32m   1032\u001b[0m     \u001b[0;32melse\u001b[0m\u001b[0;34m:\u001b[0m\u001b[0;34m\u001b[0m\u001b[0;34m\u001b[0m\u001b[0m\n\u001b[0;32m-> 1033\u001b[0;31m         \u001b[0mY_normalized\u001b[0m \u001b[0;34m=\u001b[0m \u001b[0mnormalize\u001b[0m\u001b[0;34m(\u001b[0m\u001b[0mY\u001b[0m\u001b[0;34m,\u001b[0m \u001b[0mcopy\u001b[0m\u001b[0;34m=\u001b[0m\u001b[0;32mTrue\u001b[0m\u001b[0;34m)\u001b[0m\u001b[0;34m\u001b[0m\u001b[0;34m\u001b[0m\u001b[0m\n\u001b[0m\u001b[1;32m   1034\u001b[0m \u001b[0;34m\u001b[0m\u001b[0m\n\u001b[1;32m   1035\u001b[0m     K = safe_sparse_dot(X_normalized, Y_normalized.T,\n",
      "\u001b[0;32m/data/opt/voxceleb/lib/python3.6/site-packages/sklearn/preprocessing/data.py\u001b[0m in \u001b[0;36mnormalize\u001b[0;34m(X, norm, axis, copy, return_norm)\u001b[0m\n\u001b[1;32m   1612\u001b[0m \u001b[0;34m\u001b[0m\u001b[0m\n\u001b[1;32m   1613\u001b[0m     X = check_array(X, sparse_format, copy=copy,\n\u001b[0;32m-> 1614\u001b[0;31m                     estimator='the normalize function', dtype=FLOAT_DTYPES)\n\u001b[0m\u001b[1;32m   1615\u001b[0m     \u001b[0;32mif\u001b[0m \u001b[0maxis\u001b[0m \u001b[0;34m==\u001b[0m \u001b[0;36m0\u001b[0m\u001b[0;34m:\u001b[0m\u001b[0;34m\u001b[0m\u001b[0;34m\u001b[0m\u001b[0m\n\u001b[1;32m   1616\u001b[0m         \u001b[0mX\u001b[0m \u001b[0;34m=\u001b[0m \u001b[0mX\u001b[0m\u001b[0;34m.\u001b[0m\u001b[0mT\u001b[0m\u001b[0;34m\u001b[0m\u001b[0;34m\u001b[0m\u001b[0m\n",
      "\u001b[0;32m/data/opt/voxceleb/lib/python3.6/site-packages/sklearn/utils/validation.py\u001b[0m in \u001b[0;36mcheck_array\u001b[0;34m(array, accept_sparse, accept_large_sparse, dtype, order, copy, force_all_finite, ensure_2d, allow_nd, ensure_min_samples, ensure_min_features, warn_on_dtype, estimator)\u001b[0m\n\u001b[1;32m    540\u001b[0m         \u001b[0;32mif\u001b[0m \u001b[0mforce_all_finite\u001b[0m\u001b[0;34m:\u001b[0m\u001b[0;34m\u001b[0m\u001b[0;34m\u001b[0m\u001b[0m\n\u001b[1;32m    541\u001b[0m             _assert_all_finite(array,\n\u001b[0;32m--> 542\u001b[0;31m                                allow_nan=force_all_finite == 'allow-nan')\n\u001b[0m\u001b[1;32m    543\u001b[0m \u001b[0;34m\u001b[0m\u001b[0m\n\u001b[1;32m    544\u001b[0m     \u001b[0;32mif\u001b[0m \u001b[0mensure_min_samples\u001b[0m \u001b[0;34m>\u001b[0m \u001b[0;36m0\u001b[0m\u001b[0;34m:\u001b[0m\u001b[0;34m\u001b[0m\u001b[0;34m\u001b[0m\u001b[0m\n",
      "\u001b[0;32m/data/opt/voxceleb/lib/python3.6/site-packages/sklearn/utils/validation.py\u001b[0m in \u001b[0;36m_assert_all_finite\u001b[0;34m(X, allow_nan)\u001b[0m\n\u001b[1;32m     47\u001b[0m     \u001b[0;31m# safely to reduce dtype induced overflows.\u001b[0m\u001b[0;34m\u001b[0m\u001b[0;34m\u001b[0m\u001b[0;34m\u001b[0m\u001b[0m\n\u001b[1;32m     48\u001b[0m     \u001b[0mis_float\u001b[0m \u001b[0;34m=\u001b[0m \u001b[0mX\u001b[0m\u001b[0;34m.\u001b[0m\u001b[0mdtype\u001b[0m\u001b[0;34m.\u001b[0m\u001b[0mkind\u001b[0m \u001b[0;32min\u001b[0m \u001b[0;34m'fc'\u001b[0m\u001b[0;34m\u001b[0m\u001b[0;34m\u001b[0m\u001b[0m\n\u001b[0;32m---> 49\u001b[0;31m     \u001b[0;32mif\u001b[0m \u001b[0mis_float\u001b[0m \u001b[0;32mand\u001b[0m \u001b[0;34m(\u001b[0m\u001b[0mnp\u001b[0m\u001b[0;34m.\u001b[0m\u001b[0misfinite\u001b[0m\u001b[0;34m(\u001b[0m\u001b[0m_safe_accumulator_op\u001b[0m\u001b[0;34m(\u001b[0m\u001b[0mnp\u001b[0m\u001b[0;34m.\u001b[0m\u001b[0msum\u001b[0m\u001b[0;34m,\u001b[0m \u001b[0mX\u001b[0m\u001b[0;34m)\u001b[0m\u001b[0;34m)\u001b[0m\u001b[0;34m)\u001b[0m\u001b[0;34m:\u001b[0m\u001b[0;34m\u001b[0m\u001b[0;34m\u001b[0m\u001b[0m\n\u001b[0m\u001b[1;32m     50\u001b[0m         \u001b[0;32mpass\u001b[0m\u001b[0;34m\u001b[0m\u001b[0;34m\u001b[0m\u001b[0m\n\u001b[1;32m     51\u001b[0m     \u001b[0;32melif\u001b[0m \u001b[0mis_float\u001b[0m\u001b[0;34m:\u001b[0m\u001b[0;34m\u001b[0m\u001b[0;34m\u001b[0m\u001b[0m\n",
      "\u001b[0;32m/data/opt/voxceleb/lib/python3.6/site-packages/sklearn/utils/extmath.py\u001b[0m in \u001b[0;36m_safe_accumulator_op\u001b[0;34m(op, x, *args, **kwargs)\u001b[0m\n\u001b[1;32m    684\u001b[0m     \"\"\"\n\u001b[1;32m    685\u001b[0m     \u001b[0;32mif\u001b[0m \u001b[0mnp\u001b[0m\u001b[0;34m.\u001b[0m\u001b[0missubdtype\u001b[0m\u001b[0;34m(\u001b[0m\u001b[0mx\u001b[0m\u001b[0;34m.\u001b[0m\u001b[0mdtype\u001b[0m\u001b[0;34m,\u001b[0m \u001b[0mnp\u001b[0m\u001b[0;34m.\u001b[0m\u001b[0mfloating\u001b[0m\u001b[0;34m)\u001b[0m \u001b[0;32mand\u001b[0m \u001b[0mx\u001b[0m\u001b[0;34m.\u001b[0m\u001b[0mdtype\u001b[0m\u001b[0;34m.\u001b[0m\u001b[0mitemsize\u001b[0m \u001b[0;34m<\u001b[0m \u001b[0;36m8\u001b[0m\u001b[0;34m:\u001b[0m\u001b[0;34m\u001b[0m\u001b[0;34m\u001b[0m\u001b[0m\n\u001b[0;32m--> 686\u001b[0;31m         \u001b[0mresult\u001b[0m \u001b[0;34m=\u001b[0m \u001b[0mop\u001b[0m\u001b[0;34m(\u001b[0m\u001b[0mx\u001b[0m\u001b[0;34m,\u001b[0m \u001b[0;34m*\u001b[0m\u001b[0margs\u001b[0m\u001b[0;34m,\u001b[0m \u001b[0;34m**\u001b[0m\u001b[0mkwargs\u001b[0m\u001b[0;34m,\u001b[0m \u001b[0mdtype\u001b[0m\u001b[0;34m=\u001b[0m\u001b[0mnp\u001b[0m\u001b[0;34m.\u001b[0m\u001b[0mfloat64\u001b[0m\u001b[0;34m)\u001b[0m\u001b[0;34m\u001b[0m\u001b[0;34m\u001b[0m\u001b[0m\n\u001b[0m\u001b[1;32m    687\u001b[0m     \u001b[0;32melse\u001b[0m\u001b[0;34m:\u001b[0m\u001b[0;34m\u001b[0m\u001b[0;34m\u001b[0m\u001b[0m\n\u001b[1;32m    688\u001b[0m         \u001b[0mresult\u001b[0m \u001b[0;34m=\u001b[0m \u001b[0mop\u001b[0m\u001b[0;34m(\u001b[0m\u001b[0mx\u001b[0m\u001b[0;34m,\u001b[0m \u001b[0;34m*\u001b[0m\u001b[0margs\u001b[0m\u001b[0;34m,\u001b[0m \u001b[0;34m**\u001b[0m\u001b[0mkwargs\u001b[0m\u001b[0;34m)\u001b[0m\u001b[0;34m\u001b[0m\u001b[0;34m\u001b[0m\u001b[0m\n",
      "\u001b[0;32m/data/opt/voxceleb/lib/python3.6/site-packages/numpy/core/fromnumeric.py\u001b[0m in \u001b[0;36msum\u001b[0;34m(a, axis, dtype, out, keepdims, initial)\u001b[0m\n\u001b[1;32m   2074\u001b[0m \u001b[0;34m\u001b[0m\u001b[0m\n\u001b[1;32m   2075\u001b[0m     return _wrapreduction(a, np.add, 'sum', axis, dtype, out, keepdims=keepdims,\n\u001b[0;32m-> 2076\u001b[0;31m                           initial=initial)\n\u001b[0m\u001b[1;32m   2077\u001b[0m \u001b[0;34m\u001b[0m\u001b[0m\n\u001b[1;32m   2078\u001b[0m \u001b[0;34m\u001b[0m\u001b[0m\n",
      "\u001b[0;32m/data/opt/voxceleb/lib/python3.6/site-packages/numpy/core/fromnumeric.py\u001b[0m in \u001b[0;36m_wrapreduction\u001b[0;34m(obj, ufunc, method, axis, dtype, out, **kwargs)\u001b[0m\n\u001b[1;32m     84\u001b[0m                 \u001b[0;32mreturn\u001b[0m \u001b[0mreduction\u001b[0m\u001b[0;34m(\u001b[0m\u001b[0maxis\u001b[0m\u001b[0;34m=\u001b[0m\u001b[0maxis\u001b[0m\u001b[0;34m,\u001b[0m \u001b[0mout\u001b[0m\u001b[0;34m=\u001b[0m\u001b[0mout\u001b[0m\u001b[0;34m,\u001b[0m \u001b[0;34m**\u001b[0m\u001b[0mpasskwargs\u001b[0m\u001b[0;34m)\u001b[0m\u001b[0;34m\u001b[0m\u001b[0;34m\u001b[0m\u001b[0m\n\u001b[1;32m     85\u001b[0m \u001b[0;34m\u001b[0m\u001b[0m\n\u001b[0;32m---> 86\u001b[0;31m     \u001b[0;32mreturn\u001b[0m \u001b[0mufunc\u001b[0m\u001b[0;34m.\u001b[0m\u001b[0mreduce\u001b[0m\u001b[0;34m(\u001b[0m\u001b[0mobj\u001b[0m\u001b[0;34m,\u001b[0m \u001b[0maxis\u001b[0m\u001b[0;34m,\u001b[0m \u001b[0mdtype\u001b[0m\u001b[0;34m,\u001b[0m \u001b[0mout\u001b[0m\u001b[0;34m,\u001b[0m \u001b[0;34m**\u001b[0m\u001b[0mpasskwargs\u001b[0m\u001b[0;34m)\u001b[0m\u001b[0;34m\u001b[0m\u001b[0;34m\u001b[0m\u001b[0m\n\u001b[0m\u001b[1;32m     87\u001b[0m \u001b[0;34m\u001b[0m\u001b[0m\n\u001b[1;32m     88\u001b[0m \u001b[0;34m\u001b[0m\u001b[0m\n",
      "\u001b[0;31mKeyboardInterrupt\u001b[0m: "
     ]
    }
   ],
   "source": [
    "\n",
    "for i in range(len(Ns)):\n",
    "    \n",
    "    # get bo files\n",
    "    vgg_repo = build_repo('/data/home/shruti/voxceleb/vgg/leaders/', \n",
    "                          {f: train_files[f] for f in ['bo']}, \n",
    "                          {'frames': 100, 'step': 5, 'pool_func': np.mean, \n",
    "                           'N': Ns[i], 'n1':0, 'n2':1}, \n",
    "                          in_dict=vgg_repo)\n",
    "    fabnet_repo = build_repo('/data/home/shruti/voxceleb/fabnet_metric/', \n",
    "                          {f: train_files[f] for f in ['bo']}, \n",
    "                          {'frames': 1, 'step': 1, 'pool_func': np.mean, \n",
    "                           'N': Ns[i], 'n1':0, 'n2':1}, \n",
    "                             in_dict=fabnet_repo)\n",
    "    print('vgg', len(vgg_repo['bo']), 'fabnet', len(fabnet_repo['bo']))\n",
    "\n",
    "    vgg_result = get_result_df_bo(vgg_repo, {'istrain':True, 'bsfldr':'/data/home/shruti/voxceleb/vgg/leaders/', \n",
    "                                             'frames':100, 'steps':5}, ['bo'])\n",
    "    fabnet_result = get_result_df_bo(fabnet_repo, {'istrain':False, 'bsfldr':'/data/home/shruti/voxceleb/fabnet_metric/', \n",
    "                                                   'frames':1, 'steps':1}, ['bo'])\n",
    "    N_result[i, 0] = Ns[i]\n",
    "    N_result[i, 1:3] = get_discrepany_accuracy(vgg_result, fabnet_result, ['bo'], ['bo'])\n",
    "    print(Ns[i], N_result[i, 1:3])\n",
    "    "
   ]
  },
  {
   "cell_type": "code",
   "execution_count": 29,
   "metadata": {},
   "outputs": [
    {
     "data": {
      "text/plain": [
       "Text(0.5, 0, 'Samples')"
      ]
     },
     "execution_count": 29,
     "metadata": {},
     "output_type": "execute_result"
    },
    {
     "data": {
      "image/png": "[encoded data removed]",
      "text/plain": [
       "<Figure size 432x288 with 1 Axes>"
      ]
     },
     "metadata": {
      "needs_background": "light"
     },
     "output_type": "display_data"
    }
   ],
   "source": [
    "# plot accuracy as a fucntion of file length\n",
    "plt.figure(figsize=())\n",
    "plt.plot(N_result[:13, 0], N_result[:13, 1], 'g-', label='real_acc')\n",
    "plt.plot(N_result[:13, 0], N_result[:13, 2], 'r-', label='fake_acc')\n",
    "plt.ylim([0, 105])\n",
    "plt.legend()\n",
    "plt.ylabel('Accuracy')\n",
    "plt.xlabel('Samples')"
   ]
  },
  {
   "cell_type": "markdown",
   "metadata": {},
   "source": [
    "# test different context files"
   ]
  },
  {
   "cell_type": "markdown",
   "metadata": {},
   "source": [
    "#### get interview videos"
   ]
  },
  {
   "cell_type": "code",
   "execution_count": 17,
   "metadata": {},
   "outputs": [],
   "source": [
    "\n",
    "# bo_interview files\n",
    "bo_interview_files = load_file_names('/data/home/shruti/voxceleb/vgg/leaders/', 'bo_interview', join_bsfldr=False)\n",
    "bo_interview_files.sort()\n",
    "\n",
    "# train bo_interview and test bo_interview\n",
    "n1 = int(0.8*len(bo_interview_files))\n",
    "train_bo_int_files = bo_interview_files[:n1]\n",
    "test_bo_int_files = bo_interview_files[n1:]\n"
   ]
  },
  {
   "cell_type": "markdown",
   "metadata": {},
   "source": [
    "#### test with mismatch in the repo"
   ]
  },
  {
   "cell_type": "code",
   "execution_count": 22,
   "metadata": {},
   "outputs": [
    {
     "name": "stdout",
     "output_type": "stream",
     "text": [
      "Real Interview: 95.59139784946237, Fake Interview: 100.0\n"
     ]
    }
   ],
   "source": [
    "# test on the interview videos as test right away\n",
    "\n",
    "# get bo files\n",
    "vgg_repo = build_repo('/data/home/shruti/voxceleb/vgg/leaders/', \n",
    "                      {f: train_files[f] for f in ['bo']}, \n",
    "                      {'frames': 100, 'step': 5, 'pool_func': np.mean, \n",
    "                       'N': 5000, 'n1':0, 'n2':1}, \n",
    "                      in_dict=vgg_repo)\n",
    "fabnet_repo = build_repo('/data/home/shruti/voxceleb/fabnet_metric/', \n",
    "                      {f: train_files[f] for f in ['bo']}, \n",
    "                      {'frames': 1, 'step': 1, 'pool_func': np.mean, \n",
    "                       'N': 5000, 'n1':0, 'n2':1}, \n",
    "                         in_dict=fabnet_repo)\n",
    "# test for interview videos\n",
    "vgg_int_repo_mismatch = {}\n",
    "vgg_int_repo_mismatch['real'] = get_result_rndm_files(vgg_repo, \n",
    "                                              {'istrain':True, \n",
    "                                               'bsfldr':'/data/home/shruti/voxceleb/vgg/leaders/', \n",
    "                                               'frames':100, 'steps':5}, test_bo_int_files, 'real')\n",
    "vgg_int_repo_mismatch['fake'] = get_result_rndm_files(vgg_repo, \n",
    "                                              {'istrain':True, \n",
    "                                               'bsfldr':'/data/home/shruti/voxceleb/vgg/leaders/', \n",
    "                                               'frames':100, 'steps':5}, test_files['fake']['bo'], 'fake')\n",
    "vgg_int_repo_mismatch = pd.concat([vgg_int_repo_mismatch[f] for f in ['real', 'fake']], \n",
    "                                  ignore_index=True, sort=False)\n",
    "\n",
    "\n",
    "\n",
    "# test for interview videos\n",
    "fabnet_int_repo_mismatch = {}\n",
    "fabnet_int_repo_mismatch['real'] = get_result_rndm_files(fabnet_repo, \n",
    "                                              {'istrain':True, \n",
    "                                               'bsfldr':'/data/home/shruti/voxceleb/fabnet_metric/', \n",
    "                                               'frames':100, 'steps':5}, test_bo_int_files, 'real')\n",
    "fabnet_int_repo_mismatch['fake'] = get_result_rndm_files(fabnet_repo, \n",
    "                                              {'istrain':True, \n",
    "                                               'bsfldr':'/data/home/shruti/voxceleb/fabnet_metric/', \n",
    "                                               'frames':1, 'steps':1}, test_files['fake']['bo'], 'fake')\n",
    "fabnet_int_repo_mismatch = pd.concat([fabnet_int_repo_mismatch[f] for f in ['real', 'fake']], \n",
    "                                  ignore_index=True, sort=False)\n",
    "\n",
    "real_cntxt, fake_cntxt = get_discrepany_accuracy(vgg_int_repo_mismatch, fabnet_int_repo_mismatch, ['bo'], ['bo'])\n",
    "print(f'Real Interview: {real_cntxt}, Fake Interview: {fake_cntxt}')\n"
   ]
  },
  {
   "cell_type": "markdown",
   "metadata": {},
   "source": [
    "#### test with interview videos in the repo"
   ]
  },
  {
   "cell_type": "code",
   "execution_count": 23,
   "metadata": {},
   "outputs": [],
   "source": [
    "\n",
    "# then add 80% files in the train repo and then run the same test\n",
    "bo_wd = np.random.choice(train_files['bo'], len(train_bo_int_files), replace=False)\n",
    "diff_bo_cntxt = {'bo': list(bo_wd) + train_bo_int_files}\n"
   ]
  },
  {
   "cell_type": "code",
   "execution_count": 24,
   "metadata": {},
   "outputs": [
    {
     "name": "stdout",
     "output_type": "stream",
     "text": [
      "Real Interview: 99.24731182795699, Fake Interview: 100.0\n"
     ]
    }
   ],
   "source": [
    "\n",
    "vgg_repo = build_repo('/data/home/shruti/voxceleb/vgg/leaders/', \n",
    "                      diff_bo_cntxt, \n",
    "                      {'frames': 100, 'step': 5, 'pool_func': np.mean, \n",
    "                       'N': 5000, 'n1':0, 'n2':1}, \n",
    "                      in_dict=vgg_repo)\n",
    "fabnet_repo = build_repo('/data/home/shruti/voxceleb/fabnet_metric/', \n",
    "                      diff_bo_cntxt, \n",
    "                      {'frames': 1, 'step': 1, 'pool_func': np.mean, \n",
    "                       'N': 5000, 'n1':0, 'n2':1}, \n",
    "                         in_dict=fabnet_repo)\n",
    "# test for interview videos\n",
    "vgg_interview_repo = {}\n",
    "vgg_interview_repo['real'] = get_result_rndm_files(vgg_repo, \n",
    "                                              {'istrain':True, \n",
    "                                               'bsfldr':'/data/home/shruti/voxceleb/vgg/leaders/', \n",
    "                                               'frames':100, 'steps':5}, test_bo_int_files, 'real')\n",
    "vgg_interview_repo['fake'] = get_result_rndm_files(vgg_repo, \n",
    "                                              {'istrain':True, \n",
    "                                               'bsfldr':'/data/home/shruti/voxceleb/vgg/leaders/', \n",
    "                                               'frames':100, 'steps':5}, test_files['fake']['bo'], 'fake')\n",
    "vgg_interview_repo = pd.concat([vgg_interview_repo[f] for f in ['real', 'fake']], \n",
    "                                  ignore_index=True, sort=False)\n",
    "\n",
    "\n",
    "\n",
    "# test for interview videos\n",
    "fabnet_interview_repo = {}\n",
    "fabnet_interview_repo['real'] = get_result_rndm_files(fabnet_repo, \n",
    "                                              {'istrain':True, \n",
    "                                               'bsfldr':'/data/home/shruti/voxceleb/fabnet_metric/', \n",
    "                                               'frames':100, 'steps':5}, test_bo_int_files, 'real')\n",
    "fabnet_interview_repo['fake'] = get_result_rndm_files(fabnet_repo, \n",
    "                                              {'istrain':True, \n",
    "                                               'bsfldr':'/data/home/shruti/voxceleb/fabnet_metric/', \n",
    "                                               'frames':1, 'steps':1}, test_files['fake']['bo'], 'fake')\n",
    "fabnet_interview_repo = pd.concat([fabnet_interview_repo[f] for f in ['real', 'fake']], \n",
    "                                      ignore_index=True, sort=False)\n",
    "\n",
    "real_cntxt_intrain, fake_cntxt_intrain = get_discrepany_accuracy(vgg_interview_repo, \n",
    "                                                                 fabnet_interview_repo, \n",
    "                                                                 ['bo'], ['bo'])\n",
    "print(f'Real Interview: {real_cntxt_intrain}, Fake Interview: {fake_cntxt_intrain}')\n"
   ]
  },
  {
   "cell_type": "markdown",
   "metadata": {},
   "source": [
    "# The distance as function of context"
   ]
  },
  {
   "cell_type": "code",
   "execution_count": 32,
   "metadata": {},
   "outputs": [],
   "source": [
    "\n",
    "# find an example video we want to find.. \n",
    "# in the example 100 frames: \n",
    "    # extract the fabnet, \n",
    "    # extract the fabnet metric, and \n",
    "    # find the best match in the train repo\n",
    "# for every train video in fabnet metric we need to know the timestamp it is....\n",
    "# \n",
    "\n",
    "# take distances from a single video to show how fabnet biomtric identifies the person\n",
    "\n",
    "# bsfldr\n",
    "bsfldr = '/data/home/shruti/voxceleb/fabnet_metric/'\n",
    "train_vid_name = 'GG_orig/01__outside_talking_still_laughing.npy'\n",
    "test_vid_label = ['actual faceswap', \n",
    "                  'same context same person', \n",
    "                  'different context same person',\n",
    "                  'very different context same person',\n",
    "                  'different person same context', \n",
    "                  'different person different context']\n",
    "test_vid_name = ['GG_fake/01_02__outside_talking_still_laughing__YVGY8LOK.npy', \n",
    "                 'GG_orig/01__outside_talking_pan_laughing.npy', \n",
    "                 'GG_orig/01__podium_speech_happy.npy',\n",
    "                 'GG_orig/01__talking_against_wall.npy', \n",
    "                 'GG_orig/02__outside_talking_still_laughing.npy', \n",
    "                 'GG_orig/02__talking_against_wall.npy']\n",
    "\n",
    "# get the distance\n",
    "\n"
   ]
  },
  {
   "cell_type": "code",
   "execution_count": 33,
   "metadata": {
    "scrolled": true
   },
   "outputs": [],
   "source": [
    "# train repo\n",
    "train_repo = {}\n",
    "train_repo = build_repo(bsfldr, \n",
    "                        {'orig': [train_vid_name]}, \n",
    "                        {'frames': 1, 'step': 1, 'pool_func': np.mean, \n",
    "                         'N': -1, 'n1':0, 'n2':1}, \n",
    "                        in_dict=train_repo)\n",
    "\n",
    "dist = {}\n",
    "for i in range(len(test_vid_name)):\n",
    "    \n",
    "    test_repo = {}\n",
    "    test_repo = build_repo(bsfldr, \n",
    "                           {'test': [test_vid_name[i]]}, \n",
    "                           {'frames': 1, 'step': 1, 'pool_func': np.mean, \n",
    "                            'N': -1, 'n1':0, 'n2':1}, \n",
    "                           in_dict=test_repo)\n",
    "    cur_max, cur_pred_id = get_repo_dist(train_repo, test_repo['test'])\n",
    "    dist[test_vid_label[i]] = cur_max\n",
    "    "
   ]
  },
  {
   "cell_type": "code",
   "execution_count": 37,
   "metadata": {},
   "outputs": [
    {
     "data": {
      "image/png": "[encoded data removed]",
      "text/plain": [
       "<Figure size 576x576 with 1 Axes>"
      ]
     },
     "metadata": {
      "needs_background": "light"
     },
     "output_type": "display_data"
    }
   ],
   "source": [
    "plt.figure(figsize=(8,8))\n",
    "for i in range(len(test_vid_name)):\n",
    "    \n",
    "    sns.distplot(np.log(dist[test_vid_label[i]]), \n",
    "                 bins=np.log(np.linspace(0.1, 1, 30)), label=test_vid_label[i])\n",
    "\n",
    "plt.xlim([np.log(0.1), np.log(1)])    \n",
    "plt.legend()\n",
    "plt.xlabel('Cos Distance')\n",
    "plt.show()"
   ]
  },
  {
   "cell_type": "markdown",
   "metadata": {},
   "source": [
    "# find the example video getting matched with a video"
   ]
  },
  {
   "cell_type": "code",
   "execution_count": 11,
   "metadata": {},
   "outputs": [],
   "source": [
    "# select a file of obama 4 seconds with saying \"hello everybody\"\n",
    "test_files = 'bo/_zq8ilzRFFE_0.npy'\n",
    "bsfldr = '/data/home/shruti/voxceleb/fabnet_metric/'\n",
    "bo_train_files = train_files['bo']\n",
    "bo_train_files = [f for f in bo_train_files if f != test_files]\n",
    "bo_train_files.sort()\n",
    "\n",
    "test_repo = {}\n",
    "test_repo = build_repo(bsfldr, \n",
    "                        {'bo': [test_files]}, \n",
    "                        {'frames': 1, 'step': 1, 'pool_func': np.mean, \n",
    "                         'N': -1, 'n1':0, 'n2':1}, \n",
    "                        in_dict=test_repo)\n",
    "\n",
    "\n",
    "max_sim = np.zeros((len(test_repo['bo']), )) - np.inf\n",
    "ids = np.zeros((len(test_repo['bo']), )) - 1\n",
    "file_nm = np.array([' ' for i in range(len(test_repo['bo']), ) ], dtype=np.object)\n",
    "\n",
    "for i in range(len(bo_train_files)):\n",
    "    \n",
    "    train_repo = {}\n",
    "    train_repo = build_repo(bsfldr, \n",
    "                        {'bo': [bo_train_files[i]]}, \n",
    "                        {'frames': 1, 'step': 1, 'pool_func': np.mean, \n",
    "                         'N': -1, 'n1':0, 'n2':1}, \n",
    "                        in_dict=train_repo)\n",
    "    if len(train_repo['bo']) > 1:\n",
    "        sim_mat = cosine_similarity(train_repo['bo'], test_repo['bo'], dense_output=True)\n",
    "        \n",
    "        max_id = np.argmax(sim_mat, axis=0)\n",
    "        sim_mat = np.max(sim_mat, axis=0)\n",
    "        chng_id = sim_mat>max_sim\n",
    "        ids[chng_id] = max_id[chng_id]\n",
    "        file_nm[chng_id] = bo_train_files[i]\n",
    "        max_sim[chng_id] = sim_mat[chng_id]\n",
    "        "
   ]
  },
  {
   "cell_type": "code",
   "execution_count": 12,
   "metadata": {},
   "outputs": [
    {
     "data": {
      "text/plain": [
       "array(['bo/li1aHjjqh3w_0.npy', 'bo/0bB0Cv4Oz0I_0.npy',\n",
       "       'bo/0bB0Cv4Oz0I_0.npy', 'bo/_zq8ilzRFFE_1.npy',\n",
       "       'bo/_zq8ilzRFFE_1.npy', 'bo/_zq8ilzRFFE_1.npy',\n",
       "       'bo/_zq8ilzRFFE_1.npy', 'bo/0bB0Cv4Oz0I_0.npy',\n",
       "       'bo/_zq8ilzRFFE_2.npy', 'bo/_zq8ilzRFFE_2.npy',\n",
       "       'bo/_zq8ilzRFFE_2.npy', 'bo/_zq8ilzRFFE_2.npy',\n",
       "       'bo/_zq8ilzRFFE_2.npy', 'bo/_zq8ilzRFFE_2.npy',\n",
       "       'bo/_zq8ilzRFFE_1.npy', 'bo/_zq8ilzRFFE_2.npy',\n",
       "       'bo/_zq8ilzRFFE_2.npy', 'bo/_zq8ilzRFFE_2.npy',\n",
       "       'bo/_zq8ilzRFFE_2.npy', 'bo/_zq8ilzRFFE_2.npy',\n",
       "       'bo/_zq8ilzRFFE_2.npy', 'bo/_zq8ilzRFFE_1.npy',\n",
       "       'bo/_zq8ilzRFFE_2.npy', 'bo/_zq8ilzRFFE_2.npy',\n",
       "       'bo/_zq8ilzRFFE_2.npy', 'bo/_zq8ilzRFFE_2.npy',\n",
       "       'bo/_zq8ilzRFFE_2.npy', 'bo/_zq8ilzRFFE_1.npy',\n",
       "       'bo/_zq8ilzRFFE_1.npy', 'bo/_zq8ilzRFFE_1.npy',\n",
       "       'bo/_zq8ilzRFFE_1.npy', 'bo/_zq8ilzRFFE_1.npy',\n",
       "       'bo/_zq8ilzRFFE_1.npy', 'bo/_zq8ilzRFFE_2.npy',\n",
       "       'bo/_zq8ilzRFFE_1.npy', 'bo/_zq8ilzRFFE_1.npy',\n",
       "       'bo/_zq8ilzRFFE_1.npy', 'bo/_zq8ilzRFFE_1.npy',\n",
       "       'bo/_zq8ilzRFFE_2.npy', 'bo/_zq8ilzRFFE_2.npy',\n",
       "       'bo/_zq8ilzRFFE_2.npy', 'bo/_zq8ilzRFFE_1.npy',\n",
       "       'bo/_zq8ilzRFFE_1.npy', 'bo/_zq8ilzRFFE_1.npy',\n",
       "       'bo/_zq8ilzRFFE_1.npy', 'bo/_zq8ilzRFFE_1.npy',\n",
       "       'bo/_zq8ilzRFFE_1.npy', 'bo/_zq8ilzRFFE_1.npy',\n",
       "       'bo/_zq8ilzRFFE_1.npy', 'bo/_zq8ilzRFFE_1.npy',\n",
       "       'bo/_zq8ilzRFFE_1.npy', 'bo/_zq8ilzRFFE_1.npy',\n",
       "       'bo/_zq8ilzRFFE_1.npy', 'bo/_zq8ilzRFFE_1.npy',\n",
       "       'bo/_zq8ilzRFFE_1.npy', 'bo/_zq8ilzRFFE_1.npy',\n",
       "       'bo/_zq8ilzRFFE_1.npy', 'bo/_zq8ilzRFFE_1.npy',\n",
       "       'bo/_zq8ilzRFFE_1.npy', 'bo/_zq8ilzRFFE_1.npy',\n",
       "       'bo/_zq8ilzRFFE_1.npy', 'bo/_zq8ilzRFFE_1.npy',\n",
       "       'bo/_zq8ilzRFFE_1.npy', 'bo/_zq8ilzRFFE_1.npy',\n",
       "       'bo/_zq8ilzRFFE_1.npy', 'bo/_zq8ilzRFFE_1.npy',\n",
       "       'bo/_zq8ilzRFFE_1.npy', 'bo/_zq8ilzRFFE_1.npy',\n",
       "       'bo/_zq8ilzRFFE_1.npy', 'bo/_zq8ilzRFFE_1.npy',\n",
       "       'bo/_zq8ilzRFFE_1.npy', 'bo/_zq8ilzRFFE_1.npy',\n",
       "       'bo/_zq8ilzRFFE_1.npy', 'bo/_zq8ilzRFFE_1.npy',\n",
       "       'bo/_zq8ilzRFFE_2.npy', 'bo/_zq8ilzRFFE_1.npy',\n",
       "       'bo/_zq8ilzRFFE_1.npy', 'bo/_zq8ilzRFFE_2.npy',\n",
       "       'bo/_zq8ilzRFFE_2.npy', 'bo/_zq8ilzRFFE_2.npy',\n",
       "       'bo/_zq8ilzRFFE_2.npy', 'bo/_zq8ilzRFFE_1.npy',\n",
       "       'bo/_zq8ilzRFFE_1.npy', 'bo/_zq8ilzRFFE_2.npy',\n",
       "       'bo/_zq8ilzRFFE_2.npy', 'bo/_zq8ilzRFFE_2.npy',\n",
       "       'bo/_zq8ilzRFFE_2.npy', 'bo/_zq8ilzRFFE_2.npy',\n",
       "       'bo/_zq8ilzRFFE_1.npy', 'bo/_zq8ilzRFFE_2.npy',\n",
       "       'bo/_zq8ilzRFFE_2.npy', 'bo/_zq8ilzRFFE_2.npy',\n",
       "       'bo/_zq8ilzRFFE_1.npy', 'bo/_zq8ilzRFFE_2.npy',\n",
       "       'bo/_zq8ilzRFFE_2.npy', 'bo/_zq8ilzRFFE_2.npy',\n",
       "       'bo/_zq8ilzRFFE_1.npy', 'bo/_zq8ilzRFFE_2.npy',\n",
       "       'bo/_zq8ilzRFFE_1.npy', 'bo/_zq8ilzRFFE_1.npy',\n",
       "       'bo/_zq8ilzRFFE_1.npy', 'bo/_zq8ilzRFFE_1.npy',\n",
       "       'bo/_zq8ilzRFFE_1.npy', 'bo/_zq8ilzRFFE_2.npy',\n",
       "       'bo/_zq8ilzRFFE_1.npy', 'bo/_zq8ilzRFFE_1.npy',\n",
       "       'bo/_zq8ilzRFFE_1.npy', 'bo/_zq8ilzRFFE_1.npy',\n",
       "       'bo/_zq8ilzRFFE_1.npy', 'bo/_zq8ilzRFFE_1.npy',\n",
       "       'bo/_zq8ilzRFFE_1.npy', 'bo/_zq8ilzRFFE_1.npy',\n",
       "       'bo/_zq8ilzRFFE_1.npy', 'bo/_zq8ilzRFFE_1.npy',\n",
       "       'bo/_zq8ilzRFFE_1.npy', 'bo/_zq8ilzRFFE_1.npy',\n",
       "       'bo/_zq8ilzRFFE_2.npy', 'bo/_zq8ilzRFFE_2.npy',\n",
       "       'bo/_zq8ilzRFFE_2.npy', 'bo/_zq8ilzRFFE_1.npy',\n",
       "       'bo/_zq8ilzRFFE_1.npy', 'bo/_zq8ilzRFFE_1.npy',\n",
       "       'bo/_zq8ilzRFFE_2.npy', 'bo/_zq8ilzRFFE_2.npy',\n",
       "       'bo/_zq8ilzRFFE_2.npy', 'bo/_zq8ilzRFFE_1.npy',\n",
       "       'bo/_zq8ilzRFFE_1.npy', 'bo/_zq8ilzRFFE_1.npy',\n",
       "       'bo/_zq8ilzRFFE_2.npy', 'bo/_zq8ilzRFFE_2.npy',\n",
       "       'bo/_zq8ilzRFFE_2.npy', 'bo/_zq8ilzRFFE_1.npy',\n",
       "       'bo/_zq8ilzRFFE_2.npy', 'bo/_zq8ilzRFFE_1.npy',\n",
       "       'bo/_zq8ilzRFFE_2.npy', 'bo/_zq8ilzRFFE_1.npy',\n",
       "       'bo/_zq8ilzRFFE_1.npy', 'bo/_zq8ilzRFFE_1.npy',\n",
       "       'bo/_zq8ilzRFFE_1.npy', 'bo/_zq8ilzRFFE_1.npy',\n",
       "       'bo/_zq8ilzRFFE_1.npy', 'bo/_zq8ilzRFFE_2.npy',\n",
       "       'bo/_zq8ilzRFFE_2.npy', 'bo/_zq8ilzRFFE_2.npy',\n",
       "       'bo/_zq8ilzRFFE_2.npy', 'bo/_zq8ilzRFFE_1.npy',\n",
       "       'bo/_zq8ilzRFFE_1.npy', 'bo/_zq8ilzRFFE_2.npy',\n",
       "       'bo/_zq8ilzRFFE_2.npy', 'bo/_zq8ilzRFFE_2.npy',\n",
       "       'bo/_zq8ilzRFFE_2.npy', 'bo/_zq8ilzRFFE_2.npy',\n",
       "       'bo/_zq8ilzRFFE_1.npy', 'bo/_zq8ilzRFFE_1.npy',\n",
       "       'bo/_zq8ilzRFFE_1.npy', 'bo/_zq8ilzRFFE_1.npy',\n",
       "       'bo/_zq8ilzRFFE_2.npy', 'bo/_zq8ilzRFFE_2.npy',\n",
       "       'bo/_zq8ilzRFFE_1.npy', 'bo/_zq8ilzRFFE_2.npy',\n",
       "       'bo/_zq8ilzRFFE_2.npy', 'bo/_zq8ilzRFFE_1.npy',\n",
       "       'bo/_zq8ilzRFFE_1.npy', 'bo/_zq8ilzRFFE_2.npy',\n",
       "       'bo/_zq8ilzRFFE_1.npy', 'bo/_zq8ilzRFFE_1.npy',\n",
       "       'bo/_zq8ilzRFFE_1.npy', 'bo/_zq8ilzRFFE_1.npy',\n",
       "       'bo/_zq8ilzRFFE_1.npy', 'bo/_zq8ilzRFFE_1.npy',\n",
       "       'bo/_zq8ilzRFFE_1.npy', 'bo/_zq8ilzRFFE_1.npy',\n",
       "       'bo/_zq8ilzRFFE_2.npy', 'bo/_zq8ilzRFFE_1.npy',\n",
       "       'bo/_zq8ilzRFFE_1.npy', 'bo/_zq8ilzRFFE_1.npy',\n",
       "       'bo/_zq8ilzRFFE_2.npy', 'bo/_zq8ilzRFFE_2.npy',\n",
       "       'bo/_zq8ilzRFFE_2.npy', 'bo/_zq8ilzRFFE_2.npy',\n",
       "       'bo/_zq8ilzRFFE_2.npy', 'bo/_zq8ilzRFFE_2.npy',\n",
       "       'bo/_zq8ilzRFFE_2.npy', 'bo/_zq8ilzRFFE_2.npy',\n",
       "       'bo/_zq8ilzRFFE_2.npy', 'bo/_zq8ilzRFFE_2.npy',\n",
       "       'bo/_zq8ilzRFFE_2.npy', 'bo/_zq8ilzRFFE_2.npy',\n",
       "       'bo/_zq8ilzRFFE_2.npy', 'bo/_zq8ilzRFFE_2.npy',\n",
       "       'bo/_zq8ilzRFFE_2.npy', 'bo/_zq8ilzRFFE_2.npy',\n",
       "       'bo/_zq8ilzRFFE_2.npy', 'bo/_zq8ilzRFFE_2.npy',\n",
       "       'bo/_zq8ilzRFFE_2.npy', 'bo/_zq8ilzRFFE_2.npy',\n",
       "       'bo/_zq8ilzRFFE_2.npy', 'bo/_zq8ilzRFFE_2.npy',\n",
       "       'bo/_zq8ilzRFFE_2.npy', 'bo/_zq8ilzRFFE_1.npy',\n",
       "       'bo/_zq8ilzRFFE_1.npy', 'bo/_zq8ilzRFFE_2.npy',\n",
       "       'bo/_zq8ilzRFFE_2.npy', 'bo/_zq8ilzRFFE_2.npy',\n",
       "       'bo/_zq8ilzRFFE_1.npy', 'bo/_zq8ilzRFFE_1.npy',\n",
       "       'bo/_zq8ilzRFFE_1.npy', 'bo/_zq8ilzRFFE_2.npy',\n",
       "       'bo/_zq8ilzRFFE_1.npy', 'bo/_zq8ilzRFFE_1.npy',\n",
       "       'bo/_zq8ilzRFFE_1.npy', 'bo/_zq8ilzRFFE_1.npy',\n",
       "       'bo/_zq8ilzRFFE_1.npy', 'bo/_zq8ilzRFFE_1.npy',\n",
       "       'bo/_zq8ilzRFFE_1.npy', 'bo/_zq8ilzRFFE_1.npy',\n",
       "       'bo/_zq8ilzRFFE_1.npy', 'bo/_zq8ilzRFFE_1.npy',\n",
       "       'bo/_zq8ilzRFFE_1.npy', 'bo/_zq8ilzRFFE_1.npy',\n",
       "       'bo/_zq8ilzRFFE_1.npy', 'bo/_zq8ilzRFFE_1.npy',\n",
       "       'bo/_zq8ilzRFFE_1.npy', 'bo/_zq8ilzRFFE_1.npy',\n",
       "       'bo/_zq8ilzRFFE_1.npy', 'bo/_zq8ilzRFFE_1.npy',\n",
       "       'bo/_zq8ilzRFFE_1.npy', 'bo/_zq8ilzRFFE_2.npy',\n",
       "       'bo/_zq8ilzRFFE_2.npy', 'bo/_zq8ilzRFFE_2.npy',\n",
       "       'bo/_zq8ilzRFFE_1.npy', 'bo/_zq8ilzRFFE_1.npy',\n",
       "       'bo/_zq8ilzRFFE_2.npy', 'bo/_zq8ilzRFFE_2.npy',\n",
       "       'bo/_zq8ilzRFFE_2.npy', 'bo/_zq8ilzRFFE_2.npy',\n",
       "       'bo/_zq8ilzRFFE_1.npy', 'bo/_zq8ilzRFFE_1.npy',\n",
       "       'bo/_zq8ilzRFFE_1.npy', 'bo/_zq8ilzRFFE_1.npy',\n",
       "       'bo/_zq8ilzRFFE_1.npy', 'bo/_zq8ilzRFFE_1.npy',\n",
       "       'bo/_zq8ilzRFFE_1.npy', 'bo/_zq8ilzRFFE_1.npy',\n",
       "       'bo/_zq8ilzRFFE_1.npy', 'bo/_zq8ilzRFFE_1.npy',\n",
       "       'bo/_zq8ilzRFFE_1.npy', 'bo/_zq8ilzRFFE_1.npy',\n",
       "       'bo/_zq8ilzRFFE_2.npy', 'bo/_zq8ilzRFFE_1.npy',\n",
       "       'bo/_zq8ilzRFFE_1.npy', 'bo/_zq8ilzRFFE_1.npy',\n",
       "       'bo/_zq8ilzRFFE_1.npy', 'bo/_zq8ilzRFFE_1.npy',\n",
       "       'bo/_zq8ilzRFFE_1.npy', 'bo/_zq8ilzRFFE_1.npy',\n",
       "       'bo/_zq8ilzRFFE_1.npy', 'bo/_zq8ilzRFFE_1.npy',\n",
       "       'bo/_zq8ilzRFFE_1.npy', 'bo/_zq8ilzRFFE_2.npy',\n",
       "       'bo/_zq8ilzRFFE_1.npy', 'bo/_zq8ilzRFFE_1.npy',\n",
       "       'bo/_zq8ilzRFFE_1.npy', 'bo/_zq8ilzRFFE_1.npy',\n",
       "       'bo/_zq8ilzRFFE_2.npy', 'bo/_zq8ilzRFFE_1.npy',\n",
       "       'bo/_zq8ilzRFFE_1.npy', 'bo/_zq8ilzRFFE_1.npy',\n",
       "       'bo/_zq8ilzRFFE_1.npy', 'bo/_zq8ilzRFFE_2.npy',\n",
       "       'bo/_zq8ilzRFFE_2.npy', 'bo/_zq8ilzRFFE_2.npy',\n",
       "       'bo/_zq8ilzRFFE_1.npy', 'bo/_zq8ilzRFFE_1.npy',\n",
       "       'bo/_zq8ilzRFFE_1.npy', 'bo/_zq8ilzRFFE_1.npy',\n",
       "       'bo/_zq8ilzRFFE_2.npy', 'bo/_zq8ilzRFFE_2.npy'], dtype=object)"
      ]
     },
     "execution_count": 12,
     "metadata": {},
     "output_type": "execute_result"
    }
   ],
   "source": [
    "file_nm"
   ]
  },
  {
   "cell_type": "code",
   "execution_count": 38,
   "metadata": {},
   "outputs": [
    {
     "name": "stdout",
     "output_type": "stream",
     "text": [
      "0.9298540513752178 bo/0bB0Cv4Oz0I_0.npy 15.666666666666666\n"
     ]
    }
   ],
   "source": [
    "i = 1\n",
    "print(max_sim[i], file_nm[i], ids[i]*5/30)\n"
   ]
  },
  {
   "cell_type": "code",
   "execution_count": 29,
   "metadata": {},
   "outputs": [
    {
     "data": {
      "text/plain": [
       "96.0"
      ]
     },
     "execution_count": 29,
     "metadata": {},
     "output_type": "execute_result"
    }
   ],
   "source": [
    "ids[3]"
   ]
  },
  {
   "cell_type": "code",
   "execution_count": 26,
   "metadata": {},
   "outputs": [
    {
     "data": {
      "text/plain": [
       "15.666666666666666"
      ]
     },
     "execution_count": 26,
     "metadata": {},
     "output_type": "execute_result"
    }
   ],
   "source": [
    "\n",
    "94*5/30"
   ]
  },
  {
   "cell_type": "code",
   "execution_count": null,
   "metadata": {},
   "outputs": [],
   "source": []
  }
 ],
 "metadata": {
  "kernelspec": {
   "display_name": "Python 3",
   "language": "python",
   "name": "python3"
  },
  "language_info": {
   "codemirror_mode": {
    "name": "ipython",
    "version": 3
   },
   "file_extension": ".py",
   "mimetype": "text/x-python",
   "name": "python",
   "nbconvert_exporter": "python",
   "pygments_lexer": "ipython3",
   "version": "3.6.9"
  }
 },
 "nbformat": 4,
 "nbformat_minor": 2
}
