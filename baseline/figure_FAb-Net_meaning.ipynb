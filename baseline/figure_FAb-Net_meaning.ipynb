{
 "cells": [
  {
   "cell_type": "code",
   "execution_count": 1,
   "metadata": {},
   "outputs": [],
   "source": [
    "%load_ext autoreload\n",
    "%autoreload 2\n",
    "\n",
    "from repo import *\n",
    "import utils as u\n",
    "import numpy as np\n",
    "import seaborn as sns\n",
    "from sklearn.metrics import roc_curve, auc"
   ]
  },
  {
   "cell_type": "markdown",
   "metadata": {},
   "source": [
    "# distributions of fabnet-metric "
   ]
  },
  {
   "cell_type": "code",
   "execution_count": null,
   "metadata": {},
   "outputs": [],
   "source": [
    "\n",
    "# fabnet distributions,\n",
    "\n",
    "# real vs real \n",
    "# real vs imposter\n",
    "# real vs different people\n",
    "# \n"
   ]
  },
  {
   "cell_type": "markdown",
   "metadata": {},
   "source": [
    "\n",
    "# file ablation for jennifer example\n"
   ]
  },
  {
   "cell_type": "markdown",
   "metadata": {},
   "source": [
    "The accuracy of real video of length 3 minutes of Jennifer as a function of number of frames in repo for the Jennifer similar video\n",
    "\n",
    "Also, test with close video being added to rest of the videos, or only the close video is used in the repo."
   ]
  },
  {
   "cell_type": "code",
   "execution_count": null,
   "metadata": {},
   "outputs": [],
   "source": [
    "fabnet_bsfldr = '/data/home/shruti/voxceleb/fabnet_metric/'\n",
    "\n",
    "def get_distance_between_two_files(file1, file2):\n",
    "    \n",
    "    \n",
    "    \n",
    "\n",
    "# repo with leaders + ff original + imposters + Google\n",
    "def build_first_repo(params):\n",
    "    \n",
    "    out_repo = Repo(params['bsfldr'], params['frames'], params['steps'], np.mean, 5000)\n",
    "    out_repo.add_ids({f: train_files[f] for f in ['bo','br','bs','cb','dt','ew','hc','jb','kh', 'pb',\n",
    "                                                  'bo_imposter','bs_imposter','ew_imposter','dt_imposter',\n",
    "                                                   'hc_imposter', 'jb_imposter']}, 0, 1)\n",
    "    out_repo.add_ids({'FF_{0:03d}'.format(f): train_files['FF_{0:03d}'.format(f)] for f in range(1000)}, 0, 0.5)\n",
    "    out_repo.add_ids({'GG_{0:02d}'.format(f+1): train_files['GG_{0:02d}'.format(f+1)] for f in range(28)}, 0, 1)\n",
    "    out_repo.add_ids({'steve_b': train_files['steve_b']}, 0, 1)\n",
    "    \n",
    "    return out_repo\n",
    "\n",
    "def jennifer_ablation(out_repo, perc, both=False):\n",
    "    out_repo.remove_ids(['jen_l'])\n",
    "    \n",
    "    if perc == 0 or both:\n",
    "        out_repo.add_ids({'jen_l': [f for f in train_files['jen_l'] if 'pW7TbJJMVak' not in f]}, 0, 1)\n",
    "    if perc > 0:\n",
    "        out_repo.add_ids({'jen_l': ['jennifer_l/pW7TbJJMVak_0.npy']}, 0, perc)\n",
    "        \n",
    "    out_repo.build_repo_noKDD()\n",
    "\n",
    "def run_one_case(vgg_repo, fab_repo, perc, both=False):\n",
    "    \n",
    "    jennifer_ablation(vgg_repo, perc, both)\n",
    "    jennifer_ablation(fab_repo, perc, both)\n",
    "    \n",
    "    real_df = save_results(vgg_repo, fab_repo, ['jen_l'], 'real', -1, None, 0, 1, parallel=True)\n",
    "    fake_df = save_results(vgg_repo, fab_repo, ['steve_b'], 'fake', -1, None, 0, 1, parallel=True)\n",
    "    \n",
    "    real_acc = len(np.argwhere(np.array(real_df['predLabel_vgg'])==np.array(real_df['predLabel_fab'])).ravel())/len(real_df)\n",
    "    fake_acc = len(np.argwhere(np.array(fake_df['predLabel_vgg'])==np.array(fake_df['predLabel_fab'])).ravel())/len(fake_df)\n",
    "    \n",
    "    return real_acc, fake_acc\n",
    "\n",
    "\n",
    "def jennifer_file_ablation(out_repo, file):\n",
    "    out_repo.remove_ids(['jen_l'])\n",
    "    out_repo.add_ids({'jen_l': file}, 0, 1)\n",
    "    out_repo.build_repo_noKDD()\n",
    "    \n",
    "    \n",
    "def run_one_file_ablation_case(vgg_repo, fab_repo, file):\n",
    "    \n",
    "    jennifer_file_ablation(vgg_repo, file)\n",
    "    jennifer_file_ablation(fab_repo, file)\n",
    "    \n",
    "    real_df = save_results(vgg_repo, fab_repo, ['jen_l'], 'real', -1, None, 0, 1, parallel=True)\n",
    "    fake_df = save_results(vgg_repo, fab_repo, ['steve_b'], 'fake', -1, None, 0, 1, parallel=True)\n",
    "    \n",
    "    real_acc = len(np.argwhere(np.array(real_df['predLabel_vgg'])==np.array(real_df['predLabel_fab'])).ravel())/len(real_df)\n",
    "    fake_acc = len(np.argwhere(np.array(fake_df['predLabel_vgg'])==np.array(fake_df['predLabel_fab'])).ravel())/len(fake_df)\n",
    "    \n",
    "    return real_acc, fake_acc\n",
    "    \n",
    "    "
   ]
  },
  {
   "cell_type": "code",
   "execution_count": null,
   "metadata": {},
   "outputs": [],
   "source": [
    "vgg_repo = build_first_repo({'istrain':True, 'bsfldr':'/data/home/shruti/voxceleb/vgg/leaders/', \n",
    "                                'frames':100, 'steps':5, 'N_comp':512})\n",
    "fab_repo = build_first_repo({'istrain':True, 'bsfldr':'/data/home/shruti/voxceleb/fabnet_metric/', \n",
    "                                'frames':1, 'steps':1, 'N_comp':-1})"
   ]
  },
  {
   "cell_type": "code",
   "execution_count": null,
   "metadata": {},
   "outputs": [],
   "source": [
    "jennifer_ablation(vgg_repo, 0, both=False)\n",
    "jennifer_ablation(fab_repo, 0, both=False)\n",
    "\n",
    "real_df = save_results(vgg_repo, fab_repo, ['jen_l'], 'real', -1, 'result_csv/SJ_real_100_onlyother.csv', 0, 1, parallel=True)\n",
    "fake_df = save_results(vgg_repo, fab_repo, ['steve_b'], 'fake', -1, 'result_csv/SJ_fake_100_onlyother.csv', 0, 1, parallel=True)\n"
   ]
  },
  {
   "cell_type": "code",
   "execution_count": null,
   "metadata": {},
   "outputs": [],
   "source": [
    "#Case1 only other videos\n",
    "r1, f1 = run_one_case(vgg_repo, fab_repo, 0, both=False)\n",
    "\n",
    "#Case2 other videos with 3 minutes new video\n",
    "r2, f2 = run_one_case(vgg_repo, fab_repo, 1, both=False)\n",
    "\n",
    "#Case3 only overlapping video with diff perc\n",
    "p_rng = np.linspace(0.03, 1, 10)\n",
    "r_f3 = np.zeros((len(p_rng), 3))\n",
    "for i in range(len(p_rng)):\n",
    "    r_f3[i, 0] = 3*60*p_rng[i] # these many seconds\n",
    "    r_f3[i, 1:] = run_one_case(vgg_repo, fab_repo, p_rng[i], both=False)\n",
    "\n",
    "#Case4 both videos with diff perc\n",
    "r_f4 = np.zeros((len(p_rng), 3))\n",
    "for i in range(len(p_rng)):\n",
    "    r_f4[i, 0] = 3*60*p_rng[i] # these many seconds\n",
    "    r_f4[i, 1:] = run_one_case(vgg_repo, fab_repo, p_rng[i], both=True)\n",
    "\n"
   ]
  },
  {
   "cell_type": "code",
   "execution_count": null,
   "metadata": {
    "scrolled": true
   },
   "outputs": [],
   "source": [
    "\n",
    "files_jen = np.unique([f.split('/')[-1].split('_')[0] for f in train_files['jen_l']])\n",
    "print(files_jen)\n",
    "\n",
    "acc = np.zeros((len(files_jen), 2))\n",
    "for i in range(len(files_jen)):\n",
    "    \n",
    "    cur_files = [f for f in train_files['jen_l'] if files_jen[i] in f]\n",
    "    acc[i, :] = run_one_file_ablation_case(vgg_repo, fab_repo, cur_files)\n",
    "    "
   ]
  },
  {
   "cell_type": "code",
   "execution_count": null,
   "metadata": {},
   "outputs": [],
   "source": [
    "result_df = pd.DataFrame(data = acc, columns=['real_acc', 'fake_acc'])\n",
    "result_df['filename'] = files_jen\n",
    "result_df['avg_acc'] = (np.array(result_df['real_acc']) + np.array(1-result_df['fake_acc']))/2\n",
    "\n",
    "display(result_df.sort_values('avg_acc'))"
   ]
  },
  {
   "cell_type": "code",
   "execution_count": null,
   "metadata": {},
   "outputs": [],
   "source": [
    "# plot the results\n",
    "print(f'Only other videos: \\t \\t Real: {r1:0.3f} Fake: {f1:0.3f}')\n",
    "\n",
    "print(f'3min Similar: \\t \\t Real: {r2:0.3f} Fake: {f2:0.3f}')\n",
    "\n",
    "plt.plot([0] + list(r_f3[:, 0]), [r1*100] + list(r_f3[:, 1]*100), label='real')\n",
    "plt.plot([0] + list(r_f3[:, 0]), [f1*100] + list(r_f3[:, 2]*100), label='fake')\n",
    "plt.xlabel('Time (Sec)')\n",
    "plt.ylabel('Acc')\n",
    "plt.grid(b=True)\n",
    "plt.legend()\n",
    "plt.title('T of Similar Vid')\n",
    "plt.show()\n",
    "\n",
    "\n",
    "plt.plot([0] + list(r_f4[:, 0]), [r1*100] + list(r_f4[:, 1]*100), label='real')\n",
    "plt.plot([0] + list(r_f4[:, 0]), [f1*100] + list(r_f4[:, 2]*100), label='fake')\n",
    "plt.xlabel('Time (Sec)')\n",
    "plt.ylabel('Acc')\n",
    "plt.grid(b=True)\n",
    "plt.legend()\n",
    "plt.title('Other + T of Similar Vid')\n",
    "plt.show()\n"
   ]
  },
  {
   "cell_type": "code",
   "execution_count": null,
   "metadata": {},
   "outputs": [],
   "source": [
    "\n",
    "x = [25, 50, 75, 100]\n",
    "y = [86.5, 91.7, 94.7, 95.9]\n",
    "\n",
    "x_nm = [1, 25]\n",
    "y_nm = [43.1, 50.44]\n",
    "\n",
    "plt.figure(figsize=(8,8))\n",
    "\n",
    "plt.plot(x, y, label='with metric')\n",
    "plt.plot(x_nm, y_nm, label='no metric')\n",
    "\n",
    "plt.xlabel('Frames')\n",
    "plt.ylabel('Recall@1')\n",
    "plt.grid(b=True)\n",
    "plt.title('voxceleb recall')\n",
    "plt.legend()\n",
    "plt.show()\n"
   ]
  }
 ],
 "metadata": {
  "kernelspec": {
   "display_name": "Python 3",
   "language": "python",
   "name": "python3"
  },
  "language_info": {
   "codemirror_mode": {
    "name": "ipython",
    "version": 3
   },
   "file_extension": ".py",
   "mimetype": "text/x-python",
   "name": "python",
   "nbconvert_exporter": "python",
   "pygments_lexer": "ipython3",
   "version": "3.6.9"
  }
 },
 "nbformat": 4,
 "nbformat_minor": 2
}
