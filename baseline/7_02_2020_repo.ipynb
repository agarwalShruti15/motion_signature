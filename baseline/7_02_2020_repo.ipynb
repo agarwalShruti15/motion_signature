{
 "cells": [
  {
   "cell_type": "code",
   "execution_count": 18,
   "metadata": {},
   "outputs": [
    {
     "name": "stdout",
     "output_type": "stream",
     "text": [
      "The autoreload extension is already loaded. To reload it, use:\n",
      "  %reload_ext autoreload\n"
     ]
    }
   ],
   "source": [
    "%load_ext autoreload\n",
    "%autoreload 2\n",
    "\n",
    "from repo import *\n",
    "import numpy as np\n",
    "import seaborn as sns\n",
    "from sklearn.metrics import roc_curve, auc"
   ]
  },
  {
   "cell_type": "code",
   "execution_count": 19,
   "metadata": {},
   "outputs": [],
   "source": [
    "# get the file names\n",
    "train_files, test_files = train_test_all_ids('/data/home/shruti/voxceleb/vgg/leaders/')\n",
    "all_lbls = list(train_files.keys())\n",
    "all_lbls.sort()\n",
    "all_lbls = np.array(all_lbls)"
   ]
  },
  {
   "cell_type": "code",
   "execution_count": 20,
   "metadata": {},
   "outputs": [],
   "source": [
    "\n",
    "# repo with leaders + ff original + imposters + Google\n",
    "def get_train_repo(params):\n",
    "    \n",
    "    out_repo = Repo(params['bsfldr'], params['frames'], params['steps'], np.mean, 5000)\n",
    "    out_repo.add_ids({f: train_files[f] for f in ['bo','br','bs','cb','dt','ew','hc','jb','kh', 'pb',\n",
    "                                                  'bo_imposter','bs_imposter','ew_imposter','dt_imposter',\n",
    "                                                   'hc_imposter', 'jb_imposter']}, 0, 1)\n",
    "    out_repo.add_ids({'FF_{0:03d}'.format(f): train_files['FF_{0:03d}'.format(f)] for f in range(1000)}, 0, 0.5)\n",
    "    out_repo.add_ids({'GG_{0:02d}'.format(f+1): train_files['GG_{0:02d}'.format(f+1)] for f in range(28)}, 0, 1)\n",
    "    out_repo.add_ids({'steve_b': train_files['steve_b']}, 0, 1)\n",
    "    out_repo.add_ids({'jen_l': train_files['jen_l']}, 0, 1)\n",
    "    \n",
    "    out_repo.build_repo_noKDD()\n",
    "    \n",
    "    return out_repo\n",
    "\n",
    "\n",
    "def save_results(vgg_repo, fab_repo, test_ids, r_or_f, N_f, out_file, n1, n2, parallel=False):\n",
    "        \n",
    "    # number of files per id\n",
    "    test_dict = {}\n",
    "    for ids in test_ids:\n",
    "        cur_test_files = test_files[r_or_f][ids]\n",
    "        if N_f>0 and len(cur_test_files)>N_f:\n",
    "            test_dict[ids] = cur_test_files[:N_f].copy()\n",
    "        else:\n",
    "            test_dict[ids] = cur_test_files.copy()\n",
    "            \n",
    "    vgg_result = vgg_repo.dist_using_dict(test_dict, n1, n2, parallel=parallel, dist='cosine')\n",
    "    vgg_result['RealFake'] = r_or_f\n",
    "    fab_result = fab_repo.dist_using_dict(test_dict, n1, n2, parallel=parallel, dist='cosine')\n",
    "    fab_result['RealFake'] = r_or_f\n",
    "    full_df = vgg_result.set_index('fileName').join(fab_result.set_index('fileName'), \n",
    "                                                 how='inner', lsuffix='_vgg', rsuffix='_fab')\n",
    "    full_df = full_df[['predLabel_vgg', 'actualLabel_vgg', 'RealFake_vgg', 'predLabel_fab']].copy()\n",
    "    \n",
    "    full_df.to_csv(out_file)\n",
    "    full_df = []"
   ]
  },
  {
   "cell_type": "markdown",
   "metadata": {},
   "source": [
    "# No Time"
   ]
  },
  {
   "cell_type": "markdown",
   "metadata": {},
   "source": [
    "### Repo of Leaders + Face Forensics Original + Imposter + Google"
   ]
  },
  {
   "cell_type": "code",
   "execution_count": 4,
   "metadata": {},
   "outputs": [
    {
     "name": "stdout",
     "output_type": "stream",
     "text": [
      "Number of labels 1046\n",
      "pca components: 512, explained variance 0.9971816861629749\n",
      "Build repo time: 156.539\n",
      "Number of labels 1046\n",
      "Build repo time: 1.842\n"
     ]
    }
   ],
   "source": [
    "vgg_repo = get_train_repo({'istrain':True, 'bsfldr':'/data/home/shruti/voxceleb/vgg/leaders/', \n",
    "                                'frames':1, 'steps':1, 'N_comp':512})\n",
    "\n",
    "fab_repo = get_train_repo({'istrain':True, 'bsfldr':'/data/home/shruti/voxceleb/fabnet/leaders/', \n",
    "                                'frames':1, 'steps':1, 'N_comp':-1})\n"
   ]
  },
  {
   "cell_type": "code",
   "execution_count": 5,
   "metadata": {},
   "outputs": [
    {
     "name": "stderr",
     "output_type": "stream",
     "text": [
      "[Parallel(n_jobs=16)]: Using backend LokyBackend with 16 concurrent workers.\n",
      "[Parallel(n_jobs=16)]: Done  18 tasks      | elapsed:   38.2s\n",
      "[Parallel(n_jobs=16)]: Done 168 tasks      | elapsed:  3.1min\n",
      "[Parallel(n_jobs=16)]: Done 418 tasks      | elapsed:  7.3min\n",
      "[Parallel(n_jobs=16)]: Done 768 tasks      | elapsed: 13.0min\n",
      "[Parallel(n_jobs=16)]: Done 1000 out of 1000 | elapsed: 16.5min finished\n",
      "[Parallel(n_jobs=16)]: Using backend LokyBackend with 16 concurrent workers.\n",
      "[Parallel(n_jobs=16)]: Done  18 tasks      | elapsed:   16.2s\n",
      "[Parallel(n_jobs=16)]: Done 168 tasks      | elapsed:  2.0min\n",
      "[Parallel(n_jobs=16)]: Done 418 tasks      | elapsed:  4.8min\n",
      "[Parallel(n_jobs=16)]: Done 768 tasks      | elapsed:  8.6min\n",
      "[Parallel(n_jobs=16)]: Done 1000 out of 1000 | elapsed: 11.0min finished\n",
      "[Parallel(n_jobs=16)]: Using backend LokyBackend with 16 concurrent workers.\n",
      "[Parallel(n_jobs=16)]: Done  18 tasks      | elapsed:   22.5s\n",
      "[Parallel(n_jobs=16)]: Done 168 tasks      | elapsed:  2.6min\n",
      "[Parallel(n_jobs=16)]: Done 418 tasks      | elapsed:  6.2min\n",
      "[Parallel(n_jobs=16)]: Done 768 tasks      | elapsed: 11.7min\n",
      "[Parallel(n_jobs=16)]: Done 1218 tasks      | elapsed: 18.4min\n",
      "[Parallel(n_jobs=16)]: Done 1768 tasks      | elapsed: 26.5min\n",
      "[Parallel(n_jobs=16)]: Done 2000 out of 2000 | elapsed: 29.7min finished\n",
      "[Parallel(n_jobs=16)]: Using backend LokyBackend with 16 concurrent workers.\n",
      "[Parallel(n_jobs=16)]: Done  18 tasks      | elapsed:   14.3s\n",
      "[Parallel(n_jobs=16)]: Done 168 tasks      | elapsed:  1.8min\n",
      "[Parallel(n_jobs=16)]: Done 418 tasks      | elapsed:  4.2min\n",
      "[Parallel(n_jobs=16)]: Done 768 tasks      | elapsed:  7.9min\n",
      "[Parallel(n_jobs=16)]: Done 1218 tasks      | elapsed: 12.4min\n",
      "[Parallel(n_jobs=16)]: Done 1768 tasks      | elapsed: 17.9min\n",
      "[Parallel(n_jobs=16)]: Done 2000 out of 2000 | elapsed: 20.0min finished\n"
     ]
    }
   ],
   "source": [
    "save_results(vgg_repo, fab_repo, \n",
    "             ['FF_{0:03d}'.format(f) for f in range(1000)], \n",
    "             'real', -1, \n",
    "             'FF_real_notime.csv', 0.5, 1, parallel=True)\n",
    "save_results(vgg_repo, fab_repo, \n",
    "             ['FF_{0:03d}'.format(f) for f in range(1000)], \n",
    "             'fake', -1, \n",
    "             'FF_fake_notime.csv', 0.5, 1, parallel=True)"
   ]
  },
  {
   "cell_type": "code",
   "execution_count": 6,
   "metadata": {},
   "outputs": [
    {
     "name": "stderr",
     "output_type": "stream",
     "text": [
      "[Parallel(n_jobs=16)]: Using backend LokyBackend with 16 concurrent workers.\n",
      "[Parallel(n_jobs=16)]: Done  18 tasks      | elapsed:  1.1min\n",
      "[Parallel(n_jobs=16)]: Done  55 out of  55 | elapsed:  2.1min finished\n",
      "[Parallel(n_jobs=16)]: Using backend LokyBackend with 16 concurrent workers.\n",
      "[Parallel(n_jobs=16)]: Done  18 tasks      | elapsed:   46.9s\n",
      "[Parallel(n_jobs=16)]: Done  55 out of  55 | elapsed:  1.5min finished\n",
      "[Parallel(n_jobs=16)]: Using backend LokyBackend with 16 concurrent workers.\n",
      "[Parallel(n_jobs=16)]: Done  18 tasks      | elapsed:  1.3min\n",
      "[Parallel(n_jobs=16)]: Done 168 tasks      | elapsed:  8.0min\n",
      "[Parallel(n_jobs=16)]: Done 418 tasks      | elapsed: 19.2min\n",
      "[Parallel(n_jobs=16)]: Done 768 tasks      | elapsed: 33.9min\n",
      "[Parallel(n_jobs=16)]: Done 1218 tasks      | elapsed: 53.7min\n",
      "[Parallel(n_jobs=16)]: Done 1378 out of 1378 | elapsed: 60.4min finished\n",
      "[Parallel(n_jobs=16)]: Using backend LokyBackend with 16 concurrent workers.\n",
      "[Parallel(n_jobs=16)]: Done  18 tasks      | elapsed:   56.9s\n",
      "[Parallel(n_jobs=16)]: Done 168 tasks      | elapsed:  6.1min\n",
      "[Parallel(n_jobs=16)]: Done 418 tasks      | elapsed: 14.5min\n",
      "[Parallel(n_jobs=16)]: Done 768 tasks      | elapsed: 25.6min\n",
      "[Parallel(n_jobs=16)]: Done 1218 tasks      | elapsed: 40.5min\n",
      "[Parallel(n_jobs=16)]: Done 1378 out of 1378 | elapsed: 45.7min finished\n",
      "[Parallel(n_jobs=16)]: Using backend LokyBackend with 16 concurrent workers.\n",
      "[Parallel(n_jobs=16)]: Done  18 tasks      | elapsed:  1.5min\n",
      "[Parallel(n_jobs=16)]: Done  60 out of  60 | elapsed:  3.5min finished\n",
      "[Parallel(n_jobs=16)]: Using backend LokyBackend with 16 concurrent workers.\n",
      "[Parallel(n_jobs=16)]: Done  18 tasks      | elapsed:  1.1min\n",
      "[Parallel(n_jobs=16)]: Done  60 out of  60 | elapsed:  2.7min finished\n",
      "[Parallel(n_jobs=16)]: Using backend LokyBackend with 16 concurrent workers.\n",
      "[Parallel(n_jobs=16)]: Done  18 tasks      | elapsed:  1.2min\n",
      "[Parallel(n_jobs=16)]: Done  57 out of  57 | elapsed:  2.2min finished\n",
      "[Parallel(n_jobs=16)]: Using backend LokyBackend with 16 concurrent workers.\n",
      "[Parallel(n_jobs=16)]: Done  18 tasks      | elapsed:   50.8s\n",
      "[Parallel(n_jobs=16)]: Done  57 out of  57 | elapsed:  1.7min finished\n",
      "[Parallel(n_jobs=16)]: Using backend LokyBackend with 16 concurrent workers.\n",
      "[Parallel(n_jobs=16)]: Done   1 out of   1 | elapsed:  3.6min finished\n",
      "[Parallel(n_jobs=16)]: Using backend LokyBackend with 16 concurrent workers.\n",
      "[Parallel(n_jobs=16)]: Done   1 out of   1 | elapsed:  3.5min finished\n",
      "[Parallel(n_jobs=16)]: Using backend LokyBackend with 16 concurrent workers.\n",
      "[Parallel(n_jobs=16)]: Done   1 out of   1 | elapsed:   32.3s finished\n",
      "[Parallel(n_jobs=16)]: Using backend LokyBackend with 16 concurrent workers.\n",
      "[Parallel(n_jobs=16)]: Done   1 out of   1 | elapsed:   29.8s finished\n"
     ]
    }
   ],
   "source": [
    "# change the location of the base folder in the repo\n",
    "vgg_repo.bs_fldr = '/data/home/shruti/voxceleb/vgg/leaders/'\n",
    "fab_repo.bs_fldr = '/data/home/shruti/voxceleb/fabnet/leaders/'\n",
    "\n",
    "save_results(vgg_repo, fab_repo, \n",
    "             ['GG_{0:02d}'.format(f+1) for f in range(28)], \n",
    "             'real', -1, \n",
    "             'GG_real_notime.csv', 0, 1, parallel=True)\n",
    "save_results(vgg_repo, fab_repo, \n",
    "             ['GG_{0:02d}'.format(f+1) for f in range(28)], \n",
    "             'fake', -1, \n",
    "             'GG_fake_notime.csv', 0, 1, parallel=True)\n",
    "\n",
    "save_results(vgg_repo, fab_repo, \n",
    "             ['bo','bs','dt','ew','hc','jb'], \n",
    "             'real', 10, \n",
    "             'ldr_real_notime.csv', 0, 1, parallel=True)\n",
    "save_results(vgg_repo, fab_repo, \n",
    "             ['bo','bs','dt','ew','hc','jb'], \n",
    "             'fake', 10, \n",
    "             'ldr_fake_notime.csv', 0, 1, parallel=True)\n",
    "save_results(vgg_repo, fab_repo, \n",
    "             ['jen_l'], \n",
    "             'real', -1, \n",
    "             'SJ_real_notime.csv', 0, 1, parallel=True)\n",
    "save_results(vgg_repo, fab_repo, \n",
    "             ['steve_b'], \n",
    "             'fake', -1, \n",
    "             'SJ_fake_notime.csv', 0, 1, parallel=True)"
   ]
  },
  {
   "cell_type": "code",
   "execution_count": 7,
   "metadata": {},
   "outputs": [
    {
     "name": "stdout",
     "output_type": "stream",
     "text": [
      "0.8689181895288766\n",
      "0.3688259422775572\n"
     ]
    }
   ],
   "source": [
    "real_df = pd.read_csv('GG_real_notime.csv')\n",
    "print(len(np.argwhere(np.array(real_df['predLabel_vgg'])==np.array(real_df['predLabel_fab'])).ravel())/len(real_df))\n",
    "\n",
    "fake_df = pd.read_csv('GG_fake_notime.csv')\n",
    "print(len(np.argwhere(np.array(fake_df['predLabel_vgg'])==np.array(fake_df['predLabel_fab'])).ravel())/len(fake_df))"
   ]
  },
  {
   "cell_type": "code",
   "execution_count": 8,
   "metadata": {},
   "outputs": [
    {
     "name": "stdout",
     "output_type": "stream",
     "text": [
      "0.9980912924465488\n",
      "0.10455858521806524\n"
     ]
    }
   ],
   "source": [
    "real_df = pd.read_csv('ldr_real_notime.csv')\n",
    "print(len(np.argwhere(np.array(real_df['predLabel_vgg'])==np.array(real_df['predLabel_fab'])).ravel())/len(real_df))\n",
    "\n",
    "fake_df = pd.read_csv('ldr_fake_notime.csv')\n",
    "print(len(np.argwhere(np.array(fake_df['predLabel_vgg'])==np.array(fake_df['predLabel_fab'])).ravel())/len(fake_df))"
   ]
  },
  {
   "cell_type": "code",
   "execution_count": 9,
   "metadata": {},
   "outputs": [
    {
     "name": "stdout",
     "output_type": "stream",
     "text": [
      "0.9567479836843941\n",
      "0.03477880190721823\n"
     ]
    }
   ],
   "source": [
    "real_df = pd.read_csv('FF_real_notime.csv')\n",
    "print(len(np.argwhere(np.array(real_df['predLabel_vgg'])==np.array(real_df['predLabel_fab'])).ravel())/len(real_df))\n",
    "\n",
    "fake_df = pd.read_csv('FF_fake_notime.csv')\n",
    "print(len(np.argwhere(np.array(fake_df['predLabel_vgg'])==np.array(fake_df['predLabel_fab'])).ravel())/len(fake_df))"
   ]
  },
  {
   "cell_type": "code",
   "execution_count": 10,
   "metadata": {},
   "outputs": [
    {
     "name": "stdout",
     "output_type": "stream",
     "text": [
      "0.7718133017923756\n",
      "0.023508137432188065\n"
     ]
    }
   ],
   "source": [
    "real_df = pd.read_csv('SJ_real_notime.csv')\n",
    "print(len(np.argwhere(np.array(real_df['predLabel_vgg'])==np.array(real_df['predLabel_fab'])).ravel())/len(real_df))\n",
    "\n",
    "fake_df = pd.read_csv('SJ_fake_notime.csv')\n",
    "print(len(np.argwhere(np.array(fake_df['predLabel_vgg'])==np.array(fake_df['predLabel_fab'])).ravel())/len(fake_df))"
   ]
  },
  {
   "cell_type": "markdown",
   "metadata": {},
   "source": [
    "### Compressed Repo of Leaders + Face Forensics Original + Imposter + Google"
   ]
  },
  {
   "cell_type": "code",
   "execution_count": 11,
   "metadata": {},
   "outputs": [
    {
     "name": "stderr",
     "output_type": "stream",
     "text": [
      "[Parallel(n_jobs=16)]: Using backend LokyBackend with 16 concurrent workers.\n",
      "[Parallel(n_jobs=16)]: Done  18 tasks      | elapsed:  1.4min\n",
      "[Parallel(n_jobs=16)]: Done  60 out of  60 | elapsed:  3.1min finished\n",
      "[Parallel(n_jobs=16)]: Using backend LokyBackend with 16 concurrent workers.\n",
      "[Parallel(n_jobs=16)]: Done  18 tasks      | elapsed:   57.0s\n",
      "[Parallel(n_jobs=16)]: Done  60 out of  60 | elapsed:  2.3min finished\n",
      "[Parallel(n_jobs=16)]: Using backend LokyBackend with 16 concurrent workers.\n",
      "[Parallel(n_jobs=16)]: Done  18 tasks      | elapsed:   56.3s\n",
      "[Parallel(n_jobs=16)]: Done  57 out of  57 | elapsed:  2.0min finished\n",
      "[Parallel(n_jobs=16)]: Using backend LokyBackend with 16 concurrent workers.\n",
      "[Parallel(n_jobs=16)]: Done  18 tasks      | elapsed:   42.5s\n",
      "[Parallel(n_jobs=16)]: Done  57 out of  57 | elapsed:  1.5min finished\n"
     ]
    }
   ],
   "source": [
    "# change the location of the base folder in the repo\n",
    "vgg_repo.bs_fldr = '/data/home/shruti/voxceleb/vgg/compression/'\n",
    "fab_repo.bs_fldr = '/data/home/shruti/voxceleb/fabnet/compression/'\n",
    "\n",
    "save_results(vgg_repo, fab_repo, \n",
    "             ['bo','bs','dt','ew','hc','jb'], \n",
    "             'real', 10, \n",
    "             'ldr_real_notime_comp.csv', 0, 1, parallel=True)\n",
    "save_results(vgg_repo, fab_repo, \n",
    "             ['bo','bs','dt','ew','hc','jb'], \n",
    "             'fake', 10, \n",
    "             'ldr_fake_notime_comp.csv', 0, 1, parallel=True)\n",
    "\n"
   ]
  },
  {
   "cell_type": "markdown",
   "metadata": {},
   "source": [
    "# Metric Learning"
   ]
  },
  {
   "cell_type": "markdown",
   "metadata": {},
   "source": [
    "### Repo of Leaders + Face Forensics Original + Imposter + Google"
   ]
  },
  {
   "cell_type": "code",
   "execution_count": 22,
   "metadata": {},
   "outputs": [
    {
     "name": "stdout",
     "output_type": "stream",
     "text": [
      "Number of labels 1046\n",
      "Build repo time: 8.468\n",
      "Number of labels 1046\n",
      "Build repo time: 2.134\n"
     ]
    }
   ],
   "source": [
    "\n",
    "vgg_repo_metric = get_train_repo({'istrain':True, 'bsfldr':'/data/home/shruti/voxceleb/vgg/leaders/', \n",
    "                                'frames':100, 'steps':5, 'N_comp':512})\n",
    "fab_repo_metric = get_train_repo({'istrain':True, 'bsfldr':'/data/home/shruti/voxceleb/fabnet_metric/', \n",
    "                                'frames':1, 'steps':1, 'N_comp':-1})\n"
   ]
  },
  {
   "cell_type": "code",
   "execution_count": 14,
   "metadata": {},
   "outputs": [
    {
     "name": "stderr",
     "output_type": "stream",
     "text": [
      "[Parallel(n_jobs=16)]: Using backend LokyBackend with 16 concurrent workers.\n",
      "[Parallel(n_jobs=16)]: Done  18 tasks      | elapsed:   36.3s\n",
      "[Parallel(n_jobs=16)]: Done  60 out of  60 | elapsed:  1.3min finished\n",
      "[Parallel(n_jobs=16)]: Using backend LokyBackend with 16 concurrent workers.\n",
      "[Parallel(n_jobs=16)]: Done  18 tasks      | elapsed:    8.7s\n",
      "[Parallel(n_jobs=16)]: Done  60 out of  60 | elapsed:   24.0s finished\n",
      "[Parallel(n_jobs=16)]: Using backend LokyBackend with 16 concurrent workers.\n",
      "[Parallel(n_jobs=16)]: Done  18 tasks      | elapsed:   25.0s\n",
      "[Parallel(n_jobs=16)]: Done  57 out of  57 | elapsed:   46.5s finished\n",
      "[Parallel(n_jobs=16)]: Using backend LokyBackend with 16 concurrent workers.\n",
      "[Parallel(n_jobs=16)]: Done  18 tasks      | elapsed:    8.3s\n",
      "[Parallel(n_jobs=16)]: Done  57 out of  57 | elapsed:   16.2s finished\n"
     ]
    }
   ],
   "source": [
    "save_results(vgg_repo_metric, fab_repo_metric, \n",
    "             ['bo','bs','dt','ew','hc','jb'], \n",
    "             'real', 10, \n",
    "             'ldr_real_100.csv', 0, 1, parallel=True)\n",
    "save_results(vgg_repo_metric, fab_repo_metric, \n",
    "             ['bo','bs','dt','ew','hc','jb'], \n",
    "             'fake', 10, \n",
    "             'ldr_fake_100.csv', 0, 1, parallel=True)"
   ]
  },
  {
   "cell_type": "code",
   "execution_count": 15,
   "metadata": {},
   "outputs": [
    {
     "name": "stdout",
     "output_type": "stream",
     "text": [
      "0.9999189364461738\n",
      "0.05114328237045055\n"
     ]
    }
   ],
   "source": [
    "real_df = pd.read_csv('ldr_real_100.csv')\n",
    "print(len(np.argwhere(np.array(real_df['predLabel_vgg'])==np.array(real_df['predLabel_fab'])).ravel())/len(real_df))\n",
    "\n",
    "fake_df = pd.read_csv('ldr_fake_100.csv')\n",
    "print(len(np.argwhere(np.array(fake_df['predLabel_vgg'])==np.array(fake_df['predLabel_fab'])).ravel())/len(fake_df))\n"
   ]
  },
  {
   "cell_type": "code",
   "execution_count": 16,
   "metadata": {},
   "outputs": [
    {
     "name": "stderr",
     "output_type": "stream",
     "text": [
      "[Parallel(n_jobs=16)]: Using backend LokyBackend with 16 concurrent workers.\n",
      "[Parallel(n_jobs=16)]: Done  18 tasks      | elapsed:   15.1s\n",
      "[Parallel(n_jobs=16)]: Done 168 tasks      | elapsed:  1.4min\n",
      "[Parallel(n_jobs=16)]: Done 418 tasks      | elapsed:  3.5min\n",
      "[Parallel(n_jobs=16)]: Done 768 tasks      | elapsed:  6.3min\n",
      "[Parallel(n_jobs=16)]: Done 1000 out of 1000 | elapsed:  8.1min finished\n",
      "[Parallel(n_jobs=16)]: Using backend LokyBackend with 16 concurrent workers.\n",
      "[Parallel(n_jobs=16)]: Done  18 tasks      | elapsed:    4.3s\n",
      "[Parallel(n_jobs=16)]: Done 168 tasks      | elapsed:   28.5s\n",
      "[Parallel(n_jobs=16)]: Done 418 tasks      | elapsed:  1.1min\n",
      "[Parallel(n_jobs=16)]: Done 768 tasks      | elapsed:  2.1min\n",
      "[Parallel(n_jobs=16)]: Done 1000 out of 1000 | elapsed:  2.7min finished\n",
      "[Parallel(n_jobs=16)]: Using backend LokyBackend with 16 concurrent workers.\n",
      "[Parallel(n_jobs=16)]: Done  18 tasks      | elapsed:   13.5s\n",
      "[Parallel(n_jobs=16)]: Done 168 tasks      | elapsed:  1.4min\n",
      "[Parallel(n_jobs=16)]: Done 418 tasks      | elapsed:  3.6min\n",
      "[Parallel(n_jobs=16)]: Done 768 tasks      | elapsed:  6.8min\n",
      "[Parallel(n_jobs=16)]: Done 1218 tasks      | elapsed: 10.9min\n",
      "[Parallel(n_jobs=16)]: Done 1768 tasks      | elapsed: 15.9min\n",
      "[Parallel(n_jobs=16)]: Done 2000 out of 2000 | elapsed: 18.0min finished\n",
      "[Parallel(n_jobs=16)]: Using backend LokyBackend with 16 concurrent workers.\n",
      "[Parallel(n_jobs=16)]: Done  18 tasks      | elapsed:    4.3s\n",
      "[Parallel(n_jobs=16)]: Done 168 tasks      | elapsed:   28.4s\n",
      "[Parallel(n_jobs=16)]: Done 418 tasks      | elapsed:  1.1min\n",
      "[Parallel(n_jobs=16)]: Done 768 tasks      | elapsed:  2.1min\n",
      "[Parallel(n_jobs=16)]: Done 1218 tasks      | elapsed:  3.3min\n",
      "[Parallel(n_jobs=16)]: Done 1768 tasks      | elapsed:  4.7min\n",
      "[Parallel(n_jobs=16)]: Done 2000 out of 2000 | elapsed:  5.3min finished\n"
     ]
    }
   ],
   "source": [
    "save_results(vgg_repo_metric, fab_repo_metric, \n",
    "             ['FF_{0:03d}'.format(f) for f in range(1000)], \n",
    "             'real', -1, \n",
    "             'FF_real_100.csv', 0.5, 1, parallel=True)\n",
    "save_results(vgg_repo_metric, fab_repo_metric, \n",
    "             ['FF_{0:03d}'.format(f) for f in range(1000)], \n",
    "             'fake', -1, \n",
    "             'FF_fake_100.csv', 0.5, 1, parallel=True)"
   ]
  },
  {
   "cell_type": "code",
   "execution_count": null,
   "metadata": {
    "scrolled": true
   },
   "outputs": [],
   "source": [
    "vgg_repo_metric.bs_fldr = '/data/home/shruti/voxceleb/vgg/leaders/'\n",
    "fab_repo_metric.bs_fldr = '/data/home/shruti/voxceleb/fabnet_metric/'\n",
    "\n",
    "\n",
    "save_results(vgg_repo_metric, fab_repo_metric, \n",
    "             ['GG_{0:02d}'.format(f+1) for f in range(28)], \n",
    "             'real', -1, \n",
    "             'GG_real_100.csv', 0, 1, parallel=True)\n",
    "save_results(vgg_repo_metric, fab_repo_metric, \n",
    "             ['GG_{0:02d}'.format(f+1) for f in range(28)], \n",
    "             'fake', -1, \n",
    "             'GG_fake_100.csv', 0, 1, parallel=True)"
   ]
  },
  {
   "cell_type": "code",
   "execution_count": 23,
   "metadata": {},
   "outputs": [
    {
     "name": "stderr",
     "output_type": "stream",
     "text": [
      "[Parallel(n_jobs=16)]: Using backend LokyBackend with 16 concurrent workers.\n",
      "[Parallel(n_jobs=16)]: Done   1 out of   1 | elapsed:   19.4s finished\n",
      "[Parallel(n_jobs=16)]: Using backend LokyBackend with 16 concurrent workers.\n",
      "[Parallel(n_jobs=16)]: Done   1 out of   1 | elapsed:   12.4s finished\n",
      "[Parallel(n_jobs=16)]: Using backend LokyBackend with 16 concurrent workers.\n",
      "[Parallel(n_jobs=16)]: Done   1 out of   1 | elapsed:   11.9s finished\n",
      "[Parallel(n_jobs=16)]: Using backend LokyBackend with 16 concurrent workers.\n",
      "[Parallel(n_jobs=16)]: Done   1 out of   1 | elapsed:    8.3s finished\n"
     ]
    }
   ],
   "source": [
    "save_results(vgg_repo_metric, fab_repo_metric, \n",
    "             ['jen_l'], \n",
    "             'real', -1, \n",
    "             'SJ_real_100.csv', 0, 1, parallel=True)\n",
    "save_results(vgg_repo_metric, fab_repo_metric, \n",
    "             ['steve_b'], \n",
    "             'fake', -1, \n",
    "             'SJ_fake_100.csv', 0, 1, parallel=True)"
   ]
  },
  {
   "cell_type": "code",
   "execution_count": 24,
   "metadata": {},
   "outputs": [
    {
     "name": "stdout",
     "output_type": "stream",
     "text": [
      "0.9328758949880668\n",
      "0.370629271003006\n"
     ]
    }
   ],
   "source": [
    "\n",
    "real_df = pd.read_csv('GG_real_100.csv')\n",
    "print(len(np.argwhere(np.array(real_df['predLabel_vgg'])==np.array(real_df['predLabel_fab'])).ravel())/len(real_df))\n",
    "\n",
    "fake_df = pd.read_csv('GG_fake_100.csv')\n",
    "print(len(np.argwhere(np.array(fake_df['predLabel_vgg'])==np.array(fake_df['predLabel_fab'])).ravel())/len(fake_df))\n"
   ]
  },
  {
   "cell_type": "code",
   "execution_count": 25,
   "metadata": {},
   "outputs": [
    {
     "name": "stdout",
     "output_type": "stream",
     "text": [
      "0.9936903101191115\n",
      "0.04180426114821066\n"
     ]
    }
   ],
   "source": [
    "\n",
    "real_df = pd.read_csv('FF_real_100.csv')\n",
    "print(len(np.argwhere(np.array(real_df['predLabel_vgg'])==np.array(real_df['predLabel_fab'])).ravel())/len(real_df))\n",
    "\n",
    "fake_df = pd.read_csv('FF_fake_100.csv')\n",
    "print(len(np.argwhere(np.array(fake_df['predLabel_vgg'])==np.array(fake_df['predLabel_fab'])).ravel())/len(fake_df))\n"
   ]
  },
  {
   "cell_type": "code",
   "execution_count": 26,
   "metadata": {},
   "outputs": [
    {
     "name": "stdout",
     "output_type": "stream",
     "text": [
      "1.0\n",
      "0.054373522458628844\n"
     ]
    }
   ],
   "source": [
    "real_df = pd.read_csv('SJ_real_100.csv')\n",
    "print(len(np.argwhere(np.array(real_df['predLabel_vgg'])==np.array(real_df['predLabel_fab'])).ravel())/len(real_df))\n",
    "\n",
    "fake_df = pd.read_csv('SJ_fake_100.csv')\n",
    "print(len(np.argwhere(np.array(fake_df['predLabel_vgg'])==np.array(fake_df['predLabel_fab'])).ravel())/len(fake_df))"
   ]
  },
  {
   "cell_type": "markdown",
   "metadata": {},
   "source": [
    "### Compressed Repo of Leaders + Face Forensics Original + Imposter + Google"
   ]
  },
  {
   "cell_type": "code",
   "execution_count": 11,
   "metadata": {},
   "outputs": [
    {
     "name": "stderr",
     "output_type": "stream",
     "text": [
      "[Parallel(n_jobs=16)]: Using backend LokyBackend with 16 concurrent workers.\n",
      "[Parallel(n_jobs=16)]: Done  18 tasks      | elapsed:  1.2min\n",
      "[Parallel(n_jobs=16)]: Done  60 out of  60 | elapsed:  2.9min finished\n",
      "[Parallel(n_jobs=16)]: Using backend LokyBackend with 16 concurrent workers.\n",
      "[Parallel(n_jobs=16)]: Done  18 tasks      | elapsed:    8.2s\n",
      "[Parallel(n_jobs=16)]: Done  60 out of  60 | elapsed:   20.5s finished\n",
      "[Parallel(n_jobs=16)]: Using backend LokyBackend with 16 concurrent workers.\n",
      "[Parallel(n_jobs=16)]: Done  18 tasks      | elapsed:   58.0s\n",
      "[Parallel(n_jobs=16)]: Done  57 out of  57 | elapsed:  2.0min finished\n",
      "[Parallel(n_jobs=16)]: Using backend LokyBackend with 16 concurrent workers.\n",
      "[Parallel(n_jobs=16)]: Done  18 tasks      | elapsed:    7.0s\n",
      "[Parallel(n_jobs=16)]: Done  57 out of  57 | elapsed:   14.6s finished\n"
     ]
    }
   ],
   "source": [
    "vgg_repo_metric.bs_fldr = '/data/home/shruti/voxceleb/vgg/compression/'\n",
    "fab_repo_metric.bs_fldr = '/data/home/shruti/voxceleb/fabnet_metric_compression/'\n",
    "\n",
    "save_results(vgg_repo_metric, fab_repo_metric, \n",
    "             ['bo','bs','dt','ew','hc','jb'], \n",
    "             'real', 10, \n",
    "             'ldr_real_100_comp.csv', 0, 1, parallel=True)\n",
    "save_results(vgg_repo_metric, fab_repo_metric, \n",
    "             ['bo','bs','dt','ew','hc','jb'], \n",
    "             'fake', 10, \n",
    "             'ldr_fake_100_comp.csv', 0, 1, parallel=True)\n",
    "\n",
    "\n"
   ]
  },
  {
   "cell_type": "code",
   "execution_count": null,
   "metadata": {},
   "outputs": [],
   "source": []
  }
 ],
 "metadata": {
  "kernelspec": {
   "display_name": "Python 3",
   "language": "python",
   "name": "python3"
  },
  "language_info": {
   "codemirror_mode": {
    "name": "ipython",
    "version": 3
   },
   "file_extension": ".py",
   "mimetype": "text/x-python",
   "name": "python",
   "nbconvert_exporter": "python",
   "pygments_lexer": "ipython3",
   "version": "3.6.9"
  }
 },
 "nbformat": 4,
 "nbformat_minor": 2
}
